{
 "cells": [
  {
   "cell_type": "markdown",
   "metadata": {},
   "source": [
    "# Diffusion-Shock Inpainting in $SE(2)$\n",
    "Diffusion-shock inpainting (DS) is a technique to fill in missing structures in images, developed in [\"Diffusion-Shock Inpainting\" (2023) by K. Schaefer and J. Weickert](https://link.springer.com/chapter/10.1007/978-3-031-31975-4_45) and the follow-up paper [\"Regularised Diffusion-Shock Inpainting\" (2023) by K. Schaefer and J. Weickert](https://arxiv.org/abs/2309.08761). In this notebook, we will look at DS applied to images lifted into $SE(2)$.\n",
    "\n",
    "In $\\mathbb{R}^2$, we can describe DS in a PDE-based formulation as\n",
    "$$\n",
    "\\partial_t u = g(\\lvert \\nabla (G_{\\nu} * u) \\rvert^2) \\underbrace{\\Delta u}_{\\textrm{Diffusion}} - \\left(1 - g(\\lvert \\nabla (G_{\\nu} * u) \\rvert^2)\\right) \\underbrace{\\mathrm{sgn}(\\partial_{\\vec{w} \\vec{w}} (G_{\\sigma} * u)) \\lvert \\nabla u \\rvert}_{\\textrm{Shock}},\n",
    "$$\n",
    "in which $g: [0, \\infty) \\to (0, 1]$ is a decreasing function with $g(0) = 1$, $G_{\\alpha}$ is a Gaussian with standard deviation $\\alpha$, and $\\vec{w}$ is the dominant eigenvector of the structure tensor. It is clear then that $g$ switches between applying diffusion and shock: if the gradient of the image is small, we mostly apply diffusion, but if the gradient is large, we mostly apply shock. This makes sense, since a large gradient implies that there is a feature there, which we would like to sharpen up. \n",
    "\n",
    "The signum in the shock term switches between erosion and dilation. If the second derivative with respect to the dominant eigenvector of the structure tensor is positive, then we perform erosion (defined by the PDE $\\partial_t u = -\\lvert \\nabla u \\rvert$); otherwise we perform dilation (defined by the PDE $\\partial_t u = -\\lvert \\nabla u \\rvert$). In regularised DS, the signum is replaced with a soft signum, so that the selection of erosion vs dilation is less sensitive to noise.\n",
    "\n",
    "The signum of the second derivative of the dominant eigenvector of the structure tensor is not unlike the convexity criterion we know from studying vesselness; perhaps we could replace it?\n",
    "\n",
    "What is the correct way to extend DS to $SE(2)$? It would make sense to keep the gradients and Laplacian. For the selection of erosion vs dilation we could again look at the vesselness convexity criterion. For switching between diffusion and shock, we could maybe use some sort of line/edge detector."
   ]
  },
  {
   "cell_type": "code",
   "execution_count": null,
   "metadata": {},
   "outputs": [],
   "source": [
    "import taichi as ti\n",
    "ti.init(arch=ti.gpu, debug=False, device_memory_GB=3.5) #, kernel_profiler=True) # Use less than 4 so that we don't mix RAM and VRAM (?)\n",
    "import numpy as np\n",
    "import scipy as sp\n",
    "# from PIL import Image\n",
    "import matplotlib.pyplot as plt\n",
    "# %matplotlib widget\n",
    "import dsfilter"
   ]
  },
  {
   "cell_type": "markdown",
   "metadata": {},
   "source": [
    "## Lines"
   ]
  },
  {
   "cell_type": "code",
   "execution_count": null,
   "metadata": {},
   "outputs": [],
   "source": [
    "test_case = 2"
   ]
  },
  {
   "cell_type": "code",
   "execution_count": null,
   "metadata": {},
   "outputs": [],
   "source": [
    "match test_case:\n",
    "    case 1: # Grid of lines (black)\n",
    "        dim_I, dim_J = 256, 256\n",
    "        u_ground_truth = np.ones((dim_I, dim_J)) * 255.\n",
    "        N_lines = 4\n",
    "        offset = dim_I // (N_lines + 1)\n",
    "        for k in range(N_lines):\n",
    "            centre = (k + 1) * offset\n",
    "            u_ground_truth[:, (centre-2):(centre+3)] = 0.\n",
    "            u_ground_truth[(centre-2):(centre+3), :] = 0.\n",
    "\n",
    "        xs, ys = np.meshgrid(np.linspace(-1, 1, dim_I), np.linspace(-1, 1, dim_J))\n",
    "        # mask = (xs**2 + ys**2) < 0.6\n",
    "        l = 0.4\n",
    "        mask = (xs**2 < l) * (ys**2 < l)\n",
    "\n",
    "        u = u_ground_truth.copy()\n",
    "        u[mask] = 255.\n",
    "\n",
    "    case 2: # Grid of lines (alternating black and white)\n",
    "        dim_I, dim_J = 256, 256\n",
    "        u_ground_truth = np.ones((dim_I, dim_J)) * 0.5 * 255.\n",
    "        N_lines = 4 # 7\n",
    "        offset = dim_I // (N_lines + 1)\n",
    "        colour = 0. # black\n",
    "        for k in range(N_lines):\n",
    "            centre = (k + 1) * offset\n",
    "            u_ground_truth[:, (centre-2):(centre+3)] = 255. - colour\n",
    "            u_ground_truth[(centre-2):(centre+3), :] = colour\n",
    "            colour = 255. - colour\n",
    "        u_ground_truth = sp.ndimage.gaussian_filter(u_ground_truth, 1)\n",
    "\n",
    "        xs, ys = np.meshgrid(np.linspace(-1, 1, dim_I), np.linspace(-1, 1, dim_J))\n",
    "        # mask = (xs**2 + ys**2) < 0.5\n",
    "        l = 0.4\n",
    "        mask = (xs**2 < l) * (ys**2 < l)\n",
    "\n",
    "        u = u_ground_truth.copy()\n",
    "        u[mask] = 0.5 * 255.\n",
    "    case 3: # Sine Wave\n",
    "        dim_I, dim_J = 256, 256\n",
    "        u_ground_truth = np.ones((dim_I, dim_J)) * 255.\n",
    "        N_lines = 4\n",
    "        offset = dim_I // (N_lines + 1)\n",
    "        for k in range(N_lines):\n",
    "            centre = (k + 1) * offset\n",
    "            u_ground_truth[:, (centre-2):(centre+3)] = 0.\n",
    "            u_ground_truth[(centre-2):(centre+3), :] = 0.\n",
    "\n",
    "        xs, ys = np.meshgrid(np.linspace(-1, 1, dim_I), np.linspace(-1, 1, dim_J))\n",
    "        # mask = (xs**2 + ys**2) < 0.6\n",
    "        l = 0.4\n",
    "        mask = (xs**2 < l) * (ys**2 < l)\n",
    "\n",
    "        u = u_ground_truth.copy()\n",
    "        u[mask] = 255.\n",
    "\n",
    "\n",
    "u = sp.ndimage.gaussian_filter(u, 1.) # Smooth for well-posed lifting.\n",
    "\n",
    "clip = (u.min(), u.max())\n",
    "\n",
    "mask = 1 - mask.astype(int)\n",
    "mask = sp.ndimage.binary_erosion(mask, iterations=10, border_value=1).astype(int) # Deal with boundary artefacts.\n",
    "\n",
    "dim_I, dim_J = u.shape\n",
    "dim_K = 16 # 32\n",
    "Is, Js, Ks = np.indices((dim_I, dim_J, dim_K))\n",
    "x_min, x_max = 0., dim_I - 1.\n",
    "y_min, y_max = 0., dim_J - 1.\n",
    "θ_min, θ_max = 0., 2 * np.pi\n",
    "dxy = (x_max - x_min) / (dim_I - 1)\n",
    "dθ = (θ_max - θ_min) / dim_K\n",
    "xs, ys, θs = dsfilter.SE2.utils.coordinate_array_to_real(Is, Js, Ks, x_min, y_min, θ_min, dxy, dθ)"
   ]
  },
  {
   "cell_type": "code",
   "execution_count": null,
   "metadata": {},
   "outputs": [],
   "source": [
    "fig, ax = plt.subplots(1, 2, figsize=(12, 5))\n",
    "_, _, cbar = dsfilter.visualisations.plot_image_array(u, x_min, x_max, y_min, y_max, cmap=\"gray\", fig=fig, ax=ax[0])\n",
    "ax[0].set_title(\"$u$\")\n",
    "fig.colorbar(cbar, ax=ax[0])\n",
    "_, _, cbar = dsfilter.visualisations.plot_image_array(mask, x_min, x_max, y_min, y_max, cmap=\"gray\", fig=fig, ax=ax[1])\n",
    "ax[1].set_title(\"Mask\")\n",
    "fig.colorbar(cbar, ax=ax[1]);"
   ]
  },
  {
   "cell_type": "markdown",
   "metadata": {},
   "source": [
    "### Orientation Score"
   ]
  },
  {
   "cell_type": "code",
   "execution_count": null,
   "metadata": {},
   "outputs": [],
   "source": [
    "cws_check = dsfilter.orientationscore.cakewavelet_stack(dim_I, dim_K, Gaussian_σ=dim_I/24)"
   ]
  },
  {
   "cell_type": "code",
   "execution_count": null,
   "metadata": {},
   "outputs": [],
   "source": [
    "K = 1\n",
    "print(θs[0, 0, K])\n",
    "fig, ax, cbar = dsfilter.visualisations.plot_image_array(cws_check.real[K], x_min, x_max, y_min, y_max, cmap=\"gray\")\n",
    "ax.set_title(\"$\\psi$\")\n",
    "fig.colorbar(cbar, ax=ax);"
   ]
  },
  {
   "cell_type": "code",
   "execution_count": null,
   "metadata": {},
   "outputs": [],
   "source": [
    "cws = dsfilter.orientationscore.cakewavelet_stack(dim_I, dim_K, Gaussian_σ=dim_I/24)\n",
    "U = dsfilter.orientationscore.wavelet_transform(u, cws.real)\n",
    "U = np.transpose(U, axes=(1, 2, 0)) # x, y, θ\n",
    "Mask = np.transpose(np.array([mask for _ in range(dim_K)]), axes=(1, 2, 0)) # x, y, θ\n",
    "U.shape, Mask.shape"
   ]
  },
  {
   "cell_type": "code",
   "execution_count": null,
   "metadata": {},
   "outputs": [],
   "source": [
    "K = 0\n",
    "print(θs[0, 0, K])\n",
    "fig, ax = plt.subplots(1, 3, figsize=(18, 5))\n",
    "_, _, cbar = dsfilter.visualisations.plot_image_array(U[..., K] * mask, x_min, x_max, y_min, y_max, cmap=\"gray\", fig=fig, ax=ax[0])\n",
    "ax[0].set_title(f\"{K} $U$\")\n",
    "fig.colorbar(cbar, ax=ax[0])\n",
    "_, _, cbar = dsfilter.visualisations.plot_image_array(U[..., K + 2] * mask, x_min, x_max, y_min, y_max, cmap=\"gray\", fig=fig, ax=ax[1])\n",
    "ax[1].set_title(f\"{K + 2} $U$\")\n",
    "fig.colorbar(cbar, ax=ax[1])\n",
    "_, _, cbar = dsfilter.visualisations.plot_image_array(U[..., K + 4] * mask, x_min, x_max, y_min, y_max, cmap=\"gray\", fig=fig, ax=ax[2])\n",
    "ax[2].set_title(f\"{K + 4} $U$\")\n",
    "fig.colorbar(cbar, ax=ax[2]);"
   ]
  },
  {
   "cell_type": "code",
   "execution_count": null,
   "metadata": {},
   "outputs": [],
   "source": [
    "fig, ax = plt.subplots(1, 3, figsize=(18, 5))\n",
    "_, _, cbar = dsfilter.visualisations.plot_image_array(u, x_min, x_max, y_min, y_max, cmap=\"gray\", fig=fig, ax=ax[0])\n",
    "ax[0].set_title(\"$u$\")\n",
    "fig.colorbar(cbar, ax=ax[0])\n",
    "_, _, cbar = dsfilter.visualisations.plot_image_array(U.sum(-1), x_min, x_max, y_min, y_max, cmap=\"gray\", fig=fig, ax=ax[1])\n",
    "ax[1].set_title(\"Reconstruction\")\n",
    "fig.colorbar(cbar, ax=ax[1])\n",
    "_, _, cbar = dsfilter.visualisations.plot_image_array(u - U.sum(-1), x_min, x_max, y_min, y_max, cmap=\"gray\", fig=fig, ax=ax[2])\n",
    "ax[2].set_title(\"Reconstruction error\")\n",
    "fig.colorbar(cbar, ax=ax[2]);"
   ]
  },
  {
   "cell_type": "markdown",
   "metadata": {},
   "source": [
    "### Preprocess Orientation Score\n",
    "To remove artefacts in the orientation score caused by lifting masked data, we set the data within the (dilated) mask to a constant."
   ]
  },
  {
   "cell_type": "code",
   "execution_count": null,
   "metadata": {},
   "outputs": [],
   "source": [
    "U_preprocessed = dsfilter.SE2.utils.clean_mask_boundaries(U, Mask)"
   ]
  },
  {
   "cell_type": "code",
   "execution_count": null,
   "metadata": {},
   "outputs": [],
   "source": [
    "K = 0\n",
    "print(θs[0, 0, K])\n",
    "fig, ax = plt.subplots(3, 3, figsize=(18, 15))\n",
    "_, _, cbar = dsfilter.visualisations.plot_image_array(U[..., K], x_min, x_max, y_min, y_max, cmap=\"gray\", fig=fig, ax=ax[0, 0])\n",
    "ax[0, 0].set_title(f\"{K} $U$\")\n",
    "fig.colorbar(cbar, ax=ax[0, 0])\n",
    "_, _, cbar = dsfilter.visualisations.plot_image_array(U[..., K + 2], x_min, x_max, y_min, y_max, cmap=\"gray\", fig=fig, ax=ax[0, 1])\n",
    "ax[0, 1].set_title(f\"{K + 2} $U$\")\n",
    "fig.colorbar(cbar, ax=ax[0, 1])\n",
    "_, _, cbar = dsfilter.visualisations.plot_image_array(U[..., K + 4], x_min, x_max, y_min, y_max, cmap=\"gray\", fig=fig, ax=ax[0, 2])\n",
    "ax[0, 2].set_title(f\"{K + 4} $U$\")\n",
    "fig.colorbar(cbar, ax=ax[0, 2])\n",
    "_, _, cbar = dsfilter.visualisations.plot_image_array(U_preprocessed[..., K], x_min, x_max, y_min, y_max, cmap=\"gray\", fig=fig, ax=ax[1, 0])\n",
    "ax[1, 0].set_title(f\"{K} preprocessed $U$\")\n",
    "fig.colorbar(cbar, ax=ax[1, 0])\n",
    "_, _, cbar = dsfilter.visualisations.plot_image_array(U_preprocessed[..., K + 2], x_min, x_max, y_min, y_max, cmap=\"gray\", fig=fig, ax=ax[1, 1])\n",
    "ax[1, 1].set_title(f\"{K + 2} preprocessed $U$\")\n",
    "fig.colorbar(cbar, ax=ax[1, 1])\n",
    "_, _, cbar = dsfilter.visualisations.plot_image_array(U_preprocessed[..., K + 4], x_min, x_max, y_min, y_max, cmap=\"gray\", fig=fig, ax=ax[1, 2])\n",
    "ax[1, 2].set_title(f\"{K + 4} preprocessed $U$\")\n",
    "fig.colorbar(cbar, ax=ax[1, 2])\n",
    "_, _, cbar = dsfilter.visualisations.plot_image_array(U[..., K] * mask, x_min, x_max, y_min, y_max, cmap=\"gray\", fig=fig, ax=ax[2, 0])\n",
    "ax[2, 0].set_title(f\"{K} preprocessed $U$\")\n",
    "fig.colorbar(cbar, ax=ax[2, 0])\n",
    "_, _, cbar = dsfilter.visualisations.plot_image_array(U[..., K + 2] * mask, x_min, x_max, y_min, y_max, cmap=\"gray\", fig=fig, ax=ax[2, 1])\n",
    "ax[2, 1].set_title(f\"{K + 2} preprocessed $U$\")\n",
    "fig.colorbar(cbar, ax=ax[2, 1])\n",
    "_, _, cbar = dsfilter.visualisations.plot_image_array(U[..., K + 4] * mask, x_min, x_max, y_min, y_max, cmap=\"gray\", fig=fig, ax=ax[2, 2])\n",
    "ax[2, 2].set_title(f\"{K + 4} preprocessed $U$\")\n",
    "fig.colorbar(cbar, ax=ax[2, 2]);"
   ]
  },
  {
   "cell_type": "markdown",
   "metadata": {},
   "source": [
    "### Run DS Inpainting"
   ]
  },
  {
   "cell_type": "code",
   "execution_count": null,
   "metadata": {},
   "outputs": [],
   "source": [
    "# Works well for inpainting\n",
    "# T_short = 0.2\n",
    "# T_medium = 10.\n",
    "# T_long = 50.\n",
    "# T_mega_long = 500.\n",
    "\n",
    "# ξ = 8 / dim_K\n",
    "\n",
    "# G_D_inv = 1.8 * np.array((1., 0.1, 0.0))\n",
    "# G_S_inv = np.array((1., 1., 0.0))\n",
    "# # Internal regularisation for switching between dilation and erosion.\n",
    "# σ_1, σ_2, σ_3 = np.array((2.5, 2.5, 0.6))\n",
    "# # External regularisation for switching between dilation and erosion.\n",
    "# ρ_1, ρ_2, ρ_3 = np.array((1., 1., 0.6))\n",
    "# # Internal and external regularisation of gradient for switching between diffusion and shock.\n",
    "# ν_1, ν_2, ν_3 = np.array((2.5, 2.5, 0.6))\n",
    "# λ = 0.01 # Contrast parameter for switching between diffusion and shock.\n",
    "# ε = 0.5 # Regularisation parameter for signum."
   ]
  },
  {
   "cell_type": "code",
   "execution_count": null,
   "metadata": {},
   "outputs": [],
   "source": [
    "T_short = 0.2\n",
    "T_medium = 10.\n",
    "T_long = 50.\n",
    "T_mega_long = 500.\n",
    "\n",
    "ξ = 8 / dim_K\n",
    "\n",
    "G_D_inv = 1.8 * np.array((1., 0.1, 0.0))\n",
    "G_S_inv = np.array((1., 1., 0.0))\n",
    "# Internal regularisation for switching between dilation and erosion.\n",
    "σ_1, σ_2, σ_3 = np.array((2.5, 2.5, 0.6))\n",
    "# External regularisation for switching between dilation and erosion.\n",
    "ρ_1, ρ_2, ρ_3 = np.array((1., 1., 0.6))\n",
    "# Internal and external regularisation of gradient for switching between diffusion and shock.\n",
    "ν_1, ν_2, ν_3 = np.array((2.5, 2.5, 0.6))\n",
    "λ = 0.01 # Contrast parameter for switching between diffusion and shock.\n",
    "ε = 0.5 # Regularisation parameter for signum."
   ]
  },
  {
   "cell_type": "code",
   "execution_count": null,
   "metadata": {},
   "outputs": [],
   "source": [
    "u_filtered_short, switch_DS_short, switch_morph_short = dsfilter.DS_filter_LI(U_preprocessed, Mask, θs, ξ, T_short, G_D_inv, G_S_inv, σ_1, σ_2, σ_3, ρ_1, ρ_2, ρ_3, ν_1, ν_2, ν_3, λ, ε=ε, dxy=dxy)\n",
    "u_filtered_medium, switch_DS_medium, switch_morph_medium = dsfilter.DS_filter_LI(U_preprocessed, Mask, θs, ξ, T_medium, G_D_inv, G_S_inv, σ_1, σ_2, σ_3, ρ_1, ρ_2, ρ_3, ν_1, ν_2, ν_3, λ, ε=ε, dxy=dxy)\n",
    "u_filtered_long, switch_DS_long, switch_morph_long = dsfilter.DS_filter_LI(U_preprocessed, Mask, θs, ξ, T_long, G_D_inv, G_S_inv, σ_1, σ_2, σ_3, ρ_1, ρ_2, ρ_3, ν_1, ν_2, ν_3, λ, ε=ε, dxy=dxy)\n",
    "u_filtered_mega_long, switch_DS_mega_long, switch_morph_mega_long = dsfilter.DS_filter_LI(U_preprocessed, Mask, θs, ξ, T_mega_long, G_D_inv, G_S_inv, σ_1, σ_2, σ_3, ρ_1, ρ_2, ρ_3, ν_1, ν_2, ν_3, λ, ε=ε, dxy=dxy)"
   ]
  },
  {
   "cell_type": "code",
   "execution_count": null,
   "metadata": {},
   "outputs": [],
   "source": [
    "fig, ax, cbar = dsfilter.visualisations.plot_image_array((u_filtered_long - u_filtered_mega_long)[..., 0], x_min, x_max, y_min, y_max, cmap=\"gray\")\n",
    "fig.colorbar(cbar, ax=ax);"
   ]
  },
  {
   "cell_type": "code",
   "execution_count": null,
   "metadata": {},
   "outputs": [],
   "source": [
    "K = 1\n",
    "fig, ax = plt.subplots(2, 2, figsize=(12, 10))\n",
    "_, _, cbar = dsfilter.visualisations.plot_image_array(u_filtered_short[..., K], x_min, x_max, y_min, y_max, cmap=\"gray\", fig=fig, ax=ax[0, 0])\n",
    "ax[0, 0].set_title(f\"$T = {round(T_short, ndigits=2)}$\")\n",
    "fig.colorbar(cbar, ax=ax[0, 0])\n",
    "_, _, cbar = dsfilter.visualisations.plot_image_array(u_filtered_medium[..., K], x_min, x_max, y_min, y_max, cmap=\"gray\", fig=fig, ax=ax[0, 1])\n",
    "ax[0, 1].set_title(f\"$T = {T_medium}$\")\n",
    "fig.colorbar(cbar, ax=ax[0, 1])\n",
    "_, _, cbar = dsfilter.visualisations.plot_image_array(u_filtered_long[..., K], x_min, x_max, y_min, y_max, cmap=\"gray\", fig=fig, ax=ax[1, 0])\n",
    "ax[1, 0].set_title(f\"$T = {T_long}$\")\n",
    "fig.colorbar(cbar, ax=ax[1, 0])\n",
    "_, _, cbar = dsfilter.visualisations.plot_image_array(u_filtered_mega_long[..., K], x_min, x_max, y_min, y_max, cmap=\"gray\", fig=fig, ax=ax[1, 1])\n",
    "ax[1, 1].set_title(f\"$T = {T_mega_long}$\")\n",
    "fig.colorbar(cbar, ax=ax[1, 1]);"
   ]
  },
  {
   "cell_type": "code",
   "execution_count": null,
   "metadata": {},
   "outputs": [],
   "source": [
    "u_change = u_filtered_mega_long - u_filtered_short\n",
    "K = 0\n",
    "fig, ax = plt.subplots(2, 2, figsize=(12, 10))\n",
    "_, _, cbar = dsfilter.visualisations.plot_image_array(u_change[..., K], x_min, x_max, y_min, y_max, cmap=\"gray\", fig=fig, ax=ax[0, 0])\n",
    "ax[0, 0].set_title(f\"$T = {round(T_short, ndigits=2)}$\")\n",
    "fig.colorbar(cbar, ax=ax[0, 0])\n",
    "_, _, cbar = dsfilter.visualisations.plot_image_array(u_change[..., K + 1], x_min, x_max, y_min, y_max, cmap=\"gray\", fig=fig, ax=ax[0, 1])\n",
    "ax[0, 1].set_title(f\"$T = {T_medium}$\")\n",
    "fig.colorbar(cbar, ax=ax[0, 1])\n",
    "_, _, cbar = dsfilter.visualisations.plot_image_array(u_change[..., K + 2], x_min, x_max, y_min, y_max, cmap=\"gray\", fig=fig, ax=ax[1, 0])\n",
    "ax[1, 0].set_title(f\"$T = {T_long}$\")\n",
    "fig.colorbar(cbar, ax=ax[1, 0])\n",
    "_, _, cbar = dsfilter.visualisations.plot_image_array(u_change[..., K + 4], x_min, x_max, y_min, y_max, cmap=\"gray\", fig=fig, ax=ax[1, 1])\n",
    "ax[1, 1].set_title(f\"$T = {T_mega_long}$\")\n",
    "fig.colorbar(cbar, ax=ax[1, 1]);"
   ]
  },
  {
   "cell_type": "code",
   "execution_count": null,
   "metadata": {},
   "outputs": [],
   "source": [
    "u_test = u_filtered_mega_long.copy()\n",
    "u_test[mask > 0.] = 10."
   ]
  },
  {
   "cell_type": "code",
   "execution_count": null,
   "metadata": {},
   "outputs": [],
   "source": [
    "u_test[..., 0].max(), U[..., 0].max()"
   ]
  },
  {
   "cell_type": "code",
   "execution_count": null,
   "metadata": {},
   "outputs": [],
   "source": [
    "K = 0\n",
    "fig, ax, cbar = dsfilter.visualisations.plot_image_array(u_test[..., K], x_min, x_max, y_min, y_max, cmap=\"gray\")\n",
    "ax.set_title(f\"$T = {T_mega_long}$\")\n",
    "fig.colorbar(cbar, ax=ax);"
   ]
  },
  {
   "cell_type": "code",
   "execution_count": null,
   "metadata": {},
   "outputs": [],
   "source": [
    "fig, ax = plt.subplots(1, 2, figsize=(12, 5))\n",
    "_, _, cbar = dsfilter.visualisations.plot_image_array(u_filtered_short.sum(-1), x_min, x_max, y_min, y_max, cmap=\"gray\", clip=clip, fig=fig, ax=ax[0])\n",
    "ax[0].set_title(f\"$T = {round(T_short, ndigits=2)}$\")\n",
    "fig.colorbar(cbar, ax=ax[0])\n",
    "_, _, cbar = dsfilter.visualisations.plot_image_array(u_filtered_mega_long.sum(-1), x_min, x_max, y_min, y_max, cmap=\"gray\", clip=clip, fig=fig, ax=ax[1])\n",
    "ax[1].set_title(f\"$T = {T_mega_long}$\")\n",
    "fig.colorbar(cbar, ax=ax[1]);"
   ]
  },
  {
   "cell_type": "code",
   "execution_count": null,
   "metadata": {},
   "outputs": [],
   "source": [
    "fig, ax = plt.subplots(2, 2, figsize=(12, 10))\n",
    "_, _, cbar = dsfilter.visualisations.plot_image_array(u_filtered_short.sum(-1), x_min, x_max, y_min, y_max, cmap=\"gray\", clip=clip, fig=fig, ax=ax[0, 0])\n",
    "ax[0, 0].set_title(f\"$T = {round(T_short, ndigits=2)}$\")\n",
    "fig.colorbar(cbar, ax=ax[0, 0])\n",
    "_, _, cbar = dsfilter.visualisations.plot_image_array(u_filtered_medium.sum(-1), x_min, x_max, y_min, y_max, cmap=\"gray\", clip=clip, fig=fig, ax=ax[0, 1])\n",
    "ax[0, 1].set_title(f\"$T = {T_medium}$\")\n",
    "fig.colorbar(cbar, ax=ax[0, 1])\n",
    "_, _, cbar = dsfilter.visualisations.plot_image_array(u_filtered_long.sum(-1), x_min, x_max, y_min, y_max, cmap=\"gray\", clip=clip, fig=fig, ax=ax[1, 0])\n",
    "ax[1, 0].set_title(f\"$T = {T_long}$\")\n",
    "fig.colorbar(cbar, ax=ax[1, 0])\n",
    "_, _, cbar = dsfilter.visualisations.plot_image_array(u_filtered_mega_long.sum(-1), x_min, x_max, y_min, y_max, cmap=\"gray\", clip=clip, fig=fig, ax=ax[1, 1])\n",
    "ax[1, 1].set_title(f\"$T = {T_mega_long}$\")\n",
    "fig.colorbar(cbar, ax=ax[1, 1]);"
   ]
  },
  {
   "cell_type": "code",
   "execution_count": null,
   "metadata": {},
   "outputs": [],
   "source": [
    "fig, ax = plt.subplots(2, 2, figsize=(12, 10))\n",
    "_, _, cbar = dsfilter.visualisations.plot_image_array(u_filtered_short.sum(-1), x_min, x_max, y_min, y_max, cmap=\"gray\", fig=fig, ax=ax[0, 0])\n",
    "ax[0, 0].set_title(f\"$T = {round(T_short, ndigits=2)}$\")\n",
    "fig.colorbar(cbar, ax=ax[0, 0])\n",
    "_, _, cbar = dsfilter.visualisations.plot_image_array(u_filtered_medium.sum(-1), x_min, x_max, y_min, y_max, cmap=\"gray\", fig=fig, ax=ax[0, 1])\n",
    "ax[0, 1].set_title(f\"$T = {T_medium}$\")\n",
    "fig.colorbar(cbar, ax=ax[0, 1])\n",
    "_, _, cbar = dsfilter.visualisations.plot_image_array(u_filtered_long.sum(-1), x_min, x_max, y_min, y_max, cmap=\"gray\", fig=fig, ax=ax[1, 0])\n",
    "ax[1, 0].set_title(f\"$T = {T_long}$\")\n",
    "fig.colorbar(cbar, ax=ax[1, 0])\n",
    "_, _, cbar = dsfilter.visualisations.plot_image_array(u_filtered_mega_long.sum(-1), x_min, x_max, y_min, y_max, cmap=\"gray\", fig=fig, ax=ax[1, 1])\n",
    "ax[1, 1].set_title(f\"$T = {T_mega_long}$\")\n",
    "fig.colorbar(cbar, ax=ax[1, 1]);"
   ]
  },
  {
   "cell_type": "code",
   "execution_count": null,
   "metadata": {},
   "outputs": [],
   "source": [
    "fig, ax = plt.subplots(2, 2, figsize=(12, 10))\n",
    "_, _, cbar = dsfilter.visualisations.plot_image_array(np.clip(u_filtered_short.sum(-1), 0., 255.) - u_ground_truth, x_min, x_max, y_min, y_max, cmap=\"gray\", fig=fig, ax=ax[0, 0])\n",
    "ax[0, 0].set_title(f\"$T = {round(T_short, ndigits=2)}$\")\n",
    "fig.colorbar(cbar, ax=ax[0, 0])\n",
    "_, _, cbar = dsfilter.visualisations.plot_image_array(np.clip(u_filtered_medium.sum(-1), 0., 255.) - u_ground_truth, x_min, x_max, y_min, y_max, cmap=\"gray\", fig=fig, ax=ax[0, 1])\n",
    "ax[0, 1].set_title(f\"$T = {T_medium}$\")\n",
    "fig.colorbar(cbar, ax=ax[0, 1])\n",
    "_, _, cbar = dsfilter.visualisations.plot_image_array(np.clip(u_filtered_long.sum(-1), 0., 255.) - u_ground_truth, x_min, x_max, y_min, y_max, cmap=\"gray\", fig=fig, ax=ax[1, 0])\n",
    "ax[1, 0].set_title(f\"$T = {T_long}$\")\n",
    "fig.colorbar(cbar, ax=ax[1, 0])\n",
    "_, _, cbar = dsfilter.visualisations.plot_image_array(np.clip(u_filtered_mega_long.sum(-1), 0., 255.) - u_ground_truth, x_min, x_max, y_min, y_max, cmap=\"gray\", fig=fig, ax=ax[1, 1])\n",
    "ax[1, 1].set_title(f\"$T = {T_mega_long}$\")\n",
    "fig.colorbar(cbar, ax=ax[1, 1]);"
   ]
  },
  {
   "cell_type": "code",
   "execution_count": null,
   "metadata": {},
   "outputs": [],
   "source": [
    "K = 2\n",
    "fig, ax = plt.subplots(2, 2, figsize=(12, 10))\n",
    "_, _, cbar = dsfilter.visualisations.plot_image_array(switch_morph_short[..., K], x_min, x_max, y_min, y_max, cmap=\"gray\", fig=fig, ax=ax[0, 0])\n",
    "ax[0, 0].set_title(f\"$T = {round(T_short, ndigits=2)}$\")\n",
    "fig.colorbar(cbar, ax=ax[0, 0])\n",
    "_, _, cbar = dsfilter.visualisations.plot_image_array(switch_morph_medium[..., K], x_min, x_max, y_min, y_max, cmap=\"gray\", fig=fig, ax=ax[0, 1])\n",
    "ax[0, 1].set_title(f\"$T = {T_medium}$\")\n",
    "fig.colorbar(cbar, ax=ax[0, 1])\n",
    "_, _, cbar = dsfilter.visualisations.plot_image_array(switch_morph_long[..., K], x_min, x_max, y_min, y_max, cmap=\"gray\", fig=fig, ax=ax[1, 0])\n",
    "ax[1, 0].set_title(f\"$T = {T_long}$\")\n",
    "fig.colorbar(cbar, ax=ax[1, 0])\n",
    "_, _, cbar = dsfilter.visualisations.plot_image_array(switch_morph_mega_long[..., K], x_min, x_max, y_min, y_max, cmap=\"gray\", fig=fig, ax=ax[1, 1])\n",
    "ax[1, 1].set_title(f\"$T = {T_mega_long}$\")\n",
    "fig.colorbar(cbar, ax=ax[1, 1]);"
   ]
  },
  {
   "cell_type": "code",
   "execution_count": null,
   "metadata": {},
   "outputs": [],
   "source": [
    "u_test = switch_morph_mega_long.copy()\n",
    "u_test[mask > 0.] = 0."
   ]
  },
  {
   "cell_type": "code",
   "execution_count": null,
   "metadata": {},
   "outputs": [],
   "source": [
    "u_test[..., 0].max(), U[..., 0].max()"
   ]
  },
  {
   "cell_type": "code",
   "execution_count": null,
   "metadata": {},
   "outputs": [],
   "source": [
    "K = 0\n",
    "fig, ax, cbar = dsfilter.visualisations.plot_image_array(u_test[..., K], x_min, x_max, y_min, y_max, cmap=\"gray\")\n",
    "ax.set_title(f\"$T = {T_mega_long}$\")\n",
    "fig.colorbar(cbar, ax=ax);"
   ]
  },
  {
   "cell_type": "code",
   "execution_count": null,
   "metadata": {},
   "outputs": [],
   "source": [
    "fig, ax = plt.subplots(2, 2, figsize=(12, 10))\n",
    "_, _, cbar = dsfilter.visualisations.plot_image_array(switch_morph_short.min(-1), x_min, x_max, y_min, y_max, cmap=\"gray\", fig=fig, ax=ax[0, 0])\n",
    "ax[0, 0].set_title(f\"$T = {round(T_short, ndigits=2)}$\")\n",
    "fig.colorbar(cbar, ax=ax[0, 0])\n",
    "_, _, cbar = dsfilter.visualisations.plot_image_array(switch_morph_medium.min(-1), x_min, x_max, y_min, y_max, cmap=\"gray\", fig=fig, ax=ax[0, 1])\n",
    "ax[0, 1].set_title(f\"$T = {T_medium}$\")\n",
    "fig.colorbar(cbar, ax=ax[0, 1])\n",
    "_, _, cbar = dsfilter.visualisations.plot_image_array(switch_morph_long.min(-1), x_min, x_max, y_min, y_max, cmap=\"gray\", fig=fig, ax=ax[1, 0])\n",
    "ax[1, 0].set_title(f\"$T = {T_long}$\")\n",
    "fig.colorbar(cbar, ax=ax[1, 0])\n",
    "_, _, cbar = dsfilter.visualisations.plot_image_array(switch_morph_mega_long.min(-1), x_min, x_max, y_min, y_max, cmap=\"gray\", fig=fig, ax=ax[1, 1])\n",
    "ax[1, 1].set_title(f\"$T = {T_mega_long}$\")\n",
    "fig.colorbar(cbar, ax=ax[1, 1]);"
   ]
  },
  {
   "cell_type": "code",
   "execution_count": null,
   "metadata": {},
   "outputs": [],
   "source": [
    "u_test = switch_DS_mega_long.copy()\n",
    "u_test[mask > 0.] = 1."
   ]
  },
  {
   "cell_type": "code",
   "execution_count": null,
   "metadata": {},
   "outputs": [],
   "source": [
    "u_test[..., 0].max(), U[..., 0].max()"
   ]
  },
  {
   "cell_type": "code",
   "execution_count": null,
   "metadata": {},
   "outputs": [],
   "source": [
    "K = 0\n",
    "fig, ax = plt.subplots(2, 2, figsize=(12, 10))\n",
    "_, _, cbar = dsfilter.visualisations.plot_image_array(u_test[..., K - 1], x_min, x_max, y_min, y_max, cmap=\"gray\", fig=fig, ax=ax[0, 0])\n",
    "ax[0, 0].set_title(f\"$T = {round(T_short, ndigits=2)}$\")\n",
    "fig.colorbar(cbar, ax=ax[0, 0])\n",
    "_, _, cbar = dsfilter.visualisations.plot_image_array(u_test[..., K], x_min, x_max, y_min, y_max, cmap=\"gray\", fig=fig, ax=ax[0, 1])\n",
    "ax[0, 1].set_title(f\"$T = {T_medium}$\")\n",
    "fig.colorbar(cbar, ax=ax[0, 1])\n",
    "_, _, cbar = dsfilter.visualisations.plot_image_array(u_test[..., K + 1], x_min, x_max, y_min, y_max, cmap=\"gray\", fig=fig, ax=ax[1, 0])\n",
    "ax[1, 0].set_title(f\"$T = {T_long}$\")\n",
    "fig.colorbar(cbar, ax=ax[1, 0])\n",
    "_, _, cbar = dsfilter.visualisations.plot_image_array(u_test[..., K + 2], x_min, x_max, y_min, y_max, cmap=\"gray\", fig=fig, ax=ax[1, 1])\n",
    "ax[1, 1].set_title(f\"$T = {T_mega_long}$\")\n",
    "fig.colorbar(cbar, ax=ax[1, 1]);"
   ]
  },
  {
   "cell_type": "code",
   "execution_count": null,
   "metadata": {},
   "outputs": [],
   "source": [
    "K = 4\n",
    "fig, ax = plt.subplots(2, 2, figsize=(12, 10))\n",
    "_, _, cbar = dsfilter.visualisations.plot_image_array(switch_DS_short[..., K], x_min, x_max, y_min, y_max, cmap=\"gray\", fig=fig, ax=ax[0, 0])\n",
    "ax[0, 0].set_title(f\"$T = {round(T_short, ndigits=2)}$\")\n",
    "fig.colorbar(cbar, ax=ax[0, 0])\n",
    "_, _, cbar = dsfilter.visualisations.plot_image_array(switch_DS_short[..., K + 1], x_min, x_max, y_min, y_max, cmap=\"gray\", fig=fig, ax=ax[0, 1])\n",
    "ax[0, 1].set_title(f\"$T = {T_medium}$\")\n",
    "fig.colorbar(cbar, ax=ax[0, 1])\n",
    "_, _, cbar = dsfilter.visualisations.plot_image_array(switch_DS_short[..., K + 2], x_min, x_max, y_min, y_max, cmap=\"gray\", fig=fig, ax=ax[1, 0])\n",
    "ax[1, 0].set_title(f\"$T = {T_long}$\")\n",
    "fig.colorbar(cbar, ax=ax[1, 0])\n",
    "_, _, cbar = dsfilter.visualisations.plot_image_array(switch_DS_short[..., K + 3], x_min, x_max, y_min, y_max, cmap=\"gray\", fig=fig, ax=ax[1, 1])\n",
    "ax[1, 1].set_title(f\"$T = {T_mega_long}$\")\n",
    "fig.colorbar(cbar, ax=ax[1, 1]);"
   ]
  },
  {
   "cell_type": "code",
   "execution_count": null,
   "metadata": {},
   "outputs": [],
   "source": [
    "K = 0\n",
    "fig, ax = plt.subplots(2, 2, figsize=(12, 10))\n",
    "_, _, cbar = dsfilter.visualisations.plot_image_array(switch_DS_short[..., K], x_min, x_max, y_min, y_max, cmap=\"gray\", fig=fig, ax=ax[0, 0])\n",
    "ax[0, 0].set_title(f\"$T = {round(T_short, ndigits=2)}$\")\n",
    "fig.colorbar(cbar, ax=ax[0, 0])\n",
    "_, _, cbar = dsfilter.visualisations.plot_image_array(switch_DS_medium[..., K], x_min, x_max, y_min, y_max, cmap=\"gray\", fig=fig, ax=ax[0, 1])\n",
    "ax[0, 1].set_title(f\"$T = {T_medium}$\")\n",
    "fig.colorbar(cbar, ax=ax[0, 1])\n",
    "_, _, cbar = dsfilter.visualisations.plot_image_array(switch_DS_long[..., K], x_min, x_max, y_min, y_max, cmap=\"gray\", fig=fig, ax=ax[1, 0])\n",
    "ax[1, 0].set_title(f\"$T = {T_long}$\")\n",
    "fig.colorbar(cbar, ax=ax[1, 0])\n",
    "_, _, cbar = dsfilter.visualisations.plot_image_array(switch_DS_mega_long[..., K], x_min, x_max, y_min, y_max, cmap=\"gray\", fig=fig, ax=ax[1, 1])\n",
    "ax[1, 1].set_title(f\"$T = {T_mega_long}$\")\n",
    "fig.colorbar(cbar, ax=ax[1, 1]);"
   ]
  },
  {
   "cell_type": "code",
   "execution_count": null,
   "metadata": {},
   "outputs": [],
   "source": [
    "fig, ax = plt.subplots(2, 2, figsize=(12, 10))\n",
    "_, _, cbar = dsfilter.visualisations.plot_image_array(switch_DS_short.min(-1), x_min, x_max, y_min, y_max, cmap=\"gray\", fig=fig, ax=ax[0, 0])\n",
    "ax[0, 0].set_title(f\"$T = {round(T_short, ndigits=2)}$\")\n",
    "fig.colorbar(cbar, ax=ax[0, 0])\n",
    "_, _, cbar = dsfilter.visualisations.plot_image_array(switch_DS_medium.min(-1), x_min, x_max, y_min, y_max, cmap=\"gray\", fig=fig, ax=ax[0, 1])\n",
    "ax[0, 1].set_title(f\"$T = {T_medium}$\")\n",
    "fig.colorbar(cbar, ax=ax[0, 1])\n",
    "_, _, cbar = dsfilter.visualisations.plot_image_array(switch_DS_long.min(-1), x_min, x_max, y_min, y_max, cmap=\"gray\", fig=fig, ax=ax[1, 0])\n",
    "ax[1, 0].set_title(f\"$T = {T_long}$\")\n",
    "fig.colorbar(cbar, ax=ax[1, 0])\n",
    "_, _, cbar = dsfilter.visualisations.plot_image_array(switch_DS_mega_long.min(-1), x_min, x_max, y_min, y_max, cmap=\"gray\", fig=fig, ax=ax[1, 1])\n",
    "ax[1, 1].set_title(f\"$T = {T_mega_long}$\")\n",
    "fig.colorbar(cbar, ax=ax[1, 1]);"
   ]
  },
  {
   "cell_type": "code",
   "execution_count": null,
   "metadata": {},
   "outputs": [],
   "source": [
    "# import h5py"
   ]
  },
  {
   "cell_type": "code",
   "execution_count": null,
   "metadata": {},
   "outputs": [],
   "source": [
    "# filename = f\".\\\\data\\\\u_short.hdf5\"\n",
    "# with h5py.File(filename, \"w\") as distance_file:\n",
    "#     distance_file.create_dataset(\"Dataset1\", data=u_filtered_short)\n",
    "# filename = f\".\\\\data\\\\u_medium.hdf5\"\n",
    "# with h5py.File(filename, \"w\") as distance_file:\n",
    "#     distance_file.create_dataset(\"Dataset1\", data=u_filtered_medium)\n",
    "# filename = f\".\\\\data\\\\u_long.hdf5\"\n",
    "# with h5py.File(filename, \"w\") as distance_file:\n",
    "#     distance_file.create_dataset(\"Dataset1\", data=u_filtered_long)\n",
    "# filename = f\".\\\\data\\\\u_mega_long.hdf5\"\n",
    "# with h5py.File(filename, \"w\") as distance_file:\n",
    "#     distance_file.create_dataset(\"Dataset1\", data=u_filtered_mega_long)"
   ]
  },
  {
   "cell_type": "code",
   "execution_count": null,
   "metadata": {},
   "outputs": [],
   "source": [
    "# filename = f\".\\\\data\\\\u_init.hdf5\"\n",
    "# with h5py.File(filename, \"w\") as distance_file:\n",
    "#     distance_file.create_dataset(\"Dataset1\", data=U)"
   ]
  },
  {
   "cell_type": "markdown",
   "metadata": {},
   "source": [
    "## Planes\n",
    "\n",
    "**TODO**"
   ]
  },
  {
   "cell_type": "code",
   "execution_count": null,
   "metadata": {},
   "outputs": [],
   "source": [
    "# test_case = 1"
   ]
  },
  {
   "cell_type": "code",
   "execution_count": null,
   "metadata": {},
   "outputs": [],
   "source": [
    "# match test_case:\n",
    "#     case 1: # Figure 2 (top) BIG\n",
    "#         dim_I, dim_J = 256, 256\n",
    "#         u_ground_truth = np.ones((dim_I, dim_J)) * 255.\n",
    "#         u_ground_truth[:25, :] = 0.\n",
    "#         u_ground_truth[100:160, :] = 0.\n",
    "#         u_ground_truth[-25:, :] = 0.\n",
    "\n",
    "#         mask = np.ones((dim_I, dim_J))\n",
    "#         mask[:, 100:160] = 0.\n",
    "#         u = u_ground_truth.copy()\n",
    "#         u[:, 100:160] = 0.5 * 255.\n",
    "\n",
    "#         T_short = 1/3\n",
    "#         T_medium = 15\n",
    "#         T_long = 100\n",
    "#         T_mega_long = 1000\n",
    "\n",
    "#         σ = 3 # Internal regularisation of structure tensor for switching between dilation and erosion.\n",
    "#         ρ = 1.6 * σ # External regularisation of structure tensor for switching between dilation and erosion.\n",
    "#         ν = 1.6 * σ # Internal regularisation of gradient for switching between diffusion and shock.\n",
    "#         λ = 3 # Contrast parameter for switching between diffusion and shock.\n",
    "#         ε = 0.15 * λ # Regularisation parameter for signum.\n",
    "#     case 2: # Figure 2 (top) small\n",
    "#         dim_I, dim_J = 128, 128\n",
    "#         u_ground_truth = np.ones((dim_I, dim_J)) * 255.\n",
    "#         u_ground_truth[:12, :] = 0.\n",
    "#         u_ground_truth[50:80, :] = 0.\n",
    "#         u_ground_truth[-12:, :] = 0.\n",
    "\n",
    "#         mask = np.ones((dim_I, dim_J))\n",
    "#         mask[:, 50:80] = 0.\n",
    "#         u = u_ground_truth.copy()\n",
    "#         u[:, 50:80] = 0.5 * 255.\n",
    "\n",
    "#         T_short = 1/3\n",
    "#         T_medium = 15\n",
    "#         T_long = 100\n",
    "#         T_mega_long = 1000\n",
    "\n",
    "#         σ = 2 # Internal regularisation of structure tensor for switching between dilation and erosion.\n",
    "#         ρ = 1.6 * σ # External regularisation of structure tensor for switching between dilation and erosion.\n",
    "#         ν = 1.6 * σ # Internal regularisation of gradient for switching between diffusion and shock.\n",
    "#         λ = 3 # Contrast parameter for switching between diffusion and shock.\n",
    "#         ε = 0.15 * λ # Regularisation parameter for signum.\n",
    "#     case 3: # Figure 3 (top)\n",
    "#         dim_I, dim_J = 128, 128\n",
    "#         u_ground_truth = np.ones((dim_I, dim_J)) * 0.5 * 255.\n",
    "#         u_ground_truth[:65, :] = 0.\n",
    "#         u_ground_truth[65:, :] = 1. * 255.\n",
    "\n",
    "#         u = np.ones((dim_I, dim_J)) * 0.5 * 255.\n",
    "#         u[64, 65] = 0.\n",
    "#         u[65, 65] = 1. * 255.\n",
    "#         mask = np.zeros((dim_I, dim_J))\n",
    "#         mask[64:66, 65] = 1.\n",
    "\n",
    "#         T_short = 1/3\n",
    "#         T_medium = 100\n",
    "#         T_long = 1000\n",
    "#         T_mega_long = 10000\n",
    "\n",
    "#         σ = 2 # Internal regularisation of structure tensor for switching between dilation and erosion.\n",
    "#         ρ = 1.6 * σ # External regularisation of structure tensor for switching between dilation and erosion.\n",
    "#         ν = 1.6 * σ # Internal regularisation of gradient for switching between diffusion and shock.\n",
    "#         λ = 1 # Contrast parameter for switching between diffusion and shock.\n",
    "#         ε = 0.15 * λ # Regularisation parameter for signum.\n",
    "#     case 4: # Figure 2 (bottom)\n",
    "#         dim_I, dim_J = 256, 256\n",
    "#         u_ground_truth = np.zeros((dim_I, dim_J))\n",
    "#         u_ground_truth[:, 100:160] = 1. * 255.\n",
    "#         u_ground_truth[100:160, :] = 1. * 255.\n",
    "\n",
    "#         mask = np.ones((dim_I, dim_J))\n",
    "#         mask[80:180, 80:180] = 0.\n",
    "#         u = u_ground_truth.copy()\n",
    "#         u[80:180, 80:180] = 0.5 * 255\n",
    "\n",
    "#         T_short = 1/3\n",
    "#         T_medium = 50\n",
    "#         T_long = 250\n",
    "#         T_mega_long = 2000\n",
    "\n",
    "#         σ = 2 # Internal regularisation of structure tensor for switching between dilation and erosion.\n",
    "#         ρ = 1.6 * σ # External regularisation of structure tensor for switching between dilation and erosion.\n",
    "#         ν = 1.6 * σ # Internal regularisation of gradient for switching between diffusion and shock.\n",
    "#         λ = 3 # Contrast parameter for switching between diffusion and shock.\n",
    "#         ε = 0.15 * λ # Regularisation parameter for signum.\n",
    "#     case 5: # Figure 8 (top) of RDS\n",
    "#         dim_I, dim_J = 256, 256\n",
    "#         xs, ys = np.meshgrid(np.linspace(-1, 1, dim_I), np.linspace(-1, 1, dim_J))\n",
    "#         u_ground_truth = ((xs**2 + ys**2) < 0.8) * 255.\n",
    "\n",
    "#         mask = np.ones((dim_I, dim_J))\n",
    "#         mask[128:250, 5:128] = 0.\n",
    "#         u = u_ground_truth.copy()\n",
    "#         u[128:250, 5:128] = 0.5 * 255\n",
    "\n",
    "#         T_short = 1/3\n",
    "#         T_medium = 100\n",
    "#         T_long = 1000\n",
    "#         T_mega_long = 10000\n",
    "\n",
    "#         σ = 2.5 # Internal regularisation of structure tensor for switching between dilation and erosion.\n",
    "#         ρ = 1.6 * σ # External regularisation of structure tensor for switching between dilation and erosion.\n",
    "#         ν = 1.6 * σ # Internal regularisation of gradient for switching between diffusion and shock.\n",
    "#         λ = 2 # Contrast parameter for switching between diffusion and shock.\n",
    "#         ε = 0.15 * λ # Regularisation parameter for signum.\n",
    "#     case 6: # Figure 4\n",
    "#         dim_I, dim_J = 256, 256\n",
    "#         xs, ys = np.meshgrid(np.linspace(-1., 1., dim_I), np.linspace(-1., 1., dim_J), indexing=\"ij\")\n",
    "#         u_ground_truth = (ys > 0.700 * xs - 0.487) * (ys > -3.53 * xs - 1.77) * (ys < -0.502 * xs + 0.349) * 255.\n",
    "\n",
    "#         radius = np.sqrt(0.0426)\n",
    "#         mask = (((xs + 0.303)**2 + (ys + 0.699)**2 < radius**2) +\n",
    "#                 ((xs - 0.695)**2 + ys**2 < radius**2) +\n",
    "#                 ((xs + 0.699)**2 + (ys - 0.701)**2 < radius**2)) * 1.\n",
    "#         u = np.random.random((dim_I, dim_J)) * 255. * (1. - mask) + u_ground_truth * mask\n",
    "\n",
    "#         T_short = 1/3\n",
    "#         T_medium = 100\n",
    "#         T_long = 1000\n",
    "#         T_mega_long = 10000\n",
    "\n",
    "#         σ = 3.5 # Internal regularisation of structure tensor for switching between dilation and erosion.\n",
    "#         ρ = 1.6 * σ # External regularisation of structure tensor for switching between dilation and erosion.\n",
    "#         ν = 1.6 * σ # Internal regularisation of gradient for switching between diffusion and shock.\n",
    "#         λ = 3. # Contrast parameter for switching between diffusion and shock.\n",
    "#         ε = 0.15 * λ # Regularisation parameter for signum.\n",
    "\n",
    "# dxy = 1.\n",
    "# x_min, x_max = 0, u.shape[0] - 1\n",
    "# y_min, y_max = 0, u.shape[1] - 1"
   ]
  },
  {
   "cell_type": "code",
   "execution_count": null,
   "metadata": {},
   "outputs": [],
   "source": [
    "# fig, ax = plt.subplots(1, 2, figsize=(12, 5))\n",
    "# _, _, cbar = dsfilter.visualisations.plot_image_array(u, x_min, x_max, y_min, y_max, cmap=\"gray\", fig=fig, ax=ax[0])\n",
    "# ax[0].set_title(\"$u$\")\n",
    "# fig.colorbar(cbar, ax=ax[0])\n",
    "# _, _, cbar = dsfilter.visualisations.plot_image_array(mask, x_min, x_max, y_min, y_max, cmap=\"gray\", fig=fig, ax=ax[1])\n",
    "# ax[1].set_title(\"Mask\")\n",
    "# fig.colorbar(cbar, ax=ax[1]);"
   ]
  },
  {
   "cell_type": "code",
   "execution_count": null,
   "metadata": {},
   "outputs": [],
   "source": [
    "# u_filtered_short, switch_DS_short, switch_morph_short = dsfilter.DS_filter_R2(u, mask, T_short, σ, ρ, ν, λ, ε=ε, dxy=dxy)\n",
    "# u_filtered_medium, switch_DS_medium, switch_morph_medium = dsfilter.DS_filter_R2(u, mask, T_medium, σ, ρ, ν, λ, ε=ε, dxy=dxy)\n",
    "# u_filtered_long, switch_DS_long, switch_morph_long = dsfilter.DS_filter_R2(u, mask, T_long, σ, ρ, ν, λ, ε=ε, dxy=dxy)\n",
    "# u_filtered_mega_long, switch_DS_mega_long, switch_morph_mega_long = dsfilter.DS_filter_R2(u, mask, T_mega_long, σ, ρ, ν, λ, ε=ε, dxy=dxy)"
   ]
  },
  {
   "cell_type": "code",
   "execution_count": null,
   "metadata": {},
   "outputs": [],
   "source": [
    "# fig, ax = plt.subplots(2, 2, figsize=(12, 10))\n",
    "# _, _, cbar = dsfilter.visualisations.plot_image_array(u_filtered_short, x_min, x_max, y_min, y_max, cmap=\"gray\", fig=fig, ax=ax[0, 0])\n",
    "# ax[0, 0].set_title(f\"$T = {round(T_short, ndigits=2)}$\")\n",
    "# _, _, cbar = dsfilter.visualisations.plot_image_array(u_filtered_medium, x_min, x_max, y_min, y_max, cmap=\"gray\", fig=fig, ax=ax[0, 1])\n",
    "# ax[0, 1].set_title(f\"$T = {T_medium}$\")\n",
    "# _, _, cbar = dsfilter.visualisations.plot_image_array(u_filtered_long, x_min, x_max, y_min, y_max, cmap=\"gray\", fig=fig, ax=ax[1, 0])\n",
    "# ax[1, 0].set_title(f\"$T = {T_long}$\")\n",
    "# _, _, cbar = dsfilter.visualisations.plot_image_array(u_filtered_mega_long, x_min, x_max, y_min, y_max, cmap=\"gray\", fig=fig, ax=ax[1, 1])\n",
    "# ax[1, 1].set_title(f\"$T = {T_mega_long}$\")\n",
    "# fig.colorbar(cbar, ax=ax);"
   ]
  },
  {
   "cell_type": "code",
   "execution_count": null,
   "metadata": {},
   "outputs": [],
   "source": [
    "# fig, ax = plt.subplots(2, 2, figsize=(12, 10))\n",
    "# _, _, cbar = dsfilter.visualisations.plot_image_array(u_filtered_short - u_ground_truth, x_min, x_max, y_min, y_max, cmap=\"gray\", fig=fig, ax=ax[0, 0])\n",
    "# ax[0, 0].set_title(f\"$T = {round(T_short, ndigits=2)}$\")\n",
    "# _, _, cbar = dsfilter.visualisations.plot_image_array(u_filtered_medium - u_ground_truth, x_min, x_max, y_min, y_max, cmap=\"gray\", fig=fig, ax=ax[0, 1])\n",
    "# ax[0, 1].set_title(f\"$T = {T_medium}$\")\n",
    "# _, _, cbar = dsfilter.visualisations.plot_image_array(u_filtered_long - u_ground_truth, x_min, x_max, y_min, y_max, cmap=\"gray\", fig=fig, ax=ax[1, 0])\n",
    "# ax[1, 0].set_title(f\"$T = {T_long}$\")\n",
    "# _, _, cbar = dsfilter.visualisations.plot_image_array(u_filtered_mega_long - u_ground_truth, x_min, x_max, y_min, y_max, cmap=\"gray\", fig=fig, ax=ax[1, 1])\n",
    "# ax[1, 1].set_title(f\"$T = {T_mega_long}$\")\n",
    "# fig.colorbar(cbar, ax=ax);"
   ]
  },
  {
   "cell_type": "code",
   "execution_count": null,
   "metadata": {},
   "outputs": [],
   "source": [
    "# fig, ax = plt.subplots(2, 2, figsize=(12, 10))\n",
    "# _, _, cbar = dsfilter.visualisations.plot_image_array(switch_morph_short, x_min, x_max, y_min, y_max, cmap=\"gray\", fig=fig, ax=ax[0, 0])\n",
    "# ax[0, 0].set_title(f\"$T = {round(T_short, ndigits=2)}$\")\n",
    "# _, _, cbar = dsfilter.visualisations.plot_image_array(switch_morph_medium, x_min, x_max, y_min, y_max, cmap=\"gray\", fig=fig, ax=ax[0, 1])\n",
    "# ax[0, 1].set_title(f\"$T = {T_medium}$\")\n",
    "# _, _, cbar = dsfilter.visualisations.plot_image_array(switch_morph_long, x_min, x_max, y_min, y_max, cmap=\"gray\", fig=fig, ax=ax[1, 0])\n",
    "# ax[1, 0].set_title(f\"$T = {T_long}$\")\n",
    "# _, _, cbar = dsfilter.visualisations.plot_image_array(switch_morph_mega_long, x_min, x_max, y_min, y_max, cmap=\"gray\", fig=fig, ax=ax[1, 1])\n",
    "# ax[1, 1].set_title(f\"$T = {T_mega_long}$\")\n",
    "# fig.colorbar(cbar, ax=ax);"
   ]
  },
  {
   "cell_type": "code",
   "execution_count": null,
   "metadata": {},
   "outputs": [],
   "source": [
    "# fig, ax = plt.subplots(2, 2, figsize=(12, 10))\n",
    "# _, _, cbar = dsfilter.visualisations.plot_image_array(switch_DS_short, x_min, x_max, y_min, y_max, cmap=\"gray\", fig=fig, ax=ax[0, 0])\n",
    "# ax[0, 0].set_title(f\"$T = {round(T_short, ndigits=2)}$\")\n",
    "# _, _, cbar = dsfilter.visualisations.plot_image_array(switch_DS_medium, x_min, x_max, y_min, y_max, cmap=\"gray\", fig=fig, ax=ax[0, 1])\n",
    "# ax[0, 1].set_title(f\"$T = {T_medium}$\")\n",
    "# _, _, cbar = dsfilter.visualisations.plot_image_array(switch_DS_long, x_min, x_max, y_min, y_max, cmap=\"gray\", fig=fig, ax=ax[1, 0])\n",
    "# ax[1, 0].set_title(f\"$T = {T_long}$\")\n",
    "# _, _, cbar = dsfilter.visualisations.plot_image_array(switch_DS_mega_long, x_min, x_max, y_min, y_max, cmap=\"gray\", fig=fig, ax=ax[1, 1])\n",
    "# ax[1, 1].set_title(f\"$T = {T_mega_long}$\")\n",
    "# fig.colorbar(cbar, ax=ax);"
   ]
  },
  {
   "cell_type": "markdown",
   "metadata": {},
   "source": [
    "### Collapse Orientation Score"
   ]
  },
  {
   "cell_type": "code",
   "execution_count": null,
   "metadata": {},
   "outputs": [],
   "source": [
    "def collapse_orientation_columns(U, σ=2, orientation_threshold=0.5):\n",
    "    N_ors = U.shape[0]\n",
    "    N_ors_new = N_ors//2\n",
    "    U_unstacked = U[:N_ors_new] + U[N_ors_new:]\n",
    "    U_mean = U_unstacked.mean()\n",
    "    U_centred = U_unstacked - U_mean\n",
    "\n",
    "    dθ = np.pi / (N_ors_new + 1)\n",
    "    θs = np.arange(0, np.pi, dθ)\n",
    "    A2_U = compute_grad_perp(U_centred, θs, σ)\n",
    "    A22_U = compute_grad_perp(U_centred, θs, σ)\n",
    "    orientationness = np.abs(A2_U) + np.abs(A22_U)\n",
    "    k_opt = np.mod(orientationness.argmax(0), N_ors_new).astype(int)\n",
    "    # k_opt = np.round(sp.ndimage.gaussian_filter(k_opt, σ)).astype(int)\n",
    "    is_sufficiently_oriented = orientationness.max(0) >= orientation_threshold * orientationness.max()\n",
    "    is_sufficiently_oriented = np.round(sp.ndimage.gaussian_filter(is_sufficiently_oriented * 1., σ)).astype(int)\n",
    "    \n",
    "    U_sharp = np.zeros_like(U_unstacked)\n",
    "    U_projection_sum = U_centred.sum(0)\n",
    "    U_projection_mean = U_centred.mean(0)\n",
    "    for k in range(N_ors_new):\n",
    "        U_sharp[k] = (\n",
    "            (1 - is_sufficiently_oriented) * U_projection_mean +\n",
    "            is_sufficiently_oriented * (k_opt == k) * U_projection_sum\n",
    "        )\n",
    "    return U_sharp + U_mean, k_opt, A2_U, is_sufficiently_oriented\n",
    "\n",
    "def compute_grad_perp(U, θs, σ):\n",
    "    A2_U = U.copy()\n",
    "    for i, slice in enumerate(U):\n",
    "        θ = θs[i]\n",
    "        cos = np.cos(θ)\n",
    "        sin = np.sin(θ)\n",
    "        slice_x = sp.ndimage.gaussian_filter(slice, σ, order=(1, 0))\n",
    "        slice_y = sp.ndimage.gaussian_filter(slice, σ, order=(0, 1))\n",
    "        A2_U[i] = -sin * slice_x + cos * slice_y\n",
    "    return A2_U\n",
    "\n",
    "def compute_laplace_perp(U, θs, σ):\n",
    "    A22_U = U.copy()\n",
    "    for i, slice in enumerate(U):\n",
    "        θ = θs[i]\n",
    "        cos = np.cos(θ)\n",
    "        sin = np.sin(θ)\n",
    "        slice_xx = sp.ndimage.gaussian_filter(slice, σ, order=(2, 0))\n",
    "        slice_xy = sp.ndimage.gaussian_filter(slice, σ, order=(1, 1))\n",
    "        slice_yy = sp.ndimage.gaussian_filter(slice, σ, order=(0, 2))\n",
    "        A22_U[i] = sin**2 * slice_xx - 2 * cos * sin * slice_xy + cos**2 * slice_yy\n",
    "    return A22_U"
   ]
  },
  {
   "cell_type": "code",
   "execution_count": null,
   "metadata": {},
   "outputs": [],
   "source": [
    "U_out, k_opt, A2_U, is_sufficiently_oriented = collapse_orientation_columns(U, σ=3, orientation_threshold=0.3)\n",
    "U_out = np.transpose(U_out, axes=(1, 2, 0)) # x, y, θ"
   ]
  },
  {
   "cell_type": "code",
   "execution_count": null,
   "metadata": {},
   "outputs": [],
   "source": [
    "fig, ax, cbar = dsfilter.visualisations.plot_image_array(U_out[..., dim_K//4], x_min, x_max, y_min, y_max)\n",
    "fig.colorbar(cbar, ax=ax);"
   ]
  },
  {
   "cell_type": "code",
   "execution_count": null,
   "metadata": {},
   "outputs": [],
   "source": [
    "fig, ax, cbar = dsfilter.visualisations.plot_image_array(is_sufficiently_oriented, x_min, x_max, y_min, y_max)\n",
    "fig.colorbar(cbar, ax=ax);"
   ]
  },
  {
   "cell_type": "markdown",
   "metadata": {},
   "source": [
    "### Old parameters"
   ]
  },
  {
   "cell_type": "code",
   "execution_count": null,
   "metadata": {},
   "outputs": [],
   "source": [
    "# T_short = 1.\n",
    "# T_medium = 10.\n",
    "# T_long = 50.\n",
    "# T_mega_long = 200.\n",
    "\n",
    "# ξ = 8 / dim_K # 0.1\n",
    "# # s_D = 100.\n",
    "# # s_S = 100.\n",
    "# # ζ_DS = 1.\n",
    "# # s_DS = 100.\n",
    "# # ζ_morph = 1.\n",
    "# # s_morph = 100.\n",
    "# # λ = 1. # Contrast parameter for switching between diffusion and shock.\n",
    "# # ε = 0.15 * λ # Regularisation parameter for signum.\n",
    "\n",
    "# # G_D_inv = np.array((1., 0., 0.))\n",
    "# # G_S_inv = np.array((1., 0., 0.))\n",
    "# # σ_s = 3 # Internal regularisation of structure tensor for switching between dilation and erosion.\n",
    "# # σ_o = 0.01 # Internal regularisation of structure tensor for switching between dilation and erosion.\n",
    "# # ρ_s = 1.6 * σ_s # External regularisation of structure tensor for switching between dilation and erosion.\n",
    "# # ρ_o = 1.6 * σ_o # External regularisation of structure tensor for switching between dilation and erosion.\n",
    "# # ν_s = 1.6 * σ_s # Internal regularisation of gradient for switching between diffusion and shock.\n",
    "# # ν_o = 1.6 * σ_o # Internal regularisation of gradient for switching between diffusion and shock.\n",
    "\n",
    "# G_D_inv = 0.2 * np.array((1., 1., 0.01))\n",
    "# G_S_inv = np.array((1., 1., 0.01))\n",
    "# σ_s = 1. # Internal regularisation of structure tensor for switching between dilation and erosion.\n",
    "# σ_o = 0.1 # Internal regularisation of structure tensor for switching between dilation and erosion.\n",
    "# ρ_s = 1. # 1.6 * σ_s # External regularisation of structure tensor for switching between dilation and erosion.\n",
    "# ρ_o = 0.1 # 1.6 * σ_o # External regularisation of structure tensor for switching between dilation and erosion.\n",
    "# ν_s = 1. # Internal regularisation of gradient for switching between diffusion and shock.\n",
    "# ν_o = 0.5 # Internal regularisation of gradient for switching between diffusion and shock.\n",
    "# λ = 0.25 # Contrast parameter for switching between diffusion and shock.\n",
    "# ε = 3. # Regularisation parameter for signum."
   ]
  },
  {
   "cell_type": "code",
   "execution_count": null,
   "metadata": {},
   "outputs": [],
   "source": [
    "# print(1 / (np.sqrt(s_D) * ξ), 1 / (np.sqrt(s_D) * ξ), 1 / (np.sqrt(s_D) * dθ))\n",
    "# print(1 / (np.sqrt(s_S) * ξ), 1 / (np.sqrt(s_S) * ξ), 1 / (np.sqrt(s_S) * dθ))\n",
    "# print(1 / (np.sqrt(s_DS) * ξ), 1 / (np.sqrt(s_DS) * ξ * ζ_DS), 1 / (np.sqrt(s_DS) * ζ_DS * dθ))\n",
    "# print(1 / (np.sqrt(s_morph) * ξ), 1 / (np.sqrt(s_morph) * ξ * ζ_morph), 1 / (np.sqrt(s_morph) * ζ_DS * dθ))"
   ]
  },
  {
   "cell_type": "code",
   "execution_count": null,
   "metadata": {},
   "outputs": [],
   "source": [
    "# G_D_inv = 1 / (s_D * np.array((ξ**2, ξ**2, 10)))\n",
    "# G_S_inv = 1 / (s_S * np.array((ξ**2, ξ**2, 10)))\n",
    "# ν_s = 1 / (np.sqrt(s_DS) * ξ)\n",
    "# ν_o = 1 / (np.sqrt(s_DS))\n",
    "# σ_s = 1 / (np.sqrt(s_morph) * ξ)\n",
    "# σ_o = 1 / (np.sqrt(s_morph))\n",
    "# ρ_s = 1 / (np.sqrt(s_morph) * ξ)\n",
    "# ρ_o = 1 / (np.sqrt(s_morph))\n",
    "# print(G_D_inv, G_S_inv, ν_s, ν_o, σ_s, σ_o, ρ_s, ρ_o)"
   ]
  },
  {
   "cell_type": "code",
   "execution_count": null,
   "metadata": {},
   "outputs": [],
   "source": [
    "# u_filtered_short, switch_DS_short, switch_morph_short = dsfilter.DS_filter_LI(U, Mask, θs, T_short, ξ, s_D, s_S, ζ_DS, s_DS, ζ_morph, s_morph, λ, ε=ε, dxy=dxy)\n",
    "# u_filtered_medium, switch_DS_medium, switch_morph_medium = dsfilter.DS_filter_LI(U, Mask, θs, T_medium, ξ, s_D, s_S, ζ_DS, s_DS, ζ_morph, s_morph, λ, ε=ε, dxy=dxy)\n",
    "# u_filtered_long, switch_DS_long, switch_morph_long = dsfilter.DS_filter_LI(U, Mask, θs, T_long, ξ, s_D, s_S, ζ_DS, s_DS, ζ_morph, s_morph, λ, ε=ε, dxy=dxy)\n",
    "# u_filtered_mega_long, switch_DS_mega_long, switch_morph_mega_long = dsfilter.DS_filter_LI(U, Mask, θs, T_mega_long, ξ, s_D, s_S, ζ_DS, s_DS, ζ_morph, s_morph, λ, ε=ε, dxy=dxy)"
   ]
  }
 ],
 "metadata": {
  "kernelspec": {
   "display_name": "Python 3",
   "language": "python",
   "name": "python3"
  },
  "language_info": {
   "codemirror_mode": {
    "name": "ipython",
    "version": 3
   },
   "file_extension": ".py",
   "mimetype": "text/x-python",
   "name": "python",
   "nbconvert_exporter": "python",
   "pygments_lexer": "ipython3",
   "version": "3.10.13"
  }
 },
 "nbformat": 4,
 "nbformat_minor": 2
}
