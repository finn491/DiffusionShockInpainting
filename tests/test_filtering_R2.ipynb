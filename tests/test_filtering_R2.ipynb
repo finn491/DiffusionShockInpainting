{
 "cells": [
  {
   "cell_type": "markdown",
   "metadata": {},
   "source": [
    "# Diffusion-Shock Inpainting in $SE(2)$\n",
    "Diffusion-shock inpainting (DS) is a technique to fill in missing structures in images, developed in [\"Diffusion-Shock Inpainting\" (2023) by K. Schaefer and J. Weickert](https://link.springer.com/chapter/10.1007/978-3-031-31975-4_45) and the follow-up paper [\"Regularised Diffusion-Shock Inpainting\" (2023) by K. Schaefer and J. Weickert](https://arxiv.org/abs/2309.08761). In this notebook, we will look at DS applied to images lifted into $SE(2)$.\n",
    "\n",
    "In $\\mathbb{R}^2$, we can describe DS in a PDE-based formulation as\n",
    "$$\n",
    "\\partial_t u = g(\\lvert \\nabla (G_{\\nu} * u) \\rvert^2) \\underbrace{\\Delta u}_{\\textrm{Diffusion}} - \\left(1 - g(\\lvert \\nabla (G_{\\nu} * u) \\rvert^2)\\right) \\underbrace{\\mathrm{sgn}(\\partial_{\\vec{w} \\vec{w}} (G_{\\sigma} * u)) \\lvert \\nabla u \\rvert}_{\\textrm{Shock}},\n",
    "$$\n",
    "in which $g: [0, \\infty) \\to (0, 1]$ is a decreasing function with $g(0) = 1$, $G_{\\alpha}$ is a Gaussian with standard deviation $\\alpha$, and $\\vec{w}$ is the dominant eigenvector of the structure tensor. It is clear then that $g$ switches between applying diffusion and shock: if the gradient of the image is small, we mostly apply diffusion, but if the gradient is large, we mostly apply shock. This makes sense, since a large gradient implies that there is a feature there, which we would like to sharpen up. \n",
    "\n",
    "The signum in the shock term switches between erosion and dilation. If the second derivative with respect to the dominant eigenvector of the structure tensor is positive, then we perform erosion (defined by the PDE $\\partial_t u = -\\lvert \\nabla u \\rvert$); otherwise we perform dilation (defined by the PDE $\\partial_t u = -\\lvert \\nabla u \\rvert$). In regularised DS, the signum is replaced with a soft signum, so that the selection of erosion vs dilation is less sensitive to noise.\n",
    "\n",
    "The signum of the second derivative of the dominant eigenvector of the structure tensor is not unlike the convexity criterion we know from studying vesselness; perhaps we could replace it?\n",
    "\n",
    "What is the correct way to extend DS to $SE(2)$? It would make sense to keep the gradients and Laplacian. For the selection of erosion vs dilation we could again look at the vesselness convexity criterion. For switching between diffusion and shock, we could maybe use some sort of line/edge detector."
   ]
  },
  {
   "cell_type": "markdown",
   "metadata": {},
   "source": [
    "## Setup"
   ]
  },
  {
   "cell_type": "code",
   "execution_count": null,
   "metadata": {},
   "outputs": [],
   "source": [
    "import taichi as ti\n",
    "ti.init(arch=ti.gpu, debug=False, device_memory_GB=3.5) #, kernel_profiler=True) # Use less than 4 so that we don't mix RAM and VRAM (?)\n",
    "import numpy as np\n",
    "from PIL import Image\n",
    "from datetime import datetime\n",
    "# from PIL import Image\n",
    "import matplotlib.pyplot as plt\n",
    "# %matplotlib widget\n",
    "import dsfilter"
   ]
  },
  {
   "cell_type": "code",
   "execution_count": null,
   "metadata": {},
   "outputs": [],
   "source": [
    "date = datetime.today().strftime(\"%y-%m-%d\")\n",
    "log_folder = \"..\\\\..\\\\Experiments For Paper\\\\R2 Enhancement\"\n",
    "savefigures = False"
   ]
  },
  {
   "cell_type": "code",
   "execution_count": null,
   "metadata": {},
   "outputs": [],
   "source": [
    "date"
   ]
  },
  {
   "cell_type": "code",
   "execution_count": null,
   "metadata": {},
   "outputs": [],
   "source": [
    "def PSNR(denoised, ground_truth, max=255.):\n",
    "    return 10 * np.log10(max**2 / np.mean((denoised - ground_truth)**2))\n",
    "\n",
    "def L2(denoised, ground_truth):\n",
    "    return np.sqrt(((denoised - ground_truth)**2).mean())\n",
    "\n",
    "def L1(denoised, ground_truth):\n",
    "    return np.abs(denoised - ground_truth).mean()"
   ]
  },
  {
   "cell_type": "code",
   "execution_count": null,
   "metadata": {},
   "outputs": [],
   "source": [
    "# \"spiral\" \"monalisa\"\n",
    "test_case = \"spiral\""
   ]
  },
  {
   "cell_type": "code",
   "execution_count": null,
   "metadata": {},
   "outputs": [],
   "source": [
    "match test_case:\n",
    "    case \"spiral\":\n",
    "        ground_truth = dsfilter.SE2.utils.align_to_real_axis_scalar_field(np.array(Image.open(\"data/spiral.tif\").convert(\"L\")).astype(np.float64))\n",
    "        noisy = dsfilter.SE2.utils.align_to_real_axis_scalar_field(np.array(Image.open(\"data/noisyspiral.tif\")).astype(np.float64) / 255)\n",
    "        # Diffusion-Shock Parameters.\n",
    "        t_DS = 1.\n",
    "        G_D_inv = 1.8 * np.array((1., 0.1, 0.0))\n",
    "        G_S_inv = np.array((1., 1., 0.0))\n",
    "        # Internal regularisation for switching between dilation and erosion.\n",
    "        σ_1, σ_2, σ_3 = np.array((2.5, 2.5, 0.6))\n",
    "        # External regularisation for switching between dilation and erosion.\n",
    "        ρ_1, ρ_2, ρ_3 = np.array((1., 1., 0.6))\n",
    "        # Internal and external regularisation of gradient for switching between diffusion and shock.\n",
    "        ν_1, ν_2, ν_3 = np.array((2.5, 2.5, 0.6))\n",
    "        λ = 0.1 # Contrast parameter for switching between diffusion and shock.\n",
    "        ε = 0.5 # Regularisation parameter for signum.\n",
    "        # Total Variation Flow Parameters.\n",
    "        t_TV_dimensional = 1. # Looks good, but PSNR, L2, and L1 are better with shorter time 😢\n",
    "        # Plotting.\n",
    "        im_width = 9\n",
    "        im_height = 5\n",
    "    case \"monalisa\":\n",
    "        ground_truth = dsfilter.SE2.utils.align_to_real_axis_scalar_field(np.array(Image.open(\"data/monalisa.tif\").convert(\"L\")).astype(np.float64))\n",
    "        noisy = dsfilter.SE2.utils.align_to_real_axis_scalar_field(np.array(Image.open(\"data/noisymonalisa.tif\")).astype(np.float64) / 255)\n",
    "        # Diffusion-Shock Parameters.\n",
    "        t_DS = 1.\n",
    "        G_D_inv = 1.8 * np.array((1., 0.2, 0.005))\n",
    "        G_S_inv = np.array((1., 1., 0.0))\n",
    "        # Internal regularisation for switching between dilation and erosion.\n",
    "        σ_1, σ_2, σ_3 = np.array((2.5, 2.5, 0.6))\n",
    "        # External regularisation for switching between dilation and erosion.\n",
    "        ρ_1, ρ_2, ρ_3 = np.array((1., 1., 0.6))\n",
    "        # Internal and external regularisation of gradient for switching between diffusion and shock.\n",
    "        ν_1, ν_2, ν_3 = np.array((2.5, 2.5, 0.6))\n",
    "        λ = 0.1 # Contrast parameter for switching between diffusion and shock.\n",
    "        ε = 0.5 # Regularisation parameter for signum.\n",
    "        # Total Variation Flow Parameters.\n",
    "        t_TV_dimensional = 1. # Looks good, but PSNR, L2, and L1 are better with shorter time 😢\n",
    "        # Plotting.\n",
    "        im_width = 5\n",
    "        im_height = 4\n",
    "\n",
    "# Arrays are aligned such that increasing the first index moves along the\n",
    "# positive x-axis, and increasing the second index moves along the positive\n",
    "# y-axis.\n",
    "\n",
    "clip = (ground_truth.min(), ground_truth.max())\n",
    "\n",
    "dim_I, dim_J = ground_truth.shape\n",
    "dim_K = 16\n",
    "Is, Js, Ks = np.indices((dim_I, dim_J, dim_K))\n",
    "x_min, x_max = 0., dim_I - 1.\n",
    "y_min, y_max = 0., dim_J - 1.\n",
    "θ_min, θ_max = 0., 2 * np.pi\n",
    "dxy = (x_max - x_min) / (dim_I - 1)\n",
    "dθ = (θ_max - θ_min) / dim_K\n",
    "xs, ys, θs = dsfilter.SE2.utils.coordinate_array_to_real(Is, Js, Ks, x_min, y_min, θ_min, dxy, dθ)"
   ]
  },
  {
   "cell_type": "code",
   "execution_count": null,
   "metadata": {},
   "outputs": [],
   "source": [
    "PSNR_noisy = PSNR(noisy, ground_truth, max=255.)\n",
    "L2_noisy = L2(noisy, ground_truth)\n",
    "L1_noisy = L1(noisy, ground_truth)\n",
    "PSNR_noisy, L2_noisy, L1_noisy"
   ]
  },
  {
   "cell_type": "code",
   "execution_count": null,
   "metadata": {},
   "outputs": [],
   "source": [
    "fig, ax = plt.subplots(1, 2, figsize=(2 * im_width, im_height))\n",
    "_, _, cbar = dsfilter.visualisations.plot_image_array(ground_truth, 0., dim_I - 1., 0., dim_J - 1., fig=fig, ax=ax[0])\n",
    "fig.colorbar(cbar, ax=ax[0])\n",
    "_, _, cbar = dsfilter.visualisations.plot_image_array(noisy, 0., dim_I - 1., 0., dim_J - 1., fig=fig, ax=ax[1])\n",
    "fig.colorbar(cbar, ax=ax[1]);"
   ]
  },
  {
   "cell_type": "markdown",
   "metadata": {},
   "source": [
    "### Orientation Score"
   ]
  },
  {
   "cell_type": "code",
   "execution_count": null,
   "metadata": {},
   "outputs": [],
   "source": [
    "cws = dsfilter.orientationscore.cakewavelet_stack(min(dim_I, dim_J), dim_K, Gaussian_σ=dim_I / 16).real\n",
    "U = dsfilter.orientationscore.wavelet_transform(noisy, cws).real\n",
    "U = np.transpose(U, axes=(1, 2, 0)) # x, y, θ\n",
    "mask = np.zeros_like(U) # Filtering, so there is no region outside of the mask"
   ]
  },
  {
   "cell_type": "code",
   "execution_count": null,
   "metadata": {},
   "outputs": [],
   "source": [
    "K = 0\n",
    "fig, ax = plt.subplots(1, 2, figsize=(2 * im_width, im_height))\n",
    "_, _, cbar = dsfilter.visualisations.plot_image_array(cws[K], x_min, x_max, y_min, y_max, fig=fig, ax=ax[0])\n",
    "fig.colorbar(cbar, ax=ax[0])\n",
    "_, _, cbar = dsfilter.visualisations.plot_image_array(U[..., K], x_min, x_max, y_min, y_max, fig=fig, ax=ax[1])\n",
    "fig.colorbar(cbar, ax=ax[1]);"
   ]
  },
  {
   "cell_type": "code",
   "execution_count": null,
   "metadata": {},
   "outputs": [],
   "source": [
    "fig, ax = plt.subplots(1, 2, figsize=(2 * im_width, im_height))\n",
    "_, _, cbar = dsfilter.visualisations.plot_image_array(noisy, x_min, x_max, y_min, y_max, fig=fig, ax=ax[0])\n",
    "fig.colorbar(cbar, ax=ax[0])\n",
    "_, _, cbar = dsfilter.visualisations.plot_image_array(U.sum(-1), x_min, x_max, y_min, y_max, clip=clip, fig=fig, ax=ax[1])\n",
    "fig.colorbar(cbar, ax=ax[1]);"
   ]
  },
  {
   "cell_type": "markdown",
   "metadata": {},
   "source": [
    "### Compute Gauge Frames"
   ]
  },
  {
   "cell_type": "code",
   "execution_count": null,
   "metadata": {},
   "outputs": [],
   "source": [
    "ξ = 0.2"
   ]
  },
  {
   "cell_type": "code",
   "execution_count": null,
   "metadata": {},
   "outputs": [],
   "source": [
    "B1_LI, B2_LI, B3_LI, _ = dsfilter.SE2.gauge.frame.compute_gauge_frame_and_orientation_confidence(U, dxy, dθ, θs, ξ, ρ_s=1.5)\n",
    "B1_static = dsfilter.SE2.utils.vectorfield_static_to_LI_np(B1_LI, θs)\n",
    "B2_static = dsfilter.SE2.utils.vectorfield_static_to_LI_np(B2_LI, θs)\n",
    "B3_static = dsfilter.SE2.utils.vectorfield_static_to_LI_np(B3_LI, θs)\n",
    "gauge_frame_static = (B1_static, B2_static, B3_static)"
   ]
  },
  {
   "cell_type": "markdown",
   "metadata": {},
   "source": [
    "## Perform Filtering"
   ]
  },
  {
   "cell_type": "markdown",
   "metadata": {},
   "source": [
    "### TV Flow Filtering"
   ]
  },
  {
   "cell_type": "code",
   "execution_count": null,
   "metadata": {},
   "outputs": [],
   "source": [
    "λ_TV = 50. / 255.\n",
    "t_TV = t_TV_dimensional * ξ"
   ]
  },
  {
   "cell_type": "markdown",
   "metadata": {},
   "source": [
    "#### Left Invariant"
   ]
  },
  {
   "cell_type": "code",
   "execution_count": null,
   "metadata": {},
   "outputs": [],
   "source": [
    "U_TV_LI = dsfilter.TV_inpainting_LI(U * λ_TV, mask, np.array((ξ**-2, ξ**-2, 1.)), dxy, dθ, θs, 1., 0.5, t_TV) / λ_TV"
   ]
  },
  {
   "cell_type": "code",
   "execution_count": null,
   "metadata": {},
   "outputs": [],
   "source": [
    "fig, ax = plt.subplots(1, 2, figsize=(2 * im_width, im_height))\n",
    "_, _, cbar = dsfilter.visualisations.plot_image_array(noisy, x_min, x_max, y_min, y_max, fig=fig, ax=ax[0])\n",
    "fig.colorbar(cbar, ax=ax[0])\n",
    "_, _, cbar = dsfilter.visualisations.plot_image_array(U_TV_LI.sum(-1), x_min, x_max, y_min, y_max, clip=clip, fig=fig, ax=ax[1])\n",
    "fig.colorbar(cbar, ax=ax[1]);"
   ]
  },
  {
   "cell_type": "code",
   "execution_count": null,
   "metadata": {},
   "outputs": [],
   "source": [
    "fig, ax = plt.subplots(2, 2, figsize=(2 * im_width, 2 * im_height))\n",
    "_, _, cbar = dsfilter.visualisations.plot_image_array(ground_truth, x_min, x_max, y_min, y_max, fig=fig, ax=ax[0, 0])\n",
    "ax[0, 0].set_title(\"Ground Truth\")\n",
    "fig.colorbar(cbar, ax=ax[0, 0])\n",
    "_, _, cbar = dsfilter.visualisations.plot_image_array(noisy, x_min, x_max, y_min, y_max, fig=fig, ax=ax[0, 1])\n",
    "ax[0, 1].set_title(\"Noisy\")\n",
    "fig.colorbar(cbar, ax=ax[0, 1])\n",
    "_, _, cbar = dsfilter.visualisations.plot_image_array(U_TV_LI.sum(-1), x_min, x_max, y_min, y_max, clip=clip, fig=fig, ax=ax[1, 0])\n",
    "ax[1, 0].set_title(\"Denoised\")\n",
    "fig.colorbar(cbar, ax=ax[1, 0])\n",
    "_, _, cbar = dsfilter.visualisations.plot_image_array(ground_truth - np.clip(U_TV_LI.sum(-1), *clip), x_min, x_max, y_min, y_max, fig=fig, ax=ax[1, 1])\n",
    "fig.colorbar(cbar, ax=ax[1, 1])\n",
    "ax[1, 1].set_title(\"Error\");"
   ]
  },
  {
   "cell_type": "code",
   "execution_count": null,
   "metadata": {},
   "outputs": [],
   "source": [
    "if savefigures:\n",
    "    fig, ax = plt.subplots(1, 1, frameon=False)\n",
    "    ax.imshow(dsfilter.SE2.utils.align_to_standard_array_axis_scalar_field(np.clip(U_TV_LI.sum(-1), *clip)), cmap=\"gray\")\n",
    "    ax.axis(\"off\")\n",
    "    fig.savefig(\"monalisa_TV.png\", dpi=600, bbox_inches=\"tight\", pad_inches=0.0)"
   ]
  },
  {
   "cell_type": "code",
   "execution_count": null,
   "metadata": {},
   "outputs": [],
   "source": [
    "margin = 0.1\n",
    "fig, ax, cbar = dsfilter.visualisations.plot_image_array((np.abs((ground_truth - np.clip(U_TV_LI.sum(-1), *clip))) > margin).astype(np.float64), x_min, x_max, y_min, y_max, figsize=(im_width, im_height))\n",
    "fig.colorbar(cbar, ax=ax)\n",
    "ax.set_title(f\"Error > {margin}\");"
   ]
  },
  {
   "cell_type": "code",
   "execution_count": null,
   "metadata": {},
   "outputs": [],
   "source": [
    "fig, ax, cbar = dsfilter.visualisations.plot_image_array(np.abs((U - U_TV_LI)).max(-1), x_min, x_max, y_min, y_max, figsize=(im_width, im_height))\n",
    "fig.colorbar(cbar, ax=ax)\n",
    "ax.set_title(f\"Error > {margin}\");"
   ]
  },
  {
   "cell_type": "code",
   "execution_count": null,
   "metadata": {},
   "outputs": [],
   "source": [
    "PSNR_TV_LI = PSNR(np.clip(U_TV_LI.sum(-1), *clip), ground_truth)\n",
    "L2_TV_LI = L2(np.clip(U_TV_LI.sum(-1), *clip), ground_truth)\n",
    "L1_TV_LI = L1(np.clip(U_TV_LI.sum(-1), *clip), ground_truth)\n",
    "PSNR_TV_LI, L2_TV_LI, L1_TV_LI"
   ]
  },
  {
   "cell_type": "markdown",
   "metadata": {},
   "source": [
    "#### Left Invariant"
   ]
  },
  {
   "cell_type": "code",
   "execution_count": null,
   "metadata": {},
   "outputs": [],
   "source": [
    "U_TV_gauge = dsfilter.TV_inpainting_gauge(U * λ_TV, mask, np.array((1., 1., 1.)), ξ, dxy, dθ, gauge_frame_static, 1., 0.5, t_TV) / λ_TV"
   ]
  },
  {
   "cell_type": "code",
   "execution_count": null,
   "metadata": {},
   "outputs": [],
   "source": [
    "fig, ax = plt.subplots(1, 2, figsize=(2 * im_width, im_height))\n",
    "_, _, cbar = dsfilter.visualisations.plot_image_array(noisy, x_min, x_max, y_min, y_max, fig=fig, ax=ax[0])\n",
    "fig.colorbar(cbar, ax=ax[0])\n",
    "_, _, cbar = dsfilter.visualisations.plot_image_array(U_TV_gauge.sum(-1), x_min, x_max, y_min, y_max, clip=clip, fig=fig, ax=ax[1])\n",
    "fig.colorbar(cbar, ax=ax[1]);"
   ]
  },
  {
   "cell_type": "code",
   "execution_count": null,
   "metadata": {},
   "outputs": [],
   "source": [
    "fig, ax = plt.subplots(2, 2, figsize=(2 * im_width, 2 * im_height))\n",
    "_, _, cbar = dsfilter.visualisations.plot_image_array(ground_truth, x_min, x_max, y_min, y_max, fig=fig, ax=ax[0, 0])\n",
    "ax[0, 0].set_title(\"Ground Truth\")\n",
    "fig.colorbar(cbar, ax=ax[0, 0])\n",
    "_, _, cbar = dsfilter.visualisations.plot_image_array(noisy, x_min, x_max, y_min, y_max, fig=fig, ax=ax[0, 1])\n",
    "ax[0, 1].set_title(\"Noisy\")\n",
    "fig.colorbar(cbar, ax=ax[0, 1])\n",
    "_, _, cbar = dsfilter.visualisations.plot_image_array(U_TV_gauge.sum(-1), x_min, x_max, y_min, y_max, clip=clip, fig=fig, ax=ax[1, 0])\n",
    "ax[1, 0].set_title(\"Denoised\")\n",
    "fig.colorbar(cbar, ax=ax[1, 0])\n",
    "_, _, cbar = dsfilter.visualisations.plot_image_array(ground_truth - np.clip(U_TV_LI.sum(-1), *clip), x_min, x_max, y_min, y_max, fig=fig, ax=ax[1, 1])\n",
    "fig.colorbar(cbar, ax=ax[1, 1])\n",
    "ax[1, 1].set_title(\"Error\");"
   ]
  },
  {
   "cell_type": "code",
   "execution_count": null,
   "metadata": {},
   "outputs": [],
   "source": [
    "if savefigures:\n",
    "    fig, ax = plt.subplots(1, 1, frameon=False)\n",
    "    ax.imshow(dsfilter.SE2.utils.align_to_standard_array_axis_scalar_field(np.clip(U_TV_gauge.sum(-1), *clip)), cmap=\"gray\")\n",
    "    ax.axis(\"off\")\n",
    "    fig.savefig(\"monalisa_TV_gauge.png\", dpi=600, bbox_inches=\"tight\", pad_inches=0.0)"
   ]
  },
  {
   "cell_type": "code",
   "execution_count": null,
   "metadata": {},
   "outputs": [],
   "source": [
    "margin = 0.1\n",
    "fig, ax, cbar = dsfilter.visualisations.plot_image_array((np.abs((ground_truth - np.clip(U_TV_gauge.sum(-1), *clip))) > margin).astype(np.float64), x_min, x_max, y_min, y_max, figsize=(im_width, im_height))\n",
    "fig.colorbar(cbar, ax=ax)\n",
    "ax.set_title(f\"Error > {margin}\");"
   ]
  },
  {
   "cell_type": "code",
   "execution_count": null,
   "metadata": {},
   "outputs": [],
   "source": [
    "fig, ax, cbar = dsfilter.visualisations.plot_image_array(np.abs((U - U_TV_gauge)).max(-1), x_min, x_max, y_min, y_max, figsize=(im_width, im_height))\n",
    "fig.colorbar(cbar, ax=ax)\n",
    "ax.set_title(f\"Error > {margin}\");"
   ]
  },
  {
   "cell_type": "code",
   "execution_count": null,
   "metadata": {},
   "outputs": [],
   "source": [
    "PSNR_TV_gauge = PSNR(np.clip(U_TV_gauge.sum(-1), *clip), ground_truth)\n",
    "L2_TV_gauge = L2(np.clip(U_TV_gauge.sum(-1), *clip), ground_truth)\n",
    "L1_TV_gauge = L1(np.clip(U_TV_gauge.sum(-1), *clip), ground_truth)\n",
    "PSNR_TV_gauge, L2_TV_gauge, L1_TV_gauge"
   ]
  },
  {
   "cell_type": "markdown",
   "metadata": {},
   "source": [
    "### DS Filtering"
   ]
  },
  {
   "cell_type": "code",
   "execution_count": null,
   "metadata": {},
   "outputs": [],
   "source": [
    "T_short = 0.2\n",
    "T_medium = 2.\n",
    "T_long = 5.\n",
    "T_mega_long = 20."
   ]
  },
  {
   "cell_type": "code",
   "execution_count": null,
   "metadata": {},
   "outputs": [],
   "source": [
    "ε = 0.05\n",
    "λ = 1."
   ]
  },
  {
   "cell_type": "code",
   "execution_count": null,
   "metadata": {},
   "outputs": [],
   "source": [
    "# Internal regularisation for switching between dilation and erosion.\n",
    "σ_1, σ_2, σ_3 = np.array((1., 1., 0.6))\n",
    "# External regularisation for switching between dilation and erosion.\n",
    "ρ_1, ρ_2, ρ_3 = 0.2 * np.array((1., 1., 0.6))\n",
    "# Internal and external regularisation of gradient for switching between diffusion and shock.\n",
    "ν_1, ν_2, ν_3 = np.array((1., 1., 0.6))"
   ]
  },
  {
   "cell_type": "code",
   "execution_count": null,
   "metadata": {},
   "outputs": [],
   "source": [
    "u_filtered_short, switch_DS_short, switch_morph_short = dsfilter.DS_filter_spatial(U, mask, θs, T_short, G_D_inv, G_S_inv, σ_1, σ_3, ρ_1, ρ_3, ν_1, ν_3, λ, ε=ε, dxy=dxy)\n",
    "u_filtered_medium, switch_DS_medium, switch_morph_medium = dsfilter.DS_filter_spatial(U, mask, θs, T_medium, G_D_inv, G_S_inv, σ_1, σ_3, ρ_1, ρ_3, ν_1, ν_3, λ, ε=ε, dxy=dxy)\n",
    "u_filtered_long, switch_DS_long, switch_morph_long = dsfilter.DS_filter_spatial(U, mask, θs, T_long, G_D_inv, G_S_inv, σ_1, σ_3, ρ_1, ρ_3, ν_1, ν_3, λ, ε=ε, dxy=dxy)\n",
    "U_DS, switch_DS_mega_long, switch_morph_mega_long = dsfilter.DS_filter_spatial(U, mask, θs, T_mega_long, G_D_inv, G_S_inv, σ_1, σ_3, ρ_1, ρ_3, ν_1, ν_3, λ, ε=ε, dxy=dxy)"
   ]
  },
  {
   "cell_type": "code",
   "execution_count": null,
   "metadata": {},
   "outputs": [],
   "source": [
    "fig, ax, cbar = dsfilter.visualisations.plot_image_array((u_filtered_long - U_DS)[..., 0], x_min, x_max, y_min, y_max, cmap=\"gray\", figsize=(im_width, im_height))\n",
    "fig.colorbar(cbar, ax=ax);"
   ]
  },
  {
   "cell_type": "code",
   "execution_count": null,
   "metadata": {},
   "outputs": [],
   "source": [
    "K = 0\n",
    "fig, ax = plt.subplots(2, 2, figsize=(2 * im_width, 2 * im_height))\n",
    "_, _, cbar = dsfilter.visualisations.plot_image_array(u_filtered_short[..., K], x_min, x_max, y_min, y_max, cmap=\"gray\", fig=fig, ax=ax[0, 0])\n",
    "ax[0, 0].set_title(f\"$T = {round(T_short, ndigits=2)}$\")\n",
    "fig.colorbar(cbar, ax=ax[0, 0])\n",
    "_, _, cbar = dsfilter.visualisations.plot_image_array(u_filtered_medium[..., K], x_min, x_max, y_min, y_max, cmap=\"gray\", fig=fig, ax=ax[0, 1])\n",
    "ax[0, 1].set_title(f\"$T = {T_medium}$\")\n",
    "fig.colorbar(cbar, ax=ax[0, 1])\n",
    "_, _, cbar = dsfilter.visualisations.plot_image_array(u_filtered_long[..., K], x_min, x_max, y_min, y_max, cmap=\"gray\", fig=fig, ax=ax[1, 0])\n",
    "ax[1, 0].set_title(f\"$T = {T_long}$\")\n",
    "fig.colorbar(cbar, ax=ax[1, 0])\n",
    "_, _, cbar = dsfilter.visualisations.plot_image_array(U_DS[..., K], x_min, x_max, y_min, y_max, cmap=\"gray\", fig=fig, ax=ax[1, 1])\n",
    "ax[1, 1].set_title(f\"$T = {T_mega_long}$\")\n",
    "fig.colorbar(cbar, ax=ax[1, 1]);"
   ]
  },
  {
   "cell_type": "code",
   "execution_count": null,
   "metadata": {},
   "outputs": [],
   "source": [
    "K = 1\n",
    "fig, ax = plt.subplots(1, 5, figsize=(30, 5))\n",
    "_, _, cbar = dsfilter.visualisations.plot_image_array(U_DS[..., K], x_min, x_max, y_min, y_max, cmap=\"gray\", fig=fig, ax=ax[0])\n",
    "ax[0].set_title(f\"$\\\\theta = {θs[0, 0, K]:.2f}$\")\n",
    "fig.colorbar(cbar, ax=ax[0])\n",
    "_, _, cbar = dsfilter.visualisations.plot_image_array(U_DS[..., K + 2], x_min, x_max, y_min, y_max, cmap=\"gray\", fig=fig, ax=ax[1])\n",
    "ax[1].set_title(f\"$\\\\theta = {θs[0, 0, K + 2]:.2f}$\")\n",
    "fig.colorbar(cbar, ax=ax[1])\n",
    "_, _, cbar = dsfilter.visualisations.plot_image_array(U_DS[..., K + 4], x_min, x_max, y_min, y_max, cmap=\"gray\", fig=fig, ax=ax[2])\n",
    "ax[2].set_title(f\"$\\\\theta = {θs[0, 0, K + 4]:.2f}$\")\n",
    "fig.colorbar(cbar, ax=ax[2])\n",
    "_, _, cbar = dsfilter.visualisations.plot_image_array(U_DS[..., K + 8], x_min, x_max, y_min, y_max, cmap=\"gray\", fig=fig, ax=ax[3])\n",
    "ax[3].set_title(f\"$\\\\theta = {θs[0, 0, K + 8]:.2f}$\")\n",
    "fig.colorbar(cbar, ax=ax[3])\n",
    "_, _, cbar = dsfilter.visualisations.plot_image_array(U_DS.sum(-1), x_min, x_max, y_min, y_max, clip=clip, cmap=\"gray\", fig=fig, ax=ax[4])\n",
    "ax[4].set_title(\"$\\int_\\\\theta U(\\\\theta) d\\\\theta$\")\n",
    "fig.colorbar(cbar, ax=ax[4]);"
   ]
  },
  {
   "cell_type": "code",
   "execution_count": null,
   "metadata": {},
   "outputs": [],
   "source": [
    "u_change = U_DS - u_filtered_short\n",
    "K = 0\n",
    "fig, ax = plt.subplots(2, 2, figsize=figsize_twobytwo)\n",
    "_, _, cbar = dsfilter.visualisations.plot_image_array(u_change[..., K], x_min, x_max, y_min, y_max, cmap=\"gray\", fig=fig, ax=ax[0, 0])\n",
    "ax[0, 0].set_title(f\"$\\\\theta = {θs[0, 0, K]:.2f}$\")\n",
    "fig.colorbar(cbar, ax=ax[0, 0])\n",
    "_, _, cbar = dsfilter.visualisations.plot_image_array(u_change[..., K + 1], x_min, x_max, y_min, y_max, cmap=\"gray\", fig=fig, ax=ax[0, 1])\n",
    "ax[0, 1].set_title(f\"$\\\\theta = {θs[0, 0, K + 1]:.2f}$\")\n",
    "fig.colorbar(cbar, ax=ax[0, 1])\n",
    "_, _, cbar = dsfilter.visualisations.plot_image_array(u_change[..., K + 2], x_min, x_max, y_min, y_max, cmap=\"gray\", fig=fig, ax=ax[1, 0])\n",
    "ax[1, 0].set_title(f\"$\\\\theta = {θs[0, 0, K + 2]:.2f}$\")\n",
    "fig.colorbar(cbar, ax=ax[1, 0])\n",
    "_, _, cbar = dsfilter.visualisations.plot_image_array(u_change[..., K + 4], x_min, x_max, y_min, y_max, cmap=\"gray\", fig=fig, ax=ax[1, 1])\n",
    "ax[1, 1].set_title(f\"$\\\\theta = {θs[0, 0, K + 4]:.2f}$\")\n",
    "fig.colorbar(cbar, ax=ax[1, 1]);"
   ]
  },
  {
   "cell_type": "code",
   "execution_count": null,
   "metadata": {},
   "outputs": [],
   "source": [
    "fig, ax = plt.subplots(1, 2, figsize=(12, 5))\n",
    "_, _, cbar = dsfilter.visualisations.plot_image_array(u_filtered_short.sum(-1), x_min, x_max, y_min, y_max, cmap=\"gray\", clip=clip, fig=fig, ax=ax[0])\n",
    "ax[0].set_title(f\"$T = {round(T_short, ndigits=2)}$\")\n",
    "fig.colorbar(cbar, ax=ax[0])\n",
    "_, _, cbar = dsfilter.visualisations.plot_image_array(U_DS.sum(-1), x_min, x_max, y_min, y_max, cmap=\"gray\", clip=clip, fig=fig, ax=ax[1])\n",
    "ax[1].set_title(f\"$T = {T_mega_long}$\")\n",
    "fig.colorbar(cbar, ax=ax[1]);"
   ]
  },
  {
   "cell_type": "code",
   "execution_count": null,
   "metadata": {},
   "outputs": [],
   "source": [
    "fig, ax = plt.subplots(2, 2, figsize=figsize_twobytwo)\n",
    "_, _, cbar = dsfilter.visualisations.plot_image_array(u_filtered_short.sum(-1), x_min, x_max, y_min, y_max, cmap=\"gray\", clip=clip, fig=fig, ax=ax[0, 0])\n",
    "ax[0, 0].set_title(f\"$T = {round(T_short, ndigits=2)}$\")\n",
    "fig.colorbar(cbar, ax=ax[0, 0])\n",
    "_, _, cbar = dsfilter.visualisations.plot_image_array(u_filtered_medium.sum(-1), x_min, x_max, y_min, y_max, cmap=\"gray\", clip=clip, fig=fig, ax=ax[0, 1])\n",
    "ax[0, 1].set_title(f\"$T = {T_medium}$\")\n",
    "fig.colorbar(cbar, ax=ax[0, 1])\n",
    "_, _, cbar = dsfilter.visualisations.plot_image_array(u_filtered_long.sum(-1), x_min, x_max, y_min, y_max, cmap=\"gray\", clip=clip, fig=fig, ax=ax[1, 0])\n",
    "ax[1, 0].set_title(f\"$T = {T_long}$\")\n",
    "fig.colorbar(cbar, ax=ax[1, 0])\n",
    "_, _, cbar = dsfilter.visualisations.plot_image_array(U_DS.sum(-1), x_min, x_max, y_min, y_max, cmap=\"gray\", clip=clip, fig=fig, ax=ax[1, 1])\n",
    "ax[1, 1].set_title(f\"$T = {T_mega_long}$\")\n",
    "fig.colorbar(cbar, ax=ax[1, 1]);"
   ]
  },
  {
   "cell_type": "code",
   "execution_count": null,
   "metadata": {},
   "outputs": [],
   "source": [
    "fig, ax = plt.subplots(2, 2, figsize=figsize_twobytwo)\n",
    "_, _, cbar = dsfilter.visualisations.plot_image_array(u_filtered_short.sum(-1), x_min, x_max, y_min, y_max, cmap=\"gray\", fig=fig, ax=ax[0, 0])\n",
    "ax[0, 0].set_title(f\"$T = {round(T_short, ndigits=2)}$\")\n",
    "fig.colorbar(cbar, ax=ax[0, 0])\n",
    "_, _, cbar = dsfilter.visualisations.plot_image_array(u_filtered_medium.sum(-1), x_min, x_max, y_min, y_max, cmap=\"gray\", fig=fig, ax=ax[0, 1])\n",
    "ax[0, 1].set_title(f\"$T = {T_medium}$\")\n",
    "fig.colorbar(cbar, ax=ax[0, 1])\n",
    "_, _, cbar = dsfilter.visualisations.plot_image_array(u_filtered_long.sum(-1), x_min, x_max, y_min, y_max, cmap=\"gray\", fig=fig, ax=ax[1, 0])\n",
    "ax[1, 0].set_title(f\"$T = {T_long}$\")\n",
    "fig.colorbar(cbar, ax=ax[1, 0])\n",
    "_, _, cbar = dsfilter.visualisations.plot_image_array(U_DS.sum(-1), x_min, x_max, y_min, y_max, cmap=\"gray\", fig=fig, ax=ax[1, 1])\n",
    "ax[1, 1].set_title(f\"$T = {T_mega_long}$\")\n",
    "fig.colorbar(cbar, ax=ax[1, 1]);"
   ]
  },
  {
   "cell_type": "code",
   "execution_count": null,
   "metadata": {},
   "outputs": [],
   "source": [
    "fig, ax = plt.subplots(2, 2, figsize=figsize_twobytwo)\n",
    "_, _, cbar = dsfilter.visualisations.plot_image_array(np.clip(u_filtered_short.sum(-1), *clip) - ground_truth, x_min, x_max, y_min, y_max, cmap=\"gray\", fig=fig, ax=ax[0, 0])\n",
    "ax[0, 0].set_title(f\"$T = {round(T_short, ndigits=2)}$\")\n",
    "fig.colorbar(cbar, ax=ax[0, 0])\n",
    "_, _, cbar = dsfilter.visualisations.plot_image_array(np.clip(u_filtered_medium.sum(-1), *clip) - ground_truth, x_min, x_max, y_min, y_max, cmap=\"gray\", fig=fig, ax=ax[0, 1])\n",
    "ax[0, 1].set_title(f\"$T = {T_medium}$\")\n",
    "fig.colorbar(cbar, ax=ax[0, 1])\n",
    "_, _, cbar = dsfilter.visualisations.plot_image_array(np.clip(u_filtered_long.sum(-1), *clip) - ground_truth, x_min, x_max, y_min, y_max, cmap=\"gray\", fig=fig, ax=ax[1, 0])\n",
    "ax[1, 0].set_title(f\"$T = {T_long}$\")\n",
    "fig.colorbar(cbar, ax=ax[1, 0])\n",
    "_, _, cbar = dsfilter.visualisations.plot_image_array(np.clip(U_DS.sum(-1), *clip) - ground_truth, x_min, x_max, y_min, y_max, cmap=\"gray\", fig=fig, ax=ax[1, 1])\n",
    "ax[1, 1].set_title(f\"$T = {T_mega_long}$\")\n",
    "fig.colorbar(cbar, ax=ax[1, 1]);"
   ]
  },
  {
   "cell_type": "code",
   "execution_count": null,
   "metadata": {},
   "outputs": [],
   "source": [
    "K = 0\n",
    "fig, ax = plt.subplots(2, 2, figsize=figsize_twobytwo)\n",
    "_, _, cbar = dsfilter.visualisations.plot_image_array(switch_morph_short[..., K], x_min, x_max, y_min, y_max, cmap=\"gray\", fig=fig, ax=ax[0, 0])\n",
    "ax[0, 0].set_title(f\"$T = {round(T_short, ndigits=2)}$\")\n",
    "fig.colorbar(cbar, ax=ax[0, 0])\n",
    "_, _, cbar = dsfilter.visualisations.plot_image_array(switch_morph_medium[..., K], x_min, x_max, y_min, y_max, cmap=\"gray\", fig=fig, ax=ax[0, 1])\n",
    "ax[0, 1].set_title(f\"$T = {T_medium}$\")\n",
    "fig.colorbar(cbar, ax=ax[0, 1])\n",
    "_, _, cbar = dsfilter.visualisations.plot_image_array(switch_morph_long[..., K], x_min, x_max, y_min, y_max, cmap=\"gray\", fig=fig, ax=ax[1, 0])\n",
    "ax[1, 0].set_title(f\"$T = {T_long}$\")\n",
    "fig.colorbar(cbar, ax=ax[1, 0])\n",
    "_, _, cbar = dsfilter.visualisations.plot_image_array(switch_morph_mega_long[..., K], x_min, x_max, y_min, y_max, cmap=\"gray\", fig=fig, ax=ax[1, 1])\n",
    "ax[1, 1].set_title(f\"$T = {T_mega_long}$\")\n",
    "fig.colorbar(cbar, ax=ax[1, 1]);"
   ]
  },
  {
   "cell_type": "code",
   "execution_count": null,
   "metadata": {},
   "outputs": [],
   "source": [
    "fig, ax = plt.subplots(2, 2, figsize=figsize_twobytwo)\n",
    "_, _, cbar = dsfilter.visualisations.plot_image_array(switch_morph_short.min(-1), x_min, x_max, y_min, y_max, cmap=\"gray\", fig=fig, ax=ax[0, 0])\n",
    "ax[0, 0].set_title(f\"$T = {round(T_short, ndigits=2)}$\")\n",
    "fig.colorbar(cbar, ax=ax[0, 0])\n",
    "_, _, cbar = dsfilter.visualisations.plot_image_array(switch_morph_medium.min(-1), x_min, x_max, y_min, y_max, cmap=\"gray\", fig=fig, ax=ax[0, 1])\n",
    "ax[0, 1].set_title(f\"$T = {T_medium}$\")\n",
    "fig.colorbar(cbar, ax=ax[0, 1])\n",
    "_, _, cbar = dsfilter.visualisations.plot_image_array(switch_morph_long.min(-1), x_min, x_max, y_min, y_max, cmap=\"gray\", fig=fig, ax=ax[1, 0])\n",
    "ax[1, 0].set_title(f\"$T = {T_long}$\")\n",
    "fig.colorbar(cbar, ax=ax[1, 0])\n",
    "_, _, cbar = dsfilter.visualisations.plot_image_array(switch_morph_mega_long.min(-1), x_min, x_max, y_min, y_max, cmap=\"gray\", fig=fig, ax=ax[1, 1])\n",
    "ax[1, 1].set_title(f\"$T = {T_mega_long}$\")\n",
    "fig.colorbar(cbar, ax=ax[1, 1]);"
   ]
  },
  {
   "cell_type": "code",
   "execution_count": null,
   "metadata": {},
   "outputs": [],
   "source": [
    "K = 0\n",
    "fig, ax = plt.subplots(2, 2, figsize=figsize_twobytwo)\n",
    "_, _, cbar = dsfilter.visualisations.plot_image_array(switch_DS_short[..., K], x_min, x_max, y_min, y_max, cmap=\"gray\", fig=fig, ax=ax[0, 0])\n",
    "ax[0, 0].set_title(f\"$\\\\theta = {θs[0, 0, K]:.2f}$\")\n",
    "fig.colorbar(cbar, ax=ax[0, 0])\n",
    "_, _, cbar = dsfilter.visualisations.plot_image_array(switch_DS_short[..., K + 1], x_min, x_max, y_min, y_max, cmap=\"gray\", fig=fig, ax=ax[0, 1])\n",
    "ax[0, 1].set_title(f\"$\\\\theta = {θs[0, 0, K + 1]:.2f}$\")\n",
    "fig.colorbar(cbar, ax=ax[0, 1])\n",
    "_, _, cbar = dsfilter.visualisations.plot_image_array(switch_DS_short[..., K + 2], x_min, x_max, y_min, y_max, cmap=\"gray\", fig=fig, ax=ax[1, 0])\n",
    "ax[1, 0].set_title(f\"$\\\\theta = {θs[0, 0, K + 2]:.2f}$\")\n",
    "fig.colorbar(cbar, ax=ax[1, 0])\n",
    "_, _, cbar = dsfilter.visualisations.plot_image_array(switch_DS_short[..., K + 3], x_min, x_max, y_min, y_max, cmap=\"gray\", fig=fig, ax=ax[1, 1])\n",
    "ax[1, 1].set_title(f\"$\\\\theta = {θs[0, 0, K + 4]:.2f}$\")\n",
    "fig.colorbar(cbar, ax=ax[1, 1]);"
   ]
  },
  {
   "cell_type": "code",
   "execution_count": null,
   "metadata": {},
   "outputs": [],
   "source": [
    "K = 0\n",
    "fig, ax = plt.subplots(2, 2, figsize=figsize_twobytwo)\n",
    "_, _, cbar = dsfilter.visualisations.plot_image_array(switch_DS_short[..., K], x_min, x_max, y_min, y_max, cmap=\"gray\", fig=fig, ax=ax[0, 0])\n",
    "ax[0, 0].set_title(f\"$T = {round(T_short, ndigits=2)}$\")\n",
    "fig.colorbar(cbar, ax=ax[0, 0])\n",
    "_, _, cbar = dsfilter.visualisations.plot_image_array(switch_DS_medium[..., K], x_min, x_max, y_min, y_max, cmap=\"gray\", fig=fig, ax=ax[0, 1])\n",
    "ax[0, 1].set_title(f\"$T = {T_medium}$\")\n",
    "fig.colorbar(cbar, ax=ax[0, 1])\n",
    "_, _, cbar = dsfilter.visualisations.plot_image_array(switch_DS_long[..., K], x_min, x_max, y_min, y_max, cmap=\"gray\", fig=fig, ax=ax[1, 0])\n",
    "ax[1, 0].set_title(f\"$T = {T_long}$\")\n",
    "fig.colorbar(cbar, ax=ax[1, 0])\n",
    "_, _, cbar = dsfilter.visualisations.plot_image_array(switch_DS_mega_long[..., K], x_min, x_max, y_min, y_max, cmap=\"gray\", fig=fig, ax=ax[1, 1])\n",
    "ax[1, 1].set_title(f\"$T = {T_mega_long}$\")\n",
    "fig.colorbar(cbar, ax=ax[1, 1]);"
   ]
  },
  {
   "cell_type": "code",
   "execution_count": null,
   "metadata": {},
   "outputs": [],
   "source": [
    "fig, ax = plt.subplots(2, 2, figsize=figsize_twobytwo)\n",
    "_, _, cbar = dsfilter.visualisations.plot_image_array(switch_DS_short.min(-1), x_min, x_max, y_min, y_max, cmap=\"gray\", fig=fig, ax=ax[0, 0])\n",
    "ax[0, 0].set_title(f\"$T = {round(T_short, ndigits=2)}$\")\n",
    "fig.colorbar(cbar, ax=ax[0, 0])\n",
    "_, _, cbar = dsfilter.visualisations.plot_image_array(switch_DS_medium.min(-1), x_min, x_max, y_min, y_max, cmap=\"gray\", fig=fig, ax=ax[0, 1])\n",
    "ax[0, 1].set_title(f\"$T = {T_medium}$\")\n",
    "fig.colorbar(cbar, ax=ax[0, 1])\n",
    "_, _, cbar = dsfilter.visualisations.plot_image_array(switch_DS_long.min(-1), x_min, x_max, y_min, y_max, cmap=\"gray\", fig=fig, ax=ax[1, 0])\n",
    "ax[1, 0].set_title(f\"$T = {T_long}$\")\n",
    "fig.colorbar(cbar, ax=ax[1, 0])\n",
    "_, _, cbar = dsfilter.visualisations.plot_image_array(switch_DS_mega_long.min(-1), x_min, x_max, y_min, y_max, cmap=\"gray\", fig=fig, ax=ax[1, 1])\n",
    "ax[1, 1].set_title(f\"$T = {T_mega_long}$\")\n",
    "fig.colorbar(cbar, ax=ax[1, 1]);"
   ]
  },
  {
   "cell_type": "code",
   "execution_count": null,
   "metadata": {},
   "outputs": [],
   "source": [
    "fig, ax = plt.subplots(1, 4, figsize=(24, 5))\n",
    "_, _, cbar = dsfilter.visualisations.plot_image_array(ground_truth, x_min, x_max, y_min, y_max, fig=fig, ax=ax[0])\n",
    "ax[0].set_title(\"Ground Truth\")\n",
    "fig.colorbar(cbar, ax=ax[0])\n",
    "_, _, cbar = dsfilter.visualisations.plot_image_array(noisy, x_min, x_max, y_min, y_max, fig=fig, ax=ax[1])\n",
    "ax[1].set_title(\"Noisy\")\n",
    "fig.colorbar(cbar, ax=ax[1])\n",
    "_, _, cbar = dsfilter.visualisations.plot_image_array(U_DS.sum(-1), x_min, x_max, y_min, y_max, clip=clip, fig=fig, ax=ax[2])\n",
    "ax[2].set_title(\"Denoised\")\n",
    "fig.colorbar(cbar, ax=ax[2])\n",
    "_, _, cbar = dsfilter.visualisations.plot_image_array(ground_truth - np.clip(U_DS.sum(-1), *clip), x_min, x_max, y_min, y_max, fig=fig, ax=ax[3])\n",
    "fig.colorbar(cbar, ax=ax[3])\n",
    "ax[3].set_title(\"Error\");"
   ]
  },
  {
   "cell_type": "code",
   "execution_count": null,
   "metadata": {},
   "outputs": [],
   "source": [
    "margin = 0.1\n",
    "fig, ax, cbar = dsfilter.visualisations.plot_image_array((np.abs((ground_truth - np.clip(U_DS.sum(-1), *clip))) > margin).astype(np.float64), x_min, x_max, y_min, y_max)\n",
    "fig.colorbar(cbar, ax=ax)\n",
    "ax.set_title(f\"Error > {margin}\");"
   ]
  },
  {
   "cell_type": "code",
   "execution_count": null,
   "metadata": {},
   "outputs": [],
   "source": [
    "PSNR_DS = PSNR(np.clip(U_DS.sum(-1), *clip), ground_truth)\n",
    "PSNR_DS"
   ]
  },
  {
   "cell_type": "markdown",
   "metadata": {},
   "source": [
    "#### $\\mathbb{R}^2$"
   ]
  },
  {
   "cell_type": "code",
   "execution_count": null,
   "metadata": {},
   "outputs": [],
   "source": [
    "# T_short = 0.4\n",
    "# T_medium = 2.\n",
    "# T_long = 5.\n",
    "# T_mega_long = 200.\n",
    "\n",
    "T_short = 0.4\n",
    "T_medium = 1.\n",
    "T_long = 2.\n",
    "T_mega_long = 5."
   ]
  },
  {
   "cell_type": "code",
   "execution_count": null,
   "metadata": {},
   "outputs": [],
   "source": [
    "λ = 1.\n",
    "ε = 0.15 * λ"
   ]
  },
  {
   "cell_type": "code",
   "execution_count": null,
   "metadata": {},
   "outputs": [],
   "source": [
    "# Internal regularisation for switching between dilation and erosion.\n",
    "σ = 1.\n",
    "# External regularisation for switching between dilation and erosion.\n",
    "ρ = 1.\n",
    "# Internal and external regularisation of gradient for switching between diffusion and shock.\n",
    "ν = 1."
   ]
  },
  {
   "cell_type": "code",
   "execution_count": null,
   "metadata": {},
   "outputs": [],
   "source": [
    "u_filtered_short, switch_DS_short, switch_morph_short = dsfilter.DS_filter_R2(noisy, mask[..., 0], T_short, σ, ρ, ν, λ, ε=ε, dxy=dxy)\n",
    "u_filtered_medium, switch_DS_medium, switch_morph_medium = dsfilter.DS_filter_R2(noisy, mask[..., 0], T_medium, σ, ρ, ν, λ, ε=ε, dxy=dxy)\n",
    "u_filtered_long, switch_DS_long, switch_morph_long = dsfilter.DS_filter_R2(noisy, mask[..., 0], T_long, σ, ρ, ν, λ, ε=ε, dxy=dxy)\n",
    "u_filtered_mega_long, switch_DS_mega_long, switch_morph_mega_long = dsfilter.DS_filter_R2(noisy, mask[..., 0], T_mega_long, σ, ρ, ν, λ, ε=ε, dxy=dxy)"
   ]
  },
  {
   "cell_type": "code",
   "execution_count": null,
   "metadata": {},
   "outputs": [],
   "source": [
    "fig, ax, cbar = dsfilter.visualisations.plot_image_array((u_filtered_long - u_filtered_mega_long), x_min, x_max, y_min, y_max, cmap=\"gray\")\n",
    "fig.colorbar(cbar, ax=ax);"
   ]
  },
  {
   "cell_type": "code",
   "execution_count": null,
   "metadata": {},
   "outputs": [],
   "source": [
    "fig, ax = plt.subplots(2, 2, figsize=figsize_twobytwo)\n",
    "_, _, cbar = dsfilter.visualisations.plot_image_array(u_filtered_short, x_min, x_max, y_min, y_max, cmap=\"gray\", fig=fig, ax=ax[0, 0])\n",
    "ax[0, 0].set_title(f\"$T = {round(T_short, ndigits=2)}$\")\n",
    "fig.colorbar(cbar, ax=ax[0, 0])\n",
    "_, _, cbar = dsfilter.visualisations.plot_image_array(u_filtered_medium, x_min, x_max, y_min, y_max, cmap=\"gray\", fig=fig, ax=ax[0, 1])\n",
    "ax[0, 1].set_title(f\"$T = {T_medium}$\")\n",
    "fig.colorbar(cbar, ax=ax[0, 1])\n",
    "_, _, cbar = dsfilter.visualisations.plot_image_array(u_filtered_long, x_min, x_max, y_min, y_max, cmap=\"gray\", fig=fig, ax=ax[1, 0])\n",
    "ax[1, 0].set_title(f\"$T = {T_long}$\")\n",
    "fig.colorbar(cbar, ax=ax[1, 0])\n",
    "_, _, cbar = dsfilter.visualisations.plot_image_array(u_filtered_mega_long, x_min, x_max, y_min, y_max, cmap=\"gray\", fig=fig, ax=ax[1, 1])\n",
    "ax[1, 1].set_title(f\"$T = {T_mega_long}$\")\n",
    "fig.colorbar(cbar, ax=ax[1, 1]);"
   ]
  },
  {
   "cell_type": "code",
   "execution_count": null,
   "metadata": {},
   "outputs": [],
   "source": [
    "fig, ax = plt.subplots(2, 2, figsize=figsize_twobytwo)\n",
    "_, _, cbar = dsfilter.visualisations.plot_image_array(u_filtered_short, x_min, x_max, y_min, y_max, cmap=\"gray\", fig=fig, ax=ax[0, 0])\n",
    "ax[0, 0].set_title(f\"$T = {round(T_short, ndigits=2)}$\")\n",
    "fig.colorbar(cbar, ax=ax[0, 0])\n",
    "_, _, cbar = dsfilter.visualisations.plot_image_array(u_filtered_medium, x_min, x_max, y_min, y_max, cmap=\"gray\", fig=fig, ax=ax[0, 1])\n",
    "ax[0, 1].set_title(f\"$T = {T_medium}$\")\n",
    "fig.colorbar(cbar, ax=ax[0, 1])\n",
    "_, _, cbar = dsfilter.visualisations.plot_image_array(u_filtered_long, x_min, x_max, y_min, y_max, cmap=\"gray\", fig=fig, ax=ax[1, 0])\n",
    "ax[1, 0].set_title(f\"$T = {T_long}$\")\n",
    "fig.colorbar(cbar, ax=ax[1, 0])\n",
    "_, _, cbar = dsfilter.visualisations.plot_image_array(u_filtered_mega_long, x_min, x_max, y_min, y_max, cmap=\"gray\", fig=fig, ax=ax[1, 1])\n",
    "ax[1, 1].set_title(f\"$T = {T_mega_long}$\")\n",
    "fig.colorbar(cbar, ax=ax[1, 1]);"
   ]
  },
  {
   "cell_type": "code",
   "execution_count": null,
   "metadata": {},
   "outputs": [],
   "source": [
    "fig, ax = plt.subplots(2, 2, figsize=figsize_twobytwo)\n",
    "_, _, cbar = dsfilter.visualisations.plot_image_array(np.clip(u_filtered_short, *clip) - ground_truth, x_min, x_max, y_min, y_max, cmap=\"gray\", fig=fig, ax=ax[0, 0])\n",
    "ax[0, 0].set_title(f\"$T = {round(T_short, ndigits=2)}$\")\n",
    "fig.colorbar(cbar, ax=ax[0, 0])\n",
    "_, _, cbar = dsfilter.visualisations.plot_image_array(np.clip(u_filtered_medium, *clip) - ground_truth, x_min, x_max, y_min, y_max, cmap=\"gray\", fig=fig, ax=ax[0, 1])\n",
    "ax[0, 1].set_title(f\"$T = {T_medium}$\")\n",
    "fig.colorbar(cbar, ax=ax[0, 1])\n",
    "_, _, cbar = dsfilter.visualisations.plot_image_array(np.clip(u_filtered_long, *clip) - ground_truth, x_min, x_max, y_min, y_max, cmap=\"gray\", fig=fig, ax=ax[1, 0])\n",
    "ax[1, 0].set_title(f\"$T = {T_long}$\")\n",
    "fig.colorbar(cbar, ax=ax[1, 0])\n",
    "_, _, cbar = dsfilter.visualisations.plot_image_array(np.clip(u_filtered_mega_long, *clip) - ground_truth, x_min, x_max, y_min, y_max, cmap=\"gray\", fig=fig, ax=ax[1, 1])\n",
    "ax[1, 1].set_title(f\"$T = {T_mega_long}$\")\n",
    "fig.colorbar(cbar, ax=ax[1, 1]);"
   ]
  },
  {
   "cell_type": "code",
   "execution_count": null,
   "metadata": {},
   "outputs": [],
   "source": [
    "fig, ax = plt.subplots(2, 2, figsize=figsize_twobytwo)\n",
    "_, _, cbar = dsfilter.visualisations.plot_image_array(switch_morph_short, x_min, x_max, y_min, y_max, cmap=\"gray\", fig=fig, ax=ax[0, 0])\n",
    "ax[0, 0].set_title(f\"$T = {round(T_short, ndigits=2)}$\")\n",
    "fig.colorbar(cbar, ax=ax[0, 0])\n",
    "_, _, cbar = dsfilter.visualisations.plot_image_array(switch_morph_medium, x_min, x_max, y_min, y_max, cmap=\"gray\", fig=fig, ax=ax[0, 1])\n",
    "ax[0, 1].set_title(f\"$T = {T_medium}$\")\n",
    "fig.colorbar(cbar, ax=ax[0, 1])\n",
    "_, _, cbar = dsfilter.visualisations.plot_image_array(switch_morph_long, x_min, x_max, y_min, y_max, cmap=\"gray\", fig=fig, ax=ax[1, 0])\n",
    "ax[1, 0].set_title(f\"$T = {T_long}$\")\n",
    "fig.colorbar(cbar, ax=ax[1, 0])\n",
    "_, _, cbar = dsfilter.visualisations.plot_image_array(switch_morph_mega_long, x_min, x_max, y_min, y_max, cmap=\"gray\", fig=fig, ax=ax[1, 1])\n",
    "ax[1, 1].set_title(f\"$T = {T_mega_long}$\")\n",
    "fig.colorbar(cbar, ax=ax[1, 1]);"
   ]
  },
  {
   "cell_type": "code",
   "execution_count": null,
   "metadata": {},
   "outputs": [],
   "source": [
    "fig, ax = plt.subplots(2, 2, figsize=figsize_twobytwo)\n",
    "_, _, cbar = dsfilter.visualisations.plot_image_array(switch_DS_short, x_min, x_max, y_min, y_max, cmap=\"gray\", fig=fig, ax=ax[0, 0])\n",
    "ax[0, 0].set_title(f\"$T = {round(T_short, ndigits=2)}$\")\n",
    "fig.colorbar(cbar, ax=ax[0, 0])\n",
    "_, _, cbar = dsfilter.visualisations.plot_image_array(switch_DS_medium, x_min, x_max, y_min, y_max, cmap=\"gray\", fig=fig, ax=ax[0, 1])\n",
    "ax[0, 1].set_title(f\"$T = {T_medium}$\")\n",
    "fig.colorbar(cbar, ax=ax[0, 1])\n",
    "_, _, cbar = dsfilter.visualisations.plot_image_array(switch_DS_long, x_min, x_max, y_min, y_max, cmap=\"gray\", fig=fig, ax=ax[1, 0])\n",
    "ax[1, 0].set_title(f\"$T = {T_long}$\")\n",
    "fig.colorbar(cbar, ax=ax[1, 0])\n",
    "_, _, cbar = dsfilter.visualisations.plot_image_array(switch_DS_mega_long, x_min, x_max, y_min, y_max, cmap=\"gray\", fig=fig, ax=ax[1, 1])\n",
    "ax[1, 1].set_title(f\"$T = {T_mega_long}$\")\n",
    "fig.colorbar(cbar, ax=ax[1, 1]);"
   ]
  },
  {
   "cell_type": "code",
   "execution_count": null,
   "metadata": {},
   "outputs": [],
   "source": [
    "fig, ax = plt.subplots(1, 4, figsize=(24, 5))\n",
    "_, _, cbar = dsfilter.visualisations.plot_image_array(ground_truth, x_min, x_max, y_min, y_max, fig=fig, ax=ax[0])\n",
    "ax[0].set_title(\"Ground Truth\")\n",
    "fig.colorbar(cbar, ax=ax[0])\n",
    "_, _, cbar = dsfilter.visualisations.plot_image_array(noisy, x_min, x_max, y_min, y_max, fig=fig, ax=ax[1])\n",
    "ax[1].set_title(\"Noisy\")\n",
    "fig.colorbar(cbar, ax=ax[1])\n",
    "_, _, cbar = dsfilter.visualisations.plot_image_array(u_filtered_mega_long, x_min, x_max, y_min, y_max, clip=clip, fig=fig, ax=ax[2])\n",
    "ax[2].set_title(\"Denoised\")\n",
    "fig.colorbar(cbar, ax=ax[2])\n",
    "_, _, cbar = dsfilter.visualisations.plot_image_array(ground_truth - np.clip(u_filtered_mega_long, *clip), x_min, x_max, y_min, y_max, fig=fig, ax=ax[3])\n",
    "fig.colorbar(cbar, ax=ax[3])\n",
    "ax[3].set_title(\"Error\");"
   ]
  },
  {
   "cell_type": "code",
   "execution_count": null,
   "metadata": {},
   "outputs": [],
   "source": [
    "margin = 0.1\n",
    "fig, ax, cbar = dsfilter.visualisations.plot_image_array((np.abs((ground_truth - np.clip(u_filtered_mega_long, *clip))) > margin).astype(np.float64), x_min, x_max, y_min, y_max)\n",
    "fig.colorbar(cbar, ax=ax)\n",
    "ax.set_title(f\"Error > {margin}\");"
   ]
  },
  {
   "cell_type": "code",
   "execution_count": null,
   "metadata": {},
   "outputs": [],
   "source": [
    "PSNR_DS = PSNR(np.clip(U_DS.sum(-1), *clip), ground_truth)\n",
    "PSNR_DS"
   ]
  },
  {
   "cell_type": "markdown",
   "metadata": {},
   "source": [
    "### Comparison"
   ]
  },
  {
   "cell_type": "code",
   "execution_count": null,
   "metadata": {},
   "outputs": [],
   "source": [
    "fig, ax = plt.subplots(2, 2, figsize=figsize_twobytwo)\n",
    "_, _, cbar = dsfilter.visualisations.plot_image_array(ground_truth, x_min, x_max, y_min, y_max, fig=fig, ax=ax[0, 0])\n",
    "ax[0, 0].set_title(\"Ground Truth\")\n",
    "fig.colorbar(cbar, ax=ax[0, 0])\n",
    "_, _, cbar = dsfilter.visualisations.plot_image_array(noisy, x_min, x_max, y_min, y_max, fig=fig, ax=ax[0, 1])\n",
    "ax[0, 1].set_title(\"Noisy\")\n",
    "fig.colorbar(cbar, ax=ax[0, 1])\n",
    "_, _, cbar = dsfilter.visualisations.plot_image_array(U_TV.sum(-1), x_min, x_max, y_min, y_max, clip=clip, fig=fig, ax=ax[1, 0])\n",
    "ax[1, 0].set_title(\"TV Flow\")\n",
    "fig.colorbar(cbar, ax=ax[1, 0])\n",
    "_, _, cbar = dsfilter.visualisations.plot_image_array(U_DS.sum(-1), x_min, x_max, y_min, y_max, clip=clip, fig=fig, ax=ax[1, 1])\n",
    "fig.colorbar(cbar, ax=ax[1, 1])\n",
    "ax[1, 1].set_title(\"DS Filtering\");"
   ]
  },
  {
   "cell_type": "code",
   "execution_count": null,
   "metadata": {},
   "outputs": [],
   "source": [
    "fig, ax = plt.subplots(2, 2, figsize=figsize_twobytwo)\n",
    "_, _, cbar = dsfilter.visualisations.plot_image_array(ground_truth, x_min, x_max, y_min, y_max, fig=fig, ax=ax[0, 0])\n",
    "ax[0, 0].set_title(\"Ground Truth\")\n",
    "fig.colorbar(cbar, ax=ax[0, 0])\n",
    "_, _, cbar = dsfilter.visualisations.plot_image_array(noisy, x_min, x_max, y_min, y_max, fig=fig, ax=ax[0, 1])\n",
    "ax[0, 1].set_title(\"Noisy\")\n",
    "fig.colorbar(cbar, ax=ax[0, 1])\n",
    "_, _, cbar = dsfilter.visualisations.plot_image_array(U_TV.sum(-1), x_min, x_max, y_min, y_max, clip=clip, fig=fig, ax=ax[1, 0])\n",
    "ax[1, 0].set_title(\"TV Flow\")\n",
    "fig.colorbar(cbar, ax=ax[1, 0])\n",
    "_, _, cbar = dsfilter.visualisations.plot_image_array(U_DS.sum(-1), x_min, x_max, y_min, y_max, clip=clip, fig=fig, ax=ax[1, 1])\n",
    "fig.colorbar(cbar, ax=ax[1, 1])\n",
    "ax[1, 1].set_title(\"DS Filtering\");"
   ]
  },
  {
   "cell_type": "code",
   "execution_count": null,
   "metadata": {},
   "outputs": [],
   "source": [
    "fig, ax = plt.subplots(2, 2, figsize=figsize_twobytwo)\n",
    "_, _, cbar = dsfilter.visualisations.plot_image_array(ground_truth, x_min, x_max, y_min, y_max, fig=fig, ax=ax[0, 0])\n",
    "ax[0, 0].set_title(\"Ground Truth\")\n",
    "fig.colorbar(cbar, ax=ax[0, 0])\n",
    "_, _, cbar = dsfilter.visualisations.plot_image_array(noisy, x_min, x_max, y_min, y_max, fig=fig, ax=ax[0, 1])\n",
    "ax[0, 1].set_title(\"Noisy\")\n",
    "fig.colorbar(cbar, ax=ax[0, 1])\n",
    "_, _, cbar = dsfilter.visualisations.plot_image_array(u_filtered_mega_long, x_min, x_max, y_min, y_max, clip=clip, fig=fig, ax=ax[1, 0])\n",
    "ax[1, 0].set_title(\"$\\mathbb{R}^2$ DS Filtering\")\n",
    "fig.colorbar(cbar, ax=ax[1, 0])\n",
    "_, _, cbar = dsfilter.visualisations.plot_image_array(U_DS.sum(-1), x_min, x_max, y_min, y_max, clip=clip, fig=fig, ax=ax[1, 1])\n",
    "fig.colorbar(cbar, ax=ax[1, 1])\n",
    "ax[1, 1].set_title(\"$\\mathrm{SE}(2)$ DS Filtering\");"
   ]
  },
  {
   "cell_type": "code",
   "execution_count": null,
   "metadata": {},
   "outputs": [],
   "source": [
    "fig, ax = plt.subplots(2, 2, figsize=figsize_twobytwo)\n",
    "_, _, cbar = dsfilter.visualisations.plot_image_array(ground_truth, x_min, x_max, y_min, y_max, fig=fig, ax=ax[0, 0], rasterized=True)\n",
    "ax[0, 0].set_title(\"Ground Truth\")\n",
    "fig.colorbar(cbar, ax=ax[0, 0])\n",
    "_, _, cbar = dsfilter.visualisations.plot_image_array(noisy, x_min, x_max, y_min, y_max, fig=fig, ax=ax[0, 1], rasterized=True)\n",
    "ax[0, 1].set_title(\"Noisy\")\n",
    "fig.colorbar(cbar, ax=ax[0, 1])\n",
    "_, _, cbar = dsfilter.visualisations.plot_image_array(U_TV.sum(-1), x_min, x_max, y_min, y_max, clip=clip, fig=fig, ax=ax[1, 0], rasterized=True)\n",
    "ax[1, 0].set_title(\"TV Flow\")\n",
    "fig.colorbar(cbar, ax=ax[1, 0])\n",
    "_, _, cbar = dsfilter.visualisations.plot_image_array(U_DS.sum(-1), x_min, x_max, y_min, y_max, clip=clip, fig=fig, ax=ax[1, 1], rasterized=True)\n",
    "fig.colorbar(cbar, ax=ax[1, 1])\n",
    "ax[1, 1].set_title(\"DS Filtering\");"
   ]
  },
  {
   "cell_type": "code",
   "execution_count": null,
   "metadata": {},
   "outputs": [],
   "source": [
    "if savefigures:\n",
    "    fig.savefig(f\"{log_folder}\\\\{test_case}_{date}.svg\", bbox_inches=\"tight\", dpi=100)"
   ]
  },
  {
   "cell_type": "code",
   "execution_count": null,
   "metadata": {},
   "outputs": [],
   "source": [
    "np.clip(U_DS.sum(-1), *clip).max()"
   ]
  },
  {
   "cell_type": "code",
   "execution_count": null,
   "metadata": {},
   "outputs": [],
   "source": [
    "# import h5py"
   ]
  },
  {
   "cell_type": "code",
   "execution_count": null,
   "metadata": {},
   "outputs": [],
   "source": [
    "# filename = f\".\\\\data\\\\u_short.hdf5\"\n",
    "# with h5py.File(filename, \"w\") as distance_file:\n",
    "#     distance_file.create_dataset(\"Dataset1\", data=u_filtered_short)\n",
    "# filename = f\".\\\\data\\\\u_medium.hdf5\"\n",
    "# with h5py.File(filename, \"w\") as distance_file:\n",
    "#     distance_file.create_dataset(\"Dataset1\", data=u_filtered_medium)\n",
    "# filename = f\".\\\\data\\\\u_long.hdf5\"\n",
    "# with h5py.File(filename, \"w\") as distance_file:\n",
    "#     distance_file.create_dataset(\"Dataset1\", data=u_filtered_long)\n",
    "# filename = f\".\\\\data\\\\u_mega_long.hdf5\"\n",
    "# with h5py.File(filename, \"w\") as distance_file:\n",
    "#     distance_file.create_dataset(\"Dataset1\", data=u_filtered_mega_long)"
   ]
  },
  {
   "cell_type": "code",
   "execution_count": null,
   "metadata": {},
   "outputs": [],
   "source": [
    "# filename = f\".\\\\data\\\\u_init.hdf5\"\n",
    "# with h5py.File(filename, \"w\") as distance_file:\n",
    "#     distance_file.create_dataset(\"Dataset1\", data=U)"
   ]
  }
 ],
 "metadata": {
  "kernelspec": {
   "display_name": "Python 3",
   "language": "python",
   "name": "python3"
  },
  "language_info": {
   "codemirror_mode": {
    "name": "ipython",
    "version": 3
   },
   "file_extension": ".py",
   "mimetype": "text/x-python",
   "name": "python",
   "nbconvert_exporter": "python",
   "pygments_lexer": "ipython3",
   "version": "undefined.undefined.undefined"
  }
 },
 "nbformat": 4,
 "nbformat_minor": 2
}
