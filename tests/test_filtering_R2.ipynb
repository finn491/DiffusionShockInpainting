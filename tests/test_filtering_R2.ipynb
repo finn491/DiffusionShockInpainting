{
 "cells": [
  {
   "cell_type": "markdown",
   "metadata": {},
   "source": [
    "# Diffusion-Shock Inpainting in $SE(2)$\n",
    "Diffusion-shock inpainting (DS) is a technique to fill in missing structures in images, developed in [\"Diffusion-Shock Inpainting\" (2023) by K. Schaefer and J. Weickert](https://link.springer.com/chapter/10.1007/978-3-031-31975-4_45) and the follow-up paper [\"Regularised Diffusion-Shock Inpainting\" (2023) by K. Schaefer and J. Weickert](https://arxiv.org/abs/2309.08761). In this notebook, we will look at DS applied to images lifted into $SE(2)$.\n",
    "\n",
    "In $\\mathbb{R}^2$, we can describe DS in a PDE-based formulation as\n",
    "$$\n",
    "\\partial_t u = g(\\lvert \\nabla (G_{\\nu} * u) \\rvert^2) \\underbrace{\\Delta u}_{\\textrm{Diffusion}} - \\left(1 - g(\\lvert \\nabla (G_{\\nu} * u) \\rvert^2)\\right) \\underbrace{\\mathrm{sgn}(\\partial_{\\vec{w} \\vec{w}} (G_{\\sigma} * u)) \\lvert \\nabla u \\rvert}_{\\textrm{Shock}},\n",
    "$$\n",
    "in which $g: [0, \\infty) \\to (0, 1]$ is a decreasing function with $g(0) = 1$, $G_{\\alpha}$ is a Gaussian with standard deviation $\\alpha$, and $\\vec{w}$ is the dominant eigenvector of the structure tensor. It is clear then that $g$ switches between applying diffusion and shock: if the gradient of the image is small, we mostly apply diffusion, but if the gradient is large, we mostly apply shock. This makes sense, since a large gradient implies that there is a feature there, which we would like to sharpen up. \n",
    "\n",
    "The signum in the shock term switches between erosion and dilation. If the second derivative with respect to the dominant eigenvector of the structure tensor is positive, then we perform erosion (defined by the PDE $\\partial_t u = -\\lvert \\nabla u \\rvert$); otherwise we perform dilation (defined by the PDE $\\partial_t u = -\\lvert \\nabla u \\rvert$). In regularised DS, the signum is replaced with a soft signum, so that the selection of erosion vs dilation is less sensitive to noise.\n",
    "\n",
    "The signum of the second derivative of the dominant eigenvector of the structure tensor is not unlike the convexity criterion we know from studying vesselness; perhaps we could replace it?\n",
    "\n",
    "What is the correct way to extend DS to $SE(2)$? It would make sense to keep the gradients and Laplacian. For the selection of erosion vs dilation we could again look at the vesselness convexity criterion. For switching between diffusion and shock, we could maybe use some sort of line/edge detector."
   ]
  },
  {
   "cell_type": "markdown",
   "metadata": {},
   "source": [
    "## Setup"
   ]
  },
  {
   "cell_type": "code",
   "execution_count": null,
   "metadata": {},
   "outputs": [],
   "source": [
    "import taichi as ti\n",
    "ti.init(arch=ti.gpu, debug=False, device_memory_GB=3.5) #, kernel_profiler=True) # Use less than 4 so that we don't mix RAM and VRAM (?)\n",
    "import numpy as np\n",
    "from PIL import Image\n",
    "from datetime import datetime\n",
    "# from PIL import Image\n",
    "import matplotlib.pyplot as plt\n",
    "# %matplotlib widget\n",
    "import dsfilter\n",
    "from IPython.display import display, Markdown\n",
    "from skimage.metrics import structural_similarity as ssim"
   ]
  },
  {
   "cell_type": "code",
   "execution_count": 2,
   "metadata": {},
   "outputs": [],
   "source": [
    "date = datetime.today().strftime(\"%y-%m-%d\")\n",
    "log_folder = \"..\\\\..\\\\Experiments For Paper\\\\R2 Enhancement\"\n",
    "savefigures = True\n",
    "savedata = True"
   ]
  },
  {
   "cell_type": "code",
   "execution_count": null,
   "metadata": {},
   "outputs": [],
   "source": [
    "date"
   ]
  },
  {
   "cell_type": "code",
   "execution_count": 4,
   "metadata": {},
   "outputs": [],
   "source": [
    "def PSNR(denoised, ground_truth, max=255.):\n",
    "    return 10 * np.log10(max**2 / np.mean((denoised - ground_truth)**2))\n",
    "\n",
    "def L2(denoised, ground_truth):\n",
    "    return np.sqrt(((denoised - ground_truth)**2).mean())\n",
    "\n",
    "def L1(denoised, ground_truth):\n",
    "    return np.abs(denoised - ground_truth).mean()\n",
    "\n",
    "def SSIM(denoised, ground_truth, max=255.):\n",
    "    return ssim(ground_truth, denoised, data_range=max)"
   ]
  },
  {
   "cell_type": "code",
   "execution_count": 5,
   "metadata": {},
   "outputs": [],
   "source": [
    "# \"spiral\" \"monalisa\" \"smoothspiral\" \"collagen\"\n",
    "test_case = \"smoothspiral\"\n",
    "\n",
    "if test_case == \"collagen\":\n",
    "    σ = 20.  # 20. 30.\n",
    "    ρ = 0.\n",
    "else:\n",
    "    # σ = 0.2 * 255.  # Intensity\n",
    "    # ρ = 1.          # Correlation\n",
    "    # σ = 0.5 * 255.  # Intensity\n",
    "    # ρ = 1.          # Correlation\n",
    "    # σ = 0.5 * 255.  # Intensity\n",
    "    # ρ = 2.          # Correlation\n",
    "    σ = 1. * 255.   # Intensity\n",
    "    ρ = 2.          # Correlation"
   ]
  },
  {
   "cell_type": "code",
   "execution_count": null,
   "metadata": {},
   "outputs": [],
   "source": [
    "storage_name = f\"{test_case}_{σ:.0f}\"\n",
    "if ρ > 0.:\n",
    "    storage_name += f\"_{ρ:.0f}\"\n",
    "storage_name"
   ]
  },
  {
   "cell_type": "code",
   "execution_count": 7,
   "metadata": {},
   "outputs": [],
   "source": [
    "ζ = 1. # spatial anisotropy of metric."
   ]
  },
  {
   "cell_type": "code",
   "execution_count": 8,
   "metadata": {},
   "outputs": [],
   "source": [
    "dim_K = 16\n",
    "ξ = 0.2\n",
    "\n",
    "match test_case:\n",
    "    case \"spiral\":\n",
    "        ground_truth = dsfilter.SE2.utils.align_to_real_axis_scalar_field(np.array(Image.open(\"data/spiral.tif\").convert(\"L\")).astype(np.float64))\n",
    "        noisy = dsfilter.SE2.utils.align_to_real_axis_scalar_field(np.array(Image.open(f\"data/spiral_{σ:.0f}_{ρ:.0f}.tif\")).astype(np.float64))\n",
    "        # Diffusion-Shock Parameters.\n",
    "        t_DS_SE2 = 2. * 2. / 25.\n",
    "        \n",
    "        t_DS_R2 = 2. * 10.\n",
    "        \n",
    "        # G_D_inv_gauge = 1.8 * np.array((1., ζ**2, 1.))\n",
    "        G_D_inv_gauge = 1.8 * np.array((1., ζ**2, 1.))\n",
    "        G_S_inv_gauge = np.array((1., ζ**2, 1.))\n",
    "        # G_D_inv = 1.8 * np.array((ξ**-2, (ζ / ξ)**2, 1.))\n",
    "        G_D_inv = 1.8 * np.array((ξ**-2, (ζ / ξ)**2, 1.))\n",
    "        G_S_inv = np.array((ξ**-2, (ζ / ξ)**2, 1.))\n",
    "        # Internal regularisation for switching between dilation and erosion.\n",
    "        σ = 1.\n",
    "        # External regularisation for switching between dilation and erosion.\n",
    "        ρ = 1.\n",
    "        # Internal and external regularisation of gradient for switching between diffusion and shock.\n",
    "        ν = 1.\n",
    "\n",
    "        λ_SE2 = 2.5\n",
    "        ε_SE2 = 31.25\n",
    "        λ_R2 = 2.\n",
    "        ε_R2 = λ_R2 * 0.15\n",
    "        # Total Variation Flow Parameters.\n",
    "        t_TV = 1. * ξ # Looks good, but PSNR, L2, and L1 are better with shorter time 😢\n",
    "        λ_TV = 50. / 255.\n",
    "        # Plotting.\n",
    "        im_width = 9\n",
    "        im_height = 5\n",
    "    case \"monalisa\":\n",
    "        ground_truth = dsfilter.SE2.utils.align_to_real_axis_scalar_field(np.array(Image.open(\"data/monalisa.tif\").convert(\"L\")).astype(np.float64))\n",
    "        noisy = dsfilter.SE2.utils.align_to_real_axis_scalar_field(np.array(Image.open(f\"data/monalisa_{σ:.0f}_{ρ:.0f}.tif\")).astype(np.float64))\n",
    "\n",
    "        # Diffusion-Shock Parameters.\n",
    "        t_DS_SE2 = 1. / 5.\n",
    "        \n",
    "        t_DS_R2 = 20.\n",
    "        \n",
    "        G_D_inv_gauge = 1.8 * np.array((1., ζ**2, 1.))\n",
    "        G_S_inv_gauge = np.array((1., ζ**2, 1.))\n",
    "        G_D_inv = 1.8 * np.array((ξ**-2, (ζ / ξ)**2, 1.))\n",
    "        G_S_inv = np.array((ξ**-2, (ζ / ξ)**2, 1.))\n",
    "        # Internal regularisation for switching between dilation and erosion.\n",
    "        σ = 1.\n",
    "        # External regularisation for switching between dilation and erosion.\n",
    "        ρ = 1.\n",
    "        # Internal and external regularisation of gradient for switching between diffusion and shock.\n",
    "        ν = 1.\n",
    "\n",
    "        λ_SE2 = 2.5\n",
    "        ε_SE2 = 31.25\n",
    "        λ_R2 = 2.\n",
    "        ε_R2 = λ_R2 * 0.15\n",
    "        # Total Variation Flow Parameters.\n",
    "        t_TV = 1. * ξ # Looks good, but PSNR, L2, and L1 are better with shorter time 😢\n",
    "        λ_TV = 50. / 255.\n",
    "        # Plotting.\n",
    "        im_width = 5\n",
    "        im_height = 4\n",
    "    case \"smoothspiral\":\n",
    "        ground_truth = dsfilter.SE2.utils.align_to_real_axis_scalar_field(np.array(Image.open(\"data/smoothspiral.tif\").convert(\"L\")).astype(np.float64))\n",
    "        noisy = dsfilter.SE2.utils.align_to_real_axis_scalar_field(np.array(Image.open(f\"data/smoothspiral_{σ:.0f}_{ρ:.0f}.tif\")).astype(np.float64))\n",
    "\n",
    "        # Diffusion-Shock Parameters.\n",
    "        t_DS_SE2 = 1. / 5.\n",
    "        \n",
    "        t_DS_R2 = 20.\n",
    "        \n",
    "        G_D_inv_gauge = 1.8 * np.array((1., ζ**2, 1.))\n",
    "        G_S_inv_gauge = np.array((1., ζ**2, 1.))\n",
    "        G_D_inv = 1.8 * np.array((ξ**-2, (ζ / ξ)**2, 1.))\n",
    "        G_S_inv = np.array((ξ**-2, (ζ / ξ)**2, 1.))\n",
    "        # Internal regularisation for switching between dilation and erosion.\n",
    "        σ = 1.\n",
    "        # External regularisation for switching between dilation and erosion.\n",
    "        ρ = 1.\n",
    "        # Internal and external regularisation of gradient for switching between diffusion and shock.\n",
    "        ν = 1.\n",
    "\n",
    "        λ_SE2 = 2.5\n",
    "        ε_SE2 = 31.25\n",
    "        λ_R2 = 2.\n",
    "        ε_R2 = λ_R2 * 0.15\n",
    "        # Total Variation Flow Parameters.\n",
    "        t_TV = 1. * ξ # Looks good, but PSNR, L2, and L1 are better with shorter time 😢\n",
    "        λ_TV = 50. / 255.\n",
    "        # Plotting.\n",
    "        im_width = 9\n",
    "        im_height = 5\n",
    "    case \"collagen\":\n",
    "        ground_truth = dsfilter.SE2.utils.align_to_real_axis_scalar_field(np.array(Image.open(\"data/collagen.tif\").convert(\"L\")).astype(np.float64))\n",
    "        noisy = dsfilter.SE2.utils.align_to_real_axis_scalar_field(np.array(Image.open(f\"data/collagen_{σ:.0f}.tif\")).astype(np.float64))\n",
    "\n",
    "        # Diffusion-Shock Parameters.\n",
    "        t_DS_SE2 = 1. / 5.\n",
    "        \n",
    "        t_DS_R2 = 20.\n",
    "        \n",
    "        G_D_inv_gauge = 1.8 * np.array((1., ζ**2, 1.))\n",
    "        G_S_inv_gauge = np.array((1., ζ**2, 1.))\n",
    "        G_D_inv = 1.8 * np.array((ξ**-2, (ζ / ξ)**2, 1.))\n",
    "        G_S_inv = np.array((ξ**-2, (ζ / ξ)**2, 1.))\n",
    "        # Internal regularisation for switching between dilation and erosion.\n",
    "        σ = 1.\n",
    "        # External regularisation for switching between dilation and erosion.\n",
    "        ρ = 1.\n",
    "        # Internal and external regularisation of gradient for switching between diffusion and shock.\n",
    "        ν = 1.\n",
    "\n",
    "        λ_SE2 = 2.5\n",
    "        ε_SE2 = 31.25\n",
    "        λ_R2 = 2.\n",
    "        ε_R2 = λ_R2 * 0.15\n",
    "        # Total Variation Flow Parameters.\n",
    "        t_TV = 1. * ξ # Looks good, but PSNR, L2, and L1 are better with shorter time 😢\n",
    "        λ_TV = 50. / 255.\n",
    "        # Plotting.\n",
    "        im_width = 6\n",
    "        im_height = 5\n",
    "\n",
    "# Arrays are aligned such that increasing the first index moves along the\n",
    "# positive x-axis, and increasing the second index moves along the positive\n",
    "# y-axis.\n",
    "\n",
    "clip = (ground_truth.min(), ground_truth.max())\n",
    "\n",
    "dim_I, dim_J = ground_truth.shape\n",
    "Is, Js, Ks = np.indices((dim_I, dim_J, dim_K))\n",
    "x_min, x_max = 0., dim_I - 1.\n",
    "y_min, y_max = 0., dim_J - 1.\n",
    "θ_min, θ_max = 0., 2 * np.pi\n",
    "dxy = (x_max - x_min) / (dim_I - 1)\n",
    "dθ = (θ_max - θ_min) / dim_K\n",
    "xs, ys, θs = dsfilter.SE2.utils.coordinate_array_to_real(Is, Js, Ks, x_min, y_min, θ_min, dxy, dθ)"
   ]
  },
  {
   "cell_type": "code",
   "execution_count": null,
   "metadata": {},
   "outputs": [],
   "source": [
    "PSNR_noisy = PSNR(noisy, ground_truth, max=255.)\n",
    "L2_noisy = L2(noisy, ground_truth)\n",
    "L1_noisy = L1(noisy, ground_truth)\n",
    "SSIM_noisy = SSIM(noisy, ground_truth, max=255.)\n",
    "PSNR_noisy, L2_noisy, L1_noisy, SSIM_noisy"
   ]
  },
  {
   "cell_type": "code",
   "execution_count": null,
   "metadata": {},
   "outputs": [],
   "source": [
    "fig, ax = plt.subplots(1, 2, figsize=(2 * im_width, im_height))\n",
    "_, _, cbar = dsfilter.visualisations.plot_image_array(ground_truth, 0., dim_I - 1., 0., dim_J - 1., fig=fig, ax=ax[0])\n",
    "fig.colorbar(cbar, ax=ax[0])\n",
    "_, _, cbar = dsfilter.visualisations.plot_image_array(noisy, 0., dim_I - 1., 0., dim_J - 1., fig=fig, ax=ax[1])\n",
    "fig.colorbar(cbar, ax=ax[1]);"
   ]
  },
  {
   "cell_type": "markdown",
   "metadata": {},
   "source": [
    "### Orientation Score"
   ]
  },
  {
   "cell_type": "code",
   "execution_count": 11,
   "metadata": {},
   "outputs": [],
   "source": [
    "cws = dsfilter.orientationscore.cakewavelet_stack(min(dim_I, dim_J), dim_K, Gaussian_σ=dim_I/32).real\n",
    "U = dsfilter.orientationscore.wavelet_transform(noisy, cws).real\n",
    "U = np.transpose(U, axes=(1, 2, 0)) # x, y, θ\n",
    "mask = np.zeros_like(U) # Filtering, so there is no region outside of the mask"
   ]
  },
  {
   "cell_type": "code",
   "execution_count": null,
   "metadata": {},
   "outputs": [],
   "source": [
    "K = 0\n",
    "fig, ax = plt.subplots(1, 2, figsize=(2 * im_width, im_height))\n",
    "_, _, cbar = dsfilter.visualisations.plot_image_array(cws[K], x_min, x_max, y_min, y_max, fig=fig, ax=ax[0])\n",
    "fig.colorbar(cbar, ax=ax[0])\n",
    "_, _, cbar = dsfilter.visualisations.plot_image_array(U[..., K], x_min, x_max, y_min, y_max, fig=fig, ax=ax[1])\n",
    "fig.colorbar(cbar, ax=ax[1]);"
   ]
  },
  {
   "cell_type": "code",
   "execution_count": null,
   "metadata": {},
   "outputs": [],
   "source": [
    "fig, ax = plt.subplots(1, 2, figsize=(2 * im_width, im_height))\n",
    "_, _, cbar = dsfilter.visualisations.plot_image_array(noisy, x_min, x_max, y_min, y_max, fig=fig, ax=ax[0])\n",
    "fig.colorbar(cbar, ax=ax[0])\n",
    "_, _, cbar = dsfilter.visualisations.plot_image_array(U.sum(-1), x_min, x_max, y_min, y_max, clip=clip, fig=fig, ax=ax[1])\n",
    "fig.colorbar(cbar, ax=ax[1]);"
   ]
  },
  {
   "cell_type": "code",
   "execution_count": null,
   "metadata": {},
   "outputs": [],
   "source": [
    "fig, ax, cbar = dsfilter.visualisations.plot_image_array(U.sum(-1) - noisy, x_min, x_max, y_min, y_max, figsize=(im_width, im_height))\n",
    "fig.colorbar(cbar, ax=ax);"
   ]
  },
  {
   "cell_type": "code",
   "execution_count": 15,
   "metadata": {},
   "outputs": [],
   "source": [
    "zoomed = False\n",
    "if zoomed:\n",
    "    U = U[100:150, 100:150]\n",
    "    dim_I, dim_J, dim_K = U.shape\n",
    "    θs = θs[100:150, 100:150]\n",
    "    ground_truth = ground_truth[100:150, 100:150]\n",
    "    noisy = noisy[100:150, 100:150]"
   ]
  },
  {
   "cell_type": "markdown",
   "metadata": {},
   "source": [
    "### Compute Gauge Frames"
   ]
  },
  {
   "cell_type": "code",
   "execution_count": 16,
   "metadata": {},
   "outputs": [],
   "source": [
    "B1_LI, B2_LI, B3_LI, _ = dsfilter.SE2.gauge.frame.compute_gauge_frame_and_orientation_confidence(U, dxy, dθ, θs, ξ, ρ_s=1.5)\n",
    "B1_static = dsfilter.SE2.utils.vectorfield_static_to_LI_np(B1_LI, θs)\n",
    "B2_static = dsfilter.SE2.utils.vectorfield_static_to_LI_np(B2_LI, θs)\n",
    "B3_static = dsfilter.SE2.utils.vectorfield_static_to_LI_np(B3_LI, θs)\n",
    "gauge_frame_static = (B1_static, B2_static, B3_static)"
   ]
  },
  {
   "cell_type": "markdown",
   "metadata": {},
   "source": [
    "## Perform Filtering"
   ]
  },
  {
   "cell_type": "markdown",
   "metadata": {},
   "source": [
    "### TV Flow Filtering"
   ]
  },
  {
   "cell_type": "markdown",
   "metadata": {},
   "source": [
    "#### Left Invariant"
   ]
  },
  {
   "cell_type": "code",
   "execution_count": null,
   "metadata": {},
   "outputs": [],
   "source": [
    "U_TV_LI, PSNRs_TV_LI, L2s_TV_LI, L1s_TV_LI = dsfilter.TV_enhancing_LI(U, ground_truth, np.array((ξ**-2, ξ**-2, 1.)), dxy, dθ, θs, 1., 0.5, t_TV, λ=λ_TV)"
   ]
  },
  {
   "cell_type": "code",
   "execution_count": null,
   "metadata": {},
   "outputs": [],
   "source": [
    "fig, ax = plt.subplots(1, 3, figsize=(15, 5))\n",
    "ax[0].plot(PSNRs_TV_LI)\n",
    "ax[1].plot(L2s_TV_LI)\n",
    "ax[2].plot(L1s_TV_LI);"
   ]
  },
  {
   "cell_type": "code",
   "execution_count": null,
   "metadata": {},
   "outputs": [],
   "source": [
    "fig, ax = plt.subplots(1, 2, figsize=(2 * im_width, im_height))\n",
    "_, _, cbar = dsfilter.visualisations.plot_image_array(noisy, x_min, x_max, y_min, y_max, fig=fig, ax=ax[0])\n",
    "fig.colorbar(cbar, ax=ax[0])\n",
    "_, _, cbar = dsfilter.visualisations.plot_image_array(U_TV_LI.sum(-1), x_min, x_max, y_min, y_max, clip=clip, fig=fig, ax=ax[1])\n",
    "fig.colorbar(cbar, ax=ax[1]);"
   ]
  },
  {
   "cell_type": "code",
   "execution_count": null,
   "metadata": {},
   "outputs": [],
   "source": [
    "fig, ax = plt.subplots(2, 2, figsize=(2 * im_width, 2 * im_height))\n",
    "_, _, cbar = dsfilter.visualisations.plot_image_array(ground_truth, x_min, x_max, y_min, y_max, fig=fig, ax=ax[0, 0])\n",
    "ax[0, 0].set_title(\"Ground Truth\")\n",
    "fig.colorbar(cbar, ax=ax[0, 0])\n",
    "_, _, cbar = dsfilter.visualisations.plot_image_array(noisy, x_min, x_max, y_min, y_max, fig=fig, ax=ax[0, 1])\n",
    "ax[0, 1].set_title(\"Noisy\")\n",
    "fig.colorbar(cbar, ax=ax[0, 1])\n",
    "_, _, cbar = dsfilter.visualisations.plot_image_array(U_TV_LI.sum(-1), x_min, x_max, y_min, y_max, clip=clip, fig=fig, ax=ax[1, 0])\n",
    "ax[1, 0].set_title(\"Denoised\")\n",
    "fig.colorbar(cbar, ax=ax[1, 0])\n",
    "_, _, cbar = dsfilter.visualisations.plot_image_array(ground_truth - np.clip(U_TV_LI.sum(-1), *clip), x_min, x_max, y_min, y_max, fig=fig, ax=ax[1, 1])\n",
    "fig.colorbar(cbar, ax=ax[1, 1])\n",
    "ax[1, 1].set_title(\"Error\");"
   ]
  },
  {
   "cell_type": "code",
   "execution_count": null,
   "metadata": {},
   "outputs": [],
   "source": [
    "margin = 0.1\n",
    "fig, ax, cbar = dsfilter.visualisations.plot_image_array((np.abs((ground_truth - np.clip(U_TV_LI.sum(-1), *clip))) > margin).astype(np.float64), x_min, x_max, y_min, y_max, figsize=(im_width, im_height))\n",
    "fig.colorbar(cbar, ax=ax)\n",
    "ax.set_title(f\"Error > {margin}\");"
   ]
  },
  {
   "cell_type": "code",
   "execution_count": null,
   "metadata": {},
   "outputs": [],
   "source": [
    "fig, ax, cbar = dsfilter.visualisations.plot_image_array(np.abs((U - U_TV_LI)).max(-1), x_min, x_max, y_min, y_max, figsize=(im_width, im_height))\n",
    "fig.colorbar(cbar, ax=ax)\n",
    "ax.set_title(f\"Error > {margin}\");"
   ]
  },
  {
   "cell_type": "code",
   "execution_count": null,
   "metadata": {},
   "outputs": [],
   "source": [
    "PSNR_TV_LI = PSNR(np.clip(U_TV_LI.sum(-1), *clip), ground_truth, max=255.)\n",
    "L2_TV_LI = L2(np.clip(U_TV_LI.sum(-1), *clip), ground_truth)\n",
    "L1_TV_LI = L1(np.clip(U_TV_LI.sum(-1), *clip), ground_truth)\n",
    "SSIM_TV_LI = SSIM(np.clip(U_TV_LI.sum(-1), *clip), ground_truth, max=255.)\n",
    "PSNR_TV_LI, L2_TV_LI, L1_TV_LI, SSIM_TV_LI"
   ]
  },
  {
   "cell_type": "markdown",
   "metadata": {},
   "source": [
    "#### Gauge"
   ]
  },
  {
   "cell_type": "code",
   "execution_count": null,
   "metadata": {},
   "outputs": [],
   "source": [
    "U_TV_gauge, PSNRs_TV_gauge, L2s_TV_gauge, L1s_TV_gauge = dsfilter.TV_enhancing_gauge(U, ground_truth, np.array((1., 1., 1.)), ξ, dxy, dθ, gauge_frame_static, 1., 0.5, t_TV, λ=λ_TV)"
   ]
  },
  {
   "cell_type": "code",
   "execution_count": null,
   "metadata": {},
   "outputs": [],
   "source": [
    "fig, ax = plt.subplots(1, 3, figsize=(15, 5))\n",
    "ax[0].plot(PSNRs_TV_gauge)\n",
    "ax[1].plot(L2s_TV_gauge)\n",
    "ax[2].plot(L1s_TV_gauge);"
   ]
  },
  {
   "cell_type": "code",
   "execution_count": null,
   "metadata": {},
   "outputs": [],
   "source": [
    "fig, ax = plt.subplots(1, 2, figsize=(2 * im_width, im_height))\n",
    "_, _, cbar = dsfilter.visualisations.plot_image_array(noisy, x_min, x_max, y_min, y_max, fig=fig, ax=ax[0])\n",
    "fig.colorbar(cbar, ax=ax[0])\n",
    "_, _, cbar = dsfilter.visualisations.plot_image_array(U_TV_gauge.sum(-1), x_min, x_max, y_min, y_max, clip=clip, fig=fig, ax=ax[1])\n",
    "fig.colorbar(cbar, ax=ax[1]);"
   ]
  },
  {
   "cell_type": "code",
   "execution_count": null,
   "metadata": {},
   "outputs": [],
   "source": [
    "fig, ax = plt.subplots(2, 2, figsize=(2 * im_width, 2 * im_height))\n",
    "_, _, cbar = dsfilter.visualisations.plot_image_array(ground_truth, x_min, x_max, y_min, y_max, fig=fig, ax=ax[0, 0])\n",
    "ax[0, 0].set_title(\"Ground Truth\")\n",
    "fig.colorbar(cbar, ax=ax[0, 0])\n",
    "_, _, cbar = dsfilter.visualisations.plot_image_array(noisy, x_min, x_max, y_min, y_max, fig=fig, ax=ax[0, 1])\n",
    "ax[0, 1].set_title(\"Noisy\")\n",
    "fig.colorbar(cbar, ax=ax[0, 1])\n",
    "_, _, cbar = dsfilter.visualisations.plot_image_array(U_TV_gauge.sum(-1), x_min, x_max, y_min, y_max, clip=clip, fig=fig, ax=ax[1, 0])\n",
    "ax[1, 0].set_title(\"Denoised\")\n",
    "fig.colorbar(cbar, ax=ax[1, 0])\n",
    "_, _, cbar = dsfilter.visualisations.plot_image_array(ground_truth - np.clip(U_TV_gauge.sum(-1), *clip), x_min, x_max, y_min, y_max, fig=fig, ax=ax[1, 1])\n",
    "fig.colorbar(cbar, ax=ax[1, 1])\n",
    "ax[1, 1].set_title(\"Error\");"
   ]
  },
  {
   "cell_type": "code",
   "execution_count": null,
   "metadata": {},
   "outputs": [],
   "source": [
    "margin = 0.1\n",
    "fig, ax, cbar = dsfilter.visualisations.plot_image_array((np.abs((ground_truth - np.clip(U_TV_gauge.sum(-1), *clip))) > margin).astype(np.float64), x_min, x_max, y_min, y_max, figsize=(im_width, im_height))\n",
    "fig.colorbar(cbar, ax=ax)\n",
    "ax.set_title(f\"Error > {margin}\");"
   ]
  },
  {
   "cell_type": "code",
   "execution_count": null,
   "metadata": {},
   "outputs": [],
   "source": [
    "fig, ax, cbar = dsfilter.visualisations.plot_image_array(np.abs((U - U_TV_gauge)).max(-1), x_min, x_max, y_min, y_max, figsize=(im_width, im_height))\n",
    "fig.colorbar(cbar, ax=ax)\n",
    "ax.set_title(f\"Error > {margin}\");"
   ]
  },
  {
   "cell_type": "code",
   "execution_count": null,
   "metadata": {},
   "outputs": [],
   "source": [
    "PSNR_TV_gauge = PSNR(np.clip(U_TV_gauge.sum(-1), *clip), ground_truth, max=255.)\n",
    "L2_TV_gauge = L2(np.clip(U_TV_gauge.sum(-1), *clip), ground_truth)\n",
    "L1_TV_gauge = L1(np.clip(U_TV_gauge.sum(-1), *clip), ground_truth)\n",
    "SSIM_TV_gauge = SSIM(np.clip(U_TV_gauge.sum(-1), *clip), ground_truth, max=255.)\n",
    "PSNR_TV_gauge, L2_TV_gauge, L1_TV_gauge, SSIM_TV_gauge"
   ]
  },
  {
   "cell_type": "markdown",
   "metadata": {},
   "source": [
    "### DS Filtering"
   ]
  },
  {
   "cell_type": "markdown",
   "metadata": {},
   "source": [
    "#### Left Invariant"
   ]
  },
  {
   "cell_type": "code",
   "execution_count": null,
   "metadata": {},
   "outputs": [],
   "source": [
    "U_DS, PSNRs_DS_LI, L2s_DS_LI, L1s_DS_LI, switch_DS, switch_morph = dsfilter.DS_enhancing_LI(U, ground_truth, θs, ξ, t_DS_SE2, G_D_inv, G_S_inv, σ, ρ, ν, λ_SE2, ε=ε_SE2, dxy=dxy)"
   ]
  },
  {
   "cell_type": "code",
   "execution_count": null,
   "metadata": {},
   "outputs": [],
   "source": [
    "fig, ax = plt.subplots(1, 3, figsize=(15, 5))\n",
    "ax[0].plot(PSNRs_DS_LI)\n",
    "ax[1].plot(L2s_DS_LI)\n",
    "ax[2].plot(L1s_DS_LI);"
   ]
  },
  {
   "cell_type": "code",
   "execution_count": null,
   "metadata": {},
   "outputs": [],
   "source": [
    "fig, ax = plt.subplots(1, 2, figsize=(2 * im_width, im_height))\n",
    "_, _, cbar = dsfilter.visualisations.plot_image_array(noisy, x_min, x_max, y_min, y_max, fig=fig, ax=ax[0])\n",
    "fig.colorbar(cbar, ax=ax[0])\n",
    "_, _, cbar = dsfilter.visualisations.plot_image_array(U_DS.sum(-1), x_min, x_max, y_min, y_max, clip=clip, fig=fig, ax=ax[1])\n",
    "fig.colorbar(cbar, ax=ax[1]);"
   ]
  },
  {
   "cell_type": "code",
   "execution_count": null,
   "metadata": {},
   "outputs": [],
   "source": [
    "fig, ax = plt.subplots(2, 2, figsize=(2 * im_width, 2 * im_height))\n",
    "_, _, cbar = dsfilter.visualisations.plot_image_array(ground_truth, x_min, x_max, y_min, y_max, fig=fig, ax=ax[0, 0])\n",
    "ax[0, 0].set_title(\"Ground Truth\")\n",
    "fig.colorbar(cbar, ax=ax[0, 0])\n",
    "_, _, cbar = dsfilter.visualisations.plot_image_array(noisy, x_min, x_max, y_min, y_max, fig=fig, ax=ax[0, 1])\n",
    "ax[0, 1].set_title(\"Noisy\")\n",
    "fig.colorbar(cbar, ax=ax[0, 1])\n",
    "_, _, cbar = dsfilter.visualisations.plot_image_array(U_DS.sum(-1), x_min, x_max, y_min, y_max, clip=clip, fig=fig, ax=ax[1, 0])\n",
    "ax[1, 0].set_title(\"Denoised\")\n",
    "fig.colorbar(cbar, ax=ax[1, 0])\n",
    "_, _, cbar = dsfilter.visualisations.plot_image_array(ground_truth - np.clip(U_DS.sum(-1), *clip), x_min, x_max, y_min, y_max, fig=fig, ax=ax[1, 1])\n",
    "fig.colorbar(cbar, ax=ax[1, 1])\n",
    "ax[1, 1].set_title(\"Error\");"
   ]
  },
  {
   "cell_type": "code",
   "execution_count": null,
   "metadata": {},
   "outputs": [],
   "source": [
    "K = 0\n",
    "fig, ax = plt.subplots(1, 5, figsize=(5 * im_width, im_height))\n",
    "_, _, cbar = dsfilter.visualisations.plot_image_array(U_DS[..., K], x_min, x_max, y_min, y_max, cmap=\"gray\", fig=fig, ax=ax[0])\n",
    "ax[0].set_title(f\"$\\\\theta = {θs[0, 0, K]:.2f}$\")\n",
    "fig.colorbar(cbar, ax=ax[0])\n",
    "_, _, cbar = dsfilter.visualisations.plot_image_array(U_DS[..., K + 2], x_min, x_max, y_min, y_max, cmap=\"gray\", fig=fig, ax=ax[1])\n",
    "ax[1].set_title(f\"$\\\\theta = {θs[0, 0, K + 2]:.2f}$\")\n",
    "fig.colorbar(cbar, ax=ax[1])\n",
    "_, _, cbar = dsfilter.visualisations.plot_image_array(U_DS[..., K + 4], x_min, x_max, y_min, y_max, cmap=\"gray\", fig=fig, ax=ax[2])\n",
    "ax[2].set_title(f\"$\\\\theta = {θs[0, 0, K + 4]:.2f}$\")\n",
    "fig.colorbar(cbar, ax=ax[2])\n",
    "_, _, cbar = dsfilter.visualisations.plot_image_array(U_DS[..., K + 8], x_min, x_max, y_min, y_max, cmap=\"gray\", fig=fig, ax=ax[3])\n",
    "ax[3].set_title(f\"$\\\\theta = {θs[0, 0, K + 8]:.2f}$\")\n",
    "fig.colorbar(cbar, ax=ax[3])\n",
    "_, _, cbar = dsfilter.visualisations.plot_image_array(U_DS.sum(-1), x_min, x_max, y_min, y_max, clip=clip, cmap=\"gray\", fig=fig, ax=ax[4])\n",
    "ax[4].set_title(\"$\\int_\\\\theta U(\\\\theta) d\\\\theta$\")\n",
    "fig.colorbar(cbar, ax=ax[4]);"
   ]
  },
  {
   "cell_type": "code",
   "execution_count": null,
   "metadata": {},
   "outputs": [],
   "source": [
    "K = 0\n",
    "fig, ax = plt.subplots(3, 2, figsize=(2 * im_width, 3 * im_height))\n",
    "_, _, cbar = dsfilter.visualisations.plot_image_array(switch_morph[..., K], x_min, x_max, y_min, y_max, cmap=\"gray\", fig=fig, ax=ax[0, 0])\n",
    "ax[0, 0].set_title(f\"$\\\\theta = {θs[0, 0, K]:.2f}$\")\n",
    "fig.colorbar(cbar, ax=ax[0, 0])\n",
    "_, _, cbar = dsfilter.visualisations.plot_image_array(switch_morph[..., K + 2], x_min, x_max, y_min, y_max, cmap=\"gray\", fig=fig, ax=ax[0, 1])\n",
    "ax[0, 1].set_title(f\"$\\\\theta = {θs[0, 0, K + 2]:.2f}$\")\n",
    "fig.colorbar(cbar, ax=ax[0, 1])\n",
    "_, _, cbar = dsfilter.visualisations.plot_image_array(switch_morph[..., K + 4], x_min, x_max, y_min, y_max, cmap=\"gray\", fig=fig, ax=ax[1, 0])\n",
    "ax[1, 0].set_title(f\"$\\\\theta = {θs[0, 0, K + 4]:.2f}$\")\n",
    "fig.colorbar(cbar, ax=ax[1, 0])\n",
    "_, _, cbar = dsfilter.visualisations.plot_image_array(switch_morph[..., K + 8], x_min, x_max, y_min, y_max, cmap=\"gray\", fig=fig, ax=ax[1, 1])\n",
    "ax[1, 1].set_title(f\"$\\\\theta = {θs[0, 0, K + 8]:.2f}$\")\n",
    "fig.colorbar(cbar, ax=ax[1, 1])\n",
    "_, _, cbar = dsfilter.visualisations.plot_image_array(switch_morph.sum(-1), x_min, x_max, y_min, y_max, cmap=\"gray\", fig=fig, ax=ax[2, 0])\n",
    "ax[2, 0].set_title(\"$\\int_\\\\theta d\\\\theta$\")\n",
    "fig.colorbar(cbar, ax=ax[2, 0])\n",
    "_, _, cbar = dsfilter.visualisations.plot_image_array(switch_morph.min(-1), x_min, x_max, y_min, y_max, cmap=\"gray\", fig=fig, ax=ax[2, 1])\n",
    "ax[2, 1].set_title(\"$\\min_\\\\theta$\")\n",
    "fig.colorbar(cbar, ax=ax[2, 1]);"
   ]
  },
  {
   "cell_type": "code",
   "execution_count": null,
   "metadata": {},
   "outputs": [],
   "source": [
    "K = 0\n",
    "fig, ax = plt.subplots(3, 2, figsize=(2 * im_width, 3 * im_height))\n",
    "_, _, cbar = dsfilter.visualisations.plot_image_array(switch_DS[..., K], x_min, x_max, y_min, y_max, cmap=\"gray\", fig=fig, ax=ax[0, 0])\n",
    "ax[0, 0].set_title(f\"$\\\\theta = {θs[0, 0, K]:.2f}$\")\n",
    "fig.colorbar(cbar, ax=ax[0, 0])\n",
    "_, _, cbar = dsfilter.visualisations.plot_image_array(switch_DS[..., K + 2], x_min, x_max, y_min, y_max, cmap=\"gray\", fig=fig, ax=ax[0, 1])\n",
    "ax[0, 1].set_title(f\"$\\\\theta = {θs[0, 0, K + 2]:.2f}$\")\n",
    "fig.colorbar(cbar, ax=ax[0, 1])\n",
    "_, _, cbar = dsfilter.visualisations.plot_image_array(switch_DS[..., K + 4], x_min, x_max, y_min, y_max, cmap=\"gray\", fig=fig, ax=ax[1, 0])\n",
    "ax[1, 0].set_title(f\"$\\\\theta = {θs[0, 0, K + 4]:.2f}$\")\n",
    "fig.colorbar(cbar, ax=ax[1, 0])\n",
    "_, _, cbar = dsfilter.visualisations.plot_image_array(switch_DS[..., K + 8], x_min, x_max, y_min, y_max, cmap=\"gray\", fig=fig, ax=ax[1, 1])\n",
    "ax[1, 1].set_title(f\"$\\\\theta = {θs[0, 0, K + 8]:.2f}$\")\n",
    "fig.colorbar(cbar, ax=ax[1, 1])\n",
    "_, _, cbar = dsfilter.visualisations.plot_image_array(switch_DS.sum(-1), x_min, x_max, y_min, y_max, cmap=\"gray\", fig=fig, ax=ax[2, 0])\n",
    "ax[2, 0].set_title(\"$\\int_\\\\theta d\\\\theta$\")\n",
    "fig.colorbar(cbar, ax=ax[2, 0])\n",
    "_, _, cbar = dsfilter.visualisations.plot_image_array(switch_DS.min(-1), x_min, x_max, y_min, y_max, cmap=\"gray\", fig=fig, ax=ax[2, 1])\n",
    "ax[2, 1].set_title(\"$\\min_\\\\theta$\")\n",
    "fig.colorbar(cbar, ax=ax[2, 1]);"
   ]
  },
  {
   "cell_type": "code",
   "execution_count": null,
   "metadata": {},
   "outputs": [],
   "source": [
    "fig, ax = plt.subplots(1, 4, figsize=(4 * im_width, im_height))\n",
    "_, _, cbar = dsfilter.visualisations.plot_image_array(ground_truth, x_min, x_max, y_min, y_max, fig=fig, ax=ax[0])\n",
    "ax[0].set_title(\"Ground Truth\")\n",
    "fig.colorbar(cbar, ax=ax[0])\n",
    "_, _, cbar = dsfilter.visualisations.plot_image_array(noisy, x_min, x_max, y_min, y_max, fig=fig, ax=ax[1])\n",
    "ax[1].set_title(\"Noisy\")\n",
    "fig.colorbar(cbar, ax=ax[1])\n",
    "_, _, cbar = dsfilter.visualisations.plot_image_array(U_DS.sum(-1), x_min, x_max, y_min, y_max, clip=clip, fig=fig, ax=ax[2])\n",
    "ax[2].set_title(\"Denoised\")\n",
    "fig.colorbar(cbar, ax=ax[2])\n",
    "_, _, cbar = dsfilter.visualisations.plot_image_array(ground_truth - np.clip(U_DS.sum(-1), *clip), x_min, x_max, y_min, y_max, fig=fig, ax=ax[3])\n",
    "fig.colorbar(cbar, ax=ax[3])\n",
    "ax[3].set_title(\"Error\");"
   ]
  },
  {
   "cell_type": "code",
   "execution_count": null,
   "metadata": {},
   "outputs": [],
   "source": [
    "margin = 0.1\n",
    "fig, ax, cbar = dsfilter.visualisations.plot_image_array((np.abs((ground_truth - np.clip(U_DS.sum(-1), *clip))) > margin).astype(np.float64), x_min, x_max, y_min, y_max, figsize=(im_width, im_height))\n",
    "fig.colorbar(cbar, ax=ax)\n",
    "ax.set_title(f\"Error > {margin}\");"
   ]
  },
  {
   "cell_type": "code",
   "execution_count": null,
   "metadata": {},
   "outputs": [],
   "source": [
    "PSNR_DS = PSNR(np.clip(U_DS.sum(-1), *clip), ground_truth, max=255.)\n",
    "L2_DS = L2(np.clip(U_DS.sum(-1), *clip), ground_truth)\n",
    "L1_DS = L1(np.clip(U_DS.sum(-1), *clip), ground_truth)\n",
    "SSIM_DS = SSIM(np.clip(U_DS.sum(-1), *clip), ground_truth, max=255.)\n",
    "PSNR_DS, L2_DS, L1_DS, SSIM_DS"
   ]
  },
  {
   "cell_type": "markdown",
   "metadata": {},
   "source": [
    "#### Gauge"
   ]
  },
  {
   "cell_type": "code",
   "execution_count": null,
   "metadata": {},
   "outputs": [],
   "source": [
    "U_DS_gauge, PSNRs_DS_gauge, L2s_DS_gauge, L1s_DS_gauge, switch_DS, switch_morph = dsfilter.DS_enhancing_gauge(U, ground_truth, θs, ξ, gauge_frame_static, t_DS_SE2, G_D_inv_gauge, G_S_inv_gauge, σ, ρ, ν, λ_SE2, ε=ε_SE2, dxy=dxy)"
   ]
  },
  {
   "cell_type": "code",
   "execution_count": null,
   "metadata": {},
   "outputs": [],
   "source": [
    "fig, ax = plt.subplots(1, 3, figsize=(15, 5))\n",
    "ax[0].plot(PSNRs_DS_gauge)\n",
    "ax[1].plot(L2s_DS_gauge)\n",
    "ax[2].plot(L1s_DS_gauge);"
   ]
  },
  {
   "cell_type": "code",
   "execution_count": null,
   "metadata": {},
   "outputs": [],
   "source": [
    "fig, ax = plt.subplots(1, 2, figsize=(2 * im_width, im_height))\n",
    "_, _, cbar = dsfilter.visualisations.plot_image_array(noisy, x_min, x_max, y_min, y_max, fig=fig, ax=ax[0])\n",
    "fig.colorbar(cbar, ax=ax[0])\n",
    "_, _, cbar = dsfilter.visualisations.plot_image_array(U_DS_gauge.sum(-1), x_min, x_max, y_min, y_max, clip=clip, fig=fig, ax=ax[1])\n",
    "fig.colorbar(cbar, ax=ax[1]);"
   ]
  },
  {
   "cell_type": "code",
   "execution_count": null,
   "metadata": {},
   "outputs": [],
   "source": [
    "fig, ax = plt.subplots(2, 2, figsize=(2 * im_width, 2 * im_height))\n",
    "_, _, cbar = dsfilter.visualisations.plot_image_array(ground_truth, x_min, x_max, y_min, y_max, fig=fig, ax=ax[0, 0])\n",
    "ax[0, 0].set_title(\"Ground Truth\")\n",
    "fig.colorbar(cbar, ax=ax[0, 0])\n",
    "_, _, cbar = dsfilter.visualisations.plot_image_array(noisy, x_min, x_max, y_min, y_max, fig=fig, ax=ax[0, 1])\n",
    "ax[0, 1].set_title(\"Noisy\")\n",
    "fig.colorbar(cbar, ax=ax[0, 1])\n",
    "_, _, cbar = dsfilter.visualisations.plot_image_array(U_DS_gauge.sum(-1), x_min, x_max, y_min, y_max, clip=clip, fig=fig, ax=ax[1, 0])\n",
    "ax[1, 0].set_title(\"Denoised\")\n",
    "fig.colorbar(cbar, ax=ax[1, 0])\n",
    "_, _, cbar = dsfilter.visualisations.plot_image_array(ground_truth - np.clip(U_DS_gauge.sum(-1), *clip), x_min, x_max, y_min, y_max, fig=fig, ax=ax[1, 1])\n",
    "fig.colorbar(cbar, ax=ax[1, 1])\n",
    "ax[1, 1].set_title(\"Error\");"
   ]
  },
  {
   "cell_type": "code",
   "execution_count": null,
   "metadata": {},
   "outputs": [],
   "source": [
    "K = 0\n",
    "fig, ax = plt.subplots(1, 5, figsize=(5 * im_width, im_height))\n",
    "_, _, cbar = dsfilter.visualisations.plot_image_array(U_DS_gauge[..., K], x_min, x_max, y_min, y_max, cmap=\"gray\", fig=fig, ax=ax[0])\n",
    "ax[0].set_title(f\"$\\\\theta = {θs[0, 0, K]:.2f}$\")\n",
    "fig.colorbar(cbar, ax=ax[0])\n",
    "_, _, cbar = dsfilter.visualisations.plot_image_array(U_DS_gauge[..., K + 2], x_min, x_max, y_min, y_max, cmap=\"gray\", fig=fig, ax=ax[1])\n",
    "ax[1].set_title(f\"$\\\\theta = {θs[0, 0, K + 2]:.2f}$\")\n",
    "fig.colorbar(cbar, ax=ax[1])\n",
    "_, _, cbar = dsfilter.visualisations.plot_image_array(U_DS_gauge[..., K + 4], x_min, x_max, y_min, y_max, cmap=\"gray\", fig=fig, ax=ax[2])\n",
    "ax[2].set_title(f\"$\\\\theta = {θs[0, 0, K + 4]:.2f}$\")\n",
    "fig.colorbar(cbar, ax=ax[2])\n",
    "_, _, cbar = dsfilter.visualisations.plot_image_array(U_DS_gauge[..., K + 8], x_min, x_max, y_min, y_max, cmap=\"gray\", fig=fig, ax=ax[3])\n",
    "ax[3].set_title(f\"$\\\\theta = {θs[0, 0, K + 8]:.2f}$\")\n",
    "fig.colorbar(cbar, ax=ax[3])\n",
    "_, _, cbar = dsfilter.visualisations.plot_image_array(U_DS_gauge.sum(-1), x_min, x_max, y_min, y_max, clip=clip, cmap=\"gray\", fig=fig, ax=ax[4])\n",
    "ax[4].set_title(\"$\\int_\\\\theta U(\\\\theta) d\\\\theta$\")\n",
    "fig.colorbar(cbar, ax=ax[4]);"
   ]
  },
  {
   "cell_type": "code",
   "execution_count": null,
   "metadata": {},
   "outputs": [],
   "source": [
    "K = 0\n",
    "fig, ax = plt.subplots(3, 2, figsize=(2 * im_width, 3 * im_height))\n",
    "_, _, cbar = dsfilter.visualisations.plot_image_array(switch_morph[..., K], x_min, x_max, y_min, y_max, cmap=\"gray\", fig=fig, ax=ax[0, 0])\n",
    "ax[0, 0].set_title(f\"$\\\\theta = {θs[0, 0, K]:.2f}$\")\n",
    "fig.colorbar(cbar, ax=ax[0, 0])\n",
    "_, _, cbar = dsfilter.visualisations.plot_image_array(switch_morph[..., K + 2], x_min, x_max, y_min, y_max, cmap=\"gray\", fig=fig, ax=ax[0, 1])\n",
    "ax[0, 1].set_title(f\"$\\\\theta = {θs[0, 0, K + 2]:.2f}$\")\n",
    "fig.colorbar(cbar, ax=ax[0, 1])\n",
    "_, _, cbar = dsfilter.visualisations.plot_image_array(switch_morph[..., K + 4], x_min, x_max, y_min, y_max, cmap=\"gray\", fig=fig, ax=ax[1, 0])\n",
    "ax[1, 0].set_title(f\"$\\\\theta = {θs[0, 0, K + 4]:.2f}$\")\n",
    "fig.colorbar(cbar, ax=ax[1, 0])\n",
    "_, _, cbar = dsfilter.visualisations.plot_image_array(switch_morph[..., K + 8], x_min, x_max, y_min, y_max, cmap=\"gray\", fig=fig, ax=ax[1, 1])\n",
    "ax[1, 1].set_title(f\"$\\\\theta = {θs[0, 0, K + 8]:.2f}$\")\n",
    "fig.colorbar(cbar, ax=ax[1, 1])\n",
    "_, _, cbar = dsfilter.visualisations.plot_image_array(switch_morph.sum(-1), x_min, x_max, y_min, y_max, cmap=\"gray\", fig=fig, ax=ax[2, 0])\n",
    "ax[2, 0].set_title(\"$\\int_\\\\theta d\\\\theta$\")\n",
    "fig.colorbar(cbar, ax=ax[2, 0])\n",
    "_, _, cbar = dsfilter.visualisations.plot_image_array(switch_morph.min(-1), x_min, x_max, y_min, y_max, cmap=\"gray\", fig=fig, ax=ax[2, 1])\n",
    "ax[2, 1].set_title(\"$\\min_\\\\theta$\")\n",
    "fig.colorbar(cbar, ax=ax[2, 1]);"
   ]
  },
  {
   "cell_type": "code",
   "execution_count": null,
   "metadata": {},
   "outputs": [],
   "source": [
    "K = 0\n",
    "fig, ax = plt.subplots(3, 2, figsize=(2 * im_width, 3 * im_height))\n",
    "_, _, cbar = dsfilter.visualisations.plot_image_array(switch_DS[..., K], x_min, x_max, y_min, y_max, cmap=\"gray\", fig=fig, ax=ax[0, 0])\n",
    "ax[0, 0].set_title(f\"$\\\\theta = {θs[0, 0, K]:.2f}$\")\n",
    "fig.colorbar(cbar, ax=ax[0, 0])\n",
    "_, _, cbar = dsfilter.visualisations.plot_image_array(switch_DS[..., K + 2], x_min, x_max, y_min, y_max, cmap=\"gray\", fig=fig, ax=ax[0, 1])\n",
    "ax[0, 1].set_title(f\"$\\\\theta = {θs[0, 0, K + 2]:.2f}$\")\n",
    "fig.colorbar(cbar, ax=ax[0, 1])\n",
    "_, _, cbar = dsfilter.visualisations.plot_image_array(switch_DS[..., K + 4], x_min, x_max, y_min, y_max, cmap=\"gray\", fig=fig, ax=ax[1, 0])\n",
    "ax[1, 0].set_title(f\"$\\\\theta = {θs[0, 0, K + 4]:.2f}$\")\n",
    "fig.colorbar(cbar, ax=ax[1, 0])\n",
    "_, _, cbar = dsfilter.visualisations.plot_image_array(switch_DS[..., K + 8], x_min, x_max, y_min, y_max, cmap=\"gray\", fig=fig, ax=ax[1, 1])\n",
    "ax[1, 1].set_title(f\"$\\\\theta = {θs[0, 0, K + 8]:.2f}$\")\n",
    "fig.colorbar(cbar, ax=ax[1, 1])\n",
    "_, _, cbar = dsfilter.visualisations.plot_image_array(switch_DS.sum(-1), x_min, x_max, y_min, y_max, cmap=\"gray\", fig=fig, ax=ax[2, 0])\n",
    "ax[2, 0].set_title(\"$\\int_\\\\theta d\\\\theta$\")\n",
    "fig.colorbar(cbar, ax=ax[2, 0])\n",
    "_, _, cbar = dsfilter.visualisations.plot_image_array(switch_DS.min(-1), x_min, x_max, y_min, y_max, cmap=\"gray\", fig=fig, ax=ax[2, 1])\n",
    "ax[2, 1].set_title(\"$\\min_\\\\theta$\")\n",
    "fig.colorbar(cbar, ax=ax[2, 1]);"
   ]
  },
  {
   "cell_type": "code",
   "execution_count": null,
   "metadata": {},
   "outputs": [],
   "source": [
    "fig, ax = plt.subplots(1, 4, figsize=(4 * im_width, im_height))\n",
    "_, _, cbar = dsfilter.visualisations.plot_image_array(ground_truth, x_min, x_max, y_min, y_max, fig=fig, ax=ax[0])\n",
    "ax[0].set_title(\"Ground Truth\")\n",
    "fig.colorbar(cbar, ax=ax[0])\n",
    "_, _, cbar = dsfilter.visualisations.plot_image_array(noisy, x_min, x_max, y_min, y_max, fig=fig, ax=ax[1])\n",
    "ax[1].set_title(\"Noisy\")\n",
    "fig.colorbar(cbar, ax=ax[1])\n",
    "_, _, cbar = dsfilter.visualisations.plot_image_array(U_DS_gauge.sum(-1), x_min, x_max, y_min, y_max, clip=clip, fig=fig, ax=ax[2])\n",
    "ax[2].set_title(\"Denoised\")\n",
    "fig.colorbar(cbar, ax=ax[2])\n",
    "_, _, cbar = dsfilter.visualisations.plot_image_array(ground_truth - np.clip(U_DS_gauge.sum(-1), *clip), x_min, x_max, y_min, y_max, fig=fig, ax=ax[3])\n",
    "fig.colorbar(cbar, ax=ax[3])\n",
    "ax[3].set_title(\"Error\");"
   ]
  },
  {
   "cell_type": "code",
   "execution_count": null,
   "metadata": {},
   "outputs": [],
   "source": [
    "margin = 0.1\n",
    "fig, ax, cbar = dsfilter.visualisations.plot_image_array((np.abs((ground_truth - np.clip(U_DS_gauge.sum(-1), *clip))) > margin).astype(np.float64), x_min, x_max, y_min, y_max, figsize=(im_width, im_height))\n",
    "fig.colorbar(cbar, ax=ax)\n",
    "ax.set_title(f\"Error > {margin}\");"
   ]
  },
  {
   "cell_type": "code",
   "execution_count": null,
   "metadata": {},
   "outputs": [],
   "source": [
    "PSNR_DS_gauge = PSNR(np.clip(U_DS_gauge.sum(-1), *clip), ground_truth, max=255.)\n",
    "L2_DS_gauge = L2(np.clip(U_DS_gauge.sum(-1), *clip), ground_truth)\n",
    "L1_DS_gauge = L1(np.clip(U_DS_gauge.sum(-1), *clip), ground_truth)\n",
    "SSIM_DS_gauge = SSIM(np.clip(U_DS_gauge.sum(-1), *clip), ground_truth, max=255.)\n",
    "PSNR_DS_gauge, L2_DS_gauge, L1_DS_gauge, SSIM_DS_gauge"
   ]
  },
  {
   "cell_type": "code",
   "execution_count": null,
   "metadata": {},
   "outputs": [],
   "source": [
    "PSNR_DS, L2_DS, L1_DS, SSIM_DS"
   ]
  },
  {
   "cell_type": "markdown",
   "metadata": {},
   "source": [
    "#### $\\mathbb{R}^2$"
   ]
  },
  {
   "cell_type": "code",
   "execution_count": null,
   "metadata": {},
   "outputs": [],
   "source": [
    "PSNR(np.clip(U.sum(-1), 0., 255.), ground_truth)"
   ]
  },
  {
   "cell_type": "code",
   "execution_count": null,
   "metadata": {},
   "outputs": [],
   "source": [
    "PSNR(noisy, ground_truth)"
   ]
  },
  {
   "cell_type": "code",
   "execution_count": null,
   "metadata": {},
   "outputs": [],
   "source": [
    "u_DS_R2, PSNRs_DS_R2, L2s_DS_R2, L1s_DS_R2, switch_DS, switch_morph = dsfilter.DS_enhancing_R2(noisy, ground_truth, t_DS_R2, σ, ρ, ν, λ_SE2, ε=ε_SE2, dxy=dxy)"
   ]
  },
  {
   "cell_type": "code",
   "execution_count": null,
   "metadata": {},
   "outputs": [],
   "source": [
    "fig, ax = plt.subplots(1, 3, figsize=(15, 5))\n",
    "ax[0].plot(PSNRs_DS_R2)\n",
    "ax[1].plot(L2s_DS_R2)\n",
    "ax[2].plot(L1s_DS_R2);"
   ]
  },
  {
   "cell_type": "code",
   "execution_count": null,
   "metadata": {},
   "outputs": [],
   "source": [
    "fig, ax = plt.subplots(1, 2, figsize=(2 * im_width, im_height))\n",
    "_, _, cbar = dsfilter.visualisations.plot_image_array(noisy, x_min, x_max, y_min, y_max, fig=fig, ax=ax[0])\n",
    "fig.colorbar(cbar, ax=ax[0])\n",
    "_, _, cbar = dsfilter.visualisations.plot_image_array(u_DS_R2, x_min, x_max, y_min, y_max, clip=clip, fig=fig, ax=ax[1])\n",
    "fig.colorbar(cbar, ax=ax[1]);"
   ]
  },
  {
   "cell_type": "code",
   "execution_count": null,
   "metadata": {},
   "outputs": [],
   "source": [
    "fig, ax = plt.subplots(2, 2, figsize=(2 * im_width, 2 * im_height))\n",
    "_, _, cbar = dsfilter.visualisations.plot_image_array(ground_truth, x_min, x_max, y_min, y_max, fig=fig, ax=ax[0, 0])\n",
    "ax[0, 0].set_title(\"Ground Truth\")\n",
    "fig.colorbar(cbar, ax=ax[0, 0])\n",
    "_, _, cbar = dsfilter.visualisations.plot_image_array(noisy, x_min, x_max, y_min, y_max, fig=fig, ax=ax[0, 1])\n",
    "ax[0, 1].set_title(\"Noisy\")\n",
    "fig.colorbar(cbar, ax=ax[0, 1])\n",
    "_, _, cbar = dsfilter.visualisations.plot_image_array(u_DS_R2, x_min, x_max, y_min, y_max, clip=clip, fig=fig, ax=ax[1, 0])\n",
    "ax[1, 0].set_title(\"Denoised\")\n",
    "fig.colorbar(cbar, ax=ax[1, 0])\n",
    "_, _, cbar = dsfilter.visualisations.plot_image_array(ground_truth - np.clip(u_DS_R2, *clip), x_min, x_max, y_min, y_max, fig=fig, ax=ax[1, 1])\n",
    "fig.colorbar(cbar, ax=ax[1, 1])\n",
    "ax[1, 1].set_title(\"Error\");"
   ]
  },
  {
   "cell_type": "code",
   "execution_count": null,
   "metadata": {},
   "outputs": [],
   "source": [
    "fig, ax = plt.subplots(1, 2, figsize=(2 * im_width, 1 * im_height))\n",
    "_, _, cbar = dsfilter.visualisations.plot_image_array(switch_morph, x_min, x_max, y_min, y_max, cmap=\"gray\", fig=fig, ax=ax[0])\n",
    "ax[0].set_title(\"Morphological Switch\")\n",
    "fig.colorbar(cbar, ax=ax[0])\n",
    "_, _, cbar = dsfilter.visualisations.plot_image_array(switch_DS, x_min, x_max, y_min, y_max, cmap=\"gray\", fig=fig, ax=ax[1])\n",
    "ax[1].set_title(\"DS Switch\")\n",
    "fig.colorbar(cbar, ax=ax[1]);"
   ]
  },
  {
   "cell_type": "code",
   "execution_count": null,
   "metadata": {},
   "outputs": [],
   "source": [
    "fig, ax = plt.subplots(1, 4, figsize=(4 * im_width, im_height))\n",
    "_, _, cbar = dsfilter.visualisations.plot_image_array(ground_truth, x_min, x_max, y_min, y_max, fig=fig, ax=ax[0])\n",
    "ax[0].set_title(\"Ground Truth\")\n",
    "fig.colorbar(cbar, ax=ax[0])\n",
    "_, _, cbar = dsfilter.visualisations.plot_image_array(noisy, x_min, x_max, y_min, y_max, fig=fig, ax=ax[1])\n",
    "ax[1].set_title(\"Noisy\")\n",
    "fig.colorbar(cbar, ax=ax[1])\n",
    "_, _, cbar = dsfilter.visualisations.plot_image_array(u_DS_R2, x_min, x_max, y_min, y_max, clip=clip, fig=fig, ax=ax[2])\n",
    "ax[2].set_title(\"Denoised\")\n",
    "fig.colorbar(cbar, ax=ax[2])\n",
    "_, _, cbar = dsfilter.visualisations.plot_image_array(ground_truth - np.clip(u_DS_R2, *clip), x_min, x_max, y_min, y_max, fig=fig, ax=ax[3])\n",
    "fig.colorbar(cbar, ax=ax[3])\n",
    "ax[3].set_title(\"Error\");"
   ]
  },
  {
   "cell_type": "code",
   "execution_count": null,
   "metadata": {},
   "outputs": [],
   "source": [
    "margin = 0.1\n",
    "fig, ax, cbar = dsfilter.visualisations.plot_image_array((np.abs((ground_truth - np.clip(u_DS_R2, *clip))) > margin).astype(np.float64), x_min, x_max, y_min, y_max, figsize=(im_width, im_height))\n",
    "fig.colorbar(cbar, ax=ax)\n",
    "ax.set_title(f\"Error > {margin}\");"
   ]
  },
  {
   "cell_type": "code",
   "execution_count": null,
   "metadata": {},
   "outputs": [],
   "source": [
    "PSNR_DS_R2 = PSNR(u_DS_R2, ground_truth, max=255.)\n",
    "L2_DS_R2 = L2(u_DS_R2, ground_truth)\n",
    "L1_DS_R2 = L1(u_DS_R2, ground_truth)\n",
    "SSIM_DS_R2 = SSIM(u_DS_R2, ground_truth, max=255.)\n",
    "PSNR_DS_R2, L2_DS_R2, L1_DS_R2, SSIM_DS_R2"
   ]
  },
  {
   "cell_type": "markdown",
   "metadata": {},
   "source": [
    "### Comparison"
   ]
  },
  {
   "cell_type": "code",
   "execution_count": null,
   "metadata": {},
   "outputs": [],
   "source": [
    "fig, ax = plt.subplots(2, 2, figsize=(2 * im_width, 2 * im_height))\n",
    "_, _, cbar = dsfilter.visualisations.plot_image_array(ground_truth, x_min, x_max, y_min, y_max, fig=fig, ax=ax[0, 0])\n",
    "ax[0, 0].set_title(\"Ground Truth\")\n",
    "fig.colorbar(cbar, ax=ax[0, 0])\n",
    "_, _, cbar = dsfilter.visualisations.plot_image_array(noisy, x_min, x_max, y_min, y_max, fig=fig, ax=ax[0, 1])\n",
    "ax[0, 1].set_title(\"Noisy\")\n",
    "fig.colorbar(cbar, ax=ax[0, 1])\n",
    "_, _, cbar = dsfilter.visualisations.plot_image_array(U_TV_LI.sum(-1), x_min, x_max, y_min, y_max, clip=clip, fig=fig, ax=ax[1, 0])\n",
    "ax[1, 0].set_title(\"TV Flow\")\n",
    "fig.colorbar(cbar, ax=ax[1, 0])\n",
    "_, _, cbar = dsfilter.visualisations.plot_image_array(U_DS.sum(-1), x_min, x_max, y_min, y_max, clip=clip, fig=fig, ax=ax[1, 1])\n",
    "fig.colorbar(cbar, ax=ax[1, 1])\n",
    "ax[1, 1].set_title(\"DS Filtering\");"
   ]
  },
  {
   "cell_type": "code",
   "execution_count": null,
   "metadata": {},
   "outputs": [],
   "source": [
    "fig, ax = plt.subplots(2, 2, figsize=(2 * im_width, 2 * im_height))\n",
    "_, _, cbar = dsfilter.visualisations.plot_image_array(ground_truth, x_min, x_max, y_min, y_max, fig=fig, ax=ax[0, 0])\n",
    "ax[0, 0].set_title(\"Ground Truth\")\n",
    "fig.colorbar(cbar, ax=ax[0, 0])\n",
    "_, _, cbar = dsfilter.visualisations.plot_image_array(noisy, x_min, x_max, y_min, y_max, fig=fig, ax=ax[0, 1])\n",
    "ax[0, 1].set_title(\"Noisy\")\n",
    "fig.colorbar(cbar, ax=ax[0, 1])\n",
    "_, _, cbar = dsfilter.visualisations.plot_image_array(u_DS_R2, x_min, x_max, y_min, y_max, clip=clip, fig=fig, ax=ax[1, 0])\n",
    "ax[1, 0].set_title(\"$\\mathbb{R}^2$ DS Filtering\")\n",
    "fig.colorbar(cbar, ax=ax[1, 0])\n",
    "_, _, cbar = dsfilter.visualisations.plot_image_array(U_DS.sum(-1), x_min, x_max, y_min, y_max, clip=clip, fig=fig, ax=ax[1, 1])\n",
    "fig.colorbar(cbar, ax=ax[1, 1])\n",
    "ax[1, 1].set_title(\"$\\mathrm{SE}(2)$ DS Filtering\");"
   ]
  },
  {
   "cell_type": "code",
   "execution_count": null,
   "metadata": {},
   "outputs": [],
   "source": [
    "fig, ax = plt.subplots(3, 2, figsize=(2 * im_width, 3 * im_height))\n",
    "_, _, cbar = dsfilter.visualisations.plot_image_array(ground_truth, x_min, x_max, y_min, y_max, fig=fig, ax=ax[0, 0])\n",
    "ax[0, 0].set_title(\"Ground Truth\")\n",
    "fig.colorbar(cbar, ax=ax[0, 0])\n",
    "_, _, cbar = dsfilter.visualisations.plot_image_array(noisy, x_min, x_max, y_min, y_max, fig=fig, ax=ax[0, 1])\n",
    "ax[0, 1].set_title(\"Noisy\")\n",
    "fig.colorbar(cbar, ax=ax[0, 1])\n",
    "_, _, cbar = dsfilter.visualisations.plot_image_array(U_TV_LI.sum(-1), x_min, x_max, y_min, y_max, clip=clip, fig=fig, ax=ax[1, 0])\n",
    "ax[1, 0].set_title(\"Left Invariant TV Flow\")\n",
    "fig.colorbar(cbar, ax=ax[1, 0])\n",
    "_, _, cbar = dsfilter.visualisations.plot_image_array(U_TV_gauge.sum(-1), x_min, x_max, y_min, y_max, clip=clip, fig=fig, ax=ax[1, 1])\n",
    "ax[1, 1].set_title(\"Gauge TV Flow\")\n",
    "fig.colorbar(cbar, ax=ax[1, 1])\n",
    "_, _, cbar = dsfilter.visualisations.plot_image_array(u_DS_R2, x_min, x_max, y_min, y_max, clip=clip, fig=fig, ax=ax[2, 0])\n",
    "fig.colorbar(cbar, ax=ax[2, 0])\n",
    "ax[2, 0].set_title(\"$\\mathbb{R}^2$ DS Filtering\")\n",
    "_, _, cbar = dsfilter.visualisations.plot_image_array(U_DS.sum(-1), x_min, x_max, y_min, y_max, clip=clip, fig=fig, ax=ax[2, 1])\n",
    "fig.colorbar(cbar, ax=ax[2, 1])\n",
    "ax[2, 1].set_title(\"$\\mathrm{SE}(2)$ DS Filtering\");"
   ]
  },
  {
   "cell_type": "code",
   "execution_count": null,
   "metadata": {},
   "outputs": [],
   "source": [
    "fig, ax = plt.subplots(3, 2, figsize=(2 * im_width, 3 * im_height))\n",
    "_, _, cbar = dsfilter.visualisations.plot_image_array(ground_truth, x_min, x_max, y_min, y_max, fig=fig, ax=ax[0, 0])\n",
    "ax[0, 0].set_title(\"Ground Truth\")\n",
    "fig.colorbar(cbar, ax=ax[0, 0])\n",
    "_, _, cbar = dsfilter.visualisations.plot_image_array(noisy, x_min, x_max, y_min, y_max, fig=fig, ax=ax[0, 1])\n",
    "ax[0, 1].set_title(\"Noisy\")\n",
    "fig.colorbar(cbar, ax=ax[0, 1])\n",
    "_, _, cbar = dsfilter.visualisations.plot_image_array(U_TV_gauge.sum(-1), x_min, x_max, y_min, y_max, clip=clip, fig=fig, ax=ax[1, 0])\n",
    "ax[1, 0].set_title(\"Gauge TV Flow\")\n",
    "fig.colorbar(cbar, ax=ax[1, 0])\n",
    "_, _, cbar = dsfilter.visualisations.plot_image_array(u_DS_R2, x_min, x_max, y_min, y_max, clip=clip, fig=fig, ax=ax[1, 1])\n",
    "fig.colorbar(cbar, ax=ax[1, 1])\n",
    "ax[1, 1].set_title(\"$\\mathbb{R}^2$ DS Filtering\")\n",
    "_, _, cbar = dsfilter.visualisations.plot_image_array(U_DS.sum(-1), x_min, x_max, y_min, y_max, clip=clip, fig=fig, ax=ax[2, 0])\n",
    "fig.colorbar(cbar, ax=ax[2, 0])\n",
    "ax[2, 0].set_title(\"Left Invariant DS Filtering\")\n",
    "_, _, cbar = dsfilter.visualisations.plot_image_array(U_DS_gauge.sum(-1), x_min, x_max, y_min, y_max, clip=clip, fig=fig, ax=ax[2, 1])\n",
    "fig.colorbar(cbar, ax=ax[2, 1])\n",
    "ax[2, 1].set_title(\"Gauge DS Filtering\");"
   ]
  },
  {
   "cell_type": "code",
   "execution_count": 66,
   "metadata": {},
   "outputs": [],
   "source": [
    "if savefigures:\n",
    "    fig.savefig(f\"{log_folder}\\\\{test_case}\\\\{storage_name}_{date}.svg\", bbox_inches=\"tight\", dpi=200)"
   ]
  },
  {
   "cell_type": "code",
   "execution_count": 67,
   "metadata": {},
   "outputs": [],
   "source": [
    "ts_TV_LI = np.linspace(0, 1, len(PSNRs_TV_LI))\n",
    "ts_TV_gauge = np.linspace(0, 1, len(PSNRs_TV_gauge))\n",
    "ts_DS_LI = np.linspace(0, 1, len(PSNRs_DS_LI))\n",
    "ts_DS_gauge = np.linspace(0, 1, len(PSNRs_DS_gauge))\n",
    "ts_DS_R2 = np.linspace(0, 1, len(PSNRs_DS_R2))"
   ]
  },
  {
   "cell_type": "code",
   "execution_count": null,
   "metadata": {},
   "outputs": [],
   "source": [
    "fig, ax = plt.subplots(1, 3, figsize=(15, 5))\n",
    "ax[0].plot(ts_TV_LI, PSNRs_TV_LI, label=\"TV LI\", color=\"red\")\n",
    "ax[0].plot(ts_TV_gauge, PSNRs_TV_gauge, label=\"TV Gauge\", color=\"red\", linestyle=\"dashed\")\n",
    "ax[0].plot(ts_DS_LI, PSNRs_DS_LI, label=\"DS LI\", color=\"green\")\n",
    "ax[0].plot(ts_DS_gauge, PSNRs_DS_gauge, label=\"DS Gauge\", color=\"green\", linestyle=\"dashed\")\n",
    "ax[0].plot(ts_DS_R2, PSNRs_DS_R2, label=\"DS $\\mathbb{R}^2$\", color=\"blue\")\n",
    "ax[0].set_title(\"PSNR\")\n",
    "ax[0].set_xlim(0., 1.)\n",
    "ax[0].set_xlabel(\"$\\\\tilde{t}$\")\n",
    "ax[0].set_ylabel(\"PSNR (dB)\")\n",
    "ax[0].legend()\n",
    "ax[1].plot(ts_TV_LI, L2s_TV_LI, label=\"TV LI\", color=\"red\")\n",
    "ax[1].plot(ts_TV_gauge, L2s_TV_gauge, label=\"TV Gauge\", color=\"red\", linestyle=\"dashed\")\n",
    "ax[1].plot(ts_DS_LI, L2s_DS_LI, label=\"DS LI\", color=\"green\")\n",
    "ax[1].plot(ts_DS_gauge, L2s_DS_gauge, label=\"DS Gauge\", color=\"green\", linestyle=\"dashed\")\n",
    "ax[1].plot(ts_DS_R2, L2s_DS_R2, label=\"DS $\\mathbb{R}^2$\", color=\"blue\")\n",
    "ax[1].set_title(\"$\\mathbb{L}_2$ Error\")\n",
    "ax[1].set_xlim(0., 1.)\n",
    "ax[1].set_xlabel(\"$\\\\tilde{t}$\")\n",
    "ax[1].set_ylabel(\"$\\Vert u - \\\\text{ground truth} \\Vert_2$\")\n",
    "ax[1].legend()\n",
    "ax[2].plot(ts_TV_LI, L1s_TV_LI, label=\"TV LI\", color=\"red\")\n",
    "ax[2].plot(ts_TV_gauge, L1s_TV_gauge, label=\"TV Gauge\", color=\"red\", linestyle=\"dashed\")\n",
    "ax[2].plot(ts_DS_LI, L1s_DS_LI, label=\"DS LI\", color=\"green\")\n",
    "ax[2].plot(ts_DS_gauge, L1s_DS_gauge, label=\"DS Gauge\", color=\"green\", linestyle=\"dashed\")\n",
    "ax[2].plot(ts_DS_R2, L1s_DS_R2, label=\"DS $\\mathbb{R}^2$\", color=\"blue\")\n",
    "ax[2].set_title(\"$\\mathbb{L}_1$ Error\")\n",
    "ax[2].set_xlim(0., 1.)\n",
    "ax[2].set_xlabel(\"$\\\\tilde{t}$\")\n",
    "ax[2].set_ylabel(\"$\\Vert u - \\\\text{ground truth} \\Vert_1$\")\n",
    "ax[2].legend();"
   ]
  },
  {
   "cell_type": "code",
   "execution_count": 69,
   "metadata": {},
   "outputs": [],
   "source": [
    "if savefigures:\n",
    "    fig.savefig(f\"{log_folder}\\\\{test_case}\\\\{storage_name}_quality_measures_{date}.svg\", bbox_inches=\"tight\", dpi=200)"
   ]
  },
  {
   "cell_type": "code",
   "execution_count": 70,
   "metadata": {},
   "outputs": [],
   "source": [
    "if savedata:\n",
    "    data_PSNRs_TV_LI = np.array((ts_TV_LI, PSNRs_TV_LI)).transpose()\n",
    "    data_PSNRs_TV_gauge = np.array((ts_TV_gauge, PSNRs_TV_gauge)).transpose()\n",
    "    data_PSNRs_DS_LI = np.array((ts_DS_LI, PSNRs_DS_LI)).transpose()\n",
    "    data_PSNRs_DS_gauge = np.array((ts_DS_gauge, PSNRs_DS_gauge)).transpose()\n",
    "    data_PSNRs_DS_R2 = np.array((ts_DS_R2, PSNRs_DS_R2)).transpose()\n",
    "    np.savetxt(f\"{log_folder}\\\\data\\\\{test_case}\\\\{storage_name}_PSNR_TV_LI.csv\", data_PSNRs_TV_LI, delimiter=\",\")\n",
    "    np.savetxt(f\"{log_folder}\\\\data\\\\{test_case}\\\\{storage_name}_PSNR_TV_gauge.csv\", data_PSNRs_TV_gauge, delimiter=\",\")\n",
    "    np.savetxt(f\"{log_folder}\\\\data\\\\{test_case}\\\\{storage_name}_PSNR_DS_LI.csv\", data_PSNRs_DS_LI, delimiter=\",\")\n",
    "    np.savetxt(f\"{log_folder}\\\\data\\\\{test_case}\\\\{storage_name}_PSNR_DS_gauge.csv\", data_PSNRs_DS_gauge, delimiter=\",\")\n",
    "    np.savetxt(f\"{log_folder}\\\\data\\\\{test_case}\\\\{storage_name}_PSNR_DS_R2.csv\", data_PSNRs_DS_R2, delimiter=\",\")\n",
    "    \n",
    "    data_L2s_TV_LI = np.array((ts_TV_LI, L2s_TV_LI)).transpose()\n",
    "    data_L2s_TV_gauge = np.array((ts_TV_gauge, L2s_TV_gauge)).transpose()\n",
    "    data_L2s_DS_LI = np.array((ts_DS_LI, L2s_DS_LI)).transpose()\n",
    "    data_L2s_DS_gauge = np.array((ts_DS_gauge, L2s_DS_gauge)).transpose()\n",
    "    data_L2s_DS_R2 = np.array((ts_DS_R2, L2s_DS_R2)).transpose()\n",
    "    np.savetxt(f\"{log_folder}\\\\data\\\\{test_case}\\\\{storage_name}_L2_TV_LI.csv\", data_L2s_TV_LI, delimiter=\",\")\n",
    "    np.savetxt(f\"{log_folder}\\\\data\\\\{test_case}\\\\{storage_name}_L2_TV_gauge.csv\", data_L2s_TV_gauge, delimiter=\",\")\n",
    "    np.savetxt(f\"{log_folder}\\\\data\\\\{test_case}\\\\{storage_name}_L2_DS_LI.csv\", data_L2s_DS_LI, delimiter=\",\")\n",
    "    np.savetxt(f\"{log_folder}\\\\data\\\\{test_case}\\\\{storage_name}_L2_DS_gauge.csv\", data_L2s_DS_gauge, delimiter=\",\")\n",
    "    np.savetxt(f\"{log_folder}\\\\data\\\\{test_case}\\\\{storage_name}_L2_DS_R2.csv\", data_L2s_DS_R2, delimiter=\",\")\n",
    "    \n",
    "    data_L1s_TV_LI = np.array((ts_TV_LI, L1s_TV_LI)).transpose()\n",
    "    data_L1s_TV_gauge = np.array((ts_TV_gauge, L1s_TV_gauge)).transpose()\n",
    "    data_L1s_DS_LI = np.array((ts_DS_LI, L1s_DS_LI)).transpose()\n",
    "    data_L1s_DS_gauge = np.array((ts_DS_gauge, L1s_DS_gauge)).transpose()\n",
    "    data_L1s_DS_R2 = np.array((ts_DS_R2, L1s_DS_R2)).transpose()\n",
    "    np.savetxt(f\"{log_folder}\\\\data\\\\{test_case}\\\\{storage_name}_L1_TV_LI.csv\", data_L1s_TV_LI, delimiter=\",\")\n",
    "    np.savetxt(f\"{log_folder}\\\\data\\\\{test_case}\\\\{storage_name}_L1_TV_gauge.csv\", data_L1s_TV_gauge, delimiter=\",\")\n",
    "    np.savetxt(f\"{log_folder}\\\\data\\\\{test_case}\\\\{storage_name}_L1_DS_LI.csv\", data_L1s_DS_LI, delimiter=\",\")\n",
    "    np.savetxt(f\"{log_folder}\\\\data\\\\{test_case}\\\\{storage_name}_L1_DS_gauge.csv\", data_L1s_DS_gauge, delimiter=\",\")\n",
    "    np.savetxt(f\"{log_folder}\\\\data\\\\{test_case}\\\\{storage_name}_L1_DS_R2.csv\", data_L1s_DS_R2, delimiter=\",\")\n"
   ]
  },
  {
   "cell_type": "code",
   "execution_count": null,
   "metadata": {},
   "outputs": [],
   "source": [
    "# Generate Markdown\n",
    "markdown_content = f\"\"\"\n",
    "| Denoiser | PSNR | $\\mathbb{{L}}_1$ | $\\mathbb{{L}}_2$ | SSIM |\n",
    "|:-:|-:|-:|-:|-:|\n",
    "| - | {PSNR_noisy:.2f} | {L1_noisy:.2f} | {L2_noisy:.2f} | {SSIM_noisy:.3f} |\n",
    "| LI TV | {PSNR_TV_LI:.2f} | {L1_TV_LI:.2f} | {L2_TV_LI:.2f} | {SSIM_TV_LI:.3f} |\n",
    "| Gauge TV | {PSNR_TV_gauge:.2f} | {L1_TV_gauge:.2f} | {L2_TV_gauge:.2f} | {SSIM_TV_gauge:.3f} |\n",
    "| $\\mathbb{{R}}^2$ DS | {PSNR_DS_R2:.2f} | {L1_DS_R2:.2f} | {L2_DS_R2:.2f} | {SSIM_DS_R2:.3f} |\n",
    "| LI DS | {PSNR_DS:.2f} | {L1_DS:.2f} | {L2_DS:.2f} | {SSIM_DS:.3f} |\n",
    "| Gauge DS | {PSNR_DS_gauge:.2f} | {L1_DS_gauge:.2f} | {L2_DS_gauge:.2f} | {SSIM_DS_gauge:.3f} |\n",
    "\"\"\"\n",
    "\n",
    "# Display Markdown\n",
    "display(Markdown(markdown_content))"
   ]
  },
  {
   "cell_type": "markdown",
   "metadata": {},
   "source": [
    "Mona Lisa\n",
    "\n",
    "| Denoiser | PSNR | $\\mathbb{L}_1$ | $\\mathbb{L}_2$ | SSIM |\n",
    "|:-:|-:|-:|-:|-:|\n",
    "| - | 24.53 | 11.96 | 15.14 | 0.560 |\n",
    "| LI TV | 26.95 | 8.50 | 11.45 | 0.627 |\n",
    "| Gauge TV | 26.94 | 8.52 | 11.47 | 0.625 |\n",
    "| $\\mathbb{R}^2$ DS | 26.04 | 9.32 | 12.72 | 0.553 |\n",
    "| SE(2) DS | 26.16 | 9.22 | 12.54 | 0.560 |"
   ]
  },
  {
   "cell_type": "markdown",
   "metadata": {},
   "source": [
    "Spiral\n",
    "\n",
    "| Denoiser | PSNR | $\\mathbb{L}_1$ | $\\mathbb{L}_2$ | SSIM |\n",
    "|:-:|-:|-:|-:|-:|\n",
    "| - | 26.30 | 8.09 | 12.34 | 0.719 |\n",
    "| LI TV | 23.10 | 13.08 | 17.85 | 0.915 |\n",
    "| Gauge TV | 23.18 | 12.89 | 17.69 | 0.912 |\n",
    "| $\\mathbb{R}^2$ DS | 23.49 | 7.81 | 17.07 | 0.948 |\n",
    "| SE(2) DS | 25.75 | 7.70 | 13.16 | 0.944 |"
   ]
  }
 ],
 "metadata": {
  "kernelspec": {
   "display_name": "dsfilterexplore",
   "language": "python",
   "name": "python3"
  },
  "language_info": {
   "codemirror_mode": {
    "name": "ipython",
    "version": 3
   },
   "file_extension": ".py",
   "mimetype": "text/x-python",
   "name": "python",
   "nbconvert_exporter": "python",
   "pygments_lexer": "ipython3",
   "version": "3.10.13"
  }
 },
 "nbformat": 4,
 "nbformat_minor": 2
}
