{
 "cells": [
  {
   "cell_type": "markdown",
   "metadata": {},
   "source": [
    "# Diffusion-Shock Inpainting\n",
    "Diffusion-shock inpainting (DS) is a technique to fill in missing structures in images, developed in [\"Diffusion-Shock Inpainting\" (2023) by K. Schaefer and J. Weickert](https://link.springer.com/chapter/10.1007/978-3-031-31975-4_45) and the follow-up paper [\"Regularised Diffusion-Shock Inpainting\" (2023) by K. Schaefer and J. Weickert](https://arxiv.org/abs/2309.08761). In this notebook, we will first look at DS in the same setting as considered in these two papers, namely applied to images on $\\mathbb{R}^2$. We will subsequently attempt to extend it to orientation scores in  $SE(2)$ (maybe even $SE(3)$ eventually?).\n",
    "\n",
    "We can describe DS in a PDE-based formulation as\n",
    "$$\n",
    "\\partial_t u = g(\\lvert \\nabla (G_{\\nu} * u) \\rvert^2) \\underbrace{\\Delta u}_{\\textrm{Diffusion}} - \\left(1 - g(\\lvert \\nabla (G_{\\nu} * u) \\rvert^2)\\right) \\underbrace{\\mathrm{sgn}(\\partial_{\\vec{w} \\vec{w}} (G_{\\sigma} * u)) \\lvert \\nabla u \\rvert}_{\\textrm{Shock}},\n",
    "$$\n",
    "in which $g: [0, \\infty) \\to (0, 1]$ is a decreasing function with $g(0) = 1$, $G_{\\alpha}$ is a Gaussian with standard deviation $\\alpha$, and $\\vec{w}$ is the dominant eigenvector of the structure tensor. It is clear then that $g$ switches between applying diffusion and shock: if the gradient of the image is small, we mostly apply diffusion, but if the gradient is large, we mostly apply shock. This makes sense, since a large gradient implies that there is a feature there, which we would like to sharpen up. \n",
    "\n",
    "The signum in the shock term switches between erosion and dilation. If the second derivative with respect to the dominant eigenvector of the structure tensor is positive, then we perform erosion (defined by the PDE $\\partial_t u = -\\lvert \\nabla u \\rvert$); otherwise we perform dilation (defined by the PDE $\\partial_t u = -\\lvert \\nabla u \\rvert$). In regularised DS, the signum is replaced with a soft signum, so that the selection of erosion vs dilation is less sensitive to noise. The signum of the second derivative of the dominant eigenvector of the structure tensor is not unlike the convexity criterion we know from studying vesselness; perhaps we could replace it?\n",
    "\n",
    "What is the correct way to extend DS to $SE(2)$? It would make sense to keep the gradients and Laplacian. For the selection of erosion vs dilation we could again look at the vesselness convexity criterion. For switching between diffusion and shock, we could maybe use some sort of line/edge detector."
   ]
  },
  {
   "cell_type": "code",
   "execution_count": null,
   "metadata": {},
   "outputs": [],
   "source": [
    "import taichi as ti\n",
    "ti.init(arch=ti.gpu, debug=False)\n",
    "import numpy as np\n",
    "# from PIL import Image\n",
    "from tqdm import tqdm\n",
    "import matplotlib.pyplot as plt\n",
    "# %matplotlib widget"
   ]
  },
  {
   "cell_type": "markdown",
   "metadata": {},
   "source": [
    "## $\\mathbb{R}^2$\n",
    "We will start by reproducing the algorithm described in [\"Diffusion-Shock Inpainting\" (2023) by K. Schaefer and J. Weickert](https://link.springer.com/chapter/10.1007/978-3-031-31975-4_45) on $\\mathbb{R}^2$."
   ]
  },
  {
   "cell_type": "code",
   "execution_count": null,
   "metadata": {},
   "outputs": [],
   "source": [
    "dim_I, dim_J = 256, 256\n",
    "u = np.ones((dim_I, dim_J))\n",
    "u[:, :25] = 0.\n",
    "u[:, 100:160] = 0.\n",
    "u[:, -25:] = 0.\n",
    "\n",
    "u[100:160, :] = 0.5"
   ]
  },
  {
   "cell_type": "code",
   "execution_count": null,
   "metadata": {},
   "outputs": [],
   "source": [
    "fig, ax = plt.subplots(1, 1, figsize=(12, 10))\n",
    "orig = ax.imshow(u, origin=\"lower\")\n",
    "ax.set_title(\"$u$\")\n",
    "fig.colorbar(orig, ax=ax)\n",
    "ax.set_xlim(0, u.shape[0]-1)\n",
    "ax.set_ylim(0, u.shape[1]-1)\n",
    "ax.set_xlabel(\"$x$\")\n",
    "ax.set_ylabel(\"$y$\");"
   ]
  },
  {
   "cell_type": "code",
   "execution_count": null,
   "metadata": {},
   "outputs": [],
   "source": [
    "import dsfilter"
   ]
  },
  {
   "cell_type": "code",
   "execution_count": null,
   "metadata": {},
   "outputs": [],
   "source": [
    "u_filtered = dsfilter.DS_filter_R2(u, 3, 3, 2, 1., 1000)"
   ]
  },
  {
   "cell_type": "code",
   "execution_count": null,
   "metadata": {},
   "outputs": [],
   "source": [
    "fig, ax = plt.subplots(1, 1, figsize=(12, 10))\n",
    "orig = ax.imshow(u_filtered, origin=\"lower\")\n",
    "ax.set_title(\"$u$\")\n",
    "fig.colorbar(orig, ax=ax)\n",
    "ax.set_xlim(0, u.shape[0]-1)\n",
    "ax.set_ylim(0, u.shape[1]-1)\n",
    "ax.set_xlabel(\"$x$\")\n",
    "ax.set_ylabel(\"$y$\");"
   ]
  },
  {
   "cell_type": "code",
   "execution_count": null,
   "metadata": {},
   "outputs": [],
   "source": []
  }
 ],
 "metadata": {
  "kernelspec": {
   "display_name": "Python 3",
   "language": "python",
   "name": "python3"
  },
  "language_info": {
   "codemirror_mode": {
    "name": "ipython",
    "version": 3
   },
   "file_extension": ".py",
   "mimetype": "text/x-python",
   "name": "python",
   "nbconvert_exporter": "python",
   "pygments_lexer": "ipython3",
   "version": "3.10.13"
  }
 },
 "nbformat": 4,
 "nbformat_minor": 2
}
