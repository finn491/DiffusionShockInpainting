{
 "cells": [
  {
   "cell_type": "markdown",
   "metadata": {},
   "source": [
    "# Evolution PDE Stability"
   ]
  },
  {
   "cell_type": "code",
   "execution_count": null,
   "metadata": {},
   "outputs": [],
   "source": [
    "import taichi as ti\n",
    "ti.init(arch=ti.cpu, debug=False)\n",
    "import numpy as np\n",
    "import scipy as sp\n",
    "import matplotlib.pyplot as plt\n",
    "from tqdm import tqdm\n",
    "# %matplotlib widget"
   ]
  },
  {
   "cell_type": "code",
   "execution_count": null,
   "metadata": {},
   "outputs": [],
   "source": [
    "from dsfilter.SE2.LI.derivatives import(\n",
    "    laplacian,\n",
    "    morphological\n",
    ")\n",
    "from dsfilter.SE2.LI.filter import (\n",
    "    compute_timestep_diffusion,\n",
    "    compute_timestep_shock\n",
    ")\n",
    "import dsfilter"
   ]
  },
  {
   "cell_type": "markdown",
   "metadata": {},
   "source": [
    "## Diffusion"
   ]
  },
  {
   "cell_type": "code",
   "execution_count": null,
   "metadata": {},
   "outputs": [],
   "source": [
    "test_case = 1"
   ]
  },
  {
   "cell_type": "code",
   "execution_count": null,
   "metadata": {},
   "outputs": [],
   "source": [
    "match test_case:\n",
    "    case 1: # Grid of lines (black)\n",
    "        dim_I, dim_J = 128, 128\n",
    "        u = np.ones((dim_I, dim_J)) * 255.\n",
    "        N_lines = 4\n",
    "        offset = dim_I // (N_lines + 1)\n",
    "        for k in range(N_lines):\n",
    "            centre = (k + 1) * offset\n",
    "            u[(centre-1):(centre+2), :] = 0.\n",
    "            u[:, (centre-1):(centre+2)] = 0.\n",
    "        xs, ys = np.meshgrid(np.linspace(-1, 1, dim_I), np.linspace(-1, 1, dim_J))\n",
    "        mask = (xs**2 + ys**2) < 0.6\n",
    "        u[mask] = 255.\n",
    "\n",
    "        G_D_inv = np.array((1., 1., 0.05))\n",
    "\n",
    "        u = sp.ndimage.gaussian_filter(u, 2)\n",
    "    case 2: # Grid of lines (alternating black and white)\n",
    "        dim_I, dim_J = 128, 128\n",
    "        u = np.ones((dim_I, dim_J)) * 0.5 * 255.\n",
    "        N_lines = 5\n",
    "        offset = dim_I // (N_lines + 1)\n",
    "        colour = 0. # black\n",
    "        for k in range(N_lines):\n",
    "            centre = (k + 1) * offset\n",
    "            u[(centre-1):(centre+2), :] = colour\n",
    "            u[:, (centre-1):(centre+2)] = 255. - colour\n",
    "            colour = 255. - colour\n",
    "        xs, ys = np.meshgrid(np.linspace(-1, 1, dim_I), np.linspace(-1, 1, dim_J))\n",
    "        mask = (xs**2 + ys**2) < 0.6\n",
    "        u[mask] = 0.5 * 255.\n",
    "\n",
    "        G_D_inv = np.array((1., 1., 0.05))\n",
    "\n",
    "        u = sp.ndimage.gaussian_filter(u, 2)\n",
    "\n",
    "\n",
    "dim_I, dim_J = u.shape\n",
    "dim_K = 16\n",
    "Is, Js, Ks = np.indices((dim_I, dim_J, dim_K))\n",
    "x_min, x_max = 0., dim_I - 1.\n",
    "y_min, y_max = 0., dim_J - 1.\n",
    "θ_min, θ_max = 0., 2 * np.pi\n",
    "dxy = (x_max - x_min) / (dim_I - 1)\n",
    "dθ = (θ_max - θ_min) / dim_K\n",
    "xs, ys, θs = dsfilter.SE2.utils.coordinate_array_to_real(Is, Js, Ks, x_min, y_min, θ_min, dxy, dθ)"
   ]
  },
  {
   "cell_type": "code",
   "execution_count": null,
   "metadata": {},
   "outputs": [],
   "source": [
    "cws = dsfilter.orientationscore.cakewavelet_stack(dim_I, dim_K, Gaussian_σ=dim_I/8)\n",
    "U = dsfilter.orientationscore.wavelet_transform(u, cws.real)\n",
    "U = np.transpose(U, axes=(1, 2, 0)) # x, y, θ"
   ]
  },
  {
   "cell_type": "code",
   "execution_count": null,
   "metadata": {},
   "outputs": [],
   "source": [
    "K = 0\n",
    "print(θs[0, 0, K])\n",
    "fig, ax = plt.subplots(1, 2, figsize=(12, 5))\n",
    "_, _, cbar = dsfilter.visualisations.plot_image_array(U[..., K], x_min, x_max, y_min, y_max, cmap=\"gray\", fig=fig, ax=ax[0])\n",
    "ax[0].set_title(f\"$U(\\cdot, {θs[0, 0, K]:.2f})$\")\n",
    "fig.colorbar(cbar, ax=ax[0])\n",
    "_, _, cbar = dsfilter.visualisations.plot_image_array(U.sum(-1), x_min, x_max, y_min, y_max, cmap=\"gray\", fig=fig, ax=ax[1])\n",
    "ax[1].set_title(\"$\\int_θ U(\\cdot, θ) dθ$\")\n",
    "fig.colorbar(cbar, ax=ax[1]);"
   ]
  },
  {
   "cell_type": "code",
   "execution_count": null,
   "metadata": {},
   "outputs": [],
   "source": [
    "def diffusion(U_np, G_inv_np, dxy, dθ, θs_np, T):\n",
    "    U = ti.field(dtype=ti.f32, shape=U_np.shape)\n",
    "    U.from_numpy(U_np)\n",
    "    G_inv = ti.Matrix(G_inv_np, dt=ti.f32)\n",
    "    θs = ti.field(dtype=ti.f32, shape=θs_np.shape)\n",
    "    θs.from_numpy(θs_np)\n",
    "    laplacian_u = ti.field(dtype=ti.f32, shape=U.shape)\n",
    "    τ = compute_timestep_diffusion(dxy, dθ, G_D_inv)\n",
    "    print(τ)\n",
    "    for _ in tqdm(range(T)):\n",
    "        laplacian(U, G_inv, dxy, dθ, θs, laplacian_u)\n",
    "        step_diffusion(U, τ, laplacian_u)\n",
    "    return U.to_numpy()\n",
    "    \n",
    "\n",
    "@ti.kernel\n",
    "def step_diffusion(\n",
    "    U: ti.template(),\n",
    "    τ: ti.f32,\n",
    "    laplacian_u: ti.template()\n",
    "):\n",
    "    for I in ti.grouped(laplacian_u):\n",
    "        U[I] += τ * laplacian_u[I]"
   ]
  },
  {
   "cell_type": "code",
   "execution_count": null,
   "metadata": {},
   "outputs": [],
   "source": [
    "U_diffused_isotropic = diffusion(U, np.array((1., 1., 0.001)), dxy, dθ, θs, 1000)\n",
    "U_diffused_anisotropic = diffusion(U, np.array((1., 0., 0.001)), dxy, dθ, θs, 1000)"
   ]
  },
  {
   "cell_type": "code",
   "execution_count": null,
   "metadata": {},
   "outputs": [],
   "source": [
    "print(U.min(), U.max())\n",
    "print(U_diffused_isotropic.min(), U_diffused_isotropic.max())\n",
    "print(U_diffused_anisotropic.min(), U_diffused_anisotropic.max())"
   ]
  },
  {
   "cell_type": "code",
   "execution_count": null,
   "metadata": {},
   "outputs": [],
   "source": [
    "K = 0\n",
    "print(θs[0, 0, K])\n",
    "fig, ax = plt.subplots(1, 2, figsize=(12, 5))\n",
    "_, _, cbar = dsfilter.visualisations.plot_image_array(U_diffused_anisotropic[..., K], x_min, x_max, y_min, y_max, cmap=\"gray\", fig=fig, ax=ax[0])\n",
    "ax[0].set_title(f\"$U(\\cdot, {θs[0, 0, K]:.2f})$\")\n",
    "fig.colorbar(cbar, ax=ax[0])\n",
    "_, _, cbar = dsfilter.visualisations.plot_image_array(U_diffused_anisotropic.sum(-1), x_min, x_max, y_min, y_max, cmap=\"gray\", fig=fig, ax=ax[1])\n",
    "ax[1].set_title(\"$\\int_θ U(\\cdot, θ) dθ$\")\n",
    "fig.colorbar(cbar, ax=ax[1]);"
   ]
  },
  {
   "cell_type": "code",
   "execution_count": null,
   "metadata": {},
   "outputs": [],
   "source": [
    "K = 0\n",
    "print(θs[0, 0, K])\n",
    "fig, ax = plt.subplots(1, 2, figsize=(12, 5))\n",
    "_, _, cbar = dsfilter.visualisations.plot_image_array(U_diffused_isotropic[..., K], x_min, x_max, y_min, y_max, cmap=\"gray\", fig=fig, ax=ax[0])\n",
    "ax[0].set_title(f\"$U(\\cdot, {θs[0, 0, K]:.2f})$\")\n",
    "fig.colorbar(cbar, ax=ax[0])\n",
    "_, _, cbar = dsfilter.visualisations.plot_image_array(U_diffused_isotropic.sum(-1), x_min, x_max, y_min, y_max, cmap=\"gray\", fig=fig, ax=ax[1])\n",
    "ax[1].set_title(\"$\\int_θ U(\\cdot, θ) dθ$\")\n",
    "fig.colorbar(cbar, ax=ax[1]);"
   ]
  },
  {
   "cell_type": "code",
   "execution_count": null,
   "metadata": {},
   "outputs": [],
   "source": [
    "np.max(np.abs(U_diffused_anisotropic - U_diffused_isotropic))"
   ]
  },
  {
   "cell_type": "code",
   "execution_count": null,
   "metadata": {},
   "outputs": [],
   "source": [
    "K = 0\n",
    "print(θs[0, 0, K])\n",
    "fig, ax = plt.subplots(1, 2, figsize=(12, 5))\n",
    "_, _, cbar = dsfilter.visualisations.plot_image_array((U_diffused_anisotropic - U_diffused_isotropic)[..., K], x_min, x_max, y_min, y_max, cmap=\"gray\", fig=fig, ax=ax[0])\n",
    "ax[0].set_title(f\"$U(\\cdot, {θs[0, 0, K]:.2f})$\")\n",
    "fig.colorbar(cbar, ax=ax[0])\n",
    "_, _, cbar = dsfilter.visualisations.plot_image_array((U_diffused_anisotropic - U_diffused_isotropic).sum(-1), x_min, x_max, y_min, y_max, cmap=\"gray\", fig=fig, ax=ax[1])\n",
    "ax[1].set_title(\"$\\int_θ U(\\cdot, θ) dθ$\")\n",
    "fig.colorbar(cbar, ax=ax[1]);"
   ]
  },
  {
   "cell_type": "markdown",
   "metadata": {},
   "source": [
    "## Shock"
   ]
  },
  {
   "cell_type": "markdown",
   "metadata": {},
   "source": [
    "### Dilation & Erosion"
   ]
  },
  {
   "cell_type": "code",
   "execution_count": null,
   "metadata": {},
   "outputs": [],
   "source": [
    "test_case = 3"
   ]
  },
  {
   "cell_type": "code",
   "execution_count": null,
   "metadata": {},
   "outputs": [],
   "source": [
    "match test_case:\n",
    "    case 1: # Grid of lines (black)\n",
    "        dim_I, dim_J = 128, 128\n",
    "        u = np.ones((dim_I, dim_J)) * 255.\n",
    "        N_lines = 4\n",
    "        offset = dim_I // (N_lines + 1)\n",
    "        for k in range(N_lines):\n",
    "            centre = (k + 1) * offset\n",
    "            u[(centre-1):(centre+2), :] = 0.\n",
    "            u[:, (centre-1):(centre+2)] = 0.\n",
    "        xs, ys = np.meshgrid(np.linspace(-1, 1, dim_I), np.linspace(-1, 1, dim_J))\n",
    "        mask = (xs**2 + ys**2) < 0.6\n",
    "        u[mask] = 255.\n",
    "\n",
    "        G_D_inv = np.array((1., 1., 0.05))\n",
    "\n",
    "        u = sp.ndimage.gaussian_filter(u, 2)\n",
    "    case 2: # Grid of lines (alternating black and white)\n",
    "        dim_I, dim_J = 128, 128\n",
    "        u = np.ones((dim_I, dim_J)) * 0.5 * 255.\n",
    "        N_lines = 5\n",
    "        offset = dim_I // (N_lines + 1)\n",
    "        colour = 0. # black\n",
    "        for k in range(N_lines):\n",
    "            centre = (k + 1) * offset\n",
    "            u[(centre-1):(centre+2), :] = colour\n",
    "            u[:, (centre-1):(centre+2)] = 255. - colour\n",
    "            colour = 255. - colour\n",
    "        xs, ys = np.meshgrid(np.linspace(-1, 1, dim_I), np.linspace(-1, 1, dim_J))\n",
    "        mask = (xs**2 + ys**2) < 0.6\n",
    "        u[mask] = 0.5 * 255.\n",
    "\n",
    "        G_D_inv = np.array((1., 1., 0.05))\n",
    "\n",
    "        u = sp.ndimage.gaussian_filter(u, 2)\n",
    "\n",
    "\n",
    "    case 3: # Grid of lines (alternating black and white)\n",
    "        dim_I, dim_J = 128, 128\n",
    "        u = np.ones((dim_I, dim_J))\n",
    "        u[:dim_I//2, :] = 0.\n",
    "\n",
    "        G_D_inv = np.array((1., 1., 0.05))\n",
    "\n",
    "        u = sp.ndimage.gaussian_filter(u, 2)\n",
    "\n",
    "\n",
    "dim_I, dim_J = u.shape\n",
    "dim_K = 16\n",
    "Is, Js, Ks = np.indices((dim_I, dim_J, dim_K))\n",
    "x_min, x_max = 0., dim_I - 1.\n",
    "y_min, y_max = 0., dim_J - 1.\n",
    "θ_min, θ_max = 0., 2 * np.pi\n",
    "dxy = (x_max - x_min) / (dim_I - 1)\n",
    "dθ = (θ_max - θ_min) / dim_K\n",
    "xs, ys, θs = dsfilter.SE2.utils.coordinate_array_to_real(Is, Js, Ks, x_min, y_min, θ_min, dxy, dθ)"
   ]
  },
  {
   "cell_type": "code",
   "execution_count": null,
   "metadata": {},
   "outputs": [],
   "source": [
    "cws = dsfilter.orientationscore.cakewavelet_stack(dim_I, dim_K, Gaussian_σ=dim_I/8)\n",
    "U = dsfilter.orientationscore.wavelet_transform(u, cws.real)\n",
    "U = np.transpose(U, axes=(1, 2, 0)) # x, y, θ"
   ]
  },
  {
   "cell_type": "code",
   "execution_count": null,
   "metadata": {},
   "outputs": [],
   "source": [
    "U = np.ones((dim_I, dim_J, dim_K))\n",
    "U[:dim_I//2] = 0."
   ]
  },
  {
   "cell_type": "code",
   "execution_count": null,
   "metadata": {},
   "outputs": [],
   "source": [
    "K = 0\n",
    "print(θs[0, 0, K])\n",
    "fig, ax = plt.subplots(1, 2, figsize=(12, 5))\n",
    "_, _, cbar = dsfilter.visualisations.plot_image_array(U[..., K], x_min, x_max, y_min, y_max, cmap=\"gray\", fig=fig, ax=ax[0])\n",
    "ax[0].set_title(f\"$U(\\cdot, {θs[0, 0, K]:.2f})$\")\n",
    "fig.colorbar(cbar, ax=ax[0])\n",
    "_, _, cbar = dsfilter.visualisations.plot_image_array(U.sum(-1), x_min, x_max, y_min, y_max, cmap=\"gray\", fig=fig, ax=ax[1])\n",
    "ax[1].set_title(\"$\\int_θ U(\\cdot, θ) dθ$\")\n",
    "fig.colorbar(cbar, ax=ax[1]);"
   ]
  },
  {
   "cell_type": "code",
   "execution_count": null,
   "metadata": {},
   "outputs": [],
   "source": [
    "def morph(U_np, G_inv_np, dxy, dθ, θs_np, T):\n",
    "    U_dilation = ti.field(dtype=ti.f32, shape=U_np.shape)\n",
    "    U_dilation.from_numpy(U_np)\n",
    "    U_erosion = ti.field(dtype=ti.f32, shape=U_np.shape)\n",
    "    U_erosion.from_numpy(U_np)\n",
    "    G_inv = ti.Matrix(G_inv_np, dt=ti.f32)\n",
    "    θs = ti.field(dtype=ti.f32, shape=θs_np.shape)\n",
    "    θs.from_numpy(θs_np)\n",
    "    dilation_u = ti.field(dtype=ti.f32, shape=U.shape)\n",
    "    erosion_u = ti.field(dtype=ti.f32, shape=U.shape)\n",
    "    τ = compute_timestep_shock(dxy, dθ, G_inv)\n",
    "    print(τ)\n",
    "    for _ in tqdm(range(T)):\n",
    "        morphological(U_dilation, G_inv, dxy, dθ, θs, dilation_u, erosion_u)\n",
    "        step_dilation(U_dilation, τ, dilation_u)\n",
    "        step_erosion(U_erosion, τ, erosion_u)\n",
    "    return U_dilation.to_numpy(), U_erosion.to_numpy(), erosion_u.to_numpy(), dilation_u.to_numpy()\n",
    "    \n",
    "@ti.kernel\n",
    "def step_dilation(\n",
    "    U: ti.template(),\n",
    "    τ: ti.f32,\n",
    "    dilation_u: ti.template()\n",
    "):\n",
    "    for I in ti.grouped(dilation_u):\n",
    "        U[I] += τ * dilation_u[I]\n",
    "        \n",
    "@ti.kernel\n",
    "def step_erosion(\n",
    "    U: ti.template(),\n",
    "    τ: ti.f32,\n",
    "    erosion_u: ti.template()\n",
    "):\n",
    "    for I in ti.grouped(erosion_u):\n",
    "        U[I] += τ * erosion_u[I]"
   ]
  },
  {
   "cell_type": "code",
   "execution_count": null,
   "metadata": {},
   "outputs": [],
   "source": [
    "U_dilation_isotropic, U_erosion_isotropic, erosion_isotropic, dilation_isotropic = morph(U, np.array((1., 1., 0.001)), dxy, dθ, θs, 100)\n",
    "U_dilation_anisotropic, U_erosion_anisotropic, erosion_anisotropic, dilation_anisotropic = morph(U, np.array((1., 0., 0.)), dxy, dθ, θs, 100)"
   ]
  },
  {
   "cell_type": "code",
   "execution_count": null,
   "metadata": {},
   "outputs": [],
   "source": [
    "print(U.min(), U.max())\n",
    "print(U_dilation_isotropic.min(), U_dilation_isotropic.max())\n",
    "print(U_dilation_anisotropic.min(), U_dilation_anisotropic.max())\n",
    "print(U_erosion_isotropic.min(), U_erosion_isotropic.max())\n",
    "print(U_erosion_anisotropic.min(), U_erosion_anisotropic.max())"
   ]
  },
  {
   "cell_type": "code",
   "execution_count": null,
   "metadata": {},
   "outputs": [],
   "source": [
    "K = 0\n",
    "print(θs[0, 0, K])\n",
    "fig, ax = plt.subplots(2, 2, figsize=(12, 10))\n",
    "_, _, cbar = dsfilter.visualisations.plot_image_array((erosion_anisotropic)[..., K], x_min, x_max, y_min, y_max, cmap=\"gray\", fig=fig, ax=ax[0, 0])\n",
    "ax[0, 0].set_title(f\"$U(\\cdot, {θs[0, 0, K]:.2f})$\")\n",
    "fig.colorbar(cbar, ax=ax[0, 0])\n",
    "_, _, cbar = dsfilter.visualisations.plot_image_array((erosion_anisotropic).sum(-1), x_min, x_max, y_min, y_max, cmap=\"gray\", fig=fig, ax=ax[0, 1])\n",
    "ax[0, 1].set_title(\"$\\int_θ U(\\cdot, θ) dθ$\")\n",
    "fig.colorbar(cbar, ax=ax[0, 1])\n",
    "_, _, cbar = dsfilter.visualisations.plot_image_array(dilation_anisotropic[..., K], x_min, x_max, y_min, y_max, cmap=\"gray\", fig=fig, ax=ax[1, 0])\n",
    "ax[1, 0].set_title(f\"$U(\\cdot, {θs[0, 0, K]:.2f})$\")\n",
    "fig.colorbar(cbar, ax=ax[1, 0])\n",
    "_, _, cbar = dsfilter.visualisations.plot_image_array(dilation_anisotropic.sum(-1), x_min, x_max, y_min, y_max, cmap=\"gray\", fig=fig, ax=ax[1, 1])\n",
    "ax[1, 1].set_title(\"$\\int_θ U(\\cdot, θ) dθ$\")\n",
    "fig.colorbar(cbar, ax=ax[1, 1]);"
   ]
  },
  {
   "cell_type": "code",
   "execution_count": null,
   "metadata": {},
   "outputs": [],
   "source": [
    "K = 0\n",
    "print(θs[0, 0, K])\n",
    "fig, ax = plt.subplots(2, 2, figsize=(12, 10))\n",
    "_, _, cbar = dsfilter.visualisations.plot_image_array((U_dilation_anisotropic)[..., K], x_min, x_max, y_min, y_max, cmap=\"gray\", fig=fig, ax=ax[0, 0])\n",
    "ax[0, 0].set_title(f\"$U(\\cdot, {θs[0, 0, K]:.2f})$\")\n",
    "fig.colorbar(cbar, ax=ax[0, 0])\n",
    "_, _, cbar = dsfilter.visualisations.plot_image_array(U_dilation_anisotropic.sum(-1), x_min, x_max, y_min, y_max, cmap=\"gray\", fig=fig, ax=ax[0, 1])\n",
    "ax[0, 1].set_title(\"$\\int_θ U(\\cdot, θ) dθ$\")\n",
    "fig.colorbar(cbar, ax=ax[0, 1])\n",
    "_, _, cbar = dsfilter.visualisations.plot_image_array((U_erosion_anisotropic)[..., K], x_min, x_max, y_min, y_max, cmap=\"gray\", fig=fig, ax=ax[1, 0])\n",
    "ax[1, 0].set_title(f\"$U(\\cdot, {θs[0, 0, K]:.2f})$\")\n",
    "fig.colorbar(cbar, ax=ax[1, 0])\n",
    "_, _, cbar = dsfilter.visualisations.plot_image_array(U_erosion_anisotropic.sum(-1), x_min, x_max, y_min, y_max, cmap=\"gray\", fig=fig, ax=ax[1, 1])\n",
    "ax[1, 1].set_title(\"$\\int_θ U(\\cdot, θ) dθ$\")\n",
    "fig.colorbar(cbar, ax=ax[1, 1]);"
   ]
  },
  {
   "cell_type": "code",
   "execution_count": null,
   "metadata": {},
   "outputs": [],
   "source": [
    "K = 0\n",
    "print(θs[0, 0, K])\n",
    "fig, ax = plt.subplots(2, 2, figsize=(12, 10))\n",
    "_, _, cbar = dsfilter.visualisations.plot_image_array(U_dilation_isotropic[..., K], x_min, x_max, y_min, y_max, cmap=\"gray\", fig=fig, ax=ax[0, 0])\n",
    "ax[0, 0].set_title(f\"$U(\\cdot, {θs[0, 0, K]:.2f})$\")\n",
    "fig.colorbar(cbar, ax=ax[0, 0])\n",
    "_, _, cbar = dsfilter.visualisations.plot_image_array(U_dilation_isotropic.sum(-1), x_min, x_max, y_min, y_max, cmap=\"gray\", fig=fig, ax=ax[0, 1])\n",
    "ax[0, 1].set_title(\"$\\int_θ U(\\cdot, θ) dθ$\")\n",
    "fig.colorbar(cbar, ax=ax[0, 1])\n",
    "_, _, cbar = dsfilter.visualisations.plot_image_array(U_erosion_isotropic[..., K], x_min, x_max, y_min, y_max, cmap=\"gray\", fig=fig, ax=ax[1, 0])\n",
    "ax[1, 0].set_title(f\"$U(\\cdot, {θs[0, 0, K]:.2f})$\")\n",
    "fig.colorbar(cbar, ax=ax[1, 0])\n",
    "_, _, cbar = dsfilter.visualisations.plot_image_array(U_erosion_isotropic.sum(-1), x_min, x_max, y_min, y_max, cmap=\"gray\", fig=fig, ax=ax[1, 1])\n",
    "ax[1, 1].set_title(\"$\\int_θ U(\\cdot, θ) dθ$\")\n",
    "fig.colorbar(cbar, ax=ax[1, 1]);"
   ]
  },
  {
   "cell_type": "code",
   "execution_count": null,
   "metadata": {},
   "outputs": [],
   "source": [
    "print(np.max(np.abs(U_dilation_anisotropic - U_dilation_isotropic)))\n",
    "print(np.max(np.abs(U_erosion_anisotropic - U_erosion_isotropic)))"
   ]
  },
  {
   "cell_type": "code",
   "execution_count": null,
   "metadata": {},
   "outputs": [],
   "source": [
    "K = 0\n",
    "print(θs[0, 0, K])\n",
    "fig, ax = plt.subplots(2, 2, figsize=(12, 10))\n",
    "_, _, cbar = dsfilter.visualisations.plot_image_array((U_dilation_anisotropic - U_dilation_isotropic)[..., K], x_min, x_max, y_min, y_max, cmap=\"gray\", fig=fig, ax=ax[0, 0])\n",
    "ax[0, 0].set_title(f\"$U(\\cdot, {θs[0, 0, K]:.2f})$\")\n",
    "fig.colorbar(cbar, ax=ax[0, 0])\n",
    "_, _, cbar = dsfilter.visualisations.plot_image_array((U_dilation_anisotropic - U_dilation_isotropic).sum(-1), x_min, x_max, y_min, y_max, cmap=\"gray\", fig=fig, ax=ax[0, 1])\n",
    "ax[0, 1].set_title(\"$\\int_θ U(\\cdot, θ) dθ$\")\n",
    "fig.colorbar(cbar, ax=ax[0, 1])\n",
    "_, _, cbar = dsfilter.visualisations.plot_image_array((U_erosion_anisotropic - U_erosion_isotropic)[..., K], x_min, x_max, y_min, y_max, cmap=\"gray\", fig=fig, ax=ax[1, 0])\n",
    "ax[1, 0].set_title(f\"$U(\\cdot, {θs[0, 0, K]:.2f})$\")\n",
    "fig.colorbar(cbar, ax=ax[1, 0])\n",
    "_, _, cbar = dsfilter.visualisations.plot_image_array((U_erosion_anisotropic - U_erosion_isotropic).sum(-1), x_min, x_max, y_min, y_max, cmap=\"gray\", fig=fig, ax=ax[1, 1])\n",
    "ax[1, 1].set_title(\"$\\int_θ U(\\cdot, θ) dθ$\")\n",
    "fig.colorbar(cbar, ax=ax[1, 1]);"
   ]
  },
  {
   "cell_type": "markdown",
   "metadata": {},
   "source": [
    "### Shock"
   ]
  },
  {
   "cell_type": "code",
   "execution_count": null,
   "metadata": {},
   "outputs": [],
   "source": [
    "test_case = 1"
   ]
  },
  {
   "cell_type": "code",
   "execution_count": null,
   "metadata": {},
   "outputs": [],
   "source": [
    "match test_case:\n",
    "    case 1: # Grid of lines (black)\n",
    "        dim_I, dim_J = 128, 128\n",
    "        u = np.ones((dim_I, dim_J)) * 255.\n",
    "        N_lines = 4\n",
    "        offset = dim_I // (N_lines + 1)\n",
    "        for k in range(N_lines):\n",
    "            centre = (k + 1) * offset\n",
    "            u[(centre-1):(centre+2), :] = 0.\n",
    "            u[:, (centre-1):(centre+2)] = 0.\n",
    "        xs, ys = np.meshgrid(np.linspace(-1, 1, dim_I), np.linspace(-1, 1, dim_J))\n",
    "        mask = (xs**2 + ys**2) < 0.6\n",
    "        u[mask] = 255.\n",
    "\n",
    "        G_D_inv = np.array((1., 1., 0.05))\n",
    "\n",
    "        u = sp.ndimage.gaussian_filter(u, 2)\n",
    "    case 2: # Grid of lines (alternating black and white)\n",
    "        dim_I, dim_J = 128, 128\n",
    "        u = np.ones((dim_I, dim_J)) * 0.5 * 255.\n",
    "        N_lines = 5\n",
    "        offset = dim_I // (N_lines + 1)\n",
    "        colour = 0. # black\n",
    "        for k in range(N_lines):\n",
    "            centre = (k + 1) * offset\n",
    "            u[(centre-1):(centre+2), :] = colour\n",
    "            u[:, (centre-1):(centre+2)] = 255. - colour\n",
    "            colour = 255. - colour\n",
    "        xs, ys = np.meshgrid(np.linspace(-1, 1, dim_I), np.linspace(-1, 1, dim_J))\n",
    "        mask = (xs**2 + ys**2) < 0.6\n",
    "        u[mask] = 0.5 * 255.\n",
    "\n",
    "        G_D_inv = np.array((1., 1., 0.05))\n",
    "\n",
    "        u = sp.ndimage.gaussian_filter(u, 2)\n",
    "\n",
    "\n",
    "dim_I, dim_J = u.shape\n",
    "dim_K = 16\n",
    "Is, Js, Ks = np.indices((dim_I, dim_J, dim_K))\n",
    "x_min, x_max = 0., dim_I - 1.\n",
    "y_min, y_max = 0., dim_J - 1.\n",
    "θ_min, θ_max = 0., 2 * np.pi\n",
    "dxy = (x_max - x_min) / (dim_I - 1)\n",
    "dθ = (θ_max - θ_min) / dim_K\n",
    "xs, ys, θs = dsfilter.SE2.utils.coordinate_array_to_real(Is, Js, Ks, x_min, y_min, θ_min, dxy, dθ)"
   ]
  },
  {
   "cell_type": "code",
   "execution_count": null,
   "metadata": {},
   "outputs": [],
   "source": [
    "cws = dsfilter.orientationscore.cakewavelet_stack(dim_I, dim_K, Gaussian_σ=dim_I/8)\n",
    "U = dsfilter.orientationscore.wavelet_transform(u, cws.real)\n",
    "U = np.transpose(U, axes=(1, 2, 0)) # x, y, θ"
   ]
  },
  {
   "cell_type": "code",
   "execution_count": null,
   "metadata": {},
   "outputs": [],
   "source": [
    "K = 0\n",
    "print(θs[0, 0, K])\n",
    "fig, ax = plt.subplots(1, 2, figsize=(12, 5))\n",
    "_, _, cbar = dsfilter.visualisations.plot_image_array(U[..., K], x_min, x_max, y_min, y_max, cmap=\"gray\", fig=fig, ax=ax[0])\n",
    "ax[0].set_title(f\"$U(\\cdot, {θs[0, 0, K]:.2f})$\")\n",
    "fig.colorbar(cbar, ax=ax[0])\n",
    "_, _, cbar = dsfilter.visualisations.plot_image_array(U.sum(-1), x_min, x_max, y_min, y_max, cmap=\"gray\", fig=fig, ax=ax[1])\n",
    "ax[1].set_title(\"$\\int_θ U(\\cdot, θ) dθ$\")\n",
    "fig.colorbar(cbar, ax=ax[1]);"
   ]
  },
  {
   "cell_type": "code",
   "execution_count": null,
   "metadata": {},
   "outputs": [],
   "source": [
    "def shock(U_np, G_inv_np, dxy, dθ, θs_np, T):\n",
    "    U_dilation = ti.field(dtype=ti.f32, shape=U_np.shape)\n",
    "    U_dilation.from_numpy(U_np)\n",
    "    U_erosion = ti.field(dtype=ti.f32, shape=U_np.shape)\n",
    "    U_erosion.from_numpy(U_np)\n",
    "    G_inv = ti.Matrix(G_inv_np, dt=ti.f32)\n",
    "    θs = ti.field(dtype=ti.f32, shape=θs_np.shape)\n",
    "    θs.from_numpy(θs_np)\n",
    "    dilation_u = ti.field(dtype=ti.f32, shape=U.shape)\n",
    "    erosion_u = ti.field(dtype=ti.f32, shape=U.shape)\n",
    "    τ = compute_timestep_shock(dxy, dθ, G_inv)\n",
    "    print(τ)\n",
    "    for _ in tqdm(range(T)):\n",
    "        morphological(U_dilation, G_inv, dxy, dθ, θs, dilation_u, erosion_u)\n",
    "        step_dilation(U_dilation, τ, dilation_u)\n",
    "        step_dilation(U_erosion, τ, erosion_u)\n",
    "    return U_dilation.to_numpy(), U_erosion.to_numpy()\n",
    "    \n",
    "@ti.kernel\n",
    "def step_dilation(\n",
    "    U: ti.template(),\n",
    "    τ: ti.f32,\n",
    "    dilation_u: ti.template()\n",
    "):\n",
    "    for I in ti.grouped(dilation_u):\n",
    "        U[I] += τ * dilation_u[I]\n",
    "        \n",
    "@ti.kernel\n",
    "def step_erosion(\n",
    "    U: ti.template(),\n",
    "    τ: ti.f32,\n",
    "    erosion_u: ti.template()\n",
    "):\n",
    "    for I in ti.grouped(erosion_u):\n",
    "        U[I] += τ * erosion_u[I]"
   ]
  },
  {
   "cell_type": "code",
   "execution_count": null,
   "metadata": {},
   "outputs": [],
   "source": [
    "U_dilation_isotropic, U_erosion_isotropic = shock(U, np.array((1., 1., 0.001)), dxy, dθ, θs, 50)\n",
    "U_dilation_anisotropic, U_erosion_anisotropic = shock(U, np.array((1., 0., 0.)), dxy, dθ, θs, 50)"
   ]
  },
  {
   "cell_type": "code",
   "execution_count": null,
   "metadata": {},
   "outputs": [],
   "source": [
    "K = 0\n",
    "print(θs[0, 0, K])\n",
    "fig, ax = plt.subplots(2, 2, figsize=(12, 10))\n",
    "_, _, cbar = dsfilter.visualisations.plot_image_array(U_dilation_anisotropic[..., K], x_min, x_max, y_min, y_max, cmap=\"gray\", fig=fig, ax=ax[0, 0])\n",
    "ax[0, 0].set_title(f\"$U(\\cdot, {θs[0, 0, K]:.2f})$\")\n",
    "fig.colorbar(cbar, ax=ax[0, 0])\n",
    "_, _, cbar = dsfilter.visualisations.plot_image_array(U_dilation_anisotropic.sum(-1), x_min, x_max, y_min, y_max, cmap=\"gray\", fig=fig, ax=ax[0, 1])\n",
    "ax[0, 1].set_title(\"$\\int_θ U(\\cdot, θ) dθ$\")\n",
    "fig.colorbar(cbar, ax=ax[0, 1])\n",
    "_, _, cbar = dsfilter.visualisations.plot_image_array(U_erosion_anisotropic[..., K], x_min, x_max, y_min, y_max, cmap=\"gray\", fig=fig, ax=ax[1, 0])\n",
    "ax[1, 0].set_title(f\"$U(\\cdot, {θs[0, 0, K]:.2f})$\")\n",
    "fig.colorbar(cbar, ax=ax[1, 0])\n",
    "_, _, cbar = dsfilter.visualisations.plot_image_array(U_erosion_anisotropic.sum(-1), x_min, x_max, y_min, y_max, cmap=\"gray\", fig=fig, ax=ax[1, 1])\n",
    "ax[1, 1].set_title(\"$\\int_θ U(\\cdot, θ) dθ$\")\n",
    "fig.colorbar(cbar, ax=ax[1, 1]);"
   ]
  },
  {
   "cell_type": "code",
   "execution_count": null,
   "metadata": {},
   "outputs": [],
   "source": [
    "K = 0\n",
    "print(θs[0, 0, K])\n",
    "fig, ax = plt.subplots(2, 2, figsize=(12, 10))\n",
    "_, _, cbar = dsfilter.visualisations.plot_image_array(U_dilation_isotropic[..., K], x_min, x_max, y_min, y_max, cmap=\"gray\", fig=fig, ax=ax[0, 0])\n",
    "ax[0, 0].set_title(f\"$U(\\cdot, {θs[0, 0, K]:.2f})$\")\n",
    "fig.colorbar(cbar, ax=ax[0, 0])\n",
    "_, _, cbar = dsfilter.visualisations.plot_image_array(U_dilation_isotropic.sum(-1), x_min, x_max, y_min, y_max, cmap=\"gray\", fig=fig, ax=ax[0, 1])\n",
    "ax[0, 1].set_title(\"$\\int_θ U(\\cdot, θ) dθ$\")\n",
    "fig.colorbar(cbar, ax=ax[0, 1])\n",
    "_, _, cbar = dsfilter.visualisations.plot_image_array(U_erosion_isotropic[..., K], x_min, x_max, y_min, y_max, cmap=\"gray\", fig=fig, ax=ax[1, 0])\n",
    "ax[1, 0].set_title(f\"$U(\\cdot, {θs[0, 0, K]:.2f})$\")\n",
    "fig.colorbar(cbar, ax=ax[1, 0])\n",
    "_, _, cbar = dsfilter.visualisations.plot_image_array(U_erosion_isotropic.sum(-1), x_min, x_max, y_min, y_max, cmap=\"gray\", fig=fig, ax=ax[1, 1])\n",
    "ax[1, 1].set_title(\"$\\int_θ U(\\cdot, θ) dθ$\")\n",
    "fig.colorbar(cbar, ax=ax[1, 1]);"
   ]
  },
  {
   "cell_type": "code",
   "execution_count": null,
   "metadata": {},
   "outputs": [],
   "source": [
    "print(np.max(np.abs(U_dilation_anisotropic - U_dilation_isotropic)))\n",
    "print(np.max(np.abs(U_erosion_anisotropic - U_erosion_isotropic)))"
   ]
  },
  {
   "cell_type": "code",
   "execution_count": null,
   "metadata": {},
   "outputs": [],
   "source": [
    "K = 0\n",
    "print(θs[0, 0, K])\n",
    "fig, ax = plt.subplots(2, 2, figsize=(12, 10))\n",
    "_, _, cbar = dsfilter.visualisations.plot_image_array((U_dilation_anisotropic - U_dilation_isotropic)[..., K], x_min, x_max, y_min, y_max, cmap=\"gray\", fig=fig, ax=ax[0, 0])\n",
    "ax[0, 0].set_title(f\"$U(\\cdot, {θs[0, 0, K]:.2f})$\")\n",
    "fig.colorbar(cbar, ax=ax[0, 0])\n",
    "_, _, cbar = dsfilter.visualisations.plot_image_array((U_dilation_anisotropic - U_dilation_isotropic).sum(-1), x_min, x_max, y_min, y_max, cmap=\"gray\", fig=fig, ax=ax[0, 1])\n",
    "ax[0, 1].set_title(\"$\\int_θ U(\\cdot, θ) dθ$\")\n",
    "fig.colorbar(cbar, ax=ax[0, 1])\n",
    "_, _, cbar = dsfilter.visualisations.plot_image_array((U_erosion_anisotropic - U_erosion_isotropic)[..., K], x_min, x_max, y_min, y_max, cmap=\"gray\", fig=fig, ax=ax[1, 0])\n",
    "ax[1, 0].set_title(f\"$U(\\cdot, {θs[0, 0, K]:.2f})$\")\n",
    "fig.colorbar(cbar, ax=ax[1, 0])\n",
    "_, _, cbar = dsfilter.visualisations.plot_image_array((U_erosion_anisotropic - U_erosion_isotropic).sum(-1), x_min, x_max, y_min, y_max, cmap=\"gray\", fig=fig, ax=ax[1, 1])\n",
    "ax[1, 1].set_title(\"$\\int_θ U(\\cdot, θ) dθ$\")\n",
    "fig.colorbar(cbar, ax=ax[1, 1]);"
   ]
  },
  {
   "cell_type": "markdown",
   "metadata": {},
   "source": [
    "## Diffusion-Shock"
   ]
  },
  {
   "cell_type": "markdown",
   "metadata": {},
   "source": []
  }
 ],
 "metadata": {
  "kernelspec": {
   "display_name": "Python 3",
   "language": "python",
   "name": "python3"
  },
  "language_info": {
   "codemirror_mode": {
    "name": "ipython",
    "version": 3
   },
   "file_extension": ".py",
   "mimetype": "text/x-python",
   "name": "python",
   "nbconvert_exporter": "python",
   "pygments_lexer": "ipython3",
   "version": "3.10.13"
  }
 },
 "nbformat": 4,
 "nbformat_minor": 2
}
