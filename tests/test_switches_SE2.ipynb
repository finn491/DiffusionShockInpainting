{
 "cells": [
  {
   "cell_type": "markdown",
   "metadata": {},
   "source": [
    "# Test Switches SE(2)"
   ]
  },
  {
   "cell_type": "code",
   "execution_count": null,
   "metadata": {},
   "outputs": [],
   "source": [
    "import taichi as ti\n",
    "ti.init(arch=ti.gpu, debug=False, device_memory_GB=3.5) # Use less than 4 so that we don't mix RAM and VRAM (?)\n",
    "import numpy as np\n",
    "import scipy as sp\n",
    "import matplotlib.pyplot as plt\n",
    "import h5py\n",
    "import dsfilter"
   ]
  },
  {
   "cell_type": "code",
   "execution_count": null,
   "metadata": {},
   "outputs": [],
   "source": [
    "save_files = True"
   ]
  },
  {
   "cell_type": "markdown",
   "metadata": {},
   "source": [
    "## Lines"
   ]
  },
  {
   "cell_type": "code",
   "execution_count": null,
   "metadata": {},
   "outputs": [],
   "source": [
    "test_case = 3"
   ]
  },
  {
   "cell_type": "code",
   "execution_count": null,
   "metadata": {},
   "outputs": [],
   "source": [
    "match test_case:\n",
    "    case 1: # Grid of lines (black)\n",
    "        dim_I, dim_J = 128, 128\n",
    "        u_ground_truth = np.ones((dim_I, dim_J)) * 255.\n",
    "        N_lines = 4\n",
    "        offset = dim_I // (N_lines + 1)\n",
    "        for k in range(N_lines):\n",
    "            centre = (k + 1) * offset\n",
    "            u_ground_truth[(centre-1):(centre+2), :] = 0.\n",
    "            u_ground_truth[:, (centre-1):(centre+2)] = 0.\n",
    "\n",
    "        xs, ys = np.meshgrid(np.linspace(-1, 1, dim_I), np.linspace(-1, 1, dim_J))\n",
    "        mask = (xs**2 + ys**2) < 0.6\n",
    "        u = u_ground_truth.copy()\n",
    "        u[mask] = 0.5 * 255.\n",
    "\n",
    "    case 2: # Grid of lines (alternating black and white)\n",
    "        dim_I, dim_J = 128, 128\n",
    "        u_ground_truth = np.ones((dim_I, dim_J)) * 0.5 * 255.\n",
    "        N_lines = 7\n",
    "        offset = dim_I // (N_lines + 1)\n",
    "        colour = 0. # black\n",
    "        for k in range(N_lines):\n",
    "            centre = (k + 1) * offset\n",
    "            u_ground_truth[(centre-1):(centre+2), :] = colour\n",
    "            u_ground_truth[:, (centre-1):(centre+2)] = 255. - colour\n",
    "            colour = 255. - colour\n",
    "        u_ground_truth = sp.ndimage.gaussian_filter(u_ground_truth, 1)\n",
    "\n",
    "        xs, ys = np.meshgrid(np.linspace(-1, 1, dim_I), np.linspace(-1, 1, dim_J))\n",
    "        mask = (xs**2 + ys**2) < 0.5\n",
    "        u = u_ground_truth.copy()\n",
    "        u[mask] = 0.5 * 255.\n",
    "\n",
    "    case 3: # Horizontal lines (black)\n",
    "        dim_I, dim_J = 128, 128\n",
    "        u_ground_truth = np.ones((dim_I, dim_J)) * 255.\n",
    "        N_lines = 4\n",
    "        offset = dim_I // (N_lines + 1)\n",
    "        for k in range(N_lines):\n",
    "            centre = (k + 1) * offset\n",
    "            u_ground_truth[:, (centre-1):(centre+2)] = 0.\n",
    "\n",
    "        xs, ys = np.meshgrid(np.linspace(-1, 1, dim_I), np.linspace(-1, 1, dim_J))\n",
    "        mask = (xs**2 + ys**2) < 0.6\n",
    "        u = u_ground_truth.copy()\n",
    "        u[mask] = 1. * 255.\n",
    "\n",
    "\n",
    "u = sp.ndimage.gaussian_filter(u, 1.) # Smooth for well-posed lifting.\n",
    "\n",
    "mask = 1 - mask.astype(int)\n",
    "mask = sp.ndimage.binary_erosion(mask, iterations=8, border_value=1).astype(int) # Deal with boundary artefacts.\n",
    "\n",
    "dim_I, dim_J = u.shape\n",
    "dim_K = 16\n",
    "Is, Js, Ks = np.indices((dim_I, dim_J, dim_K))\n",
    "x_min, x_max = 0., dim_I - 1.\n",
    "y_min, y_max = 0., dim_J - 1.\n",
    "θ_min, θ_max = 0., 2 * np.pi\n",
    "dxy = (x_max - x_min) / (dim_I - 1)\n",
    "dθ = (θ_max - θ_min) / dim_K\n",
    "xs, ys, θs = dsfilter.SE2.utils.coordinate_array_to_real(Is, Js, Ks, x_min, y_min, θ_min, dxy, dθ)"
   ]
  },
  {
   "cell_type": "code",
   "execution_count": null,
   "metadata": {},
   "outputs": [],
   "source": [
    "fig, ax, cbar = dsfilter.visualisations.plot_image_array(u, x_min, x_max, y_min, y_max, cmap=\"gray\")\n",
    "ax.set_title(\"$u$\")\n",
    "fig.colorbar(cbar, ax=ax);"
   ]
  },
  {
   "cell_type": "markdown",
   "metadata": {},
   "source": [
    "## Check Orientation Score"
   ]
  },
  {
   "cell_type": "code",
   "execution_count": null,
   "metadata": {},
   "outputs": [],
   "source": [
    "cws_check = dsfilter.orientationscore.cakewavelet_stack(dim_I, dim_K, Gaussian_σ=dim_I/8)"
   ]
  },
  {
   "cell_type": "code",
   "execution_count": null,
   "metadata": {},
   "outputs": [],
   "source": [
    "K = 1\n",
    "print(θs[0, 0, K])\n",
    "fig, ax, cbar = dsfilter.visualisations.plot_image_array(cws_check.real[K], x_min, x_max, y_min, y_max, cmap=\"gray\")\n",
    "ax.set_title(\"$\\psi$\")\n",
    "fig.colorbar(cbar, ax=ax);"
   ]
  },
  {
   "cell_type": "code",
   "execution_count": null,
   "metadata": {},
   "outputs": [],
   "source": [
    "cws = dsfilter.orientationscore.cakewavelet_stack(dim_I, dim_K, Gaussian_σ=dim_I/8)\n",
    "U = dsfilter.orientationscore.wavelet_transform(u, cws.real)\n",
    "U = np.transpose(U, axes=(1, 2, 0)) # x, y, θ\n",
    "Mask = np.transpose(np.array([mask for _ in range(dim_K)]), axes=(1, 2, 0)) # x, y, θ\n",
    "U.shape, Mask.shape"
   ]
  },
  {
   "cell_type": "code",
   "execution_count": null,
   "metadata": {},
   "outputs": [],
   "source": [
    "K = 0\n",
    "print(θs[0, 0, K])\n",
    "fig, ax = plt.subplots(1, 3, figsize=(18, 5))\n",
    "_, _, cbar = dsfilter.visualisations.plot_image_array(U[..., K], x_min, x_max, y_min, y_max, cmap=\"gray\", fig=fig, ax=ax[0])\n",
    "ax[0].set_title(f\"{K} $U$\")\n",
    "fig.colorbar(cbar, ax=ax[0])\n",
    "_, _, cbar = dsfilter.visualisations.plot_image_array(U[..., K + 2], x_min, x_max, y_min, y_max, cmap=\"gray\", fig=fig, ax=ax[1])\n",
    "ax[1].set_title(f\"{K + 2} $U$\")\n",
    "fig.colorbar(cbar, ax=ax[1])\n",
    "_, _, cbar = dsfilter.visualisations.plot_image_array(U[..., K + 4], x_min, x_max, y_min, y_max, cmap=\"gray\", fig=fig, ax=ax[2])\n",
    "ax[2].set_title(f\"{K + 4} $U$\")\n",
    "fig.colorbar(cbar, ax=ax[2]);"
   ]
  },
  {
   "cell_type": "code",
   "execution_count": null,
   "metadata": {},
   "outputs": [],
   "source": [
    "fig, ax = plt.subplots(1, 3, figsize=(18, 5))\n",
    "_, _, cbar = dsfilter.visualisations.plot_image_array(u, x_min, x_max, y_min, y_max, cmap=\"gray\", fig=fig, ax=ax[0])\n",
    "ax[0].set_title(\"$u$\")\n",
    "fig.colorbar(cbar, ax=ax[0])\n",
    "_, _, cbar = dsfilter.visualisations.plot_image_array(U.sum(-1), x_min, x_max, y_min, y_max, cmap=\"gray\", fig=fig, ax=ax[1])\n",
    "ax[1].set_title(\"Reconstruction\")\n",
    "fig.colorbar(cbar, ax=ax[1])\n",
    "_, _, cbar = dsfilter.visualisations.plot_image_array(u - U.sum(-1), x_min, x_max, y_min, y_max, cmap=\"gray\", fig=fig, ax=ax[2])\n",
    "ax[2].set_title(\"Reconstruction error\")\n",
    "fig.colorbar(cbar, ax=ax[2]);"
   ]
  },
  {
   "cell_type": "code",
   "execution_count": null,
   "metadata": {},
   "outputs": [],
   "source": [
    "if save_files:\n",
    "    filename = f\".\\\\data\\\\test_switches_SE2_os.hdf5\"\n",
    "    with h5py.File(filename, \"w\") as distance_file:\n",
    "        distance_file.create_dataset(\"OS\", data=U)"
   ]
  },
  {
   "cell_type": "markdown",
   "metadata": {},
   "source": [
    "## Presmooth"
   ]
  },
  {
   "cell_type": "code",
   "execution_count": null,
   "metadata": {},
   "outputs": [],
   "source": [
    "from dsfilter.R2.filter import diffusion_inpainting as diffusion_inpainting_R2\n",
    "from dsfilter.SE2.LI.filter import diffusion_inpainting as diffusion_inpainting_SE2"
   ]
  },
  {
   "cell_type": "code",
   "execution_count": null,
   "metadata": {},
   "outputs": [],
   "source": [
    "u_pre_R2 = diffusion_inpainting_R2(u, mask, dxy, 2000)\n",
    "U_pre_R2 = dsfilter.orientationscore.wavelet_transform(u_pre_R2, cws.real)\n",
    "U_pre_R2 = np.transpose(U_pre_R2, axes=(1, 2, 0)) # x, y, θ\n",
    "U_pre_SE2 = diffusion_inpainting_SE2(U, Mask, np.array((1., 0., 0.)), dxy, dθ, θs, 2000)\n",
    "U_pre_delete = np.zeros_like(U)\n",
    "for k in range(dim_K):\n",
    "    U_pre_delete[..., k] += mask * U[..., k] + (1 - mask) * U[..., k].mean()"
   ]
  },
  {
   "cell_type": "code",
   "execution_count": null,
   "metadata": {},
   "outputs": [],
   "source": [
    "K = 4\n",
    "print(θs[0, 0, K])\n",
    "fig, ax = plt.subplots(1, 4, figsize=(24, 5))\n",
    "_, _, cbar = dsfilter.visualisations.plot_image_array(U[..., K], x_min, x_max, y_min, y_max, cmap=\"gray\", fig=fig, ax=ax[0])\n",
    "ax[0].set_title(f\"{K} $U$\")\n",
    "fig.colorbar(cbar, ax=ax[0])\n",
    "_, _, cbar = dsfilter.visualisations.plot_image_array(U_pre_R2[..., K], x_min, x_max, y_min, y_max, cmap=\"gray\", fig=fig, ax=ax[1])\n",
    "ax[1].set_title(f\"{K} $U$ Presmoothed $\\mathbb{{R}}^2$\")\n",
    "fig.colorbar(cbar, ax=ax[1])\n",
    "_, _, cbar = dsfilter.visualisations.plot_image_array(U_pre_SE2[..., K], x_min, x_max, y_min, y_max, cmap=\"gray\", fig=fig, ax=ax[2])\n",
    "ax[2].set_title(f\"{K} $U$ Presmoothed $\\mathrm{{SE}}(2)$\")\n",
    "fig.colorbar(cbar, ax=ax[2])\n",
    "_, _, cbar = dsfilter.visualisations.plot_image_array(U_pre_delete[..., K], x_min, x_max, y_min, y_max, cmap=\"gray\", fig=fig, ax=ax[3])\n",
    "ax[3].set_title(f\"{K} $U$ Deleted Mask\")\n",
    "fig.colorbar(cbar, ax=ax[3]);"
   ]
  },
  {
   "cell_type": "code",
   "execution_count": null,
   "metadata": {},
   "outputs": [],
   "source": [
    "test_R2 = U_pre_R2.copy()\n",
    "test_R2[Mask > 0.] = 15.\n",
    "test_SE2 = U_pre_SE2.copy()\n",
    "test_SE2[Mask > 0.] = 15.\n",
    "test_delete = U_pre_delete.copy()\n",
    "test_delete[Mask > 0.] = 15."
   ]
  },
  {
   "cell_type": "code",
   "execution_count": null,
   "metadata": {},
   "outputs": [],
   "source": [
    "K = 0\n",
    "print(θs[0, 0, K])\n",
    "fig, ax = plt.subplots(3, 3, figsize=(18, 15))\n",
    "_, _, cbar = dsfilter.visualisations.plot_image_array(test_R2[..., K], x_min, x_max, y_min, y_max, cmap=\"gray\", fig=fig, ax=ax[0, 0])\n",
    "ax[0, 0].set_title(f\"{K} $U$ Presmoothed $\\mathbb{{R}}^2$\")\n",
    "fig.colorbar(cbar, ax=ax[0, 0])\n",
    "_, _, cbar = dsfilter.visualisations.plot_image_array(test_R2[..., K + 2], x_min, x_max, y_min, y_max, cmap=\"gray\", fig=fig, ax=ax[0, 1])\n",
    "ax[0, 1].set_title(f\"{K + 2} $U$ Presmoothed $\\mathbb{{R}}^2$\")\n",
    "fig.colorbar(cbar, ax=ax[0, 1])\n",
    "_, _, cbar = dsfilter.visualisations.plot_image_array(test_R2[..., K + 4], x_min, x_max, y_min, y_max, cmap=\"gray\", fig=fig, ax=ax[0, 2])\n",
    "ax[0, 2].set_title(f\"{K + 4} $U$ Presmoothed $\\mathbb{{R}}^2$\")\n",
    "fig.colorbar(cbar, ax=ax[0, 2])\n",
    "_, _, cbar = dsfilter.visualisations.plot_image_array(test_SE2[..., K], x_min, x_max, y_min, y_max, cmap=\"gray\", fig=fig, ax=ax[1, 0])\n",
    "ax[1, 0].set_title(f\"{K} $U$ Presmoothed $\\mathrm{{SE}}(2)$\")\n",
    "fig.colorbar(cbar, ax=ax[1, 0])\n",
    "_, _, cbar = dsfilter.visualisations.plot_image_array(test_SE2[..., K + 2], x_min, x_max, y_min, y_max, cmap=\"gray\", fig=fig, ax=ax[1, 1])\n",
    "ax[1, 1].set_title(f\"{K + 2} $U$ Presmoothed $\\mathrm{{SE}}(2)$\")\n",
    "fig.colorbar(cbar, ax=ax[1, 1])\n",
    "_, _, cbar = dsfilter.visualisations.plot_image_array(test_SE2[..., K + 4], x_min, x_max, y_min, y_max, cmap=\"gray\", fig=fig, ax=ax[1, 2])\n",
    "ax[1, 2].set_title(f\"{K + 4} $U$ Presmoothed $\\mathrm{{SE}}(2)$\")\n",
    "fig.colorbar(cbar, ax=ax[1, 2])\n",
    "_, _, cbar = dsfilter.visualisations.plot_image_array(test_delete[..., K], x_min, x_max, y_min, y_max, cmap=\"gray\", fig=fig, ax=ax[2, 0])\n",
    "ax[2, 0].set_title(f\"{K} $U$ Deleted Mask\")\n",
    "fig.colorbar(cbar, ax=ax[2, 0])\n",
    "_, _, cbar = dsfilter.visualisations.plot_image_array(test_delete[..., K + 2], x_min, x_max, y_min, y_max, cmap=\"gray\", fig=fig, ax=ax[2, 1])\n",
    "ax[2, 1].set_title(f\"{K + 2} $U$ Deleted Mask\")\n",
    "fig.colorbar(cbar, ax=ax[2, 1])\n",
    "_, _, cbar = dsfilter.visualisations.plot_image_array(test_delete[..., K + 4], x_min, x_max, y_min, y_max, cmap=\"gray\", fig=fig, ax=ax[2, 2])\n",
    "ax[2, 2].set_title(f\"{K + 4} $U$ Deleted Mask\")\n",
    "fig.colorbar(cbar, ax=ax[2, 2]);"
   ]
  },
  {
   "cell_type": "code",
   "execution_count": null,
   "metadata": {},
   "outputs": [],
   "source": [
    "fig, ax = plt.subplots(2, 3, figsize=(18, 10))\n",
    "_, _, cbar = dsfilter.visualisations.plot_image_array(U_pre_R2.sum(-1), x_min, x_max, y_min, y_max, cmap=\"gray\", fig=fig, ax=ax[0, 0])\n",
    "ax[0, 0].set_title(\"Reconstruction Presmoothed $\\mathbb{{R}}^2$\")\n",
    "fig.colorbar(cbar, ax=ax[0, 0])\n",
    "_, _, cbar = dsfilter.visualisations.plot_image_array(u - U_pre_R2.sum(-1), x_min, x_max, y_min, y_max, cmap=\"gray\", fig=fig, ax=ax[1, 0])\n",
    "ax[1, 0].set_title(\"Reconstruction error Presmoothed $\\mathbb{{R}}^2$\")\n",
    "fig.colorbar(cbar, ax=ax[1, 0])\n",
    "_, _, cbar = dsfilter.visualisations.plot_image_array(U_pre_SE2.sum(-1), x_min, x_max, y_min, y_max, cmap=\"gray\", fig=fig, ax=ax[0, 1])\n",
    "ax[0, 1].set_title(\"Reconstruction Presmoothed $\\mathrm{{SE}}(2)$\")\n",
    "fig.colorbar(cbar, ax=ax[0, 1])\n",
    "_, _, cbar = dsfilter.visualisations.plot_image_array(u - U_pre_SE2.sum(-1), x_min, x_max, y_min, y_max, cmap=\"gray\", fig=fig, ax=ax[1, 1])\n",
    "ax[1, 1].set_title(\"Reconstruction error Presmoothed $\\mathrm{{SE}}(2)$\")\n",
    "fig.colorbar(cbar, ax=ax[1, 1])\n",
    "_, _, cbar = dsfilter.visualisations.plot_image_array(U_pre_delete.sum(-1), x_min, x_max, y_min, y_max, cmap=\"gray\", fig=fig, ax=ax[0, 2])\n",
    "ax[0, 2].set_title(\"Reconstruction Deleted Mask\")\n",
    "fig.colorbar(cbar, ax=ax[0, 2])\n",
    "_, _, cbar = dsfilter.visualisations.plot_image_array(u - U_pre_delete.sum(-1), x_min, x_max, y_min, y_max, cmap=\"gray\", fig=fig, ax=ax[1, 2])\n",
    "ax[1, 2].set_title(\"Reconstruction error Deleted Mask\")\n",
    "fig.colorbar(cbar, ax=ax[1, 2]);"
   ]
  },
  {
   "cell_type": "markdown",
   "metadata": {},
   "source": [
    "## Check Internal Regularisation"
   ]
  },
  {
   "cell_type": "code",
   "execution_count": null,
   "metadata": {},
   "outputs": [],
   "source": [
    "from dsfilter.SE2.regularisers import (\n",
    "    gaussian_derivative_kernel,\n",
    "    convolve_with_kernel_x_dir,\n",
    "    convolve_with_kernel_y_dir,\n",
    "    convolve_with_kernel_θ_dir\n",
    ")\n",
    "from dsfilter.SE2.regularisers import regularise_anisotropic as regularise_anisotropic_int"
   ]
  },
  {
   "cell_type": "code",
   "execution_count": null,
   "metadata": {},
   "outputs": [],
   "source": [
    "def regularise_isotropic(U_np, ν_s, ν_o, dxy, dθ):\n",
    "    shape = U_np.shape\n",
    "    U = ti.field(dtype=ti.f32, shape=shape)\n",
    "    U.from_numpy(U_np)\n",
    "    k_s, radius_s = gaussian_derivative_kernel(ν_s, 0, dxy=dxy)\n",
    "    k_o, radius_o = gaussian_derivative_kernel(ν_o, 0, dxy=dθ)\n",
    "    convolution_storage = ti.field(dtype=ti.f32, shape=shape)\n",
    "    U_reg = ti.field(dtype=ti.f32, shape=shape)\n",
    "    regularise_isotropic_ti(U, k_s, radius_s, k_o, radius_o, convolution_storage, U_reg)\n",
    "    return U_reg.to_numpy()\n",
    "\n",
    "@ti.kernel\n",
    "def regularise_isotropic_ti(\n",
    "    U: ti.template(),\n",
    "    k_s: ti.template(),\n",
    "    radius_s: ti.i32,\n",
    "    k_o: ti.template(),\n",
    "    radius_o: ti.i32,\n",
    "    convolution_storage: ti.template(),\n",
    "    U_reg: ti.template()\n",
    "):\n",
    "    convolve_with_kernel_x_dir(U, k_s, radius_s, convolution_storage)\n",
    "    convolve_with_kernel_y_dir(convolution_storage, k_s, radius_s, U)\n",
    "    convolve_with_kernel_θ_dir(U, k_o, radius_o, U_reg)\n",
    "\n",
    "def regularise_anisotropic(U_np, θs_np, σ1, σ2, σ3, dxy, dθ):\n",
    "    shape = U_np.shape\n",
    "    U = ti.field(dtype=ti.f32, shape=shape)\n",
    "    U.from_numpy(U_np)\n",
    "    θs = ti.field(dtype=ti.f32, shape=shape)\n",
    "    θs.from_numpy(θs_np)\n",
    "    U_reg = ti.field(dtype=ti.f32, shape=shape)\n",
    "    regularise_anisotropic_ti(U, θs, dxy, dθ, σ1, σ2, σ3, U_reg)\n",
    "    return U_reg.to_numpy()\n",
    "\n",
    "@ti.kernel\n",
    "def regularise_anisotropic_ti(\n",
    "    U: ti.template(),\n",
    "    θs: ti.template(),\n",
    "    dxy: ti.f32,\n",
    "    dθ: ti.f32,\n",
    "    σ1: ti.f32,\n",
    "    σ2: ti.f32,\n",
    "    σ3: ti.f32,\n",
    "    U_reg: ti.template()\n",
    "):\n",
    "    regularise_anisotropic_int(U, θs, dxy, dθ, σ1, σ2, σ3, U_reg)"
   ]
  },
  {
   "cell_type": "code",
   "execution_count": null,
   "metadata": {},
   "outputs": [],
   "source": [
    "# U = U_pre_R2\n",
    "# U = U_pre_SE2\n",
    "U = U_pre_delete"
   ]
  },
  {
   "cell_type": "code",
   "execution_count": null,
   "metadata": {},
   "outputs": [],
   "source": [
    "# σ1, σ2, σ3 = (20. * dxy, 10. * dxy, 2. * dθ)\n",
    "σ1, σ2, σ3 = (3. * dxy, 1. * dxy, 0.2 * dθ)\n",
    "truncate = 4\n",
    "rs = truncate * np.ceil(np.max((σ1, σ2)) / dxy)\n",
    "ro = truncate * np.ceil(σ3 / dθ)\n",
    "rs, ro\n",
    "U_reg = regularise_anisotropic(U, θs, σ1, σ2, σ3, dxy, dθ)\n",
    "# ν_s = 1.\n",
    "# ν_o = .5\n",
    "# U_reg = regularise_isotropic(U, ν_s, ν_o, dxy, dθ)"
   ]
  },
  {
   "cell_type": "code",
   "execution_count": null,
   "metadata": {},
   "outputs": [],
   "source": [
    "K = 0\n",
    "print(θs[0, 0, K])\n",
    "fig, ax = plt.subplots(2, 3, figsize=(18, 10))\n",
    "_, _, cbar = dsfilter.visualisations.plot_image_array(U[..., K], x_min, x_max, y_min, y_max, cmap=\"gray\", fig=fig, ax=ax[0, 0])\n",
    "ax[0, 0].set_title(f\"{K} $U$\")\n",
    "fig.colorbar(cbar, ax=ax[0, 0])\n",
    "_, _, cbar = dsfilter.visualisations.plot_image_array(U[..., K + 2], x_min, x_max, y_min, y_max, cmap=\"gray\", fig=fig, ax=ax[0, 1])\n",
    "ax[0, 1].set_title(f\"{K + 2} $U$\")\n",
    "fig.colorbar(cbar, ax=ax[0, 1])\n",
    "_, _, cbar = dsfilter.visualisations.plot_image_array(U[..., K + 4], x_min, x_max, y_min, y_max, cmap=\"gray\", fig=fig, ax=ax[0, 2])\n",
    "ax[0, 2].set_title(f\"{K + 4} $U$\")\n",
    "fig.colorbar(cbar, ax=ax[0, 2])\n",
    "_, _, cbar = dsfilter.visualisations.plot_image_array(U_reg[..., K], x_min, x_max, y_min, y_max, cmap=\"gray\", fig=fig, ax=ax[1, 0])\n",
    "ax[1, 0].set_title(f\"{K} $U$ reg\")\n",
    "fig.colorbar(cbar, ax=ax[1, 0])\n",
    "_, _, cbar = dsfilter.visualisations.plot_image_array(U_reg[..., K + 2], x_min, x_max, y_min, y_max, cmap=\"gray\", fig=fig, ax=ax[1, 1])\n",
    "ax[1, 1].set_title(f\"{K + 2} $U$ reg\")\n",
    "fig.colorbar(cbar, ax=ax[1, 1])\n",
    "_, _, cbar = dsfilter.visualisations.plot_image_array(U_reg[..., K + 4], x_min, x_max, y_min, y_max, cmap=\"gray\", fig=fig, ax=ax[1, 2])\n",
    "ax[1, 2].set_title(f\"{K + 4} $U$ reg\")\n",
    "fig.colorbar(cbar, ax=ax[1, 2]);"
   ]
  },
  {
   "cell_type": "code",
   "execution_count": null,
   "metadata": {},
   "outputs": [],
   "source": [
    "test = U.copy()\n",
    "test[Mask > 0.] = 15.\n",
    "test_reg = U_reg.copy()\n",
    "test_reg[Mask > 0.] = 15."
   ]
  },
  {
   "cell_type": "code",
   "execution_count": null,
   "metadata": {},
   "outputs": [],
   "source": [
    "K = 0\n",
    "print(θs[0, 0, K])\n",
    "fig, ax = plt.subplots(2, 3, figsize=(18, 10))\n",
    "_, _, cbar = dsfilter.visualisations.plot_image_array(test[..., K], x_min, x_max, y_min, y_max, cmap=\"gray\", fig=fig, ax=ax[0, 0])\n",
    "ax[0, 0].set_title(f\"{K} $U$\")\n",
    "fig.colorbar(cbar, ax=ax[0, 0])\n",
    "_, _, cbar = dsfilter.visualisations.plot_image_array(test[..., K + 2], x_min, x_max, y_min, y_max, cmap=\"gray\", fig=fig, ax=ax[0, 1])\n",
    "ax[0, 1].set_title(f\"{K + 2} $U$\")\n",
    "fig.colorbar(cbar, ax=ax[0, 1])\n",
    "_, _, cbar = dsfilter.visualisations.plot_image_array(test[..., K + 4], x_min, x_max, y_min, y_max, cmap=\"gray\", fig=fig, ax=ax[0, 2])\n",
    "ax[0, 2].set_title(f\"{K + 4} $U$\")\n",
    "fig.colorbar(cbar, ax=ax[0, 2])\n",
    "_, _, cbar = dsfilter.visualisations.plot_image_array(test_reg[..., K], x_min, x_max, y_min, y_max, cmap=\"gray\", fig=fig, ax=ax[1, 0])\n",
    "ax[1, 0].set_title(f\"{K} $U$ reg\")\n",
    "fig.colorbar(cbar, ax=ax[1, 0])\n",
    "_, _, cbar = dsfilter.visualisations.plot_image_array(test_reg[..., K + 2], x_min, x_max, y_min, y_max, cmap=\"gray\", fig=fig, ax=ax[1, 1])\n",
    "ax[1, 1].set_title(f\"{K + 2} $U$ reg\")\n",
    "fig.colorbar(cbar, ax=ax[1, 1])\n",
    "_, _, cbar = dsfilter.visualisations.plot_image_array(test_reg[..., K + 4], x_min, x_max, y_min, y_max, cmap=\"gray\", fig=fig, ax=ax[1, 2])\n",
    "ax[1, 2].set_title(f\"{K + 4} $U$ reg\")\n",
    "fig.colorbar(cbar, ax=ax[1, 2]);"
   ]
  },
  {
   "cell_type": "code",
   "execution_count": null,
   "metadata": {},
   "outputs": [],
   "source": [
    "if save_files:\n",
    "    filename = f\".\\\\data\\\\test_switches_SE2_os_aniso_reg.hdf5\"\n",
    "    with h5py.File(filename, \"w\") as distance_file:\n",
    "        distance_file.create_dataset(\"OS\", data=U_reg)"
   ]
  },
  {
   "cell_type": "code",
   "execution_count": null,
   "metadata": {},
   "outputs": [],
   "source": [
    "fig, ax = plt.subplots(1, 3, figsize=(18, 5))\n",
    "_, _, cbar = dsfilter.visualisations.plot_image_array(u, x_min, x_max, y_min, y_max, cmap=\"gray\", fig=fig, ax=ax[0])\n",
    "ax[0].set_title(\"$u$\")\n",
    "fig.colorbar(cbar, ax=ax[0])\n",
    "_, _, cbar = dsfilter.visualisations.plot_image_array(U_reg.sum(-1), x_min, x_max, y_min, y_max, cmap=\"gray\", fig=fig, ax=ax[1])\n",
    "ax[1].set_title(\"Reconstruction\")\n",
    "fig.colorbar(cbar, ax=ax[1])\n",
    "_, _, cbar = dsfilter.visualisations.plot_image_array(u - U_reg.sum(-1), x_min, x_max, y_min, y_max, cmap=\"gray\", fig=fig, ax=ax[2])\n",
    "ax[2].set_title(\"Reconstruction error\")\n",
    "fig.colorbar(cbar, ax=ax[2]);"
   ]
  },
  {
   "cell_type": "code",
   "execution_count": null,
   "metadata": {},
   "outputs": [],
   "source": [
    "if save_files:\n",
    "    filename = f\".\\\\data\\\\test_switches_SE2_os_reg.hdf5\"\n",
    "    with h5py.File(filename, \"w\") as distance_file:\n",
    "        distance_file.create_dataset(\"OS\", data=U_reg)"
   ]
  },
  {
   "cell_type": "markdown",
   "metadata": {},
   "source": [
    "## Check Derivatives"
   ]
  },
  {
   "cell_type": "code",
   "execution_count": null,
   "metadata": {},
   "outputs": [],
   "source": [
    "from dsfilter.SE2.utils import scalar_trilinear_interpolate"
   ]
  },
  {
   "cell_type": "code",
   "execution_count": null,
   "metadata": {},
   "outputs": [],
   "source": [
    "def compute_A1(U_np, θs_np, dxy):\n",
    "    shape = U_np.shape\n",
    "    U = ti.field(dtype=ti.f32, shape=shape)\n",
    "    U.from_numpy(U_np)\n",
    "    θs = ti.field(dtype=ti.f32, shape=shape)\n",
    "    θs.from_numpy(θs_np)\n",
    "    A1_U = ti.field(dtype=ti.f32, shape=shape)\n",
    "    compute_A1_ti(U, θs, dxy, A1_U)\n",
    "    return A1_U.to_numpy()\n",
    "\n",
    "@ti.kernel\n",
    "def compute_A1_ti(\n",
    "    U: ti.template(),\n",
    "    θs: ti.template(),\n",
    "    dxy: ti.f32,\n",
    "    A1_U: ti.template()\n",
    "):\n",
    "    for I in ti.grouped(U):\n",
    "        θ = θs[I]\n",
    "        cos = ti.math.cos(θ)\n",
    "        sin = ti.math.sin(θ)\n",
    "        I_A1 = ti.Vector([cos, sin, 0.0], dt=ti.f32) / 2\n",
    "        A1_U[I] = (scalar_trilinear_interpolate(U, I + I_A1) - scalar_trilinear_interpolate(U, I - I_A1)) / dxy\n",
    "\n",
    "def compute_A2(U_np, θs_np, dxy):\n",
    "    shape = U_np.shape\n",
    "    U = ti.field(dtype=ti.f32, shape=shape)\n",
    "    U.from_numpy(U_np)\n",
    "    θs = ti.field(dtype=ti.f32, shape=shape)\n",
    "    θs.from_numpy(θs_np)\n",
    "    A2_U = ti.field(dtype=ti.f32, shape=shape)\n",
    "    compute_A2_ti(U, θs, dxy, A2_U)\n",
    "    return A2_U.to_numpy()\n",
    "\n",
    "@ti.kernel\n",
    "def compute_A2_ti(\n",
    "    U: ti.template(),\n",
    "    θs: ti.template(),\n",
    "    dxy: ti.f32,\n",
    "    A2_U: ti.template()\n",
    "):\n",
    "    for I in ti.grouped(U):\n",
    "        θ = θs[I]\n",
    "        cos = ti.math.cos(θ)\n",
    "        sin = ti.math.sin(θ)\n",
    "        I_A2 = ti.Vector([-sin, cos, 0.0], dt=ti.f32) / 2\n",
    "        A2_U[I] = (scalar_trilinear_interpolate(U, I + I_A2) - scalar_trilinear_interpolate(U, I - I_A2)) / dxy\n",
    "\n",
    "def compute_A3(U_np, dθ):\n",
    "    shape = U_np.shape\n",
    "    U = ti.field(dtype=ti.f32, shape=shape)\n",
    "    U.from_numpy(U_np)\n",
    "    A3_U = ti.field(dtype=ti.f32, shape=shape)\n",
    "    compute_A3_ti(U, dθ, A3_U)\n",
    "    return A3_U.to_numpy()\n",
    "\n",
    "@ti.kernel\n",
    "def compute_A3_ti(\n",
    "    U: ti.template(),\n",
    "    dθ: ti.f32,\n",
    "    A3_U: ti.template()\n",
    "):\n",
    "    I_A3 = ti.Vector([0.0, 0.0, 1.0], dt=ti.f32) / 2\n",
    "    for I in ti.grouped(U):\n",
    "        A3_U[I] = (scalar_trilinear_interpolate(U, I + I_A3) - scalar_trilinear_interpolate(U, I - I_A3)) / dθ"
   ]
  },
  {
   "cell_type": "code",
   "execution_count": null,
   "metadata": {},
   "outputs": [],
   "source": [
    "A1_U = compute_A1(U, θs, dxy)\n",
    "A2_U = compute_A2(U, θs, dxy)\n",
    "A3_U = compute_A3(U, dθ)\n",
    "A1_U_reg = compute_A1(U_reg, θs, dxy)\n",
    "A2_U_reg = compute_A2(U_reg, θs, dxy)\n",
    "A3_U_reg = compute_A3(U_reg, dθ)"
   ]
  },
  {
   "cell_type": "code",
   "execution_count": null,
   "metadata": {},
   "outputs": [],
   "source": [
    "K = 2\n",
    "print(θs[0, 0, K])\n",
    "fig, ax = plt.subplots(2, 3, figsize=(18, 10))\n",
    "_, _, cbar = dsfilter.visualisations.plot_image_array(A1_U[..., K], x_min, x_max, y_min, y_max, cmap=\"gray\", fig=fig, ax=ax[0, 0])\n",
    "ax[0, 0].set_title(\"$A_1 U$\")\n",
    "fig.colorbar(cbar, ax=ax[0, 0])\n",
    "_, _, cbar = dsfilter.visualisations.plot_image_array(A2_U[..., K], x_min, x_max, y_min, y_max, cmap=\"gray\", fig=fig, ax=ax[0, 1])\n",
    "ax[0, 1].set_title(\"$A_2 U$\")\n",
    "fig.colorbar(cbar, ax=ax[0, 1])\n",
    "_, _, cbar = dsfilter.visualisations.plot_image_array(A3_U[..., K], x_min, x_max, y_min, y_max, cmap=\"gray\", fig=fig, ax=ax[0, 2])\n",
    "ax[0, 2].set_title(\"$A_3 U$\")\n",
    "fig.colorbar(cbar, ax=ax[0, 2])\n",
    "_, _, cbar = dsfilter.visualisations.plot_image_array(A1_U_reg[..., K], x_min, x_max, y_min, y_max, cmap=\"gray\", fig=fig, ax=ax[1, 0])\n",
    "ax[1, 0].set_title(\"$A_1 U_{{reg}}$\")\n",
    "fig.colorbar(cbar, ax=ax[1, 0])\n",
    "_, _, cbar = dsfilter.visualisations.plot_image_array(A2_U_reg[..., K], x_min, x_max, y_min, y_max, cmap=\"gray\", fig=fig, ax=ax[1, 1])\n",
    "ax[1, 1].set_title(\"$A_2 U_{{reg}}$\")\n",
    "fig.colorbar(cbar, ax=ax[1, 1])\n",
    "_, _, cbar = dsfilter.visualisations.plot_image_array(A3_U_reg[..., K], x_min, x_max, y_min, y_max, cmap=\"gray\", fig=fig, ax=ax[1, 2])\n",
    "ax[1, 2].set_title(\"$A_3 U_{{reg}}$\")\n",
    "fig.colorbar(cbar, ax=ax[1, 2]);"
   ]
  },
  {
   "cell_type": "code",
   "execution_count": null,
   "metadata": {},
   "outputs": [],
   "source": [
    "if save_files:\n",
    "    filename = f\".\\\\data\\\\test_switches_SE2_A1.hdf5\"\n",
    "    with h5py.File(filename, \"w\") as distance_file:\n",
    "        distance_file.create_dataset(\"OS\", data=A1_U)\n",
    "    filename = f\".\\\\data\\\\test_switches_SE2_A2.hdf5\"\n",
    "    with h5py.File(filename, \"w\") as distance_file:\n",
    "        distance_file.create_dataset(\"OS\", data=A2_U)\n",
    "    filename = f\".\\\\data\\\\test_switches_SE2_A3.hdf5\"\n",
    "    with h5py.File(filename, \"w\") as distance_file:\n",
    "        distance_file.create_dataset(\"OS\", data=A3_U)\n",
    "    filename = f\".\\\\data\\\\test_switches_SE2_A1_reg.hdf5\"\n",
    "    with h5py.File(filename, \"w\") as distance_file:\n",
    "        distance_file.create_dataset(\"OS\", data=A1_U_reg)\n",
    "    filename = f\".\\\\data\\\\test_switches_SE2_A2_reg.hdf5\"\n",
    "    with h5py.File(filename, \"w\") as distance_file:\n",
    "        distance_file.create_dataset(\"OS\", data=A2_U_reg)\n",
    "    filename = f\".\\\\data\\\\test_switches_SE2_A3_reg.hdf5\"\n",
    "    with h5py.File(filename, \"w\") as distance_file:\n",
    "        distance_file.create_dataset(\"OS\", data=A3_U_reg)"
   ]
  },
  {
   "cell_type": "markdown",
   "metadata": {},
   "source": [
    "## Check Fancy Derivatives"
   ]
  },
  {
   "cell_type": "code",
   "execution_count": null,
   "metadata": {},
   "outputs": [],
   "source": [
    "from dsfilter.SE2.LI.derivatives import (\n",
    "    gradient_perp,\n",
    "    laplace_perp\n",
    ")"
   ]
  },
  {
   "cell_type": "code",
   "execution_count": null,
   "metadata": {},
   "outputs": [],
   "source": [
    "def compute_grad(U_np, θs_np, dxy, dθ, ξ):\n",
    "    shape = U_np.shape\n",
    "    U = ti.field(dtype=ti.f32, shape=shape)\n",
    "    U.from_numpy(U_np)\n",
    "    θs = ti.field(dtype=ti.f32, shape=shape)\n",
    "    θs.from_numpy(θs_np)\n",
    "    gradient_perp_U = ti.field(dtype=ti.f32, shape=shape)\n",
    "    compute_grad_ti(U, θs, dxy, dθ, ξ, gradient_perp_U)\n",
    "    return gradient_perp_U.to_numpy()\n",
    "\n",
    "@ti.kernel\n",
    "def compute_grad_ti(\n",
    "    U: ti.template(),\n",
    "    θs: ti.template(),\n",
    "    dxy: ti.f32,\n",
    "    dθ: ti.f32,\n",
    "    ξ: ti.f32,\n",
    "    gradient_perp_U: ti.template()\n",
    "):\n",
    "    gradient_perp(U, dxy, dθ, θs, ξ, gradient_perp_U)\n",
    "\n",
    "def compute_laplace(U_np, θs_np, dxy, dθ, ξ):\n",
    "    shape = U_np.shape\n",
    "    U = ti.field(dtype=ti.f32, shape=shape)\n",
    "    U.from_numpy(U_np)\n",
    "    θs = ti.field(dtype=ti.f32, shape=shape)\n",
    "    θs.from_numpy(θs_np)\n",
    "    laplace_perp_U = ti.field(dtype=ti.f32, shape=shape)\n",
    "    compute_laplace_ti(U, θs, dxy, dθ, ξ, laplace_perp_U)\n",
    "    return laplace_perp_U.to_numpy()\n",
    "\n",
    "@ti.kernel\n",
    "def compute_laplace_ti(\n",
    "    U: ti.template(),\n",
    "    θs: ti.template(),\n",
    "    dxy: ti.f32,\n",
    "    dθ: ti.f32,\n",
    "    ξ: ti.f32,\n",
    "    laplace_perp_U: ti.template()\n",
    "):\n",
    "    laplace_perp(U, dxy, dθ, θs, ξ, laplace_perp_U)"
   ]
  },
  {
   "cell_type": "code",
   "execution_count": null,
   "metadata": {},
   "outputs": [],
   "source": [
    "ξ = 8 / dim_K\n",
    "print(ξ)"
   ]
  },
  {
   "cell_type": "code",
   "execution_count": null,
   "metadata": {},
   "outputs": [],
   "source": [
    "grad_U = compute_grad(U, θs, dxy, dθ, ξ)\n",
    "laplace_U = compute_laplace(U, θs, dxy, dθ, ξ)\n",
    "grad_U_reg = compute_grad(U_reg, θs, dxy, dθ, ξ)\n",
    "laplace_U_reg = compute_laplace(U_reg, θs, dxy, dθ, ξ)"
   ]
  },
  {
   "cell_type": "code",
   "execution_count": null,
   "metadata": {},
   "outputs": [],
   "source": [
    "K = 4\n",
    "print(θs[0, 0, K])\n",
    "fig, ax = plt.subplots(2, 2, figsize=(12, 10))\n",
    "_, _, cbar = dsfilter.visualisations.plot_image_array(grad_U[..., K], x_min, x_max, y_min, y_max, cmap=\"gray\", fig=fig, ax=ax[0, 0])\n",
    "ax[0, 0].set_title(\"grad $U$\")\n",
    "fig.colorbar(cbar, ax=ax[0, 0])\n",
    "_, _, cbar = dsfilter.visualisations.plot_image_array(laplace_U[..., K], x_min, x_max, y_min, y_max, cmap=\"gray\", fig=fig, ax=ax[0, 1])\n",
    "ax[0, 1].set_title(\"laplace $U$\")\n",
    "fig.colorbar(cbar, ax=ax[0, 1])\n",
    "_, _, cbar = dsfilter.visualisations.plot_image_array(grad_U_reg[..., K], x_min, x_max, y_min, y_max, cmap=\"gray\", fig=fig, ax=ax[1, 0])\n",
    "ax[1, 0].set_title(\"grad $U_{{reg}}$\")\n",
    "fig.colorbar(cbar, ax=ax[1, 0])\n",
    "_, _, cbar = dsfilter.visualisations.plot_image_array(laplace_U_reg[..., K], x_min, x_max, y_min, y_max, cmap=\"gray\", fig=fig, ax=ax[1, 1])\n",
    "ax[1, 1].set_title(\"laplace $U_{{reg}}$\")\n",
    "fig.colorbar(cbar, ax=ax[1, 1]);"
   ]
  },
  {
   "cell_type": "code",
   "execution_count": null,
   "metadata": {},
   "outputs": [],
   "source": [
    "K = 0\n",
    "print(θs[0, 0, K])\n",
    "fig, ax = plt.subplots(2, 3, figsize=(18, 10))\n",
    "_, _, cbar = dsfilter.visualisations.plot_image_array(grad_U[..., K], x_min, x_max, y_min, y_max, cmap=\"gray\", fig=fig, ax=ax[0, 0])\n",
    "ax[0, 0].set_title(f\"{K} grad $U$\")\n",
    "fig.colorbar(cbar, ax=ax[0, 0])\n",
    "_, _, cbar = dsfilter.visualisations.plot_image_array(grad_U[..., K + 2], x_min, x_max, y_min, y_max, cmap=\"gray\", fig=fig, ax=ax[0, 1])\n",
    "ax[0, 1].set_title(f\"{K + 2} grad $U$\")\n",
    "fig.colorbar(cbar, ax=ax[0, 1])\n",
    "_, _, cbar = dsfilter.visualisations.plot_image_array(grad_U[..., K + 4], x_min, x_max, y_min, y_max, cmap=\"gray\", fig=fig, ax=ax[0, 2])\n",
    "ax[0, 2].set_title(f\"{K + 4} grad $U$\")\n",
    "fig.colorbar(cbar, ax=ax[0, 2])\n",
    "_, _, cbar = dsfilter.visualisations.plot_image_array(grad_U_reg[..., K], x_min, x_max, y_min, y_max, cmap=\"gray\", fig=fig, ax=ax[1, 0])\n",
    "ax[1, 0].set_title(f\"{K} grad $U$ reg\")\n",
    "fig.colorbar(cbar, ax=ax[1, 0])\n",
    "_, _, cbar = dsfilter.visualisations.plot_image_array(grad_U_reg[..., K + 2], x_min, x_max, y_min, y_max, cmap=\"gray\", fig=fig, ax=ax[1, 1])\n",
    "ax[1, 1].set_title(f\"{K + 2} grad $U$ reg\")\n",
    "fig.colorbar(cbar, ax=ax[1, 1])\n",
    "_, _, cbar = dsfilter.visualisations.plot_image_array(grad_U_reg[..., K + 4], x_min, x_max, y_min, y_max, cmap=\"gray\", fig=fig, ax=ax[1, 2])\n",
    "ax[1, 2].set_title(f\"{K + 4} grad $U$ reg\")\n",
    "fig.colorbar(cbar, ax=ax[1, 2]);"
   ]
  },
  {
   "cell_type": "code",
   "execution_count": null,
   "metadata": {},
   "outputs": [],
   "source": [
    "K = 0\n",
    "print(θs[0, 0, K])\n",
    "fig, ax = plt.subplots(2, 3, figsize=(18, 10))\n",
    "_, _, cbar = dsfilter.visualisations.plot_image_array(laplace_U[..., K], x_min, x_max, y_min, y_max, cmap=\"gray\", fig=fig, ax=ax[0, 0])\n",
    "ax[0, 0].set_title(f\"{K} $\\Delta U$\")\n",
    "fig.colorbar(cbar, ax=ax[0, 0])\n",
    "_, _, cbar = dsfilter.visualisations.plot_image_array(laplace_U[..., K + 2], x_min, x_max, y_min, y_max, cmap=\"gray\", fig=fig, ax=ax[0, 1])\n",
    "ax[0, 1].set_title(f\"{K + 2} $\\Delta U$\")\n",
    "fig.colorbar(cbar, ax=ax[0, 1])\n",
    "_, _, cbar = dsfilter.visualisations.plot_image_array(laplace_U[..., K + 4], x_min, x_max, y_min, y_max, cmap=\"gray\", fig=fig, ax=ax[0, 2])\n",
    "ax[0, 2].set_title(f\"{K + 4} $\\Delta U$\")\n",
    "fig.colorbar(cbar, ax=ax[0, 2])\n",
    "_, _, cbar = dsfilter.visualisations.plot_image_array(laplace_U_reg[..., K], x_min, x_max, y_min, y_max, cmap=\"gray\", fig=fig, ax=ax[1, 0])\n",
    "ax[1, 0].set_title(f\"{K} $\\Delta U$ reg\")\n",
    "fig.colorbar(cbar, ax=ax[1, 0])\n",
    "_, _, cbar = dsfilter.visualisations.plot_image_array(laplace_U_reg[..., K + 2], x_min, x_max, y_min, y_max, cmap=\"gray\", fig=fig, ax=ax[1, 1])\n",
    "ax[1, 1].set_title(f\"{K + 2} $\\Delta U$ reg\")\n",
    "fig.colorbar(cbar, ax=ax[1, 1])\n",
    "_, _, cbar = dsfilter.visualisations.plot_image_array(laplace_U_reg[..., K + 4], x_min, x_max, y_min, y_max, cmap=\"gray\", fig=fig, ax=ax[1, 2])\n",
    "ax[1, 2].set_title(f\"{K + 4} $\\Delta U$ reg\")\n",
    "fig.colorbar(cbar, ax=ax[1, 2]);"
   ]
  },
  {
   "cell_type": "code",
   "execution_count": null,
   "metadata": {},
   "outputs": [],
   "source": [
    "if save_files:\n",
    "    filename = f\".\\\\data\\\\test_switches_SE2_grad.hdf5\"\n",
    "    with h5py.File(filename, \"w\") as distance_file:\n",
    "        distance_file.create_dataset(\"OS\", data=grad_U)\n",
    "    filename = f\".\\\\data\\\\test_switches_SE2_laplace.hdf5\"\n",
    "    with h5py.File(filename, \"w\") as distance_file:\n",
    "        distance_file.create_dataset(\"OS\", data=laplace_U)\n",
    "    filename = f\".\\\\data\\\\test_switches_SE2_grad_reg.hdf5\"\n",
    "    with h5py.File(filename, \"w\") as distance_file:\n",
    "        distance_file.create_dataset(\"OS\", data=grad_U_reg)\n",
    "    filename = f\".\\\\data\\\\test_switches_SE2_laplace_reg.hdf5\"\n",
    "    with h5py.File(filename, \"w\") as distance_file:\n",
    "        distance_file.create_dataset(\"OS\", data=laplace_U_reg)"
   ]
  },
  {
   "cell_type": "markdown",
   "metadata": {},
   "source": [
    "## Check Switches"
   ]
  },
  {
   "cell_type": "code",
   "execution_count": null,
   "metadata": {},
   "outputs": [],
   "source": [
    "from dsfilter.SE2.LI.switches import (\n",
    "    g_scalar,\n",
    "    S_ε\n",
    ")"
   ]
  },
  {
   "cell_type": "code",
   "execution_count": null,
   "metadata": {},
   "outputs": [],
   "source": [
    "def compute_DS_switch(gradient_perp_U_np, λ):\n",
    "    shape = gradient_perp_U_np.shape\n",
    "    gradient_perp_U = ti.field(dtype=ti.f32, shape=shape)\n",
    "    gradient_perp_U.from_numpy(gradient_perp_U_np)\n",
    "    switch = ti.field(dtype=ti.f32, shape=shape)\n",
    "    compute_DS_switch_ti(gradient_perp_U, λ, switch)\n",
    "    return switch.to_numpy()\n",
    "\n",
    "@ti.kernel\n",
    "def compute_DS_switch_ti(\n",
    "    gradient_perp_U: ti.template(),\n",
    "    λ: ti.f32,\n",
    "    switch: ti.template()\n",
    "):\n",
    "    for I in ti.grouped(switch):\n",
    "        switch[I] = g_scalar(gradient_perp_U[I]**2, λ)\n",
    "\n",
    "def compute_morphological_switch(laplace_perp_U_np, ε):\n",
    "    shape = laplace_perp_U_np.shape\n",
    "    laplace_perp_U = ti.field(dtype=ti.f32, shape=shape)\n",
    "    laplace_perp_U.from_numpy(laplace_perp_U_np)\n",
    "    switch = ti.field(dtype=ti.f32, shape=shape)\n",
    "    compute_morphological_switch_ti(laplace_perp_U, ε, switch)\n",
    "    return switch.to_numpy()\n",
    "\n",
    "@ti.kernel\n",
    "def compute_morphological_switch_ti(\n",
    "    laplace_perp_U: ti.template(),\n",
    "    ε: ti.f32,\n",
    "    switch: ti.template()\n",
    "):\n",
    "    for I in ti.grouped(switch):\n",
    "        switch[I] = (\n",
    "            S_ε(laplace_perp_U[I], ε) * (ε > 0.) +\n",
    "            ti.math.sign(laplace_perp_U[I]) * (ε == 0.)\n",
    "        )"
   ]
  },
  {
   "cell_type": "code",
   "execution_count": null,
   "metadata": {},
   "outputs": [],
   "source": [
    "λ = 1.\n",
    "ε = 1."
   ]
  },
  {
   "cell_type": "code",
   "execution_count": null,
   "metadata": {},
   "outputs": [],
   "source": [
    "switch_DS = compute_DS_switch(grad_U, λ)\n",
    "switch_morph = compute_morphological_switch(laplace_U, ε)\n",
    "switch_DS_reg = compute_DS_switch(grad_U_reg, λ)\n",
    "switch_morph_reg = compute_morphological_switch(laplace_U_reg, ε)"
   ]
  },
  {
   "cell_type": "code",
   "execution_count": null,
   "metadata": {},
   "outputs": [],
   "source": [
    "threshold_DS = 0.25\n",
    "threshold_morph = 0.5\n",
    "region_of_interest_DS = (switch_DS < threshold_DS) # More shock than diffusion\n",
    "region_of_interest_morph = (switch_morph < -threshold_morph) + (switch_morph > threshold_morph) # Big shock\n",
    "region_of_interest_combi = region_of_interest_DS * region_of_interest_morph\n",
    "region_of_interest_DS_reg = (switch_DS_reg < threshold_DS)\n",
    "region_of_interest_morph_reg = (switch_morph_reg < -threshold_morph) + (switch_morph_reg > threshold_morph)\n",
    "region_of_interest_combi_reg = region_of_interest_DS_reg * region_of_interest_morph_reg"
   ]
  },
  {
   "cell_type": "code",
   "execution_count": null,
   "metadata": {},
   "outputs": [],
   "source": [
    "K = 0\n",
    "fig, ax = plt.subplots(2, 3, figsize=(18, 10))\n",
    "_, _, cbar = dsfilter.visualisations.plot_image_array(region_of_interest_DS.astype(int)[..., K], x_min, x_max, y_min, y_max, cmap=\"gray\", fig=fig, ax=ax[0, 0])\n",
    "ax[0, 0].set_title(\"DS\")\n",
    "fig.colorbar(cbar, ax=ax[0, 0])\n",
    "_, _, cbar = dsfilter.visualisations.plot_image_array(region_of_interest_morph.astype(int)[..., K], x_min, x_max, y_min, y_max, cmap=\"gray\", fig=fig, ax=ax[0, 1])\n",
    "ax[0, 1].set_title(\"morph\")\n",
    "fig.colorbar(cbar, ax=ax[0, 1])\n",
    "_, _, cbar = dsfilter.visualisations.plot_image_array(region_of_interest_combi.astype(int)[..., K], x_min, x_max, y_min, y_max, cmap=\"gray\", fig=fig, ax=ax[0, 2])\n",
    "ax[0, 2].set_title(\"combi\")\n",
    "fig.colorbar(cbar, ax=ax[0, 2])\n",
    "_, _, cbar = dsfilter.visualisations.plot_image_array(region_of_interest_DS_reg.astype(int)[..., K], x_min, x_max, y_min, y_max, cmap=\"gray\", fig=fig, ax=ax[1, 0])\n",
    "ax[1, 0].set_title(\"DS reg\")\n",
    "fig.colorbar(cbar, ax=ax[1, 0])\n",
    "_, _, cbar = dsfilter.visualisations.plot_image_array(region_of_interest_morph_reg.astype(int)[..., K], x_min, x_max, y_min, y_max, cmap=\"gray\", fig=fig, ax=ax[1, 1])\n",
    "ax[1, 1].set_title(\"morph reg\")\n",
    "fig.colorbar(cbar, ax=ax[1, 1])\n",
    "_, _, cbar = dsfilter.visualisations.plot_image_array(region_of_interest_combi_reg.astype(int)[..., K], x_min, x_max, y_min, y_max, cmap=\"gray\", fig=fig, ax=ax[1, 2])\n",
    "ax[1, 2].set_title(\"combi reg\")\n",
    "fig.colorbar(cbar, ax=ax[1, 2]);"
   ]
  },
  {
   "cell_type": "code",
   "execution_count": null,
   "metadata": {},
   "outputs": [],
   "source": [
    "K = 4\n",
    "print(θs[0, 0, K])\n",
    "fig, ax = plt.subplots(2, 2, figsize=(12, 10))\n",
    "_, _, cbar = dsfilter.visualisations.plot_image_array(switch_DS[..., K], x_min, x_max, y_min, y_max, cmap=\"gray\", fig=fig, ax=ax[0, 0])\n",
    "ax[0, 0].set_title(\"DS $U$\")\n",
    "fig.colorbar(cbar, ax=ax[0, 0])\n",
    "_, _, cbar = dsfilter.visualisations.plot_image_array(switch_morph[..., K], x_min, x_max, y_min, y_max, cmap=\"gray\", fig=fig, ax=ax[0, 1])\n",
    "ax[0, 1].set_title(\"morph $U$\")\n",
    "fig.colorbar(cbar, ax=ax[0, 1])\n",
    "_, _, cbar = dsfilter.visualisations.plot_image_array(switch_DS_reg[..., K], x_min, x_max, y_min, y_max, cmap=\"gray\", fig=fig, ax=ax[1, 0])\n",
    "ax[1, 0].set_title(\"DS $U_{{reg}}$\")\n",
    "fig.colorbar(cbar, ax=ax[1, 0])\n",
    "_, _, cbar = dsfilter.visualisations.plot_image_array(switch_morph_reg[..., K], x_min, x_max, y_min, y_max, cmap=\"gray\", fig=fig, ax=ax[1, 1])\n",
    "ax[1, 1].set_title(\"morph $U_{{reg}}$\")\n",
    "fig.colorbar(cbar, ax=ax[1, 1]);"
   ]
  },
  {
   "cell_type": "code",
   "execution_count": null,
   "metadata": {},
   "outputs": [],
   "source": [
    "K = 0\n",
    "print(θs[0, 0, K])\n",
    "fig, ax = plt.subplots(2, 3, figsize=(18, 10))\n",
    "_, _, cbar = dsfilter.visualisations.plot_image_array(switch_morph[..., K], x_min, x_max, y_min, y_max, cmap=\"gray\", fig=fig, ax=ax[0, 0])\n",
    "ax[0, 0].set_title(f\"morph {K} $U$\")\n",
    "fig.colorbar(cbar, ax=ax[0, 0])\n",
    "_, _, cbar = dsfilter.visualisations.plot_image_array(switch_morph[..., K + 2], x_min, x_max, y_min, y_max, cmap=\"gray\", fig=fig, ax=ax[0, 1])\n",
    "ax[0, 1].set_title(f\"morph {K + 2} $U$\")\n",
    "fig.colorbar(cbar, ax=ax[0, 1])\n",
    "_, _, cbar = dsfilter.visualisations.plot_image_array(switch_morph[..., K + 4], x_min, x_max, y_min, y_max, cmap=\"gray\", fig=fig, ax=ax[0, 2])\n",
    "ax[0, 2].set_title(f\"morph {K + 4} $U$\")\n",
    "fig.colorbar(cbar, ax=ax[0, 2])\n",
    "_, _, cbar = dsfilter.visualisations.plot_image_array(switch_morph_reg[..., K], x_min, x_max, y_min, y_max, cmap=\"gray\", fig=fig, ax=ax[1, 0])\n",
    "ax[1, 0].set_title(f\"morph {K} $U_{{\\mathrm{{reg}}}}$\")\n",
    "fig.colorbar(cbar, ax=ax[1, 0])\n",
    "_, _, cbar = dsfilter.visualisations.plot_image_array(switch_morph_reg[..., K + 2], x_min, x_max, y_min, y_max, cmap=\"gray\", fig=fig, ax=ax[1, 1])\n",
    "ax[1, 1].set_title(f\"morph {K + 2} $U_{{\\mathrm{{reg}}}}$\")\n",
    "fig.colorbar(cbar, ax=ax[1, 1])\n",
    "_, _, cbar = dsfilter.visualisations.plot_image_array(switch_morph_reg[..., K + 4], x_min, x_max, y_min, y_max, cmap=\"gray\", fig=fig, ax=ax[1, 2])\n",
    "ax[1, 2].set_title(f\"morph {K + 4} $U_{{\\mathrm{{reg}}}}$\")\n",
    "fig.colorbar(cbar, ax=ax[1, 2]);"
   ]
  },
  {
   "cell_type": "code",
   "execution_count": null,
   "metadata": {},
   "outputs": [],
   "source": [
    "K = 0\n",
    "print(θs[0, 0, K])\n",
    "fig, ax = plt.subplots(2, 3, figsize=(18, 10))\n",
    "_, _, cbar = dsfilter.visualisations.plot_image_array(switch_DS_reg[..., K], x_min, x_max, y_min, y_max, cmap=\"gray\", fig=fig, ax=ax[0, 0])\n",
    "ax[0, 0].set_title(f\"DS {K} $U_{{\\mathrm{{reg}}}}$\")\n",
    "fig.colorbar(cbar, ax=ax[0, 0])\n",
    "_, _, cbar = dsfilter.visualisations.plot_image_array(switch_DS_reg[..., K + 2], x_min, x_max, y_min, y_max, cmap=\"gray\", fig=fig, ax=ax[0, 1])\n",
    "ax[0, 1].set_title(f\"DS {K + 2} $U_{{\\mathrm{{reg}}}}$\")\n",
    "fig.colorbar(cbar, ax=ax[0, 1])\n",
    "_, _, cbar = dsfilter.visualisations.plot_image_array(switch_DS_reg[..., K + 4], x_min, x_max, y_min, y_max, cmap=\"gray\", fig=fig, ax=ax[0, 2])\n",
    "ax[0, 2].set_title(f\"DS {K + 4} $U_{{\\mathrm{{reg}}}}$\")\n",
    "fig.colorbar(cbar, ax=ax[0, 2])\n",
    "_, _, cbar = dsfilter.visualisations.plot_image_array(switch_morph_reg[..., K], x_min, x_max, y_min, y_max, cmap=\"gray\", fig=fig, ax=ax[1, 0])\n",
    "ax[1, 0].set_title(f\"morph {K} $U_{{\\mathrm{{reg}}}}$\")\n",
    "fig.colorbar(cbar, ax=ax[1, 0])\n",
    "_, _, cbar = dsfilter.visualisations.plot_image_array(switch_morph_reg[..., K + 2], x_min, x_max, y_min, y_max, cmap=\"gray\", fig=fig, ax=ax[1, 1])\n",
    "ax[1, 1].set_title(f\"morph {K + 2} $U_{{\\mathrm{{reg}}}}$\")\n",
    "fig.colorbar(cbar, ax=ax[1, 1])\n",
    "_, _, cbar = dsfilter.visualisations.plot_image_array(switch_morph_reg[..., K + 4], x_min, x_max, y_min, y_max, cmap=\"gray\", fig=fig, ax=ax[1, 2])\n",
    "ax[1, 2].set_title(f\"morph {K + 4} $U_{{\\mathrm{{reg}}}}$\")\n",
    "fig.colorbar(cbar, ax=ax[1, 2]);"
   ]
  },
  {
   "cell_type": "code",
   "execution_count": null,
   "metadata": {},
   "outputs": [],
   "source": [
    "if save_files:\n",
    "    filename = f\".\\\\data\\\\test_switches_SE2_DS.hdf5\"\n",
    "    with h5py.File(filename, \"w\") as distance_file:\n",
    "        distance_file.create_dataset(\"OS\", data=switch_DS)\n",
    "    filename = f\".\\\\data\\\\test_switches_SE2_morph.hdf5\"\n",
    "    with h5py.File(filename, \"w\") as distance_file:\n",
    "        distance_file.create_dataset(\"OS\", data=switch_morph)\n",
    "    filename = f\".\\\\data\\\\test_switches_SE2_DS_reg.hdf5\"\n",
    "    with h5py.File(filename, \"w\") as distance_file:\n",
    "        distance_file.create_dataset(\"OS\", data=switch_DS_reg)\n",
    "    filename = f\".\\\\data\\\\test_switches_SE2_morph_reg.hdf5\"\n",
    "    with h5py.File(filename, \"w\") as distance_file:\n",
    "        distance_file.create_dataset(\"OS\", data=switch_morph_reg)"
   ]
  },
  {
   "cell_type": "markdown",
   "metadata": {},
   "source": [
    "## Check Switches with External Regularisation"
   ]
  },
  {
   "cell_type": "code",
   "execution_count": null,
   "metadata": {},
   "outputs": [],
   "source": [
    "ρ1 = 4. * dxy\n",
    "ρ2 = 0.5 * dxy\n",
    "ρ3 = 0.1 * dθ"
   ]
  },
  {
   "cell_type": "code",
   "execution_count": null,
   "metadata": {},
   "outputs": [],
   "source": [
    "switch_DS_ext = regularise_anisotropic(switch_DS, θs, ρ1, ρ2, ρ3, dxy, dθ)\n",
    "switch_morph_ext = regularise_anisotropic(switch_morph, θs, ρ1, ρ2, ρ3, dxy, dθ)\n",
    "switch_DS_reg_ext = regularise_anisotropic(switch_DS_reg, θs, ρ1, ρ2, ρ3, dxy, dθ)\n",
    "switch_morph_reg_ext = regularise_anisotropic(switch_morph_reg, θs, ρ1, ρ2, ρ3, dxy, dθ)"
   ]
  },
  {
   "cell_type": "code",
   "execution_count": null,
   "metadata": {},
   "outputs": [],
   "source": [
    "threshold_DS = 0.5\n",
    "threshold_morph = 0.25\n",
    "region_of_interest_DS_ext = (switch_DS_ext < threshold_DS) # More shock than diffusion\n",
    "region_of_interest_morph_ext = (switch_morph_ext < -threshold_morph) + (switch_morph_ext > threshold_morph) # Big shock\n",
    "region_of_interest_combi_ext = region_of_interest_DS_ext * region_of_interest_morph_ext\n",
    "region_of_interest_DS_reg_ext = (switch_DS_reg_ext < threshold_DS)\n",
    "region_of_interest_morph_reg_ext = (switch_morph_reg_ext < -threshold_morph) + (switch_morph_reg_ext > threshold_morph)\n",
    "region_of_interest_combi_reg_ext = region_of_interest_DS_reg_ext * region_of_interest_morph_reg_ext"
   ]
  },
  {
   "cell_type": "code",
   "execution_count": null,
   "metadata": {},
   "outputs": [],
   "source": [
    "K = 0\n",
    "fig, ax = plt.subplots(2, 3, figsize=(18, 10))\n",
    "_, _, cbar = dsfilter.visualisations.plot_image_array(region_of_interest_DS_ext.astype(int)[..., K], x_min, x_max, y_min, y_max, cmap=\"gray\", fig=fig, ax=ax[0, 0])\n",
    "ax[0, 0].set_title(\"DS\")\n",
    "fig.colorbar(cbar, ax=ax[0, 0])\n",
    "_, _, cbar = dsfilter.visualisations.plot_image_array(region_of_interest_morph_ext.astype(int)[..., K], x_min, x_max, y_min, y_max, cmap=\"gray\", fig=fig, ax=ax[0, 1])\n",
    "ax[0, 1].set_title(\"morph\")\n",
    "fig.colorbar(cbar, ax=ax[0, 1])\n",
    "_, _, cbar = dsfilter.visualisations.plot_image_array(region_of_interest_combi_ext.astype(int)[..., K], x_min, x_max, y_min, y_max, cmap=\"gray\", fig=fig, ax=ax[0, 2])\n",
    "ax[0, 2].set_title(\"combi\")\n",
    "fig.colorbar(cbar, ax=ax[0, 2])\n",
    "_, _, cbar = dsfilter.visualisations.plot_image_array(region_of_interest_DS_reg_ext.astype(int)[..., K], x_min, x_max, y_min, y_max, cmap=\"gray\", fig=fig, ax=ax[1, 0])\n",
    "ax[1, 0].set_title(\"DS reg\")\n",
    "fig.colorbar(cbar, ax=ax[1, 0])\n",
    "_, _, cbar = dsfilter.visualisations.plot_image_array(region_of_interest_morph_reg_ext.astype(int)[..., K], x_min, x_max, y_min, y_max, cmap=\"gray\", fig=fig, ax=ax[1, 1])\n",
    "ax[1, 1].set_title(\"morph reg\")\n",
    "fig.colorbar(cbar, ax=ax[1, 1])\n",
    "_, _, cbar = dsfilter.visualisations.plot_image_array(region_of_interest_combi_reg_ext.astype(int)[..., K], x_min, x_max, y_min, y_max, cmap=\"gray\", fig=fig, ax=ax[1, 2])\n",
    "ax[1, 2].set_title(\"combi reg\")\n",
    "fig.colorbar(cbar, ax=ax[1, 2]);"
   ]
  },
  {
   "cell_type": "code",
   "execution_count": null,
   "metadata": {},
   "outputs": [],
   "source": [
    "K = 0\n",
    "print(θs[0, 0, K])\n",
    "fig, ax = plt.subplots(2, 3, figsize=(18, 10))\n",
    "_, _, cbar = dsfilter.visualisations.plot_image_array(switch_DS_ext[..., K], x_min, x_max, y_min, y_max, cmap=\"gray\", fig=fig, ax=ax[0, 0])\n",
    "ax[0, 0].set_title(f\"DS {K} $U$\")\n",
    "fig.colorbar(cbar, ax=ax[0, 0])\n",
    "_, _, cbar = dsfilter.visualisations.plot_image_array(switch_DS_ext[..., K + 2], x_min, x_max, y_min, y_max, cmap=\"gray\", fig=fig, ax=ax[0, 1])\n",
    "ax[0, 1].set_title(f\"DS {K + 2} $U$\")\n",
    "fig.colorbar(cbar, ax=ax[0, 1])\n",
    "_, _, cbar = dsfilter.visualisations.plot_image_array(switch_DS_ext[..., K + 4], x_min, x_max, y_min, y_max, cmap=\"gray\", fig=fig, ax=ax[0, 2])\n",
    "ax[0, 2].set_title(f\"DS {K + 4} $U$\")\n",
    "fig.colorbar(cbar, ax=ax[0, 2])\n",
    "_, _, cbar = dsfilter.visualisations.plot_image_array(switch_DS_reg_ext[..., K], x_min, x_max, y_min, y_max, cmap=\"gray\", fig=fig, ax=ax[1, 0])\n",
    "ax[1, 0].set_title(f\"DS {K} $U_{{\\mathrm{{reg}}}}$\")\n",
    "fig.colorbar(cbar, ax=ax[1, 0])\n",
    "_, _, cbar = dsfilter.visualisations.plot_image_array(switch_DS_reg_ext[..., K + 2], x_min, x_max, y_min, y_max, cmap=\"gray\", fig=fig, ax=ax[1, 1])\n",
    "ax[1, 1].set_title(f\"DS {K + 2} $U_{{\\mathrm{{reg}}}}$\")\n",
    "fig.colorbar(cbar, ax=ax[1, 1])\n",
    "_, _, cbar = dsfilter.visualisations.plot_image_array(switch_DS_reg_ext[..., K + 4], x_min, x_max, y_min, y_max, cmap=\"gray\", fig=fig, ax=ax[1, 2])\n",
    "ax[1, 2].set_title(f\"DS {K + 4} $U_{{\\mathrm{{reg}}}}$\")\n",
    "fig.colorbar(cbar, ax=ax[1, 2]);"
   ]
  },
  {
   "cell_type": "code",
   "execution_count": null,
   "metadata": {},
   "outputs": [],
   "source": [
    "test = switch_DS_ext.copy()\n",
    "test[Mask > 0.] = 1.\n",
    "test_reg = switch_DS_reg_ext.copy()\n",
    "test_reg[Mask > 0.] = 1."
   ]
  },
  {
   "cell_type": "code",
   "execution_count": null,
   "metadata": {},
   "outputs": [],
   "source": [
    "K = 0\n",
    "print(θs[0, 0, K])\n",
    "fig, ax = plt.subplots(2, 3, figsize=(18, 10))\n",
    "_, _, cbar = dsfilter.visualisations.plot_image_array(test[..., K], x_min, x_max, y_min, y_max, cmap=\"gray\", fig=fig, ax=ax[0, 0])\n",
    "ax[0, 0].set_title(f\"DS {K} $U$\")\n",
    "fig.colorbar(cbar, ax=ax[0, 0])\n",
    "_, _, cbar = dsfilter.visualisations.plot_image_array(test[..., K + 2], x_min, x_max, y_min, y_max, cmap=\"gray\", fig=fig, ax=ax[0, 1])\n",
    "ax[0, 1].set_title(f\"DS {K + 2} $U$\")\n",
    "fig.colorbar(cbar, ax=ax[0, 1])\n",
    "_, _, cbar = dsfilter.visualisations.plot_image_array(test[..., K + 4], x_min, x_max, y_min, y_max, cmap=\"gray\", fig=fig, ax=ax[0, 2])\n",
    "ax[0, 2].set_title(f\"DS {K + 4} $U$\")\n",
    "fig.colorbar(cbar, ax=ax[0, 2])\n",
    "_, _, cbar = dsfilter.visualisations.plot_image_array(test_reg[..., K], x_min, x_max, y_min, y_max, cmap=\"gray\", fig=fig, ax=ax[1, 0])\n",
    "ax[1, 0].set_title(f\"DS {K} $U$ reg\")\n",
    "fig.colorbar(cbar, ax=ax[1, 0])\n",
    "_, _, cbar = dsfilter.visualisations.plot_image_array(test_reg[..., K + 2], x_min, x_max, y_min, y_max, cmap=\"gray\", fig=fig, ax=ax[1, 1])\n",
    "ax[1, 1].set_title(f\"DS {K + 2} $U$ reg\")\n",
    "fig.colorbar(cbar, ax=ax[1, 1])\n",
    "_, _, cbar = dsfilter.visualisations.plot_image_array(test_reg[..., K + 4], x_min, x_max, y_min, y_max, cmap=\"gray\", fig=fig, ax=ax[1, 2])\n",
    "ax[1, 2].set_title(f\"DS {K + 4} $U$ reg\")\n",
    "fig.colorbar(cbar, ax=ax[1, 2]);"
   ]
  },
  {
   "cell_type": "code",
   "execution_count": null,
   "metadata": {},
   "outputs": [],
   "source": [
    "K = 0\n",
    "print(θs[0, 0, K])\n",
    "fig, ax = plt.subplots(2, 3, figsize=(18, 10))\n",
    "_, _, cbar = dsfilter.visualisations.plot_image_array(switch_morph_ext[..., K], x_min, x_max, y_min, y_max, cmap=\"gray\", fig=fig, ax=ax[0, 0])\n",
    "ax[0, 0].set_title(f\"morph {K} $U$\")\n",
    "fig.colorbar(cbar, ax=ax[0, 0])\n",
    "_, _, cbar = dsfilter.visualisations.plot_image_array(switch_morph_ext[..., K + 2], x_min, x_max, y_min, y_max, cmap=\"gray\", fig=fig, ax=ax[0, 1])\n",
    "ax[0, 1].set_title(f\"morph {K + 2} $U$\")\n",
    "fig.colorbar(cbar, ax=ax[0, 1])\n",
    "_, _, cbar = dsfilter.visualisations.plot_image_array(switch_morph_ext[..., K + 4], x_min, x_max, y_min, y_max, cmap=\"gray\", fig=fig, ax=ax[0, 2])\n",
    "ax[0, 2].set_title(f\"morph {K + 4} $U$\")\n",
    "fig.colorbar(cbar, ax=ax[0, 2])\n",
    "_, _, cbar = dsfilter.visualisations.plot_image_array(switch_morph_reg_ext[..., K], x_min, x_max, y_min, y_max, cmap=\"gray\", fig=fig, ax=ax[1, 0])\n",
    "ax[1, 0].set_title(f\"morph {K} $U_{{\\mathrm{{reg}}}}$\")\n",
    "fig.colorbar(cbar, ax=ax[1, 0])\n",
    "_, _, cbar = dsfilter.visualisations.plot_image_array(switch_morph_reg_ext[..., K + 2], x_min, x_max, y_min, y_max, cmap=\"gray\", fig=fig, ax=ax[1, 1])\n",
    "ax[1, 1].set_title(f\"morph {K + 2} $U_{{\\mathrm{{reg}}}}$\")\n",
    "fig.colorbar(cbar, ax=ax[1, 1])\n",
    "_, _, cbar = dsfilter.visualisations.plot_image_array(switch_morph_reg_ext[..., K + 4], x_min, x_max, y_min, y_max, cmap=\"gray\", fig=fig, ax=ax[1, 2])\n",
    "ax[1, 2].set_title(f\"morph {K + 4} $U_{{\\mathrm{{reg}}}}$\")\n",
    "fig.colorbar(cbar, ax=ax[1, 2]);"
   ]
  },
  {
   "cell_type": "code",
   "execution_count": null,
   "metadata": {},
   "outputs": [],
   "source": [
    "test = switch_morph_ext.copy()\n",
    "test[Mask > 0.] = 0.\n",
    "test_reg = switch_morph_reg_ext.copy()\n",
    "test_reg[Mask > 0.] = 0."
   ]
  },
  {
   "cell_type": "code",
   "execution_count": null,
   "metadata": {},
   "outputs": [],
   "source": [
    "K = 0\n",
    "print(θs[0, 0, K])\n",
    "fig, ax = plt.subplots(2, 3, figsize=(18, 10))\n",
    "_, _, cbar = dsfilter.visualisations.plot_image_array(test[..., K], x_min, x_max, y_min, y_max, cmap=\"gray\", fig=fig, ax=ax[0, 0])\n",
    "ax[0, 0].set_title(f\"morph {K} $U$\")\n",
    "fig.colorbar(cbar, ax=ax[0, 0])\n",
    "_, _, cbar = dsfilter.visualisations.plot_image_array(test[..., K + 2], x_min, x_max, y_min, y_max, cmap=\"gray\", fig=fig, ax=ax[0, 1])\n",
    "ax[0, 1].set_title(f\"morph {K + 2} $U$\")\n",
    "fig.colorbar(cbar, ax=ax[0, 1])\n",
    "_, _, cbar = dsfilter.visualisations.plot_image_array(test[..., K + 4], x_min, x_max, y_min, y_max, cmap=\"gray\", fig=fig, ax=ax[0, 2])\n",
    "ax[0, 2].set_title(f\"morph {K + 4} $U$\")\n",
    "fig.colorbar(cbar, ax=ax[0, 2])\n",
    "_, _, cbar = dsfilter.visualisations.plot_image_array(test_reg[..., K], x_min, x_max, y_min, y_max, cmap=\"gray\", fig=fig, ax=ax[1, 0])\n",
    "ax[1, 0].set_title(f\"morph {K} $U$ reg\")\n",
    "fig.colorbar(cbar, ax=ax[1, 0])\n",
    "_, _, cbar = dsfilter.visualisations.plot_image_array(test_reg[..., K + 2], x_min, x_max, y_min, y_max, cmap=\"gray\", fig=fig, ax=ax[1, 1])\n",
    "ax[1, 1].set_title(f\"morph {K + 2} $U$ reg\")\n",
    "fig.colorbar(cbar, ax=ax[1, 1])\n",
    "_, _, cbar = dsfilter.visualisations.plot_image_array(test_reg[..., K + 4], x_min, x_max, y_min, y_max, cmap=\"gray\", fig=fig, ax=ax[1, 2])\n",
    "ax[1, 2].set_title(f\"morph {K + 4} $U$ reg\")\n",
    "fig.colorbar(cbar, ax=ax[1, 2]);"
   ]
  },
  {
   "cell_type": "code",
   "execution_count": null,
   "metadata": {},
   "outputs": [],
   "source": [
    "K = 0\n",
    "print(θs[0, 0, K])\n",
    "fig, ax = plt.subplots(2, 3, figsize=(18, 10))\n",
    "_, _, cbar = dsfilter.visualisations.plot_image_array(switch_DS_reg_ext[..., K], x_min, x_max, y_min, y_max, cmap=\"gray\", fig=fig, ax=ax[0, 0])\n",
    "ax[0, 0].set_title(f\"DS {K} $U_{{\\mathrm{{reg}}}}$\")\n",
    "fig.colorbar(cbar, ax=ax[0, 0])\n",
    "_, _, cbar = dsfilter.visualisations.plot_image_array(switch_DS_reg_ext[..., K + 2], x_min, x_max, y_min, y_max, cmap=\"gray\", fig=fig, ax=ax[0, 1])\n",
    "ax[0, 1].set_title(f\"DS {K + 2} $U_{{\\mathrm{{reg}}}}$\")\n",
    "fig.colorbar(cbar, ax=ax[0, 1])\n",
    "_, _, cbar = dsfilter.visualisations.plot_image_array(switch_DS_reg_ext[..., K + 4], x_min, x_max, y_min, y_max, cmap=\"gray\", fig=fig, ax=ax[0, 2])\n",
    "ax[0, 2].set_title(f\"DS {K + 4} $U_{{\\mathrm{{reg}}}}$\")\n",
    "fig.colorbar(cbar, ax=ax[0, 2])\n",
    "_, _, cbar = dsfilter.visualisations.plot_image_array(switch_morph_reg_ext[..., K], x_min, x_max, y_min, y_max, cmap=\"gray\", fig=fig, ax=ax[1, 0])\n",
    "ax[1, 0].set_title(f\"morph {K} $U_{{\\mathrm{{reg}}}}$\")\n",
    "fig.colorbar(cbar, ax=ax[1, 0])\n",
    "_, _, cbar = dsfilter.visualisations.plot_image_array(switch_morph_reg_ext[..., K + 2], x_min, x_max, y_min, y_max, cmap=\"gray\", fig=fig, ax=ax[1, 1])\n",
    "ax[1, 1].set_title(f\"morph {K + 2} $U_{{\\mathrm{{reg}}}}$\")\n",
    "fig.colorbar(cbar, ax=ax[1, 1])\n",
    "_, _, cbar = dsfilter.visualisations.plot_image_array(switch_morph_reg_ext[..., K + 4], x_min, x_max, y_min, y_max, cmap=\"gray\", fig=fig, ax=ax[1, 2])\n",
    "ax[1, 2].set_title(f\"morph {K + 4} $U_{{\\mathrm{{reg}}}}$\")\n",
    "fig.colorbar(cbar, ax=ax[1, 2]);"
   ]
  },
  {
   "cell_type": "code",
   "execution_count": null,
   "metadata": {},
   "outputs": [],
   "source": [
    "if save_files:\n",
    "    filename = f\".\\\\data\\\\test_switches_SE2_DS_ext.hdf5\"\n",
    "    with h5py.File(filename, \"w\") as distance_file:\n",
    "        distance_file.create_dataset(\"OS\", data=switch_DS_ext)\n",
    "    filename = f\".\\\\data\\\\test_switches_SE2_morph_ext.hdf5\"\n",
    "    with h5py.File(filename, \"w\") as distance_file:\n",
    "        distance_file.create_dataset(\"OS\", data=switch_morph_ext)\n",
    "    filename = f\".\\\\data\\\\test_switches_SE2_DS_reg_ext.hdf5\"\n",
    "    with h5py.File(filename, \"w\") as distance_file:\n",
    "        distance_file.create_dataset(\"OS\", data=switch_DS_reg_ext)\n",
    "    filename = f\".\\\\data\\\\test_switches_SE2_morph_reg_ext.hdf5\"\n",
    "    with h5py.File(filename, \"w\") as distance_file:\n",
    "        distance_file.create_dataset(\"OS\", data=switch_morph_reg_ext)"
   ]
  },
  {
   "cell_type": "code",
   "execution_count": null,
   "metadata": {},
   "outputs": [],
   "source": []
  }
 ],
 "metadata": {
  "kernelspec": {
   "display_name": "Python 3",
   "language": "python",
   "name": "python3"
  },
  "language_info": {
   "codemirror_mode": {
    "name": "ipython",
    "version": 3
   },
   "file_extension": ".py",
   "mimetype": "text/x-python",
   "name": "python",
   "nbconvert_exporter": "python",
   "pygments_lexer": "ipython3",
   "version": "3.10.13"
  }
 },
 "nbformat": 4,
 "nbformat_minor": 2
}
