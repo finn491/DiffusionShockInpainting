{
 "cells": [
  {
   "cell_type": "markdown",
   "metadata": {},
   "source": [
    "# Make Noisy Images"
   ]
  },
  {
   "cell_type": "code",
   "execution_count": 1,
   "metadata": {},
   "outputs": [],
   "source": [
    "import numpy as np\n",
    "import scipy as sp\n",
    "import matplotlib.pyplot as plt\n",
    "from PIL import Image"
   ]
  },
  {
   "cell_type": "code",
   "execution_count": 2,
   "metadata": {},
   "outputs": [],
   "source": [
    "image_folder = \".\\\\data\"\n",
    "save_image = True"
   ]
  },
  {
   "cell_type": "code",
   "execution_count": 3,
   "metadata": {},
   "outputs": [],
   "source": [
    "# \"spiral\" \"monalisa\" \"smoothspiral\" \"collagen\"\n",
    "test_case = \"collagen\"\n",
    "\n",
    "ground_truth = np.array(Image.open(f\"{image_folder}\\\\{test_case}.tif\").convert(\"L\")).astype(np.float64)"
   ]
  },
  {
   "cell_type": "code",
   "execution_count": null,
   "metadata": {},
   "outputs": [],
   "source": [
    "fig, ax = plt.subplots(1, 1, figsize=(5, 5))\n",
    "cbar = ax.imshow(ground_truth, cmap=\"gray\")\n",
    "fig.colorbar(cbar, ax=ax);"
   ]
  },
  {
   "cell_type": "code",
   "execution_count": 5,
   "metadata": {},
   "outputs": [],
   "source": [
    "if test_case == \"collagen\":\n",
    "    σ = 20.         # Intensity\n",
    "    ρ = 0.          # Correlation\n",
    "else:\n",
    "    σ = 0.2 * 255.  # Intensity\n",
    "    ρ = 1.          # Correlation\n",
    "\n",
    "noise = σ * np.random.randn(*ground_truth.shape)\n",
    "if ρ > 0:\n",
    "    noise = sp.ndimage.gaussian_filter(noise, ρ)\n",
    "\n",
    "noisy_image = np.clip(ground_truth + noise, 0., 255.)"
   ]
  },
  {
   "cell_type": "code",
   "execution_count": null,
   "metadata": {},
   "outputs": [],
   "source": [
    "fig, ax = plt.subplots(1, 2, figsize=(10, 5))\n",
    "cbar = ax[0].imshow(noise, cmap=\"gray\")\n",
    "fig.colorbar(cbar, ax=ax[0])\n",
    "cbar = ax[1].imshow(noisy_image, cmap=\"gray\")\n",
    "fig.colorbar(cbar, ax=ax[1]);"
   ]
  },
  {
   "cell_type": "code",
   "execution_count": null,
   "metadata": {},
   "outputs": [],
   "source": [
    "filename = f\"{image_folder}\\\\{test_case}_{σ:.0f}\"\n",
    "if ρ > 0:\n",
    "    filename += f\"_{ρ:.0f}\"\n",
    "filename += \".tif\"\n",
    "filename"
   ]
  },
  {
   "cell_type": "code",
   "execution_count": 8,
   "metadata": {},
   "outputs": [],
   "source": [
    "if save_image:\n",
    "    Image.fromarray(noisy_image).save(filename, format=\"TIFF\")"
   ]
  },
  {
   "cell_type": "code",
   "execution_count": null,
   "metadata": {},
   "outputs": [],
   "source": [
    "Image.open(filename).convert(\"L\")"
   ]
  }
 ],
 "metadata": {
  "kernelspec": {
   "display_name": "Python 3",
   "language": "python",
   "name": "python3"
  },
  "language_info": {
   "codemirror_mode": {
    "name": "ipython",
    "version": 3
   },
   "file_extension": ".py",
   "mimetype": "text/x-python",
   "name": "python",
   "nbconvert_exporter": "python",
   "pygments_lexer": "ipython3",
   "version": "3.10.13"
  }
 },
 "nbformat": 4,
 "nbformat_minor": 2
}
