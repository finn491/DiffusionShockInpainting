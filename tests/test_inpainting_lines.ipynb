{
 "cells": [
  {
   "cell_type": "markdown",
   "metadata": {},
   "source": [
    "# Diffusion-Shock Inpainting in $SE(2)$\n",
    "Diffusion-shock inpainting (DS) is a technique to fill in missing structures in images, developed in [\"Diffusion-Shock Inpainting\" (2023) by K. Schaefer and J. Weickert](https://link.springer.com/chapter/10.1007/978-3-031-31975-4_45) and the follow-up paper [\"Regularised Diffusion-Shock Inpainting\" (2023) by K. Schaefer and J. Weickert](https://arxiv.org/abs/2309.08761). In this notebook, we will look at DS applied to images lifted into $SE(2)$.\n",
    "\n",
    "In $\\mathbb{R}^2$, we can describe DS in a PDE-based formulation as\n",
    "$$\n",
    "\\partial_t u = g(\\lvert \\nabla (G_{\\nu} * u) \\rvert^2) \\underbrace{\\Delta u}_{\\textrm{Diffusion}} - \\left(1 - g(\\lvert \\nabla (G_{\\nu} * u) \\rvert^2)\\right) \\underbrace{\\mathrm{sgn}(\\partial_{\\vec{w} \\vec{w}} (G_{\\sigma} * u)) \\lvert \\nabla u \\rvert}_{\\textrm{Shock}},\n",
    "$$\n",
    "in which $g: [0, \\infty) \\to (0, 1]$ is a decreasing function with $g(0) = 1$, $G_{\\alpha}$ is a Gaussian with standard deviation $\\alpha$, and $\\vec{w}$ is the dominant eigenvector of the structure tensor. It is clear then that $g$ switches between applying diffusion and shock: if the gradient of the image is small, we mostly apply diffusion, but if the gradient is large, we mostly apply shock. This makes sense, since a large gradient implies that there is a feature there, which we would like to sharpen up. \n",
    "\n",
    "The signum in the shock term switches between erosion and dilation. If the second derivative with respect to the dominant eigenvector of the structure tensor is positive, then we perform erosion (defined by the PDE $\\partial_t u = -\\lvert \\nabla u \\rvert$); otherwise we perform dilation (defined by the PDE $\\partial_t u = -\\lvert \\nabla u \\rvert$). In regularised DS, the signum is replaced with a soft signum, so that the selection of erosion vs dilation is less sensitive to noise.\n",
    "\n",
    "The signum of the second derivative of the dominant eigenvector of the structure tensor is not unlike the convexity criterion we know from studying vesselness; perhaps we could replace it?\n",
    "\n",
    "What is the correct way to extend DS to $SE(2)$? It would make sense to keep the gradients and Laplacian. For the selection of erosion vs dilation we could again look at the vesselness convexity criterion. For switching between diffusion and shock, we could maybe use some sort of line/edge detector."
   ]
  },
  {
   "cell_type": "code",
   "execution_count": null,
   "metadata": {},
   "outputs": [],
   "source": [
    "import taichi as ti\n",
    "ti.init(arch=ti.gpu, debug=False, device_memory_GB=3.5) #, kernel_profiler=True) # Use less than 4 so that we don't mix RAM and VRAM (?)\n",
    "import numpy as np\n",
    "import scipy as sp\n",
    "# from PIL import Image\n",
    "from datetime import datetime\n",
    "import matplotlib.pyplot as plt\n",
    "# %matplotlib widget\n",
    "import dsfilter"
   ]
  },
  {
   "cell_type": "code",
   "execution_count": 2,
   "metadata": {},
   "outputs": [],
   "source": [
    "date = datetime.today().strftime(\"%y-%m-%d\")\n",
    "log_folder = \"..\\\\..\\\\Experiments For Paper\\\\Inpainting\\\\Straight Lines\"\n",
    "savefigures = False"
   ]
  },
  {
   "cell_type": "code",
   "execution_count": 3,
   "metadata": {},
   "outputs": [],
   "source": [
    "# \"black_on_white\" \"black_and_white_on_grey\" \"diagonal\" \"cross\"\n",
    "test_case = \"black_on_white\""
   ]
  },
  {
   "cell_type": "code",
   "execution_count": 4,
   "metadata": {},
   "outputs": [],
   "source": [
    "match test_case:\n",
    "    case \"black_on_white\": # Grid of lines (black)\n",
    "        dim_I, dim_J = 256, 256\n",
    "        u_ground_truth = np.ones((dim_I, dim_J)) * 255.\n",
    "        N_lines = 4\n",
    "        offset = dim_I // (N_lines + 1)\n",
    "        for k in range(N_lines):\n",
    "            centre = (k + 1) * offset\n",
    "            u_ground_truth[:, (centre-2):(centre+3)] = 0.\n",
    "            u_ground_truth[(centre-2):(centre+3), :] = 0.\n",
    "\n",
    "        xs, ys = np.meshgrid(np.linspace(-1, 1, dim_I), np.linspace(-1, 1, dim_J))\n",
    "        l = 0.4\n",
    "        mask = (xs**2 < l) * (ys**2 < l)\n",
    "\n",
    "        u = u_ground_truth.copy()\n",
    "        u[mask] = 255.\n",
    "\n",
    "        dim_K = 16\n",
    "        # ξ = 0.2\n",
    "        ξ = 0.02\n",
    "\n",
    "        G_D_inv = 1.8 * np.array((1., 0.1, 0.))\n",
    "        G_S_inv = np.array((1., 1., 0.))\n",
    "        # Internal regularisation for switching between dilation and erosion.\n",
    "        σ_1, σ_2, σ_3 = np.array((2.5, 2.5, 0.6))\n",
    "        # External regularisation for switching between dilation and erosion.\n",
    "        ρ_1, ρ_2, ρ_3 = np.array((1., 1., 0.6))\n",
    "        # Internal and external regularisation of gradient for switching between diffusion and shock.\n",
    "        ν_1, ν_2, ν_3 = np.array((2.5, 2.5, 0.6))\n",
    "        λ = 0.02 # Contrast parameter for switching between diffusion and shock.\n",
    "        ε = 0.5 # Regularisation parameter for signum.\n",
    "\n",
    "        # # G_D_inv = 1.8 * np.array((ξ**-2, ξ**-2, 1.))\n",
    "        # # G_S_inv = np.array((ξ**-2, ξ**-2, 1.))\n",
    "        # G_D_inv = 1.8 * np.array((ξ**-2, ξ**-2, 0.))\n",
    "        # G_S_inv = np.array((ξ**-2, ξ**-2, 0.))\n",
    "        # # Internal regularisation for switching between dilation and erosion.\n",
    "        # σ = 2.5\n",
    "        # # External regularisation for switching between dilation and erosion.\n",
    "        # ρ = 1.\n",
    "        # # Internal regularisation of gradient for switching between diffusion and shock.\n",
    "        # ν = 2.5\n",
    "        # λ = 0.2 * 0.05 / ξ # Contrast parameter for switching between diffusion and shock.\n",
    "        # ε = 0.5 / ξ**2 # Regularisation parameter for signum.\n",
    "\n",
    "        T_short = 0.2\n",
    "        T_medium = 2.\n",
    "        T_long = 10.\n",
    "        T_mega_long = 150.\n",
    "\n",
    "        # T_short = 0.2 * ξ**2\n",
    "        # T_medium = 2. * ξ**2\n",
    "        # T_long = 10. * ξ**2\n",
    "        # T_mega_long = 150. * ξ**2\n",
    "\n",
    "    case \"black_and_white_on_grey\": # Grid of lines (alternating black and white)\n",
    "        dim_I, dim_J = 256, 256\n",
    "        u_ground_truth = np.ones((dim_I, dim_J)) * 0.5 * 255.\n",
    "        N_lines = 4 # 7\n",
    "        offset = dim_I // (N_lines + 1)\n",
    "        colour = 0. # black\n",
    "        for k in range(N_lines):\n",
    "            centre = (k + 1) * offset\n",
    "            u_ground_truth[:, (centre-2):(centre+3)] = 255. - colour\n",
    "            u_ground_truth[(centre-2):(centre+3), :] = colour\n",
    "            colour = 255. - colour\n",
    "        u_ground_truth = sp.ndimage.gaussian_filter(u_ground_truth, 1)\n",
    "\n",
    "        xs, ys = np.meshgrid(np.linspace(-1, 1, dim_I), np.linspace(-1, 1, dim_J))\n",
    "        l = 0.4\n",
    "        mask = (xs**2 < l) * (ys**2 < l)\n",
    "\n",
    "        u = u_ground_truth.copy()\n",
    "        u[mask] = 0.5 * 255.\n",
    "        \n",
    "        dim_K = 16\n",
    "        ξ = 8 / dim_K\n",
    "        G_D_inv = 1.8 * np.array((1., 0.1, 0.0))\n",
    "        G_S_inv = np.array((1., 1., 0.0))\n",
    "        # G_D_inv = 1.8 * np.array((1., 0.1, 0.1 * (ξ/16.)**2))\n",
    "        # G_S_inv = np.array((1., 1., (ξ/16.)**2))\n",
    "        # # Internal regularisation for switching between dilation and erosion.\n",
    "        # σ_1, σ_2, σ_3 = np.array((2.5, 2.5, 0.6))\n",
    "        # # External regularisation for switching between dilation and erosion.\n",
    "        # ρ_1, ρ_2, ρ_3 = np.array((1., 1., 0.6))\n",
    "        # # Internal and external regularisation of gradient for switching between diffusion and shock.\n",
    "        # ν_1, ν_2, ν_3 = np.array((2.5, 2.5, 0.6))\n",
    "        # λ = 0.01 # Contrast parameter for switching between diffusion and shock.\n",
    "        # ε = 0.5 # Regularisation parameter for signum.\n",
    "\n",
    "        # G_D_inv = 1.8 * np.array((ξ**-2, 0.1 * ξ**-2, 0.))\n",
    "        # G_S_inv = np.array((ξ**-2, ξ**-2, 0.))\n",
    "        # Internal regularisation for switching between dilation and erosion.\n",
    "        σ = 2.5\n",
    "        # External regularisation for switching between dilation and erosion.\n",
    "        ρ = 1.\n",
    "        # Internal regularisation of gradient for switching between diffusion and shock.\n",
    "        ν = 2.5\n",
    "        λ = 0.01 # Contrast parameter for switching between diffusion and shock.\n",
    "        ε = 0.5 # Regularisation parameter for signum.\n",
    "\n",
    "        T_short = 0.2\n",
    "        T_medium = 2.\n",
    "        # T_long = 10.\n",
    "        T_long = 100.\n",
    "        T_mega_long = 350.\n",
    "\n",
    "        # T_short = 0.07 * ξ**2\n",
    "        # T_medium = 1. * ξ**2\n",
    "        # T_long = 5. * ξ**2\n",
    "        # T_mega_long = 100. * ξ**2\n",
    "\n",
    "    case \"diagonal\": # Lines with diagonal (black)\n",
    "        dim_I, dim_J = 256, 256\n",
    "        u_ground_truth = np.ones((dim_I, dim_J)) * 255.\n",
    "        N_lines = 4\n",
    "        offset = dim_I // (N_lines + 1)\n",
    "        for k in range(N_lines):\n",
    "            centre = (k + 1) * offset\n",
    "            u_ground_truth[:, (centre-2):(centre+3)] = 0.\n",
    "\n",
    "        xs, ys = np.meshgrid(np.linspace(-1, 1, dim_I), np.linspace(-1, 1, dim_J))\n",
    "        diagonal = (np.abs(xs - ys) < 0.03)\n",
    "        u_ground_truth[diagonal] = 0.\n",
    "        l = 0.4\n",
    "        mask = (xs**2 < l) * (ys**2 < l)\n",
    "\n",
    "        u = u_ground_truth.copy()\n",
    "        u[mask] = 255.\n",
    "\n",
    "        dim_K = 32\n",
    "        ξ = 8 / dim_K\n",
    "        G_D_inv = 1.8 * np.array((1., 0.1, 0.0))\n",
    "        G_S_inv = np.array((1., 1., 0.0))\n",
    "        # # Internal regularisation for switching between dilation and erosion.\n",
    "        # σ_1, σ_2, σ_3 = np.array((2.5, 2.5, 0.6))\n",
    "        # # External regularisation for switching between dilation and erosion.\n",
    "        # ρ_1, ρ_2, ρ_3 = np.array((1., 1., 0.6))\n",
    "        # # Internal and external regularisation of gradient for switching between diffusion and shock.\n",
    "        # ν_1, ν_2, ν_3 = np.array((2.5, 2.5, 0.6))\n",
    "        # λ = 0.02 # Contrast parameter for switching between diffusion and shock.\n",
    "        # ε = 0.5 # Regularisation parameter for signum.\n",
    "\n",
    "        # G_D_inv = 1.8 * np.array((ξ**-2, 0.1 * ξ**-2, 0.))\n",
    "        # G_S_inv = np.array((ξ**-2, ξ**-2, 0.))\n",
    "        # Internal regularisation for switching between dilation and erosion.\n",
    "        σ = 2.5\n",
    "        # External regularisation for switching between dilation and erosion.\n",
    "        ρ = 1.\n",
    "        # Internal regularisation of gradient for switching between diffusion and shock.\n",
    "        ν = 2.5\n",
    "        λ = 0.02 # Contrast parameter for switching between diffusion and shock.\n",
    "        ε = 0.5 # Regularisation parameter for signum.\n",
    "\n",
    "        T_short = 0.2\n",
    "        T_medium = 2.\n",
    "        T_long = 10.\n",
    "        T_mega_long = 250.\n",
    "\n",
    "    case \"cross\": # Cross\n",
    "        dim_I, dim_J = 256, 256\n",
    "        xs, ys = np.meshgrid(np.linspace(-1, 1, dim_I), np.linspace(-1, 1, dim_J))\n",
    "        vertical = (-0.2 < xs) * (xs < 0.2)\n",
    "        horizontal = (-0.2 < ys) * (ys < 0.2)\n",
    "        u_ground_truth = np.zeros((dim_I, dim_J))\n",
    "        u_ground_truth[vertical + horizontal] = 1. * 255.\n",
    "\n",
    "        mask = (-0.3 < xs) * (xs < 0.3) * (-0.3 < ys) * (ys < 0.3)\n",
    "        u = u_ground_truth.copy()\n",
    "        u[mask] = 0.\n",
    "\n",
    "        dim_K = 16\n",
    "        ξ = 8 / dim_K\n",
    "        G_D_inv = 1.8 * np.array((1., 1., 0.0))\n",
    "        G_S_inv = np.array((1., 1., 0.0))\n",
    "        # # Internal regularisation for switching between dilation and erosion.\n",
    "        # σ_1, σ_2, σ_3 = np.array((5., 5., 0.8))\n",
    "        # # External regularisation for switching between dilation and erosion.\n",
    "        # ρ_1, ρ_2, ρ_3 = np.array((2.5, 2.5, 0.8))\n",
    "        # # Internal and external regularisation of gradient for switching between diffusion and shock.\n",
    "        # ν_1, ν_2, ν_3 = np.array((5., 5., 0.8))\n",
    "        # λ = 0.005 # Contrast parameter for switching between diffusion and shock.\n",
    "        # ε = 0.5 # Regularisation parameter for signum.\n",
    "\n",
    "        # G_D_inv = 1.8 * np.array((ξ**-2, 0.1 * ξ**-2, 0.))\n",
    "        # G_S_inv = np.array((ξ**-2, ξ**-2, 0.))\n",
    "        # Internal regularisation for switching between dilation and erosion.\n",
    "        σ = 5.\n",
    "        # External regularisation for switching between dilation and erosion.\n",
    "        ρ = 2.5\n",
    "        # Internal regularisation of gradient for switching between diffusion and shock.\n",
    "        ν = 5.\n",
    "        λ = 0.005 # Contrast parameter for switching between diffusion and shock.\n",
    "        ε = 0.5 # Regularisation parameter for signum.\n",
    "\n",
    "        T_short = 0.2\n",
    "        T_medium = 2.\n",
    "        T_long = 10.\n",
    "        T_mega_long = 250.\n",
    "\n",
    "u = sp.ndimage.gaussian_filter(u, 1.) # Smooth for well-posed lifting.\n",
    "\n",
    "clip = (u.min(), u.max())\n",
    "\n",
    "mask = 1 - mask.astype(int)\n",
    "mask = sp.ndimage.binary_erosion(mask, iterations=10, border_value=1).astype(int) # Deal with boundary artefacts.\n",
    "\n",
    "Is, Js, Ks = np.indices((dim_I, dim_J, dim_K))\n",
    "x_min, x_max = 0., dim_I - 1.\n",
    "y_min, y_max = 0., dim_J - 1.\n",
    "θ_min, θ_max = 0., 2 * np.pi\n",
    "dxy = (x_max - x_min) / (dim_I - 1)\n",
    "dθ = (θ_max - θ_min) / dim_K\n",
    "xs, ys, θs = dsfilter.SE2.utils.coordinate_array_to_real(Is, Js, Ks, x_min, y_min, θ_min, dxy, dθ)"
   ]
  },
  {
   "cell_type": "code",
   "execution_count": null,
   "metadata": {},
   "outputs": [],
   "source": [
    "fig, ax, cbar = dsfilter.visualisations.plot_image_array(u, x_min, x_max, y_min, y_max, cmap=\"gray\", figsize=(6, 5))\n",
    "ax.set_title(\"$u$\")\n",
    "fig.colorbar(cbar, ax=ax);"
   ]
  },
  {
   "cell_type": "code",
   "execution_count": 6,
   "metadata": {},
   "outputs": [],
   "source": [
    "if savefigures:\n",
    "    fig, ax, _ = dsfilter.visualisations.plot_image_array(u, x_min, x_max, y_min, y_max, cmap=\"gray\", figsize=(6, 5))\n",
    "    ax.set_axis_off()\n",
    "    fig.savefig(f\"{log_folder}\\\\test_{test_case}.png\", bbox_inches=\"tight\", pad_inches=0.)"
   ]
  },
  {
   "cell_type": "code",
   "execution_count": null,
   "metadata": {},
   "outputs": [],
   "source": [
    "fig, ax = plt.subplots(1, 2, figsize=(12, 5))\n",
    "_, _, cbar = dsfilter.visualisations.plot_image_array(u, x_min, x_max, y_min, y_max, cmap=\"gray\", fig=fig, ax=ax[0])\n",
    "ax[0].set_title(\"$u$\")\n",
    "fig.colorbar(cbar, ax=ax[0])\n",
    "_, _, cbar = dsfilter.visualisations.plot_image_array(mask, x_min, x_max, y_min, y_max, cmap=\"gray\", fig=fig, ax=ax[1])\n",
    "ax[1].set_title(\"Mask\")\n",
    "fig.colorbar(cbar, ax=ax[1]);"
   ]
  },
  {
   "cell_type": "markdown",
   "metadata": {},
   "source": [
    "### Orientation Score"
   ]
  },
  {
   "cell_type": "code",
   "execution_count": 8,
   "metadata": {},
   "outputs": [],
   "source": [
    "cws_check = dsfilter.orientationscore.cakewavelet_stack(dim_I, dim_K, Gaussian_σ=dim_I/8)"
   ]
  },
  {
   "cell_type": "code",
   "execution_count": null,
   "metadata": {},
   "outputs": [],
   "source": [
    "K = 1\n",
    "print(θs[0, 0, K])\n",
    "fig, ax, cbar = dsfilter.visualisations.plot_image_array(cws_check.real[K], x_min, x_max, y_min, y_max, cmap=\"gray\")\n",
    "ax.set_title(\"$\\psi$\")\n",
    "fig.colorbar(cbar, ax=ax);"
   ]
  },
  {
   "cell_type": "code",
   "execution_count": null,
   "metadata": {},
   "outputs": [],
   "source": [
    "cws = dsfilter.orientationscore.cakewavelet_stack(dim_I, dim_K, Gaussian_σ=dim_I/8)\n",
    "U = dsfilter.orientationscore.wavelet_transform(u, cws).real\n",
    "U = np.transpose(U, axes=(1, 2, 0)) # x, y, θ\n",
    "Mask = np.transpose(np.array([mask for _ in range(dim_K)]), axes=(1, 2, 0)) # x, y, θ\n",
    "U.shape, Mask.shape"
   ]
  },
  {
   "cell_type": "code",
   "execution_count": null,
   "metadata": {},
   "outputs": [],
   "source": [
    "K = 0\n",
    "print(θs[0, 0, K])\n",
    "fig, ax = plt.subplots(1, 3, figsize=(18, 5))\n",
    "_, _, cbar = dsfilter.visualisations.plot_image_array(U[..., K] * mask, x_min, x_max, y_min, y_max, cmap=\"gray\", fig=fig, ax=ax[0])\n",
    "ax[0].set_title(f\"{K} $U$\")\n",
    "fig.colorbar(cbar, ax=ax[0])\n",
    "_, _, cbar = dsfilter.visualisations.plot_image_array(U[..., K + 2] * mask, x_min, x_max, y_min, y_max, cmap=\"gray\", fig=fig, ax=ax[1])\n",
    "ax[1].set_title(f\"{K + 2} $U$\")\n",
    "fig.colorbar(cbar, ax=ax[1])\n",
    "_, _, cbar = dsfilter.visualisations.plot_image_array(U[..., K + 4] * mask, x_min, x_max, y_min, y_max, cmap=\"gray\", fig=fig, ax=ax[2])\n",
    "ax[2].set_title(f\"{K + 4} $U$\")\n",
    "fig.colorbar(cbar, ax=ax[2]);"
   ]
  },
  {
   "cell_type": "code",
   "execution_count": null,
   "metadata": {},
   "outputs": [],
   "source": [
    "fig, ax = plt.subplots(1, 3, figsize=(18, 5))\n",
    "_, _, cbar = dsfilter.visualisations.plot_image_array(u, x_min, x_max, y_min, y_max, cmap=\"gray\", fig=fig, ax=ax[0])\n",
    "ax[0].set_title(\"$u$\")\n",
    "fig.colorbar(cbar, ax=ax[0])\n",
    "_, _, cbar = dsfilter.visualisations.plot_image_array(U.sum(-1), x_min, x_max, y_min, y_max, cmap=\"gray\", fig=fig, ax=ax[1])\n",
    "ax[1].set_title(\"Reconstruction\")\n",
    "fig.colorbar(cbar, ax=ax[1])\n",
    "_, _, cbar = dsfilter.visualisations.plot_image_array(u - U.sum(-1), x_min, x_max, y_min, y_max, cmap=\"gray\", fig=fig, ax=ax[2])\n",
    "ax[2].set_title(\"Reconstruction error\")\n",
    "fig.colorbar(cbar, ax=ax[2]);"
   ]
  },
  {
   "cell_type": "markdown",
   "metadata": {},
   "source": [
    "### Preprocess Orientation Score\n",
    "To remove artefacts in the orientation score caused by lifting masked data, we set the data within the (dilated) mask to a constant."
   ]
  },
  {
   "cell_type": "code",
   "execution_count": 13,
   "metadata": {},
   "outputs": [],
   "source": [
    "U_preprocessed = dsfilter.SE2.utils.clean_mask_boundaries(U, Mask)"
   ]
  },
  {
   "cell_type": "code",
   "execution_count": null,
   "metadata": {},
   "outputs": [],
   "source": [
    "K = 0\n",
    "fig, ax = plt.subplots(1, 4, figsize=(24, 5))\n",
    "_, _, cbar = dsfilter.visualisations.plot_image_array(U[..., K], x_min, x_max, y_min, y_max, cmap=\"gray\", fig=fig, ax=ax[0])\n",
    "ax[0].set_title(f\"{K} $U$\")\n",
    "fig.colorbar(cbar, ax=ax[0])\n",
    "_, _, cbar = dsfilter.visualisations.plot_image_array(U[..., K + 1], x_min, x_max, y_min, y_max, cmap=\"gray\", fig=fig, ax=ax[1])\n",
    "ax[1].set_title(f\"{K + 1} $U$\")\n",
    "fig.colorbar(cbar, ax=ax[1])\n",
    "_, _, cbar = dsfilter.visualisations.plot_image_array(U[..., K + 2], x_min, x_max, y_min, y_max, cmap=\"gray\", fig=fig, ax=ax[2])\n",
    "ax[2].set_title(f\"{K + 2} $U$\")\n",
    "fig.colorbar(cbar, ax=ax[2])\n",
    "_, _, cbar = dsfilter.visualisations.plot_image_array(U[..., K + 3], x_min, x_max, y_min, y_max, cmap=\"gray\", fig=fig, ax=ax[3])\n",
    "ax[3].set_title(f\"{K + 3} $U$\")\n",
    "fig.colorbar(cbar, ax=ax[3]);"
   ]
  },
  {
   "cell_type": "code",
   "execution_count": null,
   "metadata": {},
   "outputs": [],
   "source": [
    "K = 0\n",
    "print(θs[0, 0, K])\n",
    "fig, ax = plt.subplots(3, 3, figsize=(18, 15))\n",
    "_, _, cbar = dsfilter.visualisations.plot_image_array(U[..., K], x_min, x_max, y_min, y_max, cmap=\"gray\", fig=fig, ax=ax[0, 0])\n",
    "ax[0, 0].set_title(f\"{K} $U$\")\n",
    "fig.colorbar(cbar, ax=ax[0, 0])\n",
    "_, _, cbar = dsfilter.visualisations.plot_image_array(U[..., K + 2], x_min, x_max, y_min, y_max, cmap=\"gray\", fig=fig, ax=ax[0, 1])\n",
    "ax[0, 1].set_title(f\"{K + 2} $U$\")\n",
    "fig.colorbar(cbar, ax=ax[0, 1])\n",
    "_, _, cbar = dsfilter.visualisations.plot_image_array(U[..., K + 4], x_min, x_max, y_min, y_max, cmap=\"gray\", fig=fig, ax=ax[0, 2])\n",
    "ax[0, 2].set_title(f\"{K + 4} $U$\")\n",
    "fig.colorbar(cbar, ax=ax[0, 2])\n",
    "_, _, cbar = dsfilter.visualisations.plot_image_array(U_preprocessed[..., K], x_min, x_max, y_min, y_max, cmap=\"gray\", fig=fig, ax=ax[1, 0])\n",
    "ax[1, 0].set_title(f\"{K} preprocessed $U$\")\n",
    "fig.colorbar(cbar, ax=ax[1, 0])\n",
    "_, _, cbar = dsfilter.visualisations.plot_image_array(U_preprocessed[..., K + 2], x_min, x_max, y_min, y_max, cmap=\"gray\", fig=fig, ax=ax[1, 1])\n",
    "ax[1, 1].set_title(f\"{K + 2} preprocessed $U$\")\n",
    "fig.colorbar(cbar, ax=ax[1, 1])\n",
    "_, _, cbar = dsfilter.visualisations.plot_image_array(U_preprocessed[..., K + 4], x_min, x_max, y_min, y_max, cmap=\"gray\", fig=fig, ax=ax[1, 2])\n",
    "ax[1, 2].set_title(f\"{K + 4} preprocessed $U$\")\n",
    "fig.colorbar(cbar, ax=ax[1, 2])\n",
    "_, _, cbar = dsfilter.visualisations.plot_image_array(U[..., K] * mask, x_min, x_max, y_min, y_max, cmap=\"gray\", fig=fig, ax=ax[2, 0])\n",
    "ax[2, 0].set_title(f\"{K} preprocessed $U$\")\n",
    "fig.colorbar(cbar, ax=ax[2, 0])\n",
    "_, _, cbar = dsfilter.visualisations.plot_image_array(U[..., K + 2] * mask, x_min, x_max, y_min, y_max, cmap=\"gray\", fig=fig, ax=ax[2, 1])\n",
    "ax[2, 1].set_title(f\"{K + 2} preprocessed $U$\")\n",
    "fig.colorbar(cbar, ax=ax[2, 1])\n",
    "_, _, cbar = dsfilter.visualisations.plot_image_array(U[..., K + 4] * mask, x_min, x_max, y_min, y_max, cmap=\"gray\", fig=fig, ax=ax[2, 2])\n",
    "ax[2, 2].set_title(f\"{K + 4} preprocessed $U$\")\n",
    "fig.colorbar(cbar, ax=ax[2, 2]);"
   ]
  },
  {
   "cell_type": "code",
   "execution_count": 16,
   "metadata": {},
   "outputs": [],
   "source": [
    "from dsfilter.SE2.utils import scalar_trilinear_interpolate"
   ]
  },
  {
   "cell_type": "code",
   "execution_count": 17,
   "metadata": {},
   "outputs": [],
   "source": [
    "def compute_derivatives(U_np, θs_np, dxy, dθ):\n",
    "    shape = U_np.shape\n",
    "    U = ti.field(dtype=ti.f32, shape=shape)\n",
    "    U.from_numpy(U_np)\n",
    "    θs = ti.field(dtype=ti.f32, shape=shape)\n",
    "    θs.from_numpy(θs_np)\n",
    "    A1_U = ti.field(dtype=ti.f32, shape=shape)\n",
    "    A2_U = ti.field(dtype=ti.f32, shape=shape)\n",
    "    A3_U = ti.field(dtype=ti.f32, shape=shape)\n",
    "    A11_U = ti.field(dtype=ti.f32, shape=shape)\n",
    "    A22_U = ti.field(dtype=ti.f32, shape=shape)\n",
    "    A33_U = ti.field(dtype=ti.f32, shape=shape)\n",
    "    compute_derivatives_ti(U, θs, dxy, dθ, A1_U, A2_U, A3_U, A11_U, A22_U, A33_U)\n",
    "    return A1_U.to_numpy(), A2_U.to_numpy(), A3_U.to_numpy(), A11_U.to_numpy(), A22_U.to_numpy(), A33_U.to_numpy()\n",
    "\n",
    "@ti.kernel\n",
    "def compute_derivatives_ti(\n",
    "    U: ti.template(),\n",
    "    θs: ti.template(),\n",
    "    dxy: ti.f32,\n",
    "    dθ: ti.f32,\n",
    "    A1_U: ti.template(),\n",
    "    A2_U: ti.template(),\n",
    "    A3_U: ti.template(),\n",
    "    A11_U: ti.template(),\n",
    "    A22_U: ti.template(),\n",
    "    A33_U: ti.template()\n",
    "):\n",
    "    I_A3 = ti.Vector([0.0,  0.0, 1.0], dt=ti.f32)\n",
    "    for I in ti.grouped(U):\n",
    "        θ = θs[I]\n",
    "        cos = ti.math.cos(θ)\n",
    "        sin = ti.math.sin(θ)\n",
    "        I_A1 = ti.Vector([cos, sin, 0.0], dt=ti.f32)\n",
    "        I_A2 = ti.Vector([-sin, cos, 0.0], dt=ti.f32)\n",
    "\n",
    "        A1_U[I] = (scalar_trilinear_interpolate(U, I + I_A1 / 2) - scalar_trilinear_interpolate(U, I - I_A1 / 2)) / dxy\n",
    "        A2_U[I] = (scalar_trilinear_interpolate(U, I + I_A2 / 2) - scalar_trilinear_interpolate(U, I - I_A2 / 2)) / dxy\n",
    "        A3_U[I] = (scalar_trilinear_interpolate(U, I + I_A3 / 2) - scalar_trilinear_interpolate(U, I - I_A3 / 2)) / dθ\n",
    "\n",
    "        A11_U[I] = (scalar_trilinear_interpolate(U, I + I_A1) -\n",
    "               2 * U[I] +\n",
    "               scalar_trilinear_interpolate(U, I - I_A1)) / dxy**2\n",
    "        A22_U[I] = (scalar_trilinear_interpolate(U, I + I_A2) -\n",
    "               2 * U[I] +\n",
    "               scalar_trilinear_interpolate(U, I - I_A2)) / dxy**2\n",
    "        A33_U[I] = (scalar_trilinear_interpolate(U, I + I_A3) -\n",
    "               2 * U[I] +\n",
    "               scalar_trilinear_interpolate(U, I - I_A3)) / dθ**2\n"
   ]
  },
  {
   "cell_type": "code",
   "execution_count": 18,
   "metadata": {},
   "outputs": [],
   "source": [
    "U_test = sp.ndimage.gaussian_filter(U_preprocessed, (2.5, 2.5, 0.6), mode=\"wrap\")"
   ]
  },
  {
   "cell_type": "code",
   "execution_count": 19,
   "metadata": {},
   "outputs": [],
   "source": [
    "A1_U, A2_U, A3_U, A11_U, A22_U, A33_U = compute_derivatives(U_test, θs, dxy, dθ)"
   ]
  },
  {
   "cell_type": "code",
   "execution_count": 20,
   "metadata": {},
   "outputs": [],
   "source": [
    "grad_norm = np.sqrt(\n",
    "    ξ**-2 * (A1_U**2 + A2_U**2) + A3_U**2\n",
    ")\n",
    "laplace = ξ**-2 * (A11_U + A22_U) + A33_U\n",
    "laplace = sp.ndimage.gaussian_filter(laplace, (1., 1., 0.6), mode=\"wrap\")"
   ]
  },
  {
   "cell_type": "code",
   "execution_count": 21,
   "metadata": {},
   "outputs": [],
   "source": [
    "grad_norm_s = np.sqrt(\n",
    "    ξ**-2 * (A1_U**2 + A2_U**2)\n",
    ")\n",
    "laplace_s = ξ**-2 * (A11_U + A22_U)\n",
    "laplace_s = sp.ndimage.gaussian_filter(laplace_s, (1., 1., 0.6), mode=\"wrap\")"
   ]
  },
  {
   "cell_type": "code",
   "execution_count": null,
   "metadata": {},
   "outputs": [],
   "source": [
    "K = 0\n",
    "fig, ax = plt.subplots(2, 5, figsize=(5 * 6, 2 * 5))\n",
    "_, _, cbar = dsfilter.visualisations.plot_image_array(ξ**-1 * A1_U[..., K], x_min, x_max, y_min, y_max, fig=fig, ax=ax[0, 0])\n",
    "ax[0, 0].set_title(\"$\\\\xi^{-1} \\\\mathcal{A}_1 U$\")\n",
    "fig.colorbar(cbar, ax=ax[0, 0])\n",
    "_, _, cbar = dsfilter.visualisations.plot_image_array(ξ**-1 * A2_U[..., K], x_min, x_max, y_min, y_max, fig=fig, ax=ax[0, 1])\n",
    "ax[0, 1].set_title(\"$\\\\xi^{-1} \\\\mathcal{A}_2 U$\")\n",
    "fig.colorbar(cbar, ax=ax[0, 1])\n",
    "_, _, cbar = dsfilter.visualisations.plot_image_array(A3_U[..., K], x_min, x_max, y_min, y_max, fig=fig, ax=ax[0, 2])\n",
    "ax[0, 2].set_title(\"$\\\\mathcal{A}_3 U$\")\n",
    "fig.colorbar(cbar, ax=ax[0, 2])\n",
    "_, _, cbar = dsfilter.visualisations.plot_image_array(grad_norm[..., K], x_min, x_max, y_min, y_max, fig=fig, ax=ax[0, 3])\n",
    "ax[0, 3].set_title(\"$\\\\Vert \\\\nabla U \\\\Vert$\")\n",
    "fig.colorbar(cbar, ax=ax[0, 3])\n",
    "_, _, cbar = dsfilter.visualisations.plot_image_array(grad_norm_s[..., K], x_min, x_max, y_min, y_max, fig=fig, ax=ax[0, 4])\n",
    "ax[0, 4].set_title(\"$\\\\Vert \\\\nabla U \\\\Vert$\")\n",
    "fig.colorbar(cbar, ax=ax[0, 4])\n",
    "_, _, cbar = dsfilter.visualisations.plot_image_array(ξ**-2 * A11_U[..., K], x_min, x_max, y_min, y_max, fig=fig, ax=ax[1, 0])\n",
    "ax[1, 0].set_title(\"$\\\\xi^{-2} \\\\mathcal{A}_1^2 U$\")\n",
    "fig.colorbar(cbar, ax=ax[1, 0])\n",
    "_, _, cbar = dsfilter.visualisations.plot_image_array(ξ**-2 * A22_U[..., K], x_min, x_max, y_min, y_max, fig=fig, ax=ax[1, 1])\n",
    "ax[1, 1].set_title(\"$\\\\xi^{-2} \\\\mathcal{A}_2^2 U$\")\n",
    "fig.colorbar(cbar, ax=ax[1, 1])\n",
    "_, _, cbar = dsfilter.visualisations.plot_image_array(A33_U[..., K], x_min, x_max, y_min, y_max, fig=fig, ax=ax[1, 2])\n",
    "ax[1, 2].set_title(\"$\\\\mathcal{A}_3^2 U$\")\n",
    "fig.colorbar(cbar, ax=ax[1, 2])\n",
    "_, _, cbar = dsfilter.visualisations.plot_image_array(laplace[..., K], x_min, x_max, y_min, y_max, fig=fig, ax=ax[1, 3])\n",
    "ax[1, 3].set_title(\"$\\\\Delta U$\")\n",
    "fig.colorbar(cbar, ax=ax[1, 3])\n",
    "_, _, cbar = dsfilter.visualisations.plot_image_array(laplace_s[..., K], x_min, x_max, y_min, y_max, fig=fig, ax=ax[1, 4])\n",
    "ax[1, 4].set_title(\"$\\\\Delta U$\")\n",
    "fig.colorbar(cbar, ax=ax[1, 4]);"
   ]
  },
  {
   "cell_type": "code",
   "execution_count": null,
   "metadata": {},
   "outputs": [],
   "source": [
    "K = 1\n",
    "fig, ax = plt.subplots(2, 5, figsize=(5 * 6, 2 * 5))\n",
    "_, _, cbar = dsfilter.visualisations.plot_image_array(ξ**-1 * A1_U[..., K], x_min, x_max, y_min, y_max, fig=fig, ax=ax[0, 0])\n",
    "ax[0, 0].set_title(\"$\\\\xi^{-1} \\\\mathcal{A}_1 U$\")\n",
    "fig.colorbar(cbar, ax=ax[0, 0])\n",
    "_, _, cbar = dsfilter.visualisations.plot_image_array(ξ**-1 * A2_U[..., K], x_min, x_max, y_min, y_max, fig=fig, ax=ax[0, 1])\n",
    "ax[0, 1].set_title(\"$\\\\xi^{-1} \\\\mathcal{A}_2 U$\")\n",
    "fig.colorbar(cbar, ax=ax[0, 1])\n",
    "_, _, cbar = dsfilter.visualisations.plot_image_array(A3_U[..., K], x_min, x_max, y_min, y_max, fig=fig, ax=ax[0, 2])\n",
    "ax[0, 2].set_title(\"$\\\\mathcal{A}_3 U$\")\n",
    "fig.colorbar(cbar, ax=ax[0, 2])\n",
    "_, _, cbar = dsfilter.visualisations.plot_image_array(grad_norm[..., K], x_min, x_max, y_min, y_max, fig=fig, ax=ax[0, 3])\n",
    "ax[0, 3].set_title(\"$\\\\Vert \\\\nabla U \\\\Vert$\")\n",
    "fig.colorbar(cbar, ax=ax[0, 3])\n",
    "_, _, cbar = dsfilter.visualisations.plot_image_array(grad_norm_s[..., K], x_min, x_max, y_min, y_max, fig=fig, ax=ax[0, 4])\n",
    "ax[0, 4].set_title(\"$\\\\Vert \\\\nabla U \\\\Vert$\")\n",
    "fig.colorbar(cbar, ax=ax[0, 4])\n",
    "_, _, cbar = dsfilter.visualisations.plot_image_array(ξ**-2 * A11_U[..., K], x_min, x_max, y_min, y_max, fig=fig, ax=ax[1, 0])\n",
    "ax[1, 0].set_title(\"$\\\\xi^{-2} \\\\mathcal{A}_1^2 U$\")\n",
    "fig.colorbar(cbar, ax=ax[1, 0])\n",
    "_, _, cbar = dsfilter.visualisations.plot_image_array(ξ**-2 * A22_U[..., K], x_min, x_max, y_min, y_max, fig=fig, ax=ax[1, 1])\n",
    "ax[1, 1].set_title(\"$\\\\xi^{-2} \\\\mathcal{A}_2^2 U$\")\n",
    "fig.colorbar(cbar, ax=ax[1, 1])\n",
    "_, _, cbar = dsfilter.visualisations.plot_image_array(A33_U[..., K], x_min, x_max, y_min, y_max, fig=fig, ax=ax[1, 2])\n",
    "ax[1, 2].set_title(\"$\\\\mathcal{A}_3^2 U$\")\n",
    "fig.colorbar(cbar, ax=ax[1, 2])\n",
    "_, _, cbar = dsfilter.visualisations.plot_image_array(laplace[..., K], x_min, x_max, y_min, y_max, fig=fig, ax=ax[1, 3])\n",
    "ax[1, 3].set_title(\"$\\\\Delta U$\")\n",
    "fig.colorbar(cbar, ax=ax[1, 3])\n",
    "_, _, cbar = dsfilter.visualisations.plot_image_array(laplace_s[..., K], x_min, x_max, y_min, y_max, fig=fig, ax=ax[1, 4])\n",
    "ax[1, 4].set_title(\"$\\\\Delta U$\")\n",
    "fig.colorbar(cbar, ax=ax[1, 4]);"
   ]
  },
  {
   "cell_type": "code",
   "execution_count": null,
   "metadata": {},
   "outputs": [],
   "source": [
    "K = 2\n",
    "fig, ax = plt.subplots(2, 5, figsize=(5 * 6, 2 * 5))\n",
    "_, _, cbar = dsfilter.visualisations.plot_image_array(ξ**-1 * A1_U[..., K], x_min, x_max, y_min, y_max, fig=fig, ax=ax[0, 0])\n",
    "ax[0, 0].set_title(\"$\\\\xi^{-1} \\\\mathcal{A}_1 U$\")\n",
    "fig.colorbar(cbar, ax=ax[0, 0])\n",
    "_, _, cbar = dsfilter.visualisations.plot_image_array(ξ**-1 * A2_U[..., K], x_min, x_max, y_min, y_max, fig=fig, ax=ax[0, 1])\n",
    "ax[0, 1].set_title(\"$\\\\xi^{-1} \\\\mathcal{A}_2 U$\")\n",
    "fig.colorbar(cbar, ax=ax[0, 1])\n",
    "_, _, cbar = dsfilter.visualisations.plot_image_array(A3_U[..., K], x_min, x_max, y_min, y_max, fig=fig, ax=ax[0, 2])\n",
    "ax[0, 2].set_title(\"$\\\\mathcal{A}_3 U$\")\n",
    "fig.colorbar(cbar, ax=ax[0, 2])\n",
    "_, _, cbar = dsfilter.visualisations.plot_image_array(grad_norm[..., K], x_min, x_max, y_min, y_max, fig=fig, ax=ax[0, 3])\n",
    "ax[0, 3].set_title(\"$\\\\Vert \\\\nabla U \\\\Vert$\")\n",
    "fig.colorbar(cbar, ax=ax[0, 3])\n",
    "_, _, cbar = dsfilter.visualisations.plot_image_array(grad_norm_s[..., K], x_min, x_max, y_min, y_max, fig=fig, ax=ax[0, 4])\n",
    "ax[0, 4].set_title(\"$\\\\Vert \\\\nabla U \\\\Vert$\")\n",
    "fig.colorbar(cbar, ax=ax[0, 4])\n",
    "_, _, cbar = dsfilter.visualisations.plot_image_array(ξ**-2 * A11_U[..., K], x_min, x_max, y_min, y_max, fig=fig, ax=ax[1, 0])\n",
    "ax[1, 0].set_title(\"$\\\\xi^{-2} \\\\mathcal{A}_1^2 U$\")\n",
    "fig.colorbar(cbar, ax=ax[1, 0])\n",
    "_, _, cbar = dsfilter.visualisations.plot_image_array(ξ**-2 * A22_U[..., K], x_min, x_max, y_min, y_max, fig=fig, ax=ax[1, 1])\n",
    "ax[1, 1].set_title(\"$\\\\xi^{-2} \\\\mathcal{A}_2^2 U$\")\n",
    "fig.colorbar(cbar, ax=ax[1, 1])\n",
    "_, _, cbar = dsfilter.visualisations.plot_image_array(A33_U[..., K], x_min, x_max, y_min, y_max, fig=fig, ax=ax[1, 2])\n",
    "ax[1, 2].set_title(\"$\\\\mathcal{A}_3^2 U$\")\n",
    "fig.colorbar(cbar, ax=ax[1, 2])\n",
    "_, _, cbar = dsfilter.visualisations.plot_image_array(laplace[..., K], x_min, x_max, y_min, y_max, fig=fig, ax=ax[1, 3])\n",
    "ax[1, 3].set_title(\"$\\\\Delta U$\")\n",
    "fig.colorbar(cbar, ax=ax[1, 3])\n",
    "_, _, cbar = dsfilter.visualisations.plot_image_array(laplace_s[..., K], x_min, x_max, y_min, y_max, fig=fig, ax=ax[1, 4])\n",
    "ax[1, 4].set_title(\"$\\\\Delta U$\")\n",
    "fig.colorbar(cbar, ax=ax[1, 4]);"
   ]
  },
  {
   "cell_type": "markdown",
   "metadata": {},
   "source": [
    "### Run DS Inpainting"
   ]
  },
  {
   "cell_type": "code",
   "execution_count": null,
   "metadata": {},
   "outputs": [],
   "source": [
    "# u_filtered_short, switch_DS_short, switch_morph_short = dsfilter.DS_filter_LI(U_preprocessed, Mask, θs, ξ, T_short, G_D_inv, G_S_inv, σ, ρ, ν, λ, ε=ε, dxy=dxy)\n",
    "# u_filtered_medium, switch_DS_medium, switch_morph_medium = dsfilter.DS_filter_LI(U_preprocessed, Mask, θs, ξ, T_medium, G_D_inv, G_S_inv, σ, ρ, ν, λ, ε=ε, dxy=dxy)\n",
    "# u_filtered_long, switch_DS_long, switch_morph_long = dsfilter.DS_filter_LI(U_preprocessed, Mask, θs, ξ, T_long, G_D_inv, G_S_inv, σ, ρ, ν, λ, ε=ε, dxy=dxy)\n",
    "# u_filtered_mega_long, switch_DS_mega_long, switch_morph_mega_long = dsfilter.DS_filter_LI(U_preprocessed, Mask, θs, ξ, 50 * T_mega_long, G_D_inv, G_S_inv, σ, ρ, ν, λ, ε=ε, dxy=dxy)\n",
    "u_filtered_short, switch_DS_short, switch_morph_short = dsfilter.DS_filter_spatial(U_preprocessed, Mask, θs, T_short, G_D_inv, G_S_inv, σ_1, σ_3, ρ_1, ρ_3, ν_1, ν_3, λ, ε=ε, dxy=dxy)\n",
    "u_filtered_medium, switch_DS_medium, switch_morph_medium = dsfilter.DS_filter_spatial(U_preprocessed, Mask, θs, T_medium, G_D_inv, G_S_inv, σ_1, σ_3, ρ_1, ρ_3, ν_1, ν_3, λ, ε=ε, dxy=dxy)\n",
    "u_filtered_long, switch_DS_long, switch_morph_long = dsfilter.DS_filter_spatial(U_preprocessed, Mask, θs, T_long, G_D_inv, G_S_inv, σ_1, σ_3, ρ_1, ρ_3, ν_1, ν_3, λ, ε=ε, dxy=dxy)\n",
    "u_filtered_mega_long, switch_DS_mega_long, switch_morph_mega_long = dsfilter.DS_filter_spatial(U_preprocessed, Mask, θs, T_mega_long, G_D_inv, G_S_inv, σ_1, σ_3, ρ_1, ρ_3, ν_1, ν_3, λ, ε=ε, dxy=dxy)"
   ]
  },
  {
   "cell_type": "code",
   "execution_count": null,
   "metadata": {},
   "outputs": [],
   "source": [
    "fig, ax, cbar = dsfilter.visualisations.plot_image_array((u_filtered_long - u_filtered_mega_long)[..., 0], x_min, x_max, y_min, y_max, cmap=\"gray\")\n",
    "fig.colorbar(cbar, ax=ax);"
   ]
  },
  {
   "cell_type": "code",
   "execution_count": null,
   "metadata": {},
   "outputs": [],
   "source": [
    "K = 0\n",
    "fig, ax = plt.subplots(1, 5, figsize=(30, 5))\n",
    "_, _, cbar = dsfilter.visualisations.plot_image_array(u_filtered_long[..., K], x_min, x_max, y_min, y_max, cmap=\"gray\", fig=fig, ax=ax[0])\n",
    "ax[0].set_title(f\"$\\\\theta = {θs[0, 0, K]:.2f}$\")\n",
    "fig.colorbar(cbar, ax=ax[0])\n",
    "_, _, cbar = dsfilter.visualisations.plot_image_array(u_filtered_long[..., K + dim_K//16], x_min, x_max, y_min, y_max, cmap=\"gray\", fig=fig, ax=ax[1])\n",
    "ax[1].set_title(f\"$\\\\theta = {θs[0, 0, K + dim_K//16]:.2f}$\")\n",
    "fig.colorbar(cbar, ax=ax[1])\n",
    "_, _, cbar = dsfilter.visualisations.plot_image_array(u_filtered_long[..., K + 2*dim_K//16], x_min, x_max, y_min, y_max, cmap=\"gray\", fig=fig, ax=ax[2])\n",
    "ax[2].set_title(f\"$\\\\theta = {θs[0, 0, K + 2*dim_K//16]:.2f}$\")\n",
    "fig.colorbar(cbar, ax=ax[2])\n",
    "_, _, cbar = dsfilter.visualisations.plot_image_array(u_filtered_long[..., K + 4*dim_K//16], x_min, x_max, y_min, y_max, cmap=\"gray\", fig=fig, ax=ax[3])\n",
    "ax[3].set_title(f\"$\\\\theta = {θs[0, 0, K + 4*dim_K//16]:.2f}$\")\n",
    "fig.colorbar(cbar, ax=ax[3])\n",
    "_, _, cbar = dsfilter.visualisations.plot_image_array(u_filtered_long.sum(-1), x_min, x_max, y_min, y_max, clip=clip, cmap=\"gray\", fig=fig, ax=ax[4])\n",
    "ax[4].set_title(\"$\\int_\\\\theta U(\\\\theta) d\\\\theta$\")\n",
    "fig.colorbar(cbar, ax=ax[4]);"
   ]
  },
  {
   "cell_type": "code",
   "execution_count": null,
   "metadata": {},
   "outputs": [],
   "source": [
    "fig, ax, cbar = dsfilter.visualisations.plot_image_array(u_filtered_mega_long.sum(-1), x_min, x_max, y_min, y_max, clip=clip, cmap=\"gray\", figsize=(12, 10))\n",
    "ax.set_title(\"$\\int_\\\\theta U(\\\\theta) d\\\\theta$\")\n",
    "fig.colorbar(cbar, ax=ax);"
   ]
  },
  {
   "cell_type": "code",
   "execution_count": null,
   "metadata": {},
   "outputs": [],
   "source": [
    "fig, ax, cbar = dsfilter.visualisations.plot_image_array(u_filtered_mega_long[..., K] < -35., x_min, x_max, y_min, y_max, cmap=\"gray\")\n",
    "ax.set_title(f\"$\\\\theta = {θs[0, 0, K]:.2f}$\")\n",
    "fig.colorbar(cbar, ax=ax);"
   ]
  },
  {
   "cell_type": "code",
   "execution_count": null,
   "metadata": {},
   "outputs": [],
   "source": [
    "K = 0\n",
    "fig, ax = plt.subplots(1, 5, figsize=(30, 5))\n",
    "_, _, cbar = dsfilter.visualisations.plot_image_array(u_filtered_mega_long[..., K], x_min, x_max, y_min, y_max, cmap=\"gray\", fig=fig, ax=ax[0])\n",
    "ax[0].set_title(f\"$\\\\theta = {θs[0, 0, K]:.2f}$\")\n",
    "fig.colorbar(cbar, ax=ax[0])\n",
    "_, _, cbar = dsfilter.visualisations.plot_image_array(u_filtered_mega_long[..., K + dim_K//16], x_min, x_max, y_min, y_max, cmap=\"gray\", fig=fig, ax=ax[1])\n",
    "ax[1].set_title(f\"$\\\\theta = {θs[0, 0, K + dim_K//16]:.2f}$\")\n",
    "fig.colorbar(cbar, ax=ax[1])\n",
    "_, _, cbar = dsfilter.visualisations.plot_image_array(u_filtered_mega_long[..., K + 2*dim_K//16], x_min, x_max, y_min, y_max, cmap=\"gray\", fig=fig, ax=ax[2])\n",
    "ax[2].set_title(f\"$\\\\theta = {θs[0, 0, K + 2*dim_K//16]:.2f}$\")\n",
    "fig.colorbar(cbar, ax=ax[2])\n",
    "_, _, cbar = dsfilter.visualisations.plot_image_array(u_filtered_mega_long[..., K + 4*dim_K//16], x_min, x_max, y_min, y_max, cmap=\"gray\", fig=fig, ax=ax[3])\n",
    "ax[3].set_title(f\"$\\\\theta = {θs[0, 0, K + 4*dim_K//16]:.2f}$\")\n",
    "fig.colorbar(cbar, ax=ax[3])\n",
    "_, _, cbar = dsfilter.visualisations.plot_image_array(u_filtered_mega_long.sum(-1), x_min, x_max, y_min, y_max, clip=clip, cmap=\"gray\", fig=fig, ax=ax[4])\n",
    "ax[4].set_title(\"$\\int_\\\\theta U(\\\\theta) d\\\\theta$\")\n",
    "fig.colorbar(cbar, ax=ax[4]);"
   ]
  },
  {
   "cell_type": "code",
   "execution_count": 31,
   "metadata": {},
   "outputs": [],
   "source": [
    "if savefigures:\n",
    "    fig.savefig(f\"{log_folder}\\\\{test_case}_{date}.svg\", bbox_inches=\"tight\", dpi=100)"
   ]
  },
  {
   "cell_type": "code",
   "execution_count": null,
   "metadata": {},
   "outputs": [],
   "source": [
    "u_change = u_filtered_mega_long - u_filtered_short\n",
    "K = 0\n",
    "fig, ax = plt.subplots(2, 2, figsize=(12, 10))\n",
    "_, _, cbar = dsfilter.visualisations.plot_image_array(u_change[..., K], x_min, x_max, y_min, y_max, cmap=\"gray\", fig=fig, ax=ax[0, 0])\n",
    "ax[0, 0].set_title(f\"$\\\\theta = {θs[0, 0, K]:.2f}$\")\n",
    "fig.colorbar(cbar, ax=ax[0, 0])\n",
    "_, _, cbar = dsfilter.visualisations.plot_image_array(u_change[..., K + 1], x_min, x_max, y_min, y_max, cmap=\"gray\", fig=fig, ax=ax[0, 1])\n",
    "ax[0, 1].set_title(f\"$\\\\theta = {θs[0, 0, K + 1]:.2f}$\")\n",
    "fig.colorbar(cbar, ax=ax[0, 1])\n",
    "_, _, cbar = dsfilter.visualisations.plot_image_array(u_change[..., K + 2], x_min, x_max, y_min, y_max, cmap=\"gray\", fig=fig, ax=ax[1, 0])\n",
    "ax[1, 0].set_title(f\"$\\\\theta = {θs[0, 0, K + 2]:.2f}$\")\n",
    "fig.colorbar(cbar, ax=ax[1, 0])\n",
    "_, _, cbar = dsfilter.visualisations.plot_image_array(u_change[..., K + 4], x_min, x_max, y_min, y_max, cmap=\"gray\", fig=fig, ax=ax[1, 1])\n",
    "ax[1, 1].set_title(f\"$\\\\theta = {θs[0, 0, K + 4]:.2f}$\")\n",
    "fig.colorbar(cbar, ax=ax[1, 1]);"
   ]
  },
  {
   "cell_type": "code",
   "execution_count": 33,
   "metadata": {},
   "outputs": [],
   "source": [
    "u_test = u_filtered_mega_long.copy()\n",
    "u_test[mask > 0.] = 10."
   ]
  },
  {
   "cell_type": "code",
   "execution_count": null,
   "metadata": {},
   "outputs": [],
   "source": [
    "u_test[..., 0].max(), U[..., 0].max()"
   ]
  },
  {
   "cell_type": "code",
   "execution_count": null,
   "metadata": {},
   "outputs": [],
   "source": [
    "K = 0\n",
    "fig, ax, cbar = dsfilter.visualisations.plot_image_array(u_test[..., K], x_min, x_max, y_min, y_max, cmap=\"gray\")\n",
    "ax.set_title(f\"$T = {T_mega_long}$\")\n",
    "fig.colorbar(cbar, ax=ax);"
   ]
  },
  {
   "cell_type": "code",
   "execution_count": null,
   "metadata": {},
   "outputs": [],
   "source": [
    "fig, ax = plt.subplots(1, 2, figsize=(12, 5))\n",
    "_, _, cbar = dsfilter.visualisations.plot_image_array(u_filtered_short.sum(-1), x_min, x_max, y_min, y_max, cmap=\"gray\", clip=clip, fig=fig, ax=ax[0])\n",
    "ax[0].set_title(f\"$T = {T_short:.2f}$\")\n",
    "fig.colorbar(cbar, ax=ax[0])\n",
    "_, _, cbar = dsfilter.visualisations.plot_image_array(u_filtered_mega_long.sum(-1), x_min, x_max, y_min, y_max, cmap=\"gray\", clip=clip, fig=fig, ax=ax[1])\n",
    "ax[1].set_title(f\"$T = {T_mega_long:.2f}$\")\n",
    "fig.colorbar(cbar, ax=ax[1]);"
   ]
  },
  {
   "cell_type": "code",
   "execution_count": null,
   "metadata": {},
   "outputs": [],
   "source": [
    "fig, ax = plt.subplots(2, 2, figsize=(12, 10))\n",
    "_, _, cbar = dsfilter.visualisations.plot_image_array(u_filtered_short.sum(-1), x_min, x_max, y_min, y_max, cmap=\"gray\", clip=clip, fig=fig, ax=ax[0, 0])\n",
    "ax[0, 0].set_title(f\"$T = {T_short:.2f}$\")\n",
    "fig.colorbar(cbar, ax=ax[0, 0])\n",
    "_, _, cbar = dsfilter.visualisations.plot_image_array(u_filtered_medium.sum(-1), x_min, x_max, y_min, y_max, cmap=\"gray\", clip=clip, fig=fig, ax=ax[0, 1])\n",
    "ax[0, 1].set_title(f\"$T = {T_medium:.2f}$\")\n",
    "fig.colorbar(cbar, ax=ax[0, 1])\n",
    "_, _, cbar = dsfilter.visualisations.plot_image_array(u_filtered_long.sum(-1), x_min, x_max, y_min, y_max, cmap=\"gray\", clip=clip, fig=fig, ax=ax[1, 0])\n",
    "ax[1, 0].set_title(f\"$T = {T_long:.2f}$\")\n",
    "fig.colorbar(cbar, ax=ax[1, 0])\n",
    "_, _, cbar = dsfilter.visualisations.plot_image_array(u_filtered_mega_long.sum(-1), x_min, x_max, y_min, y_max, cmap=\"gray\", clip=clip, fig=fig, ax=ax[1, 1])\n",
    "ax[1, 1].set_title(f\"$T = {T_mega_long:.2f}$\")\n",
    "fig.colorbar(cbar, ax=ax[1, 1]);"
   ]
  },
  {
   "cell_type": "code",
   "execution_count": null,
   "metadata": {},
   "outputs": [],
   "source": [
    "fig, ax = plt.subplots(2, 2, figsize=(12, 10))\n",
    "_, _, cbar = dsfilter.visualisations.plot_image_array(u_filtered_short.sum(-1), x_min, x_max, y_min, y_max, cmap=\"gray\", fig=fig, ax=ax[0, 0])\n",
    "ax[0, 0].set_title(f\"$T = {T_short:.2f}$\")\n",
    "fig.colorbar(cbar, ax=ax[0, 0])\n",
    "_, _, cbar = dsfilter.visualisations.plot_image_array(u_filtered_medium.sum(-1), x_min, x_max, y_min, y_max, cmap=\"gray\", fig=fig, ax=ax[0, 1])\n",
    "ax[0, 1].set_title(f\"$T = {T_medium:.2f}$\")\n",
    "fig.colorbar(cbar, ax=ax[0, 1])\n",
    "_, _, cbar = dsfilter.visualisations.plot_image_array(u_filtered_long.sum(-1), x_min, x_max, y_min, y_max, cmap=\"gray\", fig=fig, ax=ax[1, 0])\n",
    "ax[1, 0].set_title(f\"$T = {T_long:.2f}$\")\n",
    "fig.colorbar(cbar, ax=ax[1, 0])\n",
    "_, _, cbar = dsfilter.visualisations.plot_image_array(u_filtered_mega_long.sum(-1), x_min, x_max, y_min, y_max, cmap=\"gray\", fig=fig, ax=ax[1, 1])\n",
    "ax[1, 1].set_title(f\"$T = {T_mega_long:.2f}$\")\n",
    "fig.colorbar(cbar, ax=ax[1, 1]);"
   ]
  },
  {
   "cell_type": "code",
   "execution_count": null,
   "metadata": {},
   "outputs": [],
   "source": [
    "fig, ax = plt.subplots(2, 2, figsize=(12, 10))\n",
    "_, _, cbar = dsfilter.visualisations.plot_image_array(np.clip(u_filtered_short.sum(-1), 0., 255.) - u_ground_truth, x_min, x_max, y_min, y_max, cmap=\"gray\", fig=fig, ax=ax[0, 0])\n",
    "ax[0, 0].set_title(f\"$T = {T_short:.2f}$\")\n",
    "fig.colorbar(cbar, ax=ax[0, 0])\n",
    "_, _, cbar = dsfilter.visualisations.plot_image_array(np.clip(u_filtered_medium.sum(-1), 0., 255.) - u_ground_truth, x_min, x_max, y_min, y_max, cmap=\"gray\", fig=fig, ax=ax[0, 1])\n",
    "ax[0, 1].set_title(f\"$T = {T_medium:.2f}$\")\n",
    "fig.colorbar(cbar, ax=ax[0, 1])\n",
    "_, _, cbar = dsfilter.visualisations.plot_image_array(np.clip(u_filtered_long.sum(-1), 0., 255.) - u_ground_truth, x_min, x_max, y_min, y_max, cmap=\"gray\", fig=fig, ax=ax[1, 0])\n",
    "ax[1, 0].set_title(f\"$T = {T_long:.2f}$\")\n",
    "fig.colorbar(cbar, ax=ax[1, 0])\n",
    "_, _, cbar = dsfilter.visualisations.plot_image_array(np.clip(u_filtered_mega_long.sum(-1), 0., 255.) - u_ground_truth, x_min, x_max, y_min, y_max, cmap=\"gray\", fig=fig, ax=ax[1, 1])\n",
    "ax[1, 1].set_title(f\"$T = {T_mega_long:.2f}$\")\n",
    "fig.colorbar(cbar, ax=ax[1, 1]);"
   ]
  },
  {
   "cell_type": "code",
   "execution_count": null,
   "metadata": {},
   "outputs": [],
   "source": [
    "K = 0\n",
    "fig, ax = plt.subplots(2, 2, figsize=(12, 10))\n",
    "_, _, cbar = dsfilter.visualisations.plot_image_array(switch_morph_short[..., K], x_min, x_max, y_min, y_max, cmap=\"gray\", fig=fig, ax=ax[0, 0])\n",
    "ax[0, 0].set_title(f\"$T = {T_short:.2f}$\")\n",
    "fig.colorbar(cbar, ax=ax[0, 0])\n",
    "_, _, cbar = dsfilter.visualisations.plot_image_array(switch_morph_medium[..., K], x_min, x_max, y_min, y_max, cmap=\"gray\", fig=fig, ax=ax[0, 1])\n",
    "ax[0, 1].set_title(f\"$T = {T_medium:.2f}$\")\n",
    "fig.colorbar(cbar, ax=ax[0, 1])\n",
    "_, _, cbar = dsfilter.visualisations.plot_image_array(switch_morph_long[..., K], x_min, x_max, y_min, y_max, cmap=\"gray\", fig=fig, ax=ax[1, 0])\n",
    "ax[1, 0].set_title(f\"$T = {T_long:.2f}$\")\n",
    "fig.colorbar(cbar, ax=ax[1, 0])\n",
    "_, _, cbar = dsfilter.visualisations.plot_image_array(switch_morph_mega_long[..., K], x_min, x_max, y_min, y_max, cmap=\"gray\", fig=fig, ax=ax[1, 1])\n",
    "ax[1, 1].set_title(f\"$T = {T_mega_long:.2f}$\")\n",
    "fig.colorbar(cbar, ax=ax[1, 1]);"
   ]
  },
  {
   "cell_type": "code",
   "execution_count": null,
   "metadata": {},
   "outputs": [],
   "source": [
    "K = 0\n",
    "fig, ax = plt.subplots(2, 2, figsize=(12, 10))\n",
    "_, _, cbar = dsfilter.visualisations.plot_image_array(switch_morph_short[..., K], x_min, x_max, y_min, y_max, cmap=\"gray\", fig=fig, ax=ax[0, 0])\n",
    "ax[0, 0].set_title(f\"$\\\\theta = {θs[0, 0, K]:.2f}$\")\n",
    "fig.colorbar(cbar, ax=ax[0, 0])\n",
    "_, _, cbar = dsfilter.visualisations.plot_image_array(switch_morph_short[..., K + 1], x_min, x_max, y_min, y_max, cmap=\"gray\", fig=fig, ax=ax[0, 1])\n",
    "ax[0, 1].set_title(f\"$\\\\theta = {θs[0, 0, K + 1]:.2f}$\")\n",
    "fig.colorbar(cbar, ax=ax[0, 1])\n",
    "_, _, cbar = dsfilter.visualisations.plot_image_array(switch_morph_short[..., K + 2], x_min, x_max, y_min, y_max, cmap=\"gray\", fig=fig, ax=ax[1, 0])\n",
    "ax[1, 0].set_title(f\"$\\\\theta = {θs[0, 0, K + 2]:.2f}$\")\n",
    "fig.colorbar(cbar, ax=ax[1, 0])\n",
    "_, _, cbar = dsfilter.visualisations.plot_image_array(switch_morph_short[..., K + 3], x_min, x_max, y_min, y_max, cmap=\"gray\", fig=fig, ax=ax[1, 1])\n",
    "ax[1, 1].set_title(f\"$\\\\theta = {θs[0, 0, K + 3]:.2f}$\")\n",
    "fig.colorbar(cbar, ax=ax[1, 1]);"
   ]
  },
  {
   "cell_type": "code",
   "execution_count": null,
   "metadata": {},
   "outputs": [],
   "source": [
    "K = 0\n",
    "fig, ax = plt.subplots(2, 2, figsize=(12, 10))\n",
    "_, _, cbar = dsfilter.visualisations.plot_image_array(switch_morph_long[..., K], x_min, x_max, y_min, y_max, cmap=\"gray\", fig=fig, ax=ax[0, 0])\n",
    "ax[0, 0].set_title(f\"$\\\\theta = {θs[0, 0, K]:.2f}$\")\n",
    "fig.colorbar(cbar, ax=ax[0, 0])\n",
    "_, _, cbar = dsfilter.visualisations.plot_image_array(switch_morph_long[..., K + 1], x_min, x_max, y_min, y_max, cmap=\"gray\", fig=fig, ax=ax[0, 1])\n",
    "ax[0, 1].set_title(f\"$\\\\theta = {θs[0, 0, K + 1]:.2f}$\")\n",
    "fig.colorbar(cbar, ax=ax[0, 1])\n",
    "_, _, cbar = dsfilter.visualisations.plot_image_array(switch_morph_long[..., K + 2], x_min, x_max, y_min, y_max, cmap=\"gray\", fig=fig, ax=ax[1, 0])\n",
    "ax[1, 0].set_title(f\"$\\\\theta = {θs[0, 0, K + 2]:.2f}$\")\n",
    "fig.colorbar(cbar, ax=ax[1, 0])\n",
    "_, _, cbar = dsfilter.visualisations.plot_image_array(switch_morph_long[..., K + 3], x_min, x_max, y_min, y_max, cmap=\"gray\", fig=fig, ax=ax[1, 1])\n",
    "ax[1, 1].set_title(f\"$\\\\theta = {θs[0, 0, K + 3]:.2f}$\")\n",
    "fig.colorbar(cbar, ax=ax[1, 1]);"
   ]
  },
  {
   "cell_type": "code",
   "execution_count": 43,
   "metadata": {},
   "outputs": [],
   "source": [
    "u_test = switch_morph_mega_long.copy()\n",
    "u_test[mask > 0.] = 0."
   ]
  },
  {
   "cell_type": "code",
   "execution_count": null,
   "metadata": {},
   "outputs": [],
   "source": [
    "u_test[..., 0].max(), U[..., 0].max()"
   ]
  },
  {
   "cell_type": "code",
   "execution_count": null,
   "metadata": {},
   "outputs": [],
   "source": [
    "K = 0\n",
    "fig, ax, cbar = dsfilter.visualisations.plot_image_array(u_test[..., K], x_min, x_max, y_min, y_max, cmap=\"gray\")\n",
    "ax.set_title(f\"$T = {T_mega_long:.2f}$\")\n",
    "fig.colorbar(cbar, ax=ax);"
   ]
  },
  {
   "cell_type": "code",
   "execution_count": null,
   "metadata": {},
   "outputs": [],
   "source": [
    "fig, ax = plt.subplots(2, 2, figsize=(12, 10))\n",
    "_, _, cbar = dsfilter.visualisations.plot_image_array(switch_morph_short.min(-1), x_min, x_max, y_min, y_max, cmap=\"gray\", fig=fig, ax=ax[0, 0])\n",
    "ax[0, 0].set_title(f\"$T = {T_short:.2f}$\")\n",
    "fig.colorbar(cbar, ax=ax[0, 0])\n",
    "_, _, cbar = dsfilter.visualisations.plot_image_array(switch_morph_medium.min(-1), x_min, x_max, y_min, y_max, cmap=\"gray\", fig=fig, ax=ax[0, 1])\n",
    "ax[0, 1].set_title(f\"$T = {T_medium:.2f}$\")\n",
    "fig.colorbar(cbar, ax=ax[0, 1])\n",
    "_, _, cbar = dsfilter.visualisations.plot_image_array(switch_morph_long.min(-1), x_min, x_max, y_min, y_max, cmap=\"gray\", fig=fig, ax=ax[1, 0])\n",
    "ax[1, 0].set_title(f\"$T = {T_long:.2f}$\")\n",
    "fig.colorbar(cbar, ax=ax[1, 0])\n",
    "_, _, cbar = dsfilter.visualisations.plot_image_array(switch_morph_mega_long.min(-1), x_min, x_max, y_min, y_max, cmap=\"gray\", fig=fig, ax=ax[1, 1])\n",
    "ax[1, 1].set_title(f\"$T = {T_mega_long:.2f}$\")\n",
    "fig.colorbar(cbar, ax=ax[1, 1]);"
   ]
  },
  {
   "cell_type": "code",
   "execution_count": 47,
   "metadata": {},
   "outputs": [],
   "source": [
    "u_test = switch_DS_mega_long.copy()\n",
    "u_test[mask > 0.] = 1."
   ]
  },
  {
   "cell_type": "code",
   "execution_count": null,
   "metadata": {},
   "outputs": [],
   "source": [
    "u_test[..., 0].max(), U[..., 0].max()"
   ]
  },
  {
   "cell_type": "code",
   "execution_count": null,
   "metadata": {},
   "outputs": [],
   "source": [
    "K = 0\n",
    "fig, ax = plt.subplots(2, 2, figsize=(12, 10))\n",
    "_, _, cbar = dsfilter.visualisations.plot_image_array(u_test[..., K - 1], x_min, x_max, y_min, y_max, cmap=\"gray\", fig=fig, ax=ax[0, 0])\n",
    "ax[0, 0].set_title(f\"$\\\\theta = {θs[0, 0, K - 1]:.2f}$\")\n",
    "fig.colorbar(cbar, ax=ax[0, 0])\n",
    "_, _, cbar = dsfilter.visualisations.plot_image_array(u_test[..., K], x_min, x_max, y_min, y_max, cmap=\"gray\", fig=fig, ax=ax[0, 1])\n",
    "ax[0, 1].set_title(f\"$\\\\theta = {θs[0, 0, K]:.2f}$\")\n",
    "fig.colorbar(cbar, ax=ax[0, 1])\n",
    "_, _, cbar = dsfilter.visualisations.plot_image_array(u_test[..., K + 1], x_min, x_max, y_min, y_max, cmap=\"gray\", fig=fig, ax=ax[1, 0])\n",
    "ax[1, 0].set_title(f\"$\\\\theta = {θs[0, 0, K + 1]:.2f}$\")\n",
    "fig.colorbar(cbar, ax=ax[1, 0])\n",
    "_, _, cbar = dsfilter.visualisations.plot_image_array(u_test[..., K + 2], x_min, x_max, y_min, y_max, cmap=\"gray\", fig=fig, ax=ax[1, 1])\n",
    "ax[1, 1].set_title(f\"$\\\\theta = {θs[0, 0, K + 2]:.2f}$\")\n",
    "fig.colorbar(cbar, ax=ax[1, 1]);"
   ]
  },
  {
   "cell_type": "code",
   "execution_count": null,
   "metadata": {},
   "outputs": [],
   "source": [
    "K = 0\n",
    "fig, ax = plt.subplots(2, 2, figsize=(12, 10))\n",
    "_, _, cbar = dsfilter.visualisations.plot_image_array(switch_DS_short[..., K], x_min, x_max, y_min, y_max, cmap=\"gray\", fig=fig, ax=ax[0, 0])\n",
    "ax[0, 0].set_title(f\"$\\\\theta = {θs[0, 0, K]:.2f}$\")\n",
    "fig.colorbar(cbar, ax=ax[0, 0])\n",
    "_, _, cbar = dsfilter.visualisations.plot_image_array(switch_DS_short[..., K + 1], x_min, x_max, y_min, y_max, cmap=\"gray\", fig=fig, ax=ax[0, 1])\n",
    "ax[0, 1].set_title(f\"$\\\\theta = {θs[0, 0, K + 1]:.2f}$\")\n",
    "fig.colorbar(cbar, ax=ax[0, 1])\n",
    "_, _, cbar = dsfilter.visualisations.plot_image_array(switch_DS_short[..., K + 2], x_min, x_max, y_min, y_max, cmap=\"gray\", fig=fig, ax=ax[1, 0])\n",
    "ax[1, 0].set_title(f\"$\\\\theta = {θs[0, 0, K + 2]:.2f}$\")\n",
    "fig.colorbar(cbar, ax=ax[1, 0])\n",
    "_, _, cbar = dsfilter.visualisations.plot_image_array(switch_DS_short[..., K + 3], x_min, x_max, y_min, y_max, cmap=\"gray\", fig=fig, ax=ax[1, 1])\n",
    "ax[1, 1].set_title(f\"$\\\\theta = {θs[0, 0, K + 3]:.2f}$\")\n",
    "fig.colorbar(cbar, ax=ax[1, 1]);"
   ]
  },
  {
   "cell_type": "code",
   "execution_count": null,
   "metadata": {},
   "outputs": [],
   "source": [
    "K = 0\n",
    "fig, ax = plt.subplots(2, 2, figsize=(12, 10))\n",
    "_, _, cbar = dsfilter.visualisations.plot_image_array(switch_DS_long[..., K], x_min, x_max, y_min, y_max, cmap=\"gray\", fig=fig, ax=ax[0, 0])\n",
    "ax[0, 0].set_title(f\"$\\\\theta = {θs[0, 0, K]:.2f}$\")\n",
    "fig.colorbar(cbar, ax=ax[0, 0])\n",
    "_, _, cbar = dsfilter.visualisations.plot_image_array(switch_DS_long[..., K + 1], x_min, x_max, y_min, y_max, cmap=\"gray\", fig=fig, ax=ax[0, 1])\n",
    "ax[0, 1].set_title(f\"$\\\\theta = {θs[0, 0, K + 1]:.2f}$\")\n",
    "fig.colorbar(cbar, ax=ax[0, 1])\n",
    "_, _, cbar = dsfilter.visualisations.plot_image_array(switch_DS_long[..., K + 2], x_min, x_max, y_min, y_max, cmap=\"gray\", fig=fig, ax=ax[1, 0])\n",
    "ax[1, 0].set_title(f\"$\\\\theta = {θs[0, 0, K + 2]:.2f}$\")\n",
    "fig.colorbar(cbar, ax=ax[1, 0])\n",
    "_, _, cbar = dsfilter.visualisations.plot_image_array(switch_DS_long[..., K + 3], x_min, x_max, y_min, y_max, cmap=\"gray\", fig=fig, ax=ax[1, 1])\n",
    "ax[1, 1].set_title(f\"$\\\\theta = {θs[0, 0, K + 3]:.2f}$\")\n",
    "fig.colorbar(cbar, ax=ax[1, 1]);"
   ]
  },
  {
   "cell_type": "code",
   "execution_count": null,
   "metadata": {},
   "outputs": [],
   "source": [
    "K = 0\n",
    "fig, ax = plt.subplots(2, 2, figsize=(12, 10))\n",
    "_, _, cbar = dsfilter.visualisations.plot_image_array(switch_DS_short[..., K], x_min, x_max, y_min, y_max, cmap=\"gray\", fig=fig, ax=ax[0, 0])\n",
    "ax[0, 0].set_title(f\"$T = {T_short:.2f}$\")\n",
    "fig.colorbar(cbar, ax=ax[0, 0])\n",
    "_, _, cbar = dsfilter.visualisations.plot_image_array(switch_DS_medium[..., K], x_min, x_max, y_min, y_max, cmap=\"gray\", fig=fig, ax=ax[0, 1])\n",
    "ax[0, 1].set_title(f\"$T = {T_medium:.2f}$\")\n",
    "fig.colorbar(cbar, ax=ax[0, 1])\n",
    "_, _, cbar = dsfilter.visualisations.plot_image_array(switch_DS_long[..., K], x_min, x_max, y_min, y_max, cmap=\"gray\", fig=fig, ax=ax[1, 0])\n",
    "ax[1, 0].set_title(f\"$T = {T_long:.2f}$\")\n",
    "fig.colorbar(cbar, ax=ax[1, 0])\n",
    "_, _, cbar = dsfilter.visualisations.plot_image_array(switch_DS_mega_long[..., K], x_min, x_max, y_min, y_max, cmap=\"gray\", fig=fig, ax=ax[1, 1])\n",
    "ax[1, 1].set_title(f\"$T = {T_mega_long:.2f}$\")\n",
    "fig.colorbar(cbar, ax=ax[1, 1]);"
   ]
  },
  {
   "cell_type": "code",
   "execution_count": null,
   "metadata": {},
   "outputs": [],
   "source": [
    "fig, ax = plt.subplots(2, 2, figsize=(12, 10))\n",
    "_, _, cbar = dsfilter.visualisations.plot_image_array(switch_DS_short.min(-1), x_min, x_max, y_min, y_max, cmap=\"gray\", fig=fig, ax=ax[0, 0])\n",
    "ax[0, 0].set_title(f\"$T = {T_short:.2f}$\")\n",
    "fig.colorbar(cbar, ax=ax[0, 0])\n",
    "_, _, cbar = dsfilter.visualisations.plot_image_array(switch_DS_medium.min(-1), x_min, x_max, y_min, y_max, cmap=\"gray\", fig=fig, ax=ax[0, 1])\n",
    "ax[0, 1].set_title(f\"$T = {T_medium:.2f}$\")\n",
    "fig.colorbar(cbar, ax=ax[0, 1])\n",
    "_, _, cbar = dsfilter.visualisations.plot_image_array(switch_DS_long.min(-1), x_min, x_max, y_min, y_max, cmap=\"gray\", fig=fig, ax=ax[1, 0])\n",
    "ax[1, 0].set_title(f\"$T = {T_long:.2f}$\")\n",
    "fig.colorbar(cbar, ax=ax[1, 0])\n",
    "_, _, cbar = dsfilter.visualisations.plot_image_array(switch_DS_mega_long.min(-1), x_min, x_max, y_min, y_max, cmap=\"gray\", fig=fig, ax=ax[1, 1])\n",
    "ax[1, 1].set_title(f\"$T = {T_mega_long:.2f}$\")\n",
    "fig.colorbar(cbar, ax=ax[1, 1]);"
   ]
  },
  {
   "cell_type": "code",
   "execution_count": 54,
   "metadata": {},
   "outputs": [],
   "source": [
    "# import h5py"
   ]
  },
  {
   "cell_type": "code",
   "execution_count": 55,
   "metadata": {},
   "outputs": [],
   "source": [
    "# filename = f\".\\\\data\\\\u_short.hdf5\"\n",
    "# with h5py.File(filename, \"w\") as distance_file:\n",
    "#     distance_file.create_dataset(\"Dataset1\", data=u_filtered_short)\n",
    "# filename = f\".\\\\data\\\\u_medium.hdf5\"\n",
    "# with h5py.File(filename, \"w\") as distance_file:\n",
    "#     distance_file.create_dataset(\"Dataset1\", data=u_filtered_medium)\n",
    "# filename = f\".\\\\data\\\\u_long.hdf5\"\n",
    "# with h5py.File(filename, \"w\") as distance_file:\n",
    "#     distance_file.create_dataset(\"Dataset1\", data=u_filtered_long)\n",
    "# filename = f\".\\\\data\\\\u_mega_long.hdf5\"\n",
    "# with h5py.File(filename, \"w\") as distance_file:\n",
    "#     distance_file.create_dataset(\"Dataset1\", data=u_filtered_mega_long)"
   ]
  },
  {
   "cell_type": "code",
   "execution_count": 56,
   "metadata": {},
   "outputs": [],
   "source": [
    "# filename = f\".\\\\data\\\\u_init.hdf5\"\n",
    "# with h5py.File(filename, \"w\") as distance_file:\n",
    "#     distance_file.create_dataset(\"Dataset1\", data=U)"
   ]
  }
 ],
 "metadata": {
  "kernelspec": {
   "display_name": "Python 3",
   "language": "python",
   "name": "python3"
  },
  "language_info": {
   "codemirror_mode": {
    "name": "ipython",
    "version": 3
   },
   "file_extension": ".py",
   "mimetype": "text/x-python",
   "name": "python",
   "nbconvert_exporter": "python",
   "pygments_lexer": "ipython3",
   "version": "3.10.13"
  }
 },
 "nbformat": 4,
 "nbformat_minor": 2
}
